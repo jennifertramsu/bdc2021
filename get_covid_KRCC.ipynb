{
 "cells": [
  {
   "cell_type": "code",
   "metadata": {
    "tags": [],
    "cell_id": "00002-cc24c0e8-c81f-41a4-9200-081a491c457c",
    "deepnote_to_be_reexecuted": false,
    "source_hash": "f0278929",
    "execution_start": 1621972370456,
    "execution_millis": 11,
    "deepnote_cell_type": "code"
   },
   "source": [
    "import pandas as pd \n",
    "import numpy as np\n",
    "import matplotlib.pyplot as plt\n",
    "from IPython.display import display\n",
    "import os\n",
    "import glob\n",
    "import datetime\n",
    "\n",
    "from scipy.stats import kendalltau\n",
    "from scipy.special import comb\n",
    "import math\n",
    "from Datasets import process "
   ],
   "execution_count": 4,
   "outputs": []
  },
  {
   "cell_type": "code",
   "execution_count": 2,
   "metadata": {},
   "outputs": [],
   "source": [
    "def krcc_test(x, y):\n",
    "    if len(x) == len(y):\n",
    "        n = len(x)\n",
    "\n",
    "        # default scipy is tau_b\n",
    "        krcc = kendalltau(x, y)\n",
    "        \n",
    "        # https://github.com/mmhs013/pyMannKendall this also finds the tau and mann-kendall score but it doesnt do what we want\n",
    "        \n",
    "        print(\"KRCC =\", krcc[0])\n",
    "\n",
    "        # The two-sided p-value for a hypothesis test whose null hypothesis is an absence of association, tau = 0\n",
    "        print(\"p value =\", krcc[1])\n",
    "\n",
    "    else:\n",
    "        print(\"inconsistent number of points in x and y\")"
   ]
  },
  {
   "cell_type": "code",
   "metadata": {
    "tags": [],
    "cell_id": "00002-453510b1-44bb-415b-a508-58ddd28cb40d",
    "deepnote_to_be_reexecuted": false,
    "source_hash": "c9401596",
    "execution_start": 1621972371063,
    "execution_millis": 156,
    "deepnote_cell_type": "code"
   },
   "source": [
    "# Health Organizations\n",
    "healthorg_df = pd.read_csv('./Processed Datasets/healthorg.csv')\n",
    "healthorg_df = process.filter_dates(healthorg_df)\n"
   ],
   "execution_count": 31,
   "outputs": []
  },
  {
   "cell_type": "code",
   "execution_count": 13,
   "metadata": {},
   "outputs": [],
   "source": [
    "# News Outlets\n",
    "leftnews_df = pd.read_csv('./Processed Datasets/leftnews.csv')\n",
    "leftnews_df = process.filter_dates(leftnews_df)\n",
    "\n",
    "rightnews_df = pd.read_csv('./Processed Datasets/rightnews.csv')\n",
    "rightnews_df = process.filter_dates(rightnews_df)\n",
    "\n"
   ]
  },
  {
   "cell_type": "code",
   "execution_count": 10,
   "metadata": {},
   "outputs": [],
   "source": [
    "# Individuals\n",
    "leftind_df = pd.read_csv('./Processed Datasets/leftind.csv')\n",
    "leftind_df = process.filter_dates(leftind_df)\n",
    "\n",
    "rightind_df = pd.read_csv('./Processed Datasets/rightind.csv')\n",
    "rightind_df = process.filter_dates(rightind_df)\n",
    "\n",
    "celeb_df = pd.read_csv('./Processed Datasets/celebrities.csv')\n",
    "celeb_df = process.filter_dates(celeb_df)"
   ]
  },
  {
   "cell_type": "code",
   "execution_count": 29,
   "metadata": {},
   "outputs": [],
   "source": [
    "# fake / real\n",
    "# still need to add covid_lies to fake data\n",
    "fake_df = pd.read_csv('./Processed Datasets/fake.csv')\n",
    "fake_df = process.filter_dates(fake_df)\n",
    "real_df = pd.read_csv('./Processed Datasets/real.csv')\n",
    "real_df = process.filter_dates(real_df)"
   ]
  },
  {
   "cell_type": "code",
   "execution_count": 14,
   "metadata": {},
   "outputs": [],
   "source": [
    "# 1-Day Bin\n",
    "\n",
    "healthorg_dates = healthorg_df.sort_values(\"date\", ascending=True)[\"date\"].value_counts()\n",
    "rightind_dates = rightind_df.sort_values(\"date\", ascending=True)[\"date\"].value_counts()\n",
    "leftind_dates = leftind_df.sort_values(\"date\", ascending=True)[\"date\"].value_counts()\n",
    "rightnews_dates = rightnews_df.sort_values(\"date\", ascending=True)[\"date\"].value_counts()\n",
    "leftnews_dates = leftnews_df.sort_values(\"date\", ascending=True)[\"date\"].value_counts()\n",
    "celeb_dates = celeb_df.sort_values(\"date\", ascending=True)[\"date\"].value_counts()\n",
    "\n",
    "fake_tweets = fake_df.sort_values(\"date\", ascending=True)[\"date\"].value_counts()\n",
    "real_tweets = real_df.sort_values(\"date\", ascending=True)[\"date\"].value_counts()\n"
   ]
  },
  {
   "cell_type": "code",
   "execution_count": 18,
   "metadata": {},
   "outputs": [],
   "source": [
    "# Bin\n",
    "bins = '3D'\n",
    "\n",
    "healthorg_df[\"date\"] = pd.to_datetime(healthorg_df[\"date\"])\n",
    "rightind_df[\"date\"] = pd.to_datetime(rightind_df[\"date\"])\n",
    "leftind_df[\"date\"] = pd.to_datetime(leftind_df[\"date\"])\n",
    "rightnews_df[\"date\"] = pd.to_datetime(rightnews_df[\"date\"])\n",
    "leftnews_df[\"date\"] = pd.to_datetime(leftnews_df[\"date\"])\n",
    "celeb_df[\"date\"] = pd.to_datetime(celeb_df[\"date\"])\n",
    "real_df[\"date\"] = pd.to_datetime(real_df[\"date\"])\n",
    "fake_df[\"date\"] = pd.to_datetime(fake_df[\"date\"])\n",
    "\n",
    "health_bins = pd.Series(index=healthorg_df.date, data=np.array(healthorg_df.count)).resample(bins).count().sort_index()\n",
    "rightind_bins = pd.Series(index=rightind_df.date, data=np.array(rightind_df.count)).resample(bins).count().sort_index()\n",
    "leftind_bins = pd.Series(index=leftind_df.date, data=np.array(leftind_df.count)).resample(bins).count().sort_index()\n",
    "rightnews_bins = pd.Series(index=rightnews_df.date, data=np.array(rightnews_df.count)).resample(bins).count().sort_index()\n",
    "leftnews_bins = pd.Series(index=leftnews_df.date, data=np.array(leftnews_df.count)).resample(bins).count().sort_index()\n",
    "celeb_bins = pd.Series(index=celeb_df.date, data=np.array(celeb_df.count)).resample(bins).count().sort_index()\n",
    "real_bins = pd.Series(index=real_df.date, data=np.array(real_df.count)).resample(bins).count().sort_index()\n",
    "fake_bins = pd.Series(index=fake_df.date, data=np.array(fake_df.count)).resample(bins).count().sort_index()\n"
   ]
  },
  {
   "cell_type": "code",
   "execution_count": 17,
   "metadata": {},
   "outputs": [
    {
     "output_type": "stream",
     "name": "stdout",
     "text": [
      "HealthOrg Tweets: \t29\nLeft Tweets: \t29\nRight Tweets: \t29\nCeleb Tweets: \t29\nLeft News Outlet Tweets: \t29\nRight News Outlet Tweets: \t29\nFake Tweets:\t\t29\nReal Tweets:\t\t29\n\n"
     ]
    }
   ],
   "source": [
    "print(\"HealthOrg Tweets: \\t{}\\nLeft Tweets: \\t{}\\nRight Tweets: \\t{}\\nCeleb Tweets: \\t{}\\nLeft News Outlet Tweets: \\t{}\\nRight News Outlet Tweets: \\t{}\\nFake Tweets:\\t\\t{}\\nReal Tweets:\\t\\t{}\\n\".format(len(health_bins), len(leftind_bins), len(rightind_bins), len(celeb_bins), len(leftnews_bins), len(rightnews_bins), len(fake_bins), len(real_bins)))\n"
   ]
  },
  {
   "cell_type": "code",
   "execution_count": 168,
   "metadata": {},
   "outputs": [
    {
     "output_type": "stream",
     "name": "stdout",
     "text": [
      "real and health\nKRCC = 0.03970235548035083\np value = 0.763810605835433\nreal and left\nKRCC = 0.35323820252454613\np value = 0.00763720626819773\nreal and right\nKRCC = 0.19775973020584628\np value = 0.13733232810844748\nreal and celeb\nKRCC = -0.29670681572524854\np value = 0.05534087166996541\nreal and left news\nKRCC = 0.25679090623776135\np value = 0.05099459850193937\nreal and right news\nKRCC = 0.2398024081696029\np value = 0.06868418589158591\n"
     ]
    }
   ],
   "source": [
    "# only look at similar dates... so length is the same, need to find a better way\n",
    "\n",
    "print(\"real and health\")\n",
    "krcc_test(real_bins, health_bins)\n",
    "print(\"real and left\")\n",
    "krcc_test(real_bins, left_bins)\n",
    "print(\"real and right\")\n",
    "krcc_test(real_bins, right_bins)\n",
    "print(\"real and celeb\")\n",
    "krcc_test(real_bins[2:], celeb_bins)\n",
    "print(\"real and left news\")\n",
    "krcc_test(real_bins, leftnews_bins)\n",
    "print(\"real and right news\")\n",
    "krcc_test(real_bins, rightnews_bins)\n"
   ]
  },
  {
   "cell_type": "code",
   "execution_count": 148,
   "metadata": {},
   "outputs": [
    {
     "output_type": "stream",
     "name": "stdout",
     "text": [
      "fake and health\nKRCC = -0.04975124378109452\np value = 0.707116174085537\nfake and left\nKRCC = 0.24039819146839242\np value = 0.06858686626191852\nfake and right\nKRCC = 0.3850048125902362\np value = 0.0037896496391532984\nfake and celeb\ninconsistent number of points in x and y\nfake and left news\nKRCC = 0.2623794527627235\np value = 0.046617897920194246\nfake and right news\nKRCC = 0.21561487276031072\np value = 0.10238783821511202\n"
     ]
    }
   ],
   "source": [
    "print(\"fake and health\")\n",
    "krcc_test(fake_bins, health_bins)\n",
    "print(\"fake and left\")\n",
    "krcc_test(fake_bins, left_bins)\n",
    "print(\"fake and right\")\n",
    "krcc_test(fake_bins, right_bins)\n",
    "print(\"fake and celeb\")\n",
    "krcc_test(fake_bins[2:], celeb_bins)\n",
    "print(\"fake and left news\")\n",
    "krcc_test(fake_bins, leftnews_bins)\n",
    "print(\"fake and right news\")\n",
    "krcc_test(fake_bins, rightnews_bins)"
   ]
  }
 ],
 "nbformat": 4,
 "nbformat_minor": 2,
 "metadata": {
  "orig_nbformat": 2,
  "deepnote": {
   "is_reactive": false
  },
  "deepnote_notebook_id": "2e568cc1-9106-404a-b21e-84fb7b0781c3",
  "deepnote_execution_queue": [],
  "kernelspec": {
   "name": "python3",
   "display_name": "Python 3.9.5 64-bit"
  },
  "metadata": {
   "interpreter": {
    "hash": "63fd5069d213b44bf678585dea6b12cceca9941eaf7f819626cde1f2670de90d"
   }
  },
  "interpreter": {
   "hash": "63fd5069d213b44bf678585dea6b12cceca9941eaf7f819626cde1f2670de90d"
  }
 }
}