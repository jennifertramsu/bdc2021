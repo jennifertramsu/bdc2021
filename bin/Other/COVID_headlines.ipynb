{
 "cells": [
  {
   "cell_type": "markdown",
   "source": "# Preliminary Analysis\n### Dataset: COVID Fake News Data.csv",
   "metadata": {
    "cell_id": "00000-67acfccc-8c09-4ac6-beaa-f847b9400875",
    "deepnote_cell_type": "markdown"
   }
  },
  {
   "cell_type": "code",
   "metadata": {
    "cell_id": "00001-0b64849a-351a-4c86-8f65-c54e256dbcc1",
    "deepnote_to_be_reexecuted": false,
    "source_hash": "8cb91ce",
    "execution_start": 1621808966835,
    "execution_millis": 477,
    "deepnote_cell_type": "code"
   },
   "source": "# importing libraries\n\nimport pandas as pd\nimport nltk\nimport numpy as np \nimport matplotlib.pyplot as plt\n\nfrom nltk import sent_tokenize, word_tokenize\nfrom nltk.corpus import stopwords\nfrom nltk.stem import WordNetLemmatizer\nfrom nltk.text import Text\nfrom nltk import FreqDist\n\nnltk.download(\"punkt\")\nnltk.download(\"stopwords\")\nnltk.download(\"averaged_perceptron_tagger\")",
   "execution_count": 8,
   "outputs": [
    {
     "name": "stderr",
     "text": "[nltk_data] Downloading package punkt to /root/nltk_data...\n[nltk_data]   Unzipping tokenizers/punkt.zip.\n[nltk_data] Downloading package stopwords to /root/nltk_data...\n[nltk_data]   Package stopwords is already up-to-date!\n[nltk_data] Downloading package averaged_perceptron_tagger to\n[nltk_data]     /root/nltk_data...\n[nltk_data]   Package averaged_perceptron_tagger is already up-to-\n[nltk_data]       date!\n",
     "output_type": "stream"
    },
    {
     "output_type": "execute_result",
     "execution_count": 8,
     "data": {
      "text/plain": "True"
     },
     "metadata": {}
    }
   ]
  },
  {
   "cell_type": "code",
   "metadata": {
    "cell_id": "00002-29e8b01a-91f5-432c-b213-ecafc337ab39",
    "deepnote_to_be_reexecuted": false,
    "source_hash": "df1c2730",
    "execution_start": 1621808968496,
    "execution_millis": 27,
    "deepnote_cell_type": "code"
   },
   "source": "data = pd.read_csv(\"COVID Fake News Data.csv\")\ndata.columns",
   "execution_count": 9,
   "outputs": [
    {
     "output_type": "execute_result",
     "execution_count": 9,
     "data": {
      "text/plain": "Index(['headlines', 'outcome'], dtype='object')"
     },
     "metadata": {}
    }
   ]
  },
  {
   "cell_type": "markdown",
   "source": "<p> Two headers: headlines, outcome (binary classification, real (1) or fake (0) </p>",
   "metadata": {
    "cell_id": "00003-19ca77ec-f100-4d00-bfca-3d8f3f4361c7",
    "deepnote_cell_type": "markdown"
   }
  },
  {
   "cell_type": "code",
   "metadata": {
    "cell_id": "00004-06094f2b-790c-498b-a459-cea3cae1ccd3",
    "deepnote_to_be_reexecuted": false,
    "source_hash": "2007f58",
    "execution_start": 1621808968745,
    "execution_millis": 9,
    "deepnote_cell_type": "code"
   },
   "source": "data.shape",
   "execution_count": 10,
   "outputs": [
    {
     "output_type": "execute_result",
     "execution_count": 10,
     "data": {
      "text/plain": "(10201, 2)"
     },
     "metadata": {}
    }
   ]
  },
  {
   "cell_type": "markdown",
   "source": "<p> There are 10201 news headlines total in this dataset. </p>",
   "metadata": {
    "cell_id": "00005-60fbceb7-ea8f-4865-a52d-b7394df5eb64",
    "deepnote_cell_type": "markdown"
   }
  },
  {
   "cell_type": "code",
   "metadata": {
    "cell_id": "00006-1063a5d8-bc48-4337-b5ca-9d308dd3376e",
    "deepnote_to_be_reexecuted": false,
    "source_hash": "85cd9317",
    "execution_start": 1621808968979,
    "execution_millis": 14,
    "deepnote_cell_type": "code"
   },
   "source": "fake = data[data[\"outcome\"] == 0]\nfake.shape",
   "execution_count": 11,
   "outputs": [
    {
     "output_type": "execute_result",
     "execution_count": 11,
     "data": {
      "text/plain": "(9727, 2)"
     },
     "metadata": {}
    }
   ]
  },
  {
   "cell_type": "code",
   "metadata": {
    "cell_id": "00007-1e0cde98-278e-499b-a9dd-37fb45f19f86",
    "deepnote_to_be_reexecuted": false,
    "source_hash": "6efc3aa6",
    "execution_start": 1621808969104,
    "execution_millis": 14,
    "deepnote_cell_type": "code"
   },
   "source": "real = data[data[\"outcome\"] == 1]\nreal.shape",
   "execution_count": 12,
   "outputs": [
    {
     "output_type": "execute_result",
     "execution_count": 12,
     "data": {
      "text/plain": "(474, 2)"
     },
     "metadata": {}
    }
   ]
  },
  {
   "cell_type": "code",
   "metadata": {
    "cell_id": "00008-813f844a-79f5-4574-b686-eb3d9634e328",
    "deepnote_to_be_reexecuted": false,
    "source_hash": "64061f14",
    "execution_start": 1621808969212,
    "execution_millis": 6,
    "deepnote_cell_type": "code"
   },
   "source": "data[\"outcome\"].value_counts(normalize=True)",
   "execution_count": 13,
   "outputs": [
    {
     "output_type": "execute_result",
     "execution_count": 13,
     "data": {
      "text/plain": "0    0.953534\n1    0.046466\nName: outcome, dtype: float64"
     },
     "metadata": {}
    }
   ]
  },
  {
   "cell_type": "markdown",
   "source": "<p> 95% of the headlines in this dataset are classified as fake. </p>\n",
   "metadata": {
    "cell_id": "00009-875d6452-67ea-4c0b-8421-c65b83949ac4",
    "deepnote_cell_type": "markdown"
   }
  },
  {
   "cell_type": "markdown",
   "source": "## Analysis",
   "metadata": {
    "cell_id": "00010-f0988965-57f4-42f9-b454-6ae38955066a",
    "deepnote_cell_type": "markdown"
   }
  },
  {
   "cell_type": "code",
   "metadata": {
    "cell_id": "00011-681c8828-4bad-438f-b7fb-2f95971042fe",
    "deepnote_to_be_reexecuted": false,
    "source_hash": "4aed71ee",
    "execution_start": 1621808969735,
    "execution_millis": 1656,
    "deepnote_cell_type": "code"
   },
   "source": "fake_text = fake[\"headlines\"]\nfake_text = [l for l in fake_text]\nfake_text = \" \".join(fake_text)\n\n# tokenizing the text\n\ntokens = word_tokenize(fake_text)\ntokens[:5] # first five words\n\n# removing stop words (?)\n\nstop_words = set(stopwords.words(\"english\"))\n\nfiltered = []\n\nfor word in tokens:\n    if word.casefold() not in stop_words:\n        filtered.append(word)\n\n# remove punctuation >:(\n\npunctuation = [\".\", \",\", \"(\", \")\", \"?\", \"!\", \":\"]\n\nfiltered_no_punc = []\n\nfor word in filtered:\n    if word not in punctuation:\n        filtered_no_punc.append(word)\n\n# frequency distribution\n\nfakeText = Text(filtered_no_punc)\n\nfreq_dist = FreqDist(fakeText)\n\nprint(freq_dist)\n\n\n\n\n",
   "execution_count": 14,
   "outputs": [
    {
     "name": "stdout",
     "text": "<FreqDist with 15082 samples and 103235 outcomes>\n",
     "output_type": "stream"
    }
   ]
  },
  {
   "cell_type": "code",
   "metadata": {
    "cell_id": "00012-33192af3-b102-4e50-a425-375ee3c337a2",
    "deepnote_to_be_reexecuted": false,
    "source_hash": "97c97c6e",
    "execution_start": 1621808971378,
    "execution_millis": 15,
    "deepnote_cell_type": "code"
   },
   "source": "# narrowing down 20 most common words\n\nmost_common_list = freq_dist.most_common(23)\nmost_common_words = [most_common_list[i][0] for i in range(len(most_common_list))]\nmost_common_words",
   "execution_count": 15,
   "outputs": [
    {
     "output_type": "execute_result",
     "execution_count": 15,
     "data": {
      "text/plain": "['coronavirus',\n 'COVID-19',\n '“',\n 'people',\n '”',\n 'shows',\n 'video',\n '’',\n 'China',\n 'pandemic',\n 'lockdown',\n 'India',\n 'Facebook',\n 'new',\n 'Video',\n 'claims',\n 'vaccine',\n 'novel',\n 'government',\n 'infected',\n 'shared',\n 'Coronavirus',\n 'claim']"
     },
     "metadata": {}
    }
   ]
  },
  {
   "cell_type": "code",
   "metadata": {
    "cell_id": "00013-03e231d5-adf4-401b-b0dc-d34fcc4e53a2",
    "deepnote_to_be_reexecuted": false,
    "source_hash": "94aac167",
    "execution_start": 1621808971387,
    "execution_millis": 261,
    "deepnote_cell_type": "code"
   },
   "source": "freq_dist.plot(20, cumulative=False)",
   "execution_count": 16,
   "outputs": [
    {
     "data": {
      "text/plain": "<Figure size 432x288 with 1 Axes>",
      "image/png": "[encoded data removed]"
     },
     "metadata": {
      "needs_background": "light",
      "image/png": {
       "width": 395,
       "height": 313
      }
     },
     "output_type": "display_data"
    },
    {
     "output_type": "execute_result",
     "execution_count": 16,
     "data": {
      "text/plain": "<AxesSubplot:xlabel='Samples', ylabel='Counts'>"
     },
     "metadata": {}
    }
   ]
  },
  {
   "cell_type": "code",
   "metadata": {
    "cell_id": "00014-334a79aa-0ce5-473a-96d0-a80fd9a4e468",
    "deepnote_to_be_reexecuted": false,
    "source_hash": "edbca752",
    "execution_start": 1621809040654,
    "execution_millis": 452,
    "deepnote_cell_type": "code"
   },
   "source": "fakeText.dispersion_plot(most_common_words)",
   "execution_count": 18,
   "outputs": [
    {
     "data": {
      "text/plain": "<Figure size 432x288 with 1 Axes>",
      "image/png": "[encoded data removed]"
     },
     "metadata": {
      "needs_background": "light",
      "image/png": {
       "width": 416,
       "height": 278
      }
     },
     "output_type": "display_data"
    }
   ]
  },
  {
   "cell_type": "code",
   "metadata": {
    "cell_id": "00015-3cbedf3f-ebd5-4ec3-9b20-0b241fb74741",
    "deepnote_to_be_reexecuted": false,
    "source_hash": "49ca48aa",
    "execution_start": 1621809096698,
    "execution_millis": 435,
    "deepnote_cell_type": "code"
   },
   "source": "fakeText.collocations()",
   "execution_count": 19,
   "outputs": [
    {
     "name": "stdout",
     "text": "novel coronavirus; thousands times; Bill Gates; new coronavirus;\nalongside claim; Facebook Twitter; Donald Trump; times multiple;\nsocial media; United States; tested positive; Prime Minister; video\nshows; social distancing; Video shows; face masks; multiple posts; Sri\nLanka; New York; SÃ£o Paulo\n",
     "output_type": "stream"
    }
   ]
  },
  {
   "cell_type": "code",
   "metadata": {
    "cell_id": "00016-25485a2b-2932-43c2-8d7f-b5d577567a58",
    "deepnote_to_be_reexecuted": false,
    "source_hash": "62b93c5",
    "execution_start": 1621811753430,
    "execution_millis": 5,
    "deepnote_cell_type": "code"
   },
   "source": "hihi?",
   "execution_count": 20,
   "outputs": [
    {
     "name": "stdout",
     "text": "Object `hihi` not found.\n",
     "output_type": "stream"
    }
   ]
  },
  {
   "cell_type": "code",
   "source": "",
   "metadata": {
    "tags": [],
    "cell_id": "00017-d159820a-8bde-4c67-bc3d-106ac770022b",
    "deepnote_cell_type": "code"
   },
   "outputs": [],
   "execution_count": null
  },
  {
   "cell_type": "markdown",
   "source": "<a style='text-decoration:none;line-height:16px;display:flex;color:#5B5B62;padding:10px;justify-content:end;' href='https://deepnote.com?utm_source=created-in-deepnote-cell&projectId=6f4d88f7-58fe-4c32-b979-abb694c94f1b' target=\"_blank\">\n<img alt='Created in deepnote.com' style='display:inline;max-height:16px;margin:0px;margin-right:7.5px;' src='data:image/svg+xml;base64,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' > </img>\nCreated in <span style='font-weight:600;margin-left:4px;'>Deepnote</span></a>",
   "metadata": {
    "tags": [],
    "created_in_deepnote_cell": true,
    "deepnote_cell_type": "markdown"
   }
  }
 ],
 "nbformat": 4,
 "nbformat_minor": 2,
 "metadata": {
  "language_info": {
   "codemirror_mode": {
    "name": "ipython",
    "version": 3
   },
   "file_extension": ".py",
   "mimetype": "text/x-python",
   "name": "python",
   "nbconvert_exporter": "python",
   "pygments_lexer": "ipython3",
   "version": "3.9.5"
  },
  "orig_nbformat": 2,
  "kernelspec": {
   "name": "python395jvsc74a57bd0df1d4501566b1753f163333fdb4ef33fd168166ab063e105c1cfc0db7fb36182",
   "display_name": "Python 3.9.5 64-bit"
  },
  "metadata": {
   "interpreter": {
    "hash": "df1d4501566b1753f163333fdb4ef33fd168166ab063e105c1cfc0db7fb36182"
   }
  },
  "deepnote_notebook_id": "d483c93c-5383-43b5-bd9e-32c31c21615e",
  "deepnote": {},
  "deepnote_execution_queue": []
 }
}