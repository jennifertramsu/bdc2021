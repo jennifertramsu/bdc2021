{
 "metadata": {
  "language_info": {
   "codemirror_mode": {
    "name": "ipython",
    "version": 3
   },
   "file_extension": ".py",
   "mimetype": "text/x-python",
   "name": "python",
   "nbconvert_exporter": "python",
   "pygments_lexer": "ipython3",
   "version": "3.8.3"
  },
  "orig_nbformat": 2,
  "kernelspec": {
   "name": "python383jvsc74a57bd0e037ebae06607833108a0b7e17e85d7df9949872f53cdbbb39594cf74144a877",
   "display_name": "Python 3.8.3 64-bit"
  }
 },
 "nbformat": 4,
 "nbformat_minor": 2,
 "cells": [
  {
   "source": [
    "Fake Claims: list of fake claims from a debunking article and tweets mentioning the article\n",
    "- most tweets are in agreement with article\n",
    "\n",
    "Real Claims: claims by the WHO and tweets on topics covered\n",
    "- less tweets in agreement with article\n",
    "\n",
    "Fake News: \n",
    "- lists of original article URLs and titles the URLs were shared under (posts usually omit parts of original title) and tweets sharing the news article\n",
    "\n",
    "Real News: real\n",
    "- same as above, but for real news"
   ],
   "cell_type": "markdown",
   "metadata": {}
  },
  {
   "cell_type": "code",
   "execution_count": 2,
   "metadata": {},
   "outputs": [],
   "source": [
    "import pandas as pd \n",
    "import numpy as np\n",
    "import matplotlib.pyplot as plt\n",
    "from IPython.display import display\n",
    "import os\n",
    "import glob"
   ]
  },
  {
   "cell_type": "code",
   "execution_count": 13,
   "metadata": {},
   "outputs": [],
   "source": [
    "tweetsFake = pd.read_csv('CoAID-master/05-01-2020/ClaimFakeCOVID-19_tweets.csv')\n",
    "hydratedFake = pd.read_csv('CoAID-master/05-01-2020/ClaimFakeCOVID-19_tweets_hydrated.csv')\n",
    "newsFake = pd.read_csv('CoAID-master/05-01-2020/ClaimFakeCOVID-19.csv')"
   ]
  },
  {
   "cell_type": "code",
   "execution_count": 21,
   "metadata": {},
   "outputs": [
    {
     "output_type": "execute_result",
     "data": {
      "text/plain": [
       "array(['en', 'cs'], dtype=object)"
      ]
     },
     "metadata": {},
     "execution_count": 21
    }
   ],
   "source": [
    "# remove unnecessary columns\n",
    "news = newsFake[['Unnamed: 0', 'title']]\n",
    "hydratedFake = hydratedFake[['created_at', 'hashtags', 'favorite_count', 'id', 'lang','retweet_count', 'retweet_id', 'text', 'user_screen_name', 'user_favourites_count', 'user_followers_count', 'user_friends_count']]\n",
    "\n",
    "hydratedFake['lang'].unique()\n"
   ]
  },
  {
   "cell_type": "code",
   "execution_count": 22,
   "metadata": {},
   "outputs": [],
   "source": [
    "# match index of news title to tweet info\n",
    "hydratedFake['index'] = \"\"\n",
    "newsIndex = news['Unnamed: 0'].tolist()\n",
    "for i in newsIndex:\n",
    "    ids = tweetsFake[tweetsFake['index'] == i]['tweet_id'].tolist()\n",
    "    hydratedFake.loc[hydratedFake['id'].isin(ids), 'index'] = i"
   ]
  }
 ]
}