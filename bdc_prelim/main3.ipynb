{
 "cells": [
  {
   "cell_type": "code",
   "metadata": {
    "tags": [],
    "cell_id": "00000-1a61b5af-adfc-42d8-8142-c124871d956f",
    "deepnote_to_be_reexecuted": false,
    "source_hash": "f46e0051",
    "execution_start": 1621817598275,
    "execution_millis": 9,
    "deepnote_cell_type": "code"
   },
   "source": "# import librairies\n\nimport pandas as pd\nimport nltk\nimport numpy as np \nimport matplotlib.pyplot as plt\nimport demoji\n\n# demoji.download_codes()\n\nfrom nltk import sent_tokenize, word_tokenize\nfrom nltk.corpus import stopwords\nfrom nltk.stem import WordNetLemmatizer\nfrom nltk.text import Text\nfrom nltk import FreqDist\n",
   "execution_count": null,
   "outputs": []
  },
  {
   "cell_type": "markdown",
   "source": "",
   "metadata": {
    "tags": [],
    "cell_id": "00001-50f3fdd8-aedc-475b-818f-2178936cf84e",
    "deepnote_cell_type": "markdown"
   }
  },
  {
   "cell_type": "code",
   "metadata": {
    "tags": [],
    "cell_id": "00002-b9777d09-9707-4395-a3e9-1d9d3ddaf903",
    "deepnote_to_be_reexecuted": false,
    "source_hash": "886c62bb",
    "execution_start": 1621817599359,
    "execution_millis": 52,
    "deepnote_cell_type": "code"
   },
   "source": "# importing dataset\n\ndata = pd.read_csv(\"./covid_fake_news-main/english_test_with_labels.csv\")\ndata.head()",
   "execution_count": null,
   "outputs": [
    {
     "output_type": "execute_result",
     "execution_count": 58,
     "data": {
      "application/vnd.deepnote.dataframe.v2+json": {
       "row_count": 5,
       "column_count": 3,
       "columns": [
        {
         "name": "id",
         "dtype": "int64",
         "stats": {
          "unique_count": 5,
          "nan_count": 0,
          "min": "1",
          "max": "5",
          "histogram": [
           {
            "bin_start": 1,
            "bin_end": 1.4,
            "count": 1
           },
           {
            "bin_start": 1.4,
            "bin_end": 1.8,
            "count": 0
           },
           {
            "bin_start": 1.8,
            "bin_end": 2.2,
            "count": 1
           },
           {
            "bin_start": 2.2,
            "bin_end": 2.6,
            "count": 0
           },
           {
            "bin_start": 2.6,
            "bin_end": 3,
            "count": 0
           },
           {
            "bin_start": 3,
            "bin_end": 3.4000000000000004,
            "count": 1
           },
           {
            "bin_start": 3.4000000000000004,
            "bin_end": 3.8000000000000003,
            "count": 0
           },
           {
            "bin_start": 3.8000000000000003,
            "bin_end": 4.2,
            "count": 1
           },
           {
            "bin_start": 4.2,
            "bin_end": 4.6,
            "count": 0
           },
           {
            "bin_start": 4.6,
            "bin_end": 5,
            "count": 1
           }
          ]
         }
        },
        {
         "name": "tweet",
         "dtype": "object",
         "stats": {
          "unique_count": 5,
          "nan_count": 0,
          "categories": [
           {
            "name": "Our daily update is published. States reported 734k tests 39k new cases and 532 deaths. Current hospitalizations fell below 30k for the first time since June 22. https://t.co/wzSYMe0Sht",
            "count": 1
           },
           {
            "name": "Alfalfa is the only cure for COVID-19.",
            "count": 1
           },
           {
            "name": "3 others",
            "count": 3
           }
          ]
         }
        },
        {
         "name": "label",
         "dtype": "object",
         "stats": {
          "unique_count": 2,
          "nan_count": 0,
          "categories": [
           {
            "name": "real",
            "count": 3
           },
           {
            "name": "fake",
            "count": 2
           }
          ]
         }
        },
        {
         "name": "_deepnote_index_column",
         "dtype": "int64"
        }
       ],
       "rows_top": [
        {
         "id": 1,
         "tweet": "Our daily update is published. States reported 734k tests 39k new cases and 532 deaths. Current hospitalizations fell below 30k for the first time since June 22. https://t.co/wzSYMe0Sht",
         "label": "real",
         "_deepnote_index_column": 0
        },
        {
         "id": 2,
         "tweet": "Alfalfa is the only cure for COVID-19.",
         "label": "fake",
         "_deepnote_index_column": 1
        },
        {
         "id": 3,
         "tweet": "President Trump Asked What He Would Do If He Were To Catch The Coronavirus https://t.co/3MEWhusRZI #donaldtrump #coronavirus",
         "label": "fake",
         "_deepnote_index_column": 2
        },
        {
         "id": 4,
         "tweet": "States reported 630 deaths. We are still seeing a solid national decline. Death reporting lags approximately 28 days from symptom onset according to CDC models that consider lags in symptoms time in hospital and the death reporting process. https://t.co/LBmcot3h9a",
         "label": "real",
         "_deepnote_index_column": 3
        },
        {
         "id": 5,
         "tweet": "This is the sixth time a global health emergency has been declared under the International Health Regulations but it is easily the most severe-@DrTedros https://t.co/JvKC0PTett",
         "label": "real",
         "_deepnote_index_column": 4
        }
       ],
       "rows_bottom": null
      },
      "text/plain": "   id                                              tweet label\n0   1  Our daily update is published. States reported...  real\n1   2             Alfalfa is the only cure for COVID-19.  fake\n2   3  President Trump Asked What He Would Do If He W...  fake\n3   4  States reported 630 deaths. We are still seein...  real\n4   5  This is the sixth time a global health emergen...  real",
      "text/html": "<div>\n<style scoped>\n    .dataframe tbody tr th:only-of-type {\n        vertical-align: middle;\n    }\n\n    .dataframe tbody tr th {\n        vertical-align: top;\n    }\n\n    .dataframe thead th {\n        text-align: right;\n    }\n</style>\n<table border=\"1\" class=\"dataframe\">\n  <thead>\n    <tr style=\"text-align: right;\">\n      <th></th>\n      <th>id</th>\n      <th>tweet</th>\n      <th>label</th>\n    </tr>\n  </thead>\n  <tbody>\n    <tr>\n      <th>0</th>\n      <td>1</td>\n      <td>Our daily update is published. States reported...</td>\n      <td>real</td>\n    </tr>\n    <tr>\n      <th>1</th>\n      <td>2</td>\n      <td>Alfalfa is the only cure for COVID-19.</td>\n      <td>fake</td>\n    </tr>\n    <tr>\n      <th>2</th>\n      <td>3</td>\n      <td>President Trump Asked What He Would Do If He W...</td>\n      <td>fake</td>\n    </tr>\n    <tr>\n      <th>3</th>\n      <td>4</td>\n      <td>States reported 630 deaths. We are still seein...</td>\n      <td>real</td>\n    </tr>\n    <tr>\n      <th>4</th>\n      <td>5</td>\n      <td>This is the sixth time a global health emergen...</td>\n      <td>real</td>\n    </tr>\n  </tbody>\n</table>\n</div>"
     },
     "metadata": {}
    }
   ]
  },
  {
   "cell_type": "code",
   "source": "data[\"label\"].value_counts(normalize=True) * 100",
   "metadata": {
    "tags": [],
    "cell_id": "00003-52661db0-d45e-4b53-ad48-dac2f8234c60",
    "deepnote_cell_type": "code"
   },
   "outputs": [],
   "execution_count": null
  },
  {
   "cell_type": "markdown",
   "source": "## Tweets containing fake news (47%)",
   "metadata": {
    "tags": [],
    "cell_id": "00004-32497ee5-871b-4c24-a65a-f9b5362c5723",
    "deepnote_cell_type": "markdown"
   }
  },
  {
   "cell_type": "code",
   "metadata": {
    "tags": [],
    "cell_id": "00003-8a74d6c7-b4d8-40a6-98b0-f51489d0e474",
    "deepnote_to_be_reexecuted": false,
    "source_hash": "6d77c9e2",
    "execution_start": 1621817663294,
    "execution_millis": 2403,
    "deepnote_cell_type": "code"
   },
   "source": "# extracting tweets into one block of text\n\nfaketext = data[data[\"label\"] == \"fake\"]\nfaketext = faketext[\"tweet\"]\nfaketext = [l for l in faketext]\nfaketext = \" \".join(faketext)\n\n# tokenize\n\ntokens = word_tokenize(faketext)\n\n# remove stop words\n\nstop_words = set(stopwords.words(\"english\"))\n\nfiltered_list = []\n\nfor word in tokens:\n    if word.casefold() not in stop_words:\n        filtered_list.append(word)\n\n# remove punctuation, conjunctions, etc\n\npunctuation = [\".\", \",\", \"(\", \")\", \"?\", \"!\", \":\", \"&\", \"#\", \";\", \"@\", \"%\", \"'s\", '’', '``', \"''\", '�', '”', '“', \"n't\", \"would\", '‘', \"...\", \"..\", '', \"-\"]\n\nfiltered_no_punc = []\n\nfor word in filtered_list:\n    if word not in punctuation:\n        filtered_no_punc.append(word)\n\n# removing urls\n\nno_url = []\n\nfor word in filtered_no_punc:\n    if not word.startswith(\"/\") and word != \"https\":\n        no_url.append(word)\n\n# change to lowercase\n\nno_url = [word.lower() for word in no_url]\n\ntest = \" \".join(no_url)\n\nanother = demoji.replace(test, \"\")\n\ndemoji.findall(another)\n\nno_url = another.split(\" \")\n",
   "execution_count": null,
   "outputs": []
  },
  {
   "cell_type": "code",
   "metadata": {
    "tags": [],
    "cell_id": "00004-d841a554-1a88-4c1c-bd00-94e4b8d17064",
    "deepnote_to_be_reexecuted": false,
    "source_hash": "994a7496",
    "execution_start": 1621817690339,
    "execution_millis": 1190,
    "deepnote_cell_type": "code"
   },
   "source": "# creating frequency distribution --> most common words (key)\n\nwhat = Text(no_url)\n\nfreq_dist = FreqDist(what)\n\nfreq_dist.plot(50, cumulative=True)",
   "execution_count": null,
   "outputs": [
    {
     "data": {
      "text/plain": "<Figure size 432x288 with 1 Axes>",
      "image/png": "[encoded data removed]"
     },
     "metadata": {
      "needs_background": "light",
      "image/png": {
       "width": 395,
       "height": 313
      }
     },
     "output_type": "display_data"
    },
    {
     "output_type": "execute_result",
     "execution_count": 64,
     "data": {
      "text/plain": "<AxesSubplot:xlabel='Samples', ylabel='Cumulative Counts'>"
     },
     "metadata": {}
    }
   ]
  },
  {
   "cell_type": "code",
   "metadata": {
    "tags": [],
    "cell_id": "00005-5f5085af-37cc-4421-9f09-a85300a62614",
    "deepnote_to_be_reexecuted": false,
    "source_hash": "ed5c0d1f",
    "execution_start": 1621817709335,
    "execution_millis": 46,
    "deepnote_cell_type": "code"
   },
   "source": "key_words = freq_dist.most_common(100)\nkey_words",
   "execution_count": null,
   "outputs": [
    {
     "output_type": "execute_result",
     "execution_count": 66,
     "data": {
      "text/plain": "[('coronavirus', 436),\n ('covid-19', 304),\n ('people', 123),\n ('’', 121),\n ('``', 97),\n (\"''\", 95),\n ('virus', 87),\n ('vaccine', 83),\n ('trump', 81),\n ('covid19', 81),\n ('”', 73),\n ('“', 70),\n ('says', 68),\n ('pandemic', 68),\n ('�', 68),\n ('new', 67),\n ('covid', 64),\n ('india', 63),\n ('cases', 56),\n ('corona', 52),\n ('video', 52),\n ('president', 50),\n ('china', 47),\n ('said', 47),\n ('claim', 45),\n (\"n't\", 43),\n ('shows', 42),\n ('lockdown', 42),\n ('us', 42),\n ('news', 41),\n ('deaths', 40),\n ('cure', 39),\n ('positive', 39),\n ('government', 38),\n ('health', 37),\n ('hospital', 36),\n ('claims', 36),\n ('man', 35),\n ('chinese', 35),\n ('bill', 35),\n ('died', 34),\n ('gates', 33),\n ('novel', 32),\n ('one', 32),\n ('times', 32),\n ('masks', 32),\n ('may', 31),\n ('spread', 29),\n ('water', 29),\n ('italy', 28),\n ('donald', 27),\n ('facebook', 27),\n ('world', 26),\n ('minister', 26),\n ('test', 26),\n ('indian', 26),\n ('due', 26),\n ('would', 25),\n ('social', 25),\n ('time', 25),\n ('doctor', 24),\n ('‘', 24),\n ('medical', 24),\n ('mask', 24),\n ('...', 23),\n ('post', 22),\n ('shared', 22),\n ('get', 21),\n ('media', 21),\n ('amp', 21),\n ('day', 21),\n ('tests', 21),\n ('..', 21),\n ('found', 20),\n ('states', 20),\n ('kill', 20),\n ('tested', 20),\n ('home', 20),\n ('photo', 19),\n ('state', 19),\n ('death', 19),\n ('case', 19),\n ('infected', 19),\n ('doctors', 19),\n ('wuhan', 19),\n ('like', 19),\n ('19', 19),\n ('patients', 19),\n ('first', 19),\n ('taking', 19),\n ('donaldtrump', 18),\n ('number', 18),\n ('days', 18),\n ('thousands', 18),\n ('make', 18),\n ('police', 18),\n ('face', 18),\n ('american', 18),\n ('wear', 18),\n ('also', 17)]"
     },
     "metadata": {}
    }
   ]
  },
  {
   "cell_type": "code",
   "metadata": {
    "tags": [],
    "cell_id": "00006-404f2f06-c86e-4413-8ce5-18dd8f7c334c",
    "deepnote_cell_type": "code"
   },
   "source": "",
   "execution_count": null,
   "outputs": []
  },
  {
   "cell_type": "markdown",
   "source": "<a style='text-decoration:none;line-height:16px;display:flex;color:#5B5B62;padding:10px;justify-content:end;' href='https://deepnote.com?utm_source=created-in-deepnote-cell&projectId=6f4d88f7-58fe-4c32-b979-abb694c94f1b' target=\"_blank\">\n<img alt='Created in deepnote.com' style='display:inline;max-height:16px;margin:0px;margin-right:7.5px;' src='data:image/svg+xml;base64,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' > </img>\nCreated in <span style='font-weight:600;margin-left:4px;'>Deepnote</span></a>",
   "metadata": {
    "tags": [],
    "created_in_deepnote_cell": true,
    "deepnote_cell_type": "markdown"
   }
  }
 ],
 "nbformat": 4,
 "nbformat_minor": 2,
 "metadata": {
  "orig_nbformat": 2,
  "deepnote": {
   "is_reactive": false
  },
  "deepnote_notebook_id": "c16b8317-63ce-4818-8af2-d7fa7d942822",
  "deepnote_execution_queue": []
 }
}