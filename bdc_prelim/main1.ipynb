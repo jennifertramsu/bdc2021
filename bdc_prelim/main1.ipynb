{
 "cells": [
  {
   "cell_type": "code",
   "metadata": {
    "tags": [],
    "cell_id": "00002-cc24c0e8-c81f-41a4-9200-081a491c457c",
    "deepnote_to_be_reexecuted": false,
    "source_hash": "f0278929",
    "execution_start": 1621972370456,
    "execution_millis": 11,
    "deepnote_cell_type": "code"
   },
   "source": "import glob\nimport pandas as pd\nfrom vaderSentiment.vaderSentiment import SentimentIntensityAnalyzer\n#note: depending on how you installed (e.g., using source code download versus pip install), you may need to import like this:\n#from vaderSentiment import SentimentIntensityAnalyzer\n\nsentences = [\"VADER is smart, handsome, and funny.\",  # positive sentence example\n            \"VADER is smart, handsome, and funny!\",  # punctuation emphasis handled correctly (sentiment intensity adjusted)\n            \"VADER is very smart, handsome, and funny.\", # booster words handled correctly (sentiment intensity adjusted)\n            \"VADER is VERY SMART, handsome, and FUNNY.\",  # emphasis for ALLCAPS handled\n            \"VADER is VERY SMART, handsome, and FUNNY!!!\", # combination of signals - VADER appropriately adjusts intensity\n            \"VADER is VERY SMART, uber handsome, and FRIGGIN FUNNY!!!\", # booster words & punctuation make this close to ceiling for score\n            \"VADER is not smart, handsome, nor funny.\",  # negation sentence example\n            \"The book was good.\",  # positive sentence\n            \"At least it isn't a horrible book.\",  # negated negative sentence with contraction\n            \"The book was only kind of good.\", # qualified positive sentence is handled correctly (intensity adjusted)\n            \"The plot was good, but the characters are uncompelling and the dialog is not great.\", # mixed negation sentence\n            \"Today SUX!\",  # negative slang with capitalization emphasis\n            \"Today only kinda sux! But I'll get by, lol\", # mixed sentiment example with slang and constrastive conjunction \"but\"\n            \"Make sure you :) or :D today!\",  # emoticons handled\n            \"Catch utf-8 emoji such as such as 💘 and 💋 and 😁\",  # emojis handled\n            \"Not bad at all\"  # Capitalized negation\n            ]\n\nanalyzer = SentimentIntensityAnalyzer()\nfor sentence in sentences:\n    vs = analyzer.polarity_scores(sentence)\n    print(\"{:-<65} {}\".format(sentence, str(vs)))            ",
   "execution_count": null,
   "outputs": [
    {
     "name": "stdout",
     "text": "VADER is smart, handsome, and funny.----------------------------- {'neg': 0.0, 'neu': 0.254, 'pos': 0.746, 'compound': 0.8316}\nVADER is smart, handsome, and funny!----------------------------- {'neg': 0.0, 'neu': 0.248, 'pos': 0.752, 'compound': 0.8439}\nVADER is very smart, handsome, and funny.------------------------ {'neg': 0.0, 'neu': 0.299, 'pos': 0.701, 'compound': 0.8545}\nVADER is VERY SMART, handsome, and FUNNY.------------------------ {'neg': 0.0, 'neu': 0.246, 'pos': 0.754, 'compound': 0.9227}\nVADER is VERY SMART, handsome, and FUNNY!!!---------------------- {'neg': 0.0, 'neu': 0.233, 'pos': 0.767, 'compound': 0.9342}\nVADER is VERY SMART, uber handsome, and FRIGGIN FUNNY!!!--------- {'neg': 0.0, 'neu': 0.294, 'pos': 0.706, 'compound': 0.9469}\nVADER is not smart, handsome, nor funny.------------------------- {'neg': 0.646, 'neu': 0.354, 'pos': 0.0, 'compound': -0.7424}\nThe book was good.----------------------------------------------- {'neg': 0.0, 'neu': 0.508, 'pos': 0.492, 'compound': 0.4404}\nAt least it isn't a horrible book.------------------------------- {'neg': 0.0, 'neu': 0.678, 'pos': 0.322, 'compound': 0.431}\nThe book was only kind of good.---------------------------------- {'neg': 0.0, 'neu': 0.697, 'pos': 0.303, 'compound': 0.3832}\nThe plot was good, but the characters are uncompelling and the dialog is not great. {'neg': 0.327, 'neu': 0.579, 'pos': 0.094, 'compound': -0.7042}\nToday SUX!------------------------------------------------------- {'neg': 0.779, 'neu': 0.221, 'pos': 0.0, 'compound': -0.5461}\nToday only kinda sux! But I'll get by, lol----------------------- {'neg': 0.127, 'neu': 0.556, 'pos': 0.317, 'compound': 0.5249}\nMake sure you :) or :D today!------------------------------------ {'neg': 0.0, 'neu': 0.294, 'pos': 0.706, 'compound': 0.8633}\nCatch utf-8 emoji such as such as 💘 and 💋 and 😁------------------ {'neg': 0.0, 'neu': 0.615, 'pos': 0.385, 'compound': 0.875}\nNot bad at all--------------------------------------------------- {'neg': 0.0, 'neu': 0.513, 'pos': 0.487, 'compound': 0.431}\n",
     "output_type": "stream"
    }
   ]
  },
  {
   "cell_type": "code",
   "metadata": {
    "tags": [],
    "cell_id": "00002-453510b1-44bb-415b-a508-58ddd28cb40d",
    "deepnote_to_be_reexecuted": false,
    "source_hash": "c9401596",
    "execution_start": 1621972371063,
    "execution_millis": 156,
    "deepnote_cell_type": "code"
   },
   "source": "df = pd.read_csv('/work/bdc2021/bdc_prelim/CoAID-master/05-01-2020/ClaimFakeCOVID-19_tweets_hydrated.csv')\ndf1 = pd.read_csv(\"/work/bdc2021/bdc_prelim/CoAID-master/07-01-2020/ClaimFakeCOVID-19_tweets_hydrated.csv\")\ndf_fake = pd.concat([df, df1], ignore_index = True)\n\nnewsFakeList = glob.glob('/work/bdc2021/bdc_prelim/CoAID-master/*/NewsFakeCOVID-19_tweets_hydrated.csv')\nnewsFakedf = [pd.read_csv(path) for path in newsFakeList]\n\n# does not exist for 09 and 11\n\n\n",
   "execution_count": null,
   "outputs": []
  },
  {
   "cell_type": "code",
   "metadata": {
    "tags": [],
    "cell_id": "00003-c3526891-8504-4138-a33e-c01029b0faeb",
    "deepnote_to_be_reexecuted": false,
    "source_hash": "c085b6ba",
    "execution_start": 1621972371581,
    "execution_millis": 42,
    "deepnote_cell_type": "code"
   },
   "source": "df.head()",
   "execution_count": null,
   "outputs": [
    {
     "output_type": "execute_result",
     "execution_count": 9,
     "data": {
      "application/vnd.deepnote.dataframe.v2+json": {
       "row_count": 5,
       "column_count": 34,
       "columns": [
        {
         "name": "coordinates",
         "dtype": "float64",
         "stats": {
          "unique_count": 0,
          "nan_count": 5,
          "min": null,
          "max": null,
          "histogram": [
           {
            "bin_start": 0,
            "bin_end": 0.1,
            "count": 0
           },
           {
            "bin_start": 0.1,
            "bin_end": 0.2,
            "count": 0
           },
           {
            "bin_start": 0.2,
            "bin_end": 0.30000000000000004,
            "count": 0
           },
           {
            "bin_start": 0.30000000000000004,
            "bin_end": 0.4,
            "count": 0
           },
           {
            "bin_start": 0.4,
            "bin_end": 0.5,
            "count": 0
           },
           {
            "bin_start": 0.5,
            "bin_end": 0.6000000000000001,
            "count": 0
           },
           {
            "bin_start": 0.6000000000000001,
            "bin_end": 0.7000000000000001,
            "count": 0
           },
           {
            "bin_start": 0.7000000000000001,
            "bin_end": 0.8,
            "count": 0
           },
           {
            "bin_start": 0.8,
            "bin_end": 0.9,
            "count": 0
           },
           {
            "bin_start": 0.9,
            "bin_end": 1,
            "count": 0
           }
          ]
         }
        },
        {
         "name": "created_at",
         "dtype": "object",
         "stats": {
          "unique_count": 5,
          "nan_count": 0,
          "categories": [
           {
            "name": "Mon Apr 27 23:59:45 +0000 2020",
            "count": 1
           },
           {
            "name": "Fri May 01 03:33:46 +0000 2020",
            "count": 1
           },
           {
            "name": "3 others",
            "count": 3
           }
          ]
         }
        },
        {
         "name": "hashtags",
         "dtype": "object",
         "stats": {
          "unique_count": 1,
          "nan_count": 4,
          "categories": [
           {
            "name": "IsAMassiveUnderstatement",
            "count": 1
           },
           {
            "name": "Missing",
            "count": 4
           }
          ]
         }
        },
        {
         "name": "media",
         "dtype": "object",
         "stats": {
          "unique_count": 2,
          "nan_count": 3,
          "categories": [
           {
            "name": "https://twitter.com/yer_boat/status/1253183292947550208/photo/1",
            "count": 1
           },
           {
            "name": "https://twitter.com/VILSHOPEWORLD/status/1252636346134355968/photo/1",
            "count": 1
           },
           {
            "name": "Missing",
            "count": 3
           }
          ]
         }
        },
        {
         "name": "urls",
         "dtype": "object",
         "stats": {
          "unique_count": 2,
          "nan_count": 3,
          "categories": [
           {
            "name": "https://www.nytimes.com/2020/04/27/business/coronavirus-sympathy-cards.html?referringSource=articleShare",
            "count": 1
           },
           {
            "name": "https://crooksandliars.com/2020/04/we-are-not-communist-nation-rally",
            "count": 1
           },
           {
            "name": "Missing",
            "count": 3
           }
          ]
         }
        },
        {
         "name": "favorite_count",
         "dtype": "int64",
         "stats": {
          "unique_count": 5,
          "nan_count": 0,
          "min": "0",
          "max": "11",
          "histogram": [
           {
            "bin_start": 0,
            "bin_end": 1.1,
            "count": 2
           },
           {
            "bin_start": 1.1,
            "bin_end": 2.2,
            "count": 1
           },
           {
            "bin_start": 2.2,
            "bin_end": 3.3000000000000003,
            "count": 0
           },
           {
            "bin_start": 3.3000000000000003,
            "bin_end": 4.4,
            "count": 1
           },
           {
            "bin_start": 4.4,
            "bin_end": 5.5,
            "count": 0
           },
           {
            "bin_start": 5.5,
            "bin_end": 6.6000000000000005,
            "count": 0
           },
           {
            "bin_start": 6.6000000000000005,
            "bin_end": 7.700000000000001,
            "count": 0
           },
           {
            "bin_start": 7.700000000000001,
            "bin_end": 8.8,
            "count": 0
           },
           {
            "bin_start": 8.8,
            "bin_end": 9.9,
            "count": 0
           },
           {
            "bin_start": 9.9,
            "bin_end": 11,
            "count": 1
           }
          ]
         }
        },
        {
         "name": "id",
         "dtype": "int64",
         "stats": {
          "unique_count": 5,
          "nan_count": 0,
          "min": "1252607413846491136",
          "max": "1256064242572300293",
          "histogram": [
           {
            "bin_start": 1252607413846491100,
            "bin_end": 1252953096719072000,
            "count": 2
           },
           {
            "bin_start": 1252953096719072000,
            "bin_end": 1253298779591652900,
            "count": 1
           },
           {
            "bin_start": 1253298779591652900,
            "bin_end": 1253644462464234000,
            "count": 0
           },
           {
            "bin_start": 1253644462464234000,
            "bin_end": 1253990145336814800,
            "count": 0
           },
           {
            "bin_start": 1253990145336814800,
            "bin_end": 1254335828209395700,
            "count": 0
           },
           {
            "bin_start": 1254335828209395700,
            "bin_end": 1254681511081976600,
            "count": 0
           },
           {
            "bin_start": 1254681511081976600,
            "bin_end": 1255027193954557400,
            "count": 1
           },
           {
            "bin_start": 1255027193954557400,
            "bin_end": 1255372876827138600,
            "count": 0
           },
           {
            "bin_start": 1255372876827138600,
            "bin_end": 1255718559699719400,
            "count": 0
           },
           {
            "bin_start": 1255718559699719400,
            "bin_end": 1256064242572300300,
            "count": 1
           }
          ]
         }
        },
        {
         "name": "in_reply_to_screen_name",
         "dtype": "object",
         "stats": {
          "unique_count": 0,
          "nan_count": 5,
          "categories": [
           {
            "name": "Missing",
            "count": 5
           }
          ]
         }
        },
        {
         "name": "in_reply_to_status_id",
         "dtype": "float64",
         "stats": {
          "unique_count": 0,
          "nan_count": 5,
          "min": null,
          "max": null,
          "histogram": [
           {
            "bin_start": 0,
            "bin_end": 0.1,
            "count": 0
           },
           {
            "bin_start": 0.1,
            "bin_end": 0.2,
            "count": 0
           },
           {
            "bin_start": 0.2,
            "bin_end": 0.30000000000000004,
            "count": 0
           },
           {
            "bin_start": 0.30000000000000004,
            "bin_end": 0.4,
            "count": 0
           },
           {
            "bin_start": 0.4,
            "bin_end": 0.5,
            "count": 0
           },
           {
            "bin_start": 0.5,
            "bin_end": 0.6000000000000001,
            "count": 0
           },
           {
            "bin_start": 0.6000000000000001,
            "bin_end": 0.7000000000000001,
            "count": 0
           },
           {
            "bin_start": 0.7000000000000001,
            "bin_end": 0.8,
            "count": 0
           },
           {
            "bin_start": 0.8,
            "bin_end": 0.9,
            "count": 0
           },
           {
            "bin_start": 0.9,
            "bin_end": 1,
            "count": 0
           }
          ]
         }
        },
        {
         "name": "in_reply_to_user_id",
         "dtype": "float64",
         "stats": {
          "unique_count": 0,
          "nan_count": 5,
          "min": null,
          "max": null,
          "histogram": [
           {
            "bin_start": 0,
            "bin_end": 0.1,
            "count": 0
           },
           {
            "bin_start": 0.1,
            "bin_end": 0.2,
            "count": 0
           },
           {
            "bin_start": 0.2,
            "bin_end": 0.30000000000000004,
            "count": 0
           },
           {
            "bin_start": 0.30000000000000004,
            "bin_end": 0.4,
            "count": 0
           },
           {
            "bin_start": 0.4,
            "bin_end": 0.5,
            "count": 0
           },
           {
            "bin_start": 0.5,
            "bin_end": 0.6000000000000001,
            "count": 0
           },
           {
            "bin_start": 0.6000000000000001,
            "bin_end": 0.7000000000000001,
            "count": 0
           },
           {
            "bin_start": 0.7000000000000001,
            "bin_end": 0.8,
            "count": 0
           },
           {
            "bin_start": 0.8,
            "bin_end": 0.9,
            "count": 0
           },
           {
            "bin_start": 0.9,
            "bin_end": 1,
            "count": 0
           }
          ]
         }
        },
        {
         "name": "lang",
         "dtype": "object",
         "stats": {
          "unique_count": 1,
          "nan_count": 0,
          "categories": [
           {
            "name": "en",
            "count": 5
           }
          ]
         }
        },
        {
         "name": "place",
         "dtype": "object",
         "stats": {
          "unique_count": 0,
          "nan_count": 5,
          "categories": [
           {
            "name": "Missing",
            "count": 5
           }
          ]
         }
        },
        {
         "name": "possibly_sensitive",
         "dtype": "object",
         "stats": {
          "unique_count": 1,
          "nan_count": 1,
          "categories": [
           {
            "name": "False",
            "count": 4
           },
           {
            "name": "Missing",
            "count": 1
           }
          ]
         }
        },
        {
         "name": "retweet_count",
         "dtype": "int64",
         "stats": {
          "unique_count": 2,
          "nan_count": 0,
          "min": "0",
          "max": "1",
          "histogram": [
           {
            "bin_start": 0,
            "bin_end": 0.1,
            "count": 4
           },
           {
            "bin_start": 0.1,
            "bin_end": 0.2,
            "count": 0
           },
           {
            "bin_start": 0.2,
            "bin_end": 0.30000000000000004,
            "count": 0
           },
           {
            "bin_start": 0.30000000000000004,
            "bin_end": 0.4,
            "count": 0
           },
           {
            "bin_start": 0.4,
            "bin_end": 0.5,
            "count": 0
           },
           {
            "bin_start": 0.5,
            "bin_end": 0.6000000000000001,
            "count": 0
           },
           {
            "bin_start": 0.6000000000000001,
            "bin_end": 0.7000000000000001,
            "count": 0
           },
           {
            "bin_start": 0.7000000000000001,
            "bin_end": 0.8,
            "count": 0
           },
           {
            "bin_start": 0.8,
            "bin_end": 0.9,
            "count": 0
           },
           {
            "bin_start": 0.9,
            "bin_end": 1,
            "count": 1
           }
          ]
         }
        },
        {
         "name": "retweet_id",
         "dtype": "float64",
         "stats": {
          "unique_count": 0,
          "nan_count": 5,
          "min": null,
          "max": null,
          "histogram": [
           {
            "bin_start": 0,
            "bin_end": 0.1,
            "count": 0
           },
           {
            "bin_start": 0.1,
            "bin_end": 0.2,
            "count": 0
           },
           {
            "bin_start": 0.2,
            "bin_end": 0.30000000000000004,
            "count": 0
           },
           {
            "bin_start": 0.30000000000000004,
            "bin_end": 0.4,
            "count": 0
           },
           {
            "bin_start": 0.4,
            "bin_end": 0.5,
            "count": 0
           },
           {
            "bin_start": 0.5,
            "bin_end": 0.6000000000000001,
            "count": 0
           },
           {
            "bin_start": 0.6000000000000001,
            "bin_end": 0.7000000000000001,
            "count": 0
           },
           {
            "bin_start": 0.7000000000000001,
            "bin_end": 0.8,
            "count": 0
           },
           {
            "bin_start": 0.8,
            "bin_end": 0.9,
            "count": 0
           },
           {
            "bin_start": 0.9,
            "bin_end": 1,
            "count": 0
           }
          ]
         }
        },
        {
         "name": "retweet_screen_name",
         "dtype": "float64",
         "stats": {
          "unique_count": 0,
          "nan_count": 5,
          "min": null,
          "max": null,
          "histogram": [
           {
            "bin_start": 0,
            "bin_end": 0.1,
            "count": 0
           },
           {
            "bin_start": 0.1,
            "bin_end": 0.2,
            "count": 0
           },
           {
            "bin_start": 0.2,
            "bin_end": 0.30000000000000004,
            "count": 0
           },
           {
            "bin_start": 0.30000000000000004,
            "bin_end": 0.4,
            "count": 0
           },
           {
            "bin_start": 0.4,
            "bin_end": 0.5,
            "count": 0
           },
           {
            "bin_start": 0.5,
            "bin_end": 0.6000000000000001,
            "count": 0
           },
           {
            "bin_start": 0.6000000000000001,
            "bin_end": 0.7000000000000001,
            "count": 0
           },
           {
            "bin_start": 0.7000000000000001,
            "bin_end": 0.8,
            "count": 0
           },
           {
            "bin_start": 0.8,
            "bin_end": 0.9,
            "count": 0
           },
           {
            "bin_start": 0.9,
            "bin_end": 1,
            "count": 0
           }
          ]
         }
        },
        {
         "name": "source",
         "dtype": "object",
         "stats": {
          "unique_count": 2,
          "nan_count": 0,
          "categories": [
           {
            "name": "<a href=\"http://twitter.com/download/android\" rel=\"nofollow\">Twitter for Android</a>",
            "count": 3
           },
           {
            "name": "<a href=\"http://twitter.com/download/iphone\" rel=\"nofollow\">Twitter for iPhone</a>",
            "count": 2
           }
          ]
         }
        },
        {
         "name": "text",
         "dtype": "object",
         "stats": {
          "unique_count": 5,
          "nan_count": 0,
          "categories": [
           {
            "name": "Excellent, devastating story. Anyone who says covid-19 is “just like the flu” needs to read this https://t.co/c1UaBU9lU1",
            "count": 1
           },
           {
            "name": "Had a grown man today tell me: \n1. He refuses to watch news, all liars, all of em\n2. Can’t believe any numbers, all numbers are spun\n3. Yet he has some numbers that he believes, and they demonstrate that Covid 19 is just like the flu \n\nThis is why America is fucked",
            "count": 1
           },
           {
            "name": "3 others",
            "count": 3
           }
          ]
         }
        },
        {
         "name": "tweet_url",
         "dtype": "object",
         "stats": {
          "unique_count": 5,
          "nan_count": 0,
          "categories": [
           {
            "name": "https://twitter.com/JenniferMascia/status/1254923219359936512",
            "count": 1
           },
           {
            "name": "https://twitter.com/drainbownick/status/1256064242572300293",
            "count": 1
           },
           {
            "name": "3 others",
            "count": 3
           }
          ]
         }
        },
        {
         "name": "user_created_at",
         "dtype": "object",
         "stats": {
          "unique_count": 5,
          "nan_count": 0,
          "categories": [
           {
            "name": "Wed Jul 01 01:59:30 +0000 2009",
            "count": 1
           },
           {
            "name": "Tue Oct 04 23:45:47 +0000 2011",
            "count": 1
           },
           {
            "name": "3 others",
            "count": 3
           }
          ]
         }
        },
        {
         "name": "user_screen_name",
         "dtype": "object",
         "stats": {
          "unique_count": 5,
          "nan_count": 0,
          "categories": [
           {
            "name": "JenniferMascia",
            "count": 1
           },
           {
            "name": "drainbownick",
            "count": 1
           },
           {
            "name": "3 others",
            "count": 3
           }
          ]
         }
        },
        {
         "name": "user_default_profile_image",
         "dtype": "bool",
         "stats": {
          "unique_count": 1,
          "nan_count": 0,
          "categories": [
           {
            "name": "False",
            "count": 5
           }
          ]
         }
        },
        {
         "name": "user_description",
         "dtype": "object",
         "stats": {
          "unique_count": 5,
          "nan_count": 0,
          "categories": [
           {
            "name": "Miami-born, California-bred New Yorker. @columbiajourn @Hunter_College @MVHS_Diablos alum. Past: @nytimes. Present: news writer @TeamTrace. jmascia@thetrace.org",
            "count": 1
           },
           {
            "name": "l Finally Sober | Black Lives Matter l Baltimore Ravens | Prog Hater I Voidsman in @voidwitchtx l Avuncular Tendencies l",
            "count": 1
           },
           {
            "name": "3 others",
            "count": 3
           }
          ]
         }
        },
        {
         "name": "user_favourites_count",
         "dtype": "int64",
         "stats": {
          "unique_count": 5,
          "nan_count": 0,
          "min": "1991",
          "max": "222200",
          "histogram": [
           {
            "bin_start": 1991,
            "bin_end": 24011.9,
            "count": 1
           },
           {
            "bin_start": 24011.9,
            "bin_end": 46032.8,
            "count": 1
           },
           {
            "bin_start": 46032.8,
            "bin_end": 68053.70000000001,
            "count": 0
           },
           {
            "bin_start": 68053.70000000001,
            "bin_end": 90074.6,
            "count": 0
           },
           {
            "bin_start": 90074.6,
            "bin_end": 112095.5,
            "count": 1
           },
           {
            "bin_start": 112095.5,
            "bin_end": 134116.40000000002,
            "count": 1
           },
           {
            "bin_start": 134116.40000000002,
            "bin_end": 156137.30000000002,
            "count": 0
           },
           {
            "bin_start": 156137.30000000002,
            "bin_end": 178158.2,
            "count": 0
           },
           {
            "bin_start": 178158.2,
            "bin_end": 200179.1,
            "count": 0
           },
           {
            "bin_start": 200179.1,
            "bin_end": 222200,
            "count": 1
           }
          ]
         }
        },
        {
         "name": "user_followers_count",
         "dtype": "int64",
         "stats": {
          "unique_count": 5,
          "nan_count": 0,
          "min": "395",
          "max": "31174",
          "histogram": [
           {
            "bin_start": 395,
            "bin_end": 3472.9,
            "count": 3
           },
           {
            "bin_start": 3472.9,
            "bin_end": 6550.8,
            "count": 1
           },
           {
            "bin_start": 6550.8,
            "bin_end": 9628.7,
            "count": 0
           },
           {
            "bin_start": 9628.7,
            "bin_end": 12706.6,
            "count": 0
           },
           {
            "bin_start": 12706.6,
            "bin_end": 15784.5,
            "count": 0
           },
           {
            "bin_start": 15784.5,
            "bin_end": 18862.4,
            "count": 0
           },
           {
            "bin_start": 18862.4,
            "bin_end": 21940.3,
            "count": 0
           },
           {
            "bin_start": 21940.3,
            "bin_end": 25018.2,
            "count": 0
           },
           {
            "bin_start": 25018.2,
            "bin_end": 28096.100000000002,
            "count": 0
           },
           {
            "bin_start": 28096.100000000002,
            "bin_end": 31174,
            "count": 1
           }
          ]
         }
        },
        {
         "name": "user_friends_count",
         "dtype": "int64",
         "stats": {
          "unique_count": 5,
          "nan_count": 0,
          "min": "261",
          "max": "31344",
          "histogram": [
           {
            "bin_start": 261,
            "bin_end": 3369.3,
            "count": 4
           },
           {
            "bin_start": 3369.3,
            "bin_end": 6477.6,
            "count": 0
           },
           {
            "bin_start": 6477.6,
            "bin_end": 9585.900000000001,
            "count": 0
           },
           {
            "bin_start": 9585.900000000001,
            "bin_end": 12694.2,
            "count": 0
           },
           {
            "bin_start": 12694.2,
            "bin_end": 15802.5,
            "count": 0
           },
           {
            "bin_start": 15802.5,
            "bin_end": 18910.800000000003,
            "count": 0
           },
           {
            "bin_start": 18910.800000000003,
            "bin_end": 22019.100000000002,
            "count": 0
           },
           {
            "bin_start": 22019.100000000002,
            "bin_end": 25127.4,
            "count": 0
           },
           {
            "bin_start": 25127.4,
            "bin_end": 28235.7,
            "count": 0
           },
           {
            "bin_start": 28235.7,
            "bin_end": 31344,
            "count": 1
           }
          ]
         }
        },
        {
         "name": "user_listed_count",
         "dtype": "int64",
         "stats": {
          "unique_count": 5,
          "nan_count": 0,
          "min": "1",
          "max": "142",
          "histogram": [
           {
            "bin_start": 1,
            "bin_end": 15.1,
            "count": 3
           },
           {
            "bin_start": 15.1,
            "bin_end": 29.2,
            "count": 1
           },
           {
            "bin_start": 29.2,
            "bin_end": 43.3,
            "count": 0
           },
           {
            "bin_start": 43.3,
            "bin_end": 57.4,
            "count": 0
           },
           {
            "bin_start": 57.4,
            "bin_end": 71.5,
            "count": 0
           },
           {
            "bin_start": 71.5,
            "bin_end": 85.6,
            "count": 0
           },
           {
            "bin_start": 85.6,
            "bin_end": 99.7,
            "count": 0
           },
           {
            "bin_start": 99.7,
            "bin_end": 113.8,
            "count": 0
           },
           {
            "bin_start": 113.8,
            "bin_end": 127.89999999999999,
            "count": 0
           },
           {
            "bin_start": 127.89999999999999,
            "bin_end": 142,
            "count": 1
           }
          ]
         }
        },
        {
         "name": "user_location",
         "dtype": "object",
         "stats": {
          "unique_count": 4,
          "nan_count": 1,
          "categories": [
           {
            "name": "New York, NY",
            "count": 1
           },
           {
            "name": "3 others",
            "count": 3
           },
           {
            "name": "Missing",
            "count": 1
           }
          ]
         }
        },
        {
         "name": "user_name",
         "dtype": "object",
         "stats": {
          "unique_count": 5,
          "nan_count": 0,
          "categories": [
           {
            "name": "Jennifer Mascia",
            "count": 1
           },
           {
            "name": "Nic Sarc",
            "count": 1
           },
           {
            "name": "3 others",
            "count": 3
           }
          ]
         }
        },
        {
         "name": "user_screen_name.1",
         "dtype": "object",
         "stats": {
          "unique_count": 5,
          "nan_count": 0,
          "categories": [
           {
            "name": "JenniferMascia",
            "count": 1
           },
           {
            "name": "drainbownick",
            "count": 1
           },
           {
            "name": "3 others",
            "count": 3
           }
          ]
         }
        },
        {
         "name": "user_statuses_count",
         "dtype": "int64",
         "stats": {
          "unique_count": 5,
          "nan_count": 0,
          "min": "1415",
          "max": "141286",
          "histogram": [
           {
            "bin_start": 1415,
            "bin_end": 15402.1,
            "count": 1
           },
           {
            "bin_start": 15402.1,
            "bin_end": 29389.2,
            "count": 2
           },
           {
            "bin_start": 29389.2,
            "bin_end": 43376.3,
            "count": 1
           },
           {
            "bin_start": 43376.3,
            "bin_end": 57363.4,
            "count": 0
           },
           {
            "bin_start": 57363.4,
            "bin_end": 71350.5,
            "count": 0
           },
           {
            "bin_start": 71350.5,
            "bin_end": 85337.6,
            "count": 0
           },
           {
            "bin_start": 85337.6,
            "bin_end": 99324.7,
            "count": 0
           },
           {
            "bin_start": 99324.7,
            "bin_end": 113311.8,
            "count": 0
           },
           {
            "bin_start": 113311.8,
            "bin_end": 127298.90000000001,
            "count": 0
           },
           {
            "bin_start": 127298.90000000001,
            "bin_end": 141286,
            "count": 1
           }
          ]
         }
        },
        {
         "name": "user_time_zone",
         "dtype": "float64",
         "stats": {
          "unique_count": 0,
          "nan_count": 5,
          "min": null,
          "max": null,
          "histogram": [
           {
            "bin_start": 0,
            "bin_end": 0.1,
            "count": 0
           },
           {
            "bin_start": 0.1,
            "bin_end": 0.2,
            "count": 0
           },
           {
            "bin_start": 0.2,
            "bin_end": 0.30000000000000004,
            "count": 0
           },
           {
            "bin_start": 0.30000000000000004,
            "bin_end": 0.4,
            "count": 0
           },
           {
            "bin_start": 0.4,
            "bin_end": 0.5,
            "count": 0
           },
           {
            "bin_start": 0.5,
            "bin_end": 0.6000000000000001,
            "count": 0
           },
           {
            "bin_start": 0.6000000000000001,
            "bin_end": 0.7000000000000001,
            "count": 0
           },
           {
            "bin_start": 0.7000000000000001,
            "bin_end": 0.8,
            "count": 0
           },
           {
            "bin_start": 0.8,
            "bin_end": 0.9,
            "count": 0
           },
           {
            "bin_start": 0.9,
            "bin_end": 1,
            "count": 0
           }
          ]
         }
        },
        {
         "name": "user_urls",
         "dtype": "object",
         "stats": {
          "unique_count": 3,
          "nan_count": 2,
          "categories": [
           {
            "name": "http://www.thetrace.org/author/jennifer-mascia/",
            "count": 1
           },
           {
            "name": "2 others",
            "count": 2
           },
           {
            "name": "Missing",
            "count": 2
           }
          ]
         }
        },
        {
         "name": "user_verified",
         "dtype": "bool",
         "stats": {
          "unique_count": 2,
          "nan_count": 0,
          "categories": [
           {
            "name": "False",
            "count": 4
           },
           {
            "name": "True",
            "count": 1
           }
          ]
         }
        },
        {
         "name": "_deepnote_index_column",
         "dtype": "int64"
        }
       ],
       "rows_top": [
        {
         "coordinates": "nan",
         "created_at": "Mon Apr 27 23:59:45 +0000 2020",
         "hashtags": "nan",
         "media": "nan",
         "urls": "https://www.nytimes.com/2020/04/27/business/coronavirus-sympathy-cards.html?referringSource=articleShare",
         "favorite_count": 0,
         "id": 1254923219359936500,
         "in_reply_to_screen_name": "nan",
         "in_reply_to_status_id": "nan",
         "in_reply_to_user_id": "nan",
         "lang": "en",
         "place": "nan",
         "possibly_sensitive": "False",
         "retweet_count": 0,
         "retweet_id": "nan",
         "retweet_screen_name": "nan",
         "source": "<a href=\"http://twitter.com/download/iphone\" rel=\"nofollow\">Twitter for iPhone</a>",
         "text": "Excellent, devastating story. Anyone who says covid-19 is “just like the flu” needs to read this https://t.co/c1UaBU9lU1",
         "tweet_url": "https://twitter.com/JenniferMascia/status/1254923219359936512",
         "user_created_at": "Wed Jul 01 01:59:30 +0000 2009",
         "user_screen_name": "JenniferMascia",
         "user_default_profile_image": false,
         "user_description": "Miami-born, California-bred New Yorker. @columbiajourn @Hunter_College @MVHS_Diablos alum. Past: @nytimes. Present: news writer @TeamTrace. jmascia@thetrace.org",
         "user_favourites_count": 29625,
         "user_followers_count": 4524,
         "user_friends_count": 2834,
         "user_listed_count": 142,
         "user_location": "New York, NY",
         "user_name": "Jennifer Mascia",
         "user_screen_name.1": "JenniferMascia",
         "user_statuses_count": 25105,
         "user_time_zone": "nan",
         "user_urls": "http://www.thetrace.org/author/jennifer-mascia/",
         "user_verified": true,
         "_deepnote_index_column": 0
        },
        {
         "coordinates": "nan",
         "created_at": "Fri May 01 03:33:46 +0000 2020",
         "hashtags": "nan",
         "media": "nan",
         "urls": "nan",
         "favorite_count": 11,
         "id": 1256064242572300300,
         "in_reply_to_screen_name": "nan",
         "in_reply_to_status_id": "nan",
         "in_reply_to_user_id": "nan",
         "lang": "en",
         "place": "nan",
         "possibly_sensitive": "nan",
         "retweet_count": 0,
         "retweet_id": "nan",
         "retweet_screen_name": "nan",
         "source": "<a href=\"http://twitter.com/download/iphone\" rel=\"nofollow\">Twitter for iPhone</a>",
         "text": "Had a grown man today tell me: \n1. He refuses to watch news, all liars, all of em\n2. Can’t believe any numbers, all numbers are spun\n3. Yet he has some numbers that he believes, and they demonstrate that Covid 19 is just like the flu \n\nThis is why America is fucked",
         "tweet_url": "https://twitter.com/drainbownick/status/1256064242572300293",
         "user_created_at": "Tue Oct 04 23:45:47 +0000 2011",
         "user_screen_name": "drainbownick",
         "user_default_profile_image": false,
         "user_description": "l Finally Sober | Black Lives Matter l Baltimore Ravens | Prog Hater I Voidsman in @voidwitchtx l Avuncular Tendencies l",
         "user_favourites_count": 131054,
         "user_followers_count": 1464,
         "user_friends_count": 1820,
         "user_listed_count": 11,
         "user_location": "Austin, TX",
         "user_name": "Nic Sarc",
         "user_screen_name.1": "drainbownick",
         "user_statuses_count": 37448,
         "user_time_zone": "nan",
         "user_urls": "https://drainbow1.bandcamp.com",
         "user_verified": false,
         "_deepnote_index_column": 1
        },
        {
         "coordinates": "nan",
         "created_at": "Thu Apr 23 04:45:54 +0000 2020",
         "hashtags": "IsAMassiveUnderstatement",
         "media": "https://twitter.com/yer_boat/status/1253183292947550208/photo/1",
         "urls": "nan",
         "favorite_count": 2,
         "id": 1253183292947550200,
         "in_reply_to_screen_name": "nan",
         "in_reply_to_status_id": "nan",
         "in_reply_to_user_id": "nan",
         "lang": "en",
         "place": "nan",
         "possibly_sensitive": "False",
         "retweet_count": 0,
         "retweet_id": "nan",
         "retweet_screen_name": "nan",
         "source": "<a href=\"http://twitter.com/download/android\" rel=\"nofollow\">Twitter for Android</a>",
         "text": "#IsAMassiveUnderstatement \ncovid 19 is just like the flu https://t.co/AkgyNHXfab",
         "tweet_url": "https://twitter.com/yer_boat/status/1253183292947550208",
         "user_created_at": "Sat Nov 09 19:28:24 +0000 2019",
         "user_screen_name": "yer_boat",
         "user_default_profile_image": false,
         "user_description": "#VoteBiden #voteblue\nI have extremely interesting views on totally uninteresting things as I am an uninteresting person 😋",
         "user_favourites_count": 1991,
         "user_followers_count": 843,
         "user_friends_count": 2228,
         "user_listed_count": 1,
         "user_location": "nan",
         "user_name": "Klo-eek!!",
         "user_screen_name.1": "yer_boat",
         "user_statuses_count": 1415,
         "user_time_zone": "nan",
         "user_urls": "nan",
         "user_verified": false,
         "_deepnote_index_column": 2
        },
        {
         "coordinates": "nan",
         "created_at": "Tue Apr 21 16:32:32 +0000 2020",
         "hashtags": "nan",
         "media": "https://twitter.com/VILSHOPEWORLD/status/1252636346134355968/photo/1",
         "urls": "nan",
         "favorite_count": 4,
         "id": 1252636346134356000,
         "in_reply_to_screen_name": "nan",
         "in_reply_to_status_id": "nan",
         "in_reply_to_user_id": "nan",
         "lang": "en",
         "place": "nan",
         "possibly_sensitive": "False",
         "retweet_count": 0,
         "retweet_id": "nan",
         "retweet_screen_name": "nan",
         "source": "<a href=\"http://twitter.com/download/android\" rel=\"nofollow\">Twitter for Android</a>",
         "text": "just had an encounter with the most ignorant customer smh💀 this woman comes up and says we shouldn't be wearing masks, \"it's bad for your lungs.\" ??? she continues saying covid-19 is just like the flu and the deaths didn't have anything to do with corona + https://t.co/nvupXvMHxI",
         "tweet_url": "https://twitter.com/VILSHOPEWORLD/status/1252636346134355968",
         "user_created_at": "Thu Nov 03 22:36:53 +0000 2016",
         "user_screen_name": "VILSHOPEWORLD",
         "user_default_profile_image": false,
         "user_description": "no thoughts, head empty, just bangtan.\n#ot7 -she/her\n-171018-",
         "user_favourites_count": 105534,
         "user_followers_count": 395,
         "user_friends_count": 261,
         "user_listed_count": 5,
         "user_location": "🇩🇪🇻🇳 ",
         "user_name": "vil⁷",
         "user_screen_name.1": "VILSHOPEWORLD",
         "user_statuses_count": 18718,
         "user_time_zone": "nan",
         "user_urls": "https://dotherightthing.carrd.co/",
         "user_verified": false,
         "_deepnote_index_column": 3
        },
        {
         "coordinates": "nan",
         "created_at": "Tue Apr 21 14:37:34 +0000 2020",
         "hashtags": "nan",
         "media": "nan",
         "urls": "https://crooksandliars.com/2020/04/we-are-not-communist-nation-rally",
         "favorite_count": 1,
         "id": 1252607413846491100,
         "in_reply_to_screen_name": "nan",
         "in_reply_to_status_id": "nan",
         "in_reply_to_user_id": "nan",
         "lang": "en",
         "place": "nan",
         "possibly_sensitive": "False",
         "retweet_count": 1,
         "retweet_id": "nan",
         "retweet_screen_name": "nan",
         "source": "<a href=\"http://twitter.com/download/android\" rel=\"nofollow\">Twitter for Android</a>",
         "text": "'We Are Not A Communist Nation': Rally Organizer Denies COVID Facts, Demands Death |\n&amp; Argued on Monday that COVID-19 is “just like the flu” — even though scientists believe that it is ten times more deadly.⤵️ https://t.co/NqgtxN4XeX",
         "tweet_url": "https://twitter.com/grinningbamE/status/1252607413846491136",
         "user_created_at": "Thu Jul 23 07:19:20 +0000 2009",
         "user_screen_name": "grinningbamE",
         "user_default_profile_image": false,
         "user_description": "Followed by @TeamPelosi🌊 #TeamPelosi💙Psychologist, Wife, Mom, Grandma #PwMe \n❤Love People🌈 #BLM \n🌊#VoteBlue🌊\n#BidenHarris❤🤍💙\n💙#Resister ❌#MoscowMitch🤬",
         "user_favourites_count": 222200,
         "user_followers_count": 31174,
         "user_friends_count": 31344,
         "user_listed_count": 24,
         "user_location": "BLUE dot in red state Oklahoma",
         "user_name": "🐝BEA🐝💙VotesBlue💙🌱🌝🌱😷MaskUp& Care4others❤😷",
         "user_screen_name.1": "grinningbamE",
         "user_statuses_count": 141286,
         "user_time_zone": "nan",
         "user_urls": "nan",
         "user_verified": false,
         "_deepnote_index_column": 4
        }
       ],
       "rows_bottom": null
      },
      "text/plain": "   coordinates                      created_at                  hashtags  \\\n0          NaN  Mon Apr 27 23:59:45 +0000 2020                       NaN   \n1          NaN  Fri May 01 03:33:46 +0000 2020                       NaN   \n2          NaN  Thu Apr 23 04:45:54 +0000 2020  IsAMassiveUnderstatement   \n3          NaN  Tue Apr 21 16:32:32 +0000 2020                       NaN   \n4          NaN  Tue Apr 21 14:37:34 +0000 2020                       NaN   \n\n                                               media  \\\n0                                                NaN   \n1                                                NaN   \n2  https://twitter.com/yer_boat/status/1253183292...   \n3  https://twitter.com/VILSHOPEWORLD/status/12526...   \n4                                                NaN   \n\n                                                urls  favorite_count  \\\n0  https://www.nytimes.com/2020/04/27/business/co...               0   \n1                                                NaN              11   \n2                                                NaN               2   \n3                                                NaN               4   \n4  https://crooksandliars.com/2020/04/we-are-not-...               1   \n\n                    id in_reply_to_screen_name  in_reply_to_status_id  \\\n0  1254923219359936512                     NaN                    NaN   \n1  1256064242572300293                     NaN                    NaN   \n2  1253183292947550208                     NaN                    NaN   \n3  1252636346134355968                     NaN                    NaN   \n4  1252607413846491136                     NaN                    NaN   \n\n   in_reply_to_user_id  ... user_followers_count user_friends_count  \\\n0                  NaN  ...                 4524               2834   \n1                  NaN  ...                 1464               1820   \n2                  NaN  ...                  843               2228   \n3                  NaN  ...                  395                261   \n4                  NaN  ...                31174              31344   \n\n  user_listed_count                   user_location  \\\n0               142                    New York, NY   \n1                11                      Austin, TX   \n2                 1                             NaN   \n3                 5                           🇩🇪🇻🇳    \n4                24  BLUE dot in red state Oklahoma   \n\n                                   user_name  user_screen_name.1  \\\n0                            Jennifer Mascia      JenniferMascia   \n1                                   Nic Sarc        drainbownick   \n2                                  Klo-eek!!            yer_boat   \n3                                       vil⁷       VILSHOPEWORLD   \n4  🐝BEA🐝💙VotesBlue💙🌱🌝🌱😷MaskUp& Care4others❤😷        grinningbamE   \n\n  user_statuses_count user_time_zone  \\\n0               25105            NaN   \n1               37448            NaN   \n2                1415            NaN   \n3               18718            NaN   \n4              141286            NaN   \n\n                                         user_urls user_verified  \n0  http://www.thetrace.org/author/jennifer-mascia/          True  \n1                   https://drainbow1.bandcamp.com         False  \n2                                              NaN         False  \n3                https://dotherightthing.carrd.co/         False  \n4                                              NaN         False  \n\n[5 rows x 34 columns]",
      "text/html": "<div>\n<style scoped>\n    .dataframe tbody tr th:only-of-type {\n        vertical-align: middle;\n    }\n\n    .dataframe tbody tr th {\n        vertical-align: top;\n    }\n\n    .dataframe thead th {\n        text-align: right;\n    }\n</style>\n<table border=\"1\" class=\"dataframe\">\n  <thead>\n    <tr style=\"text-align: right;\">\n      <th></th>\n      <th>coordinates</th>\n      <th>created_at</th>\n      <th>hashtags</th>\n      <th>media</th>\n      <th>urls</th>\n      <th>favorite_count</th>\n      <th>id</th>\n      <th>in_reply_to_screen_name</th>\n      <th>in_reply_to_status_id</th>\n      <th>in_reply_to_user_id</th>\n      <th>...</th>\n      <th>user_followers_count</th>\n      <th>user_friends_count</th>\n      <th>user_listed_count</th>\n      <th>user_location</th>\n      <th>user_name</th>\n      <th>user_screen_name.1</th>\n      <th>user_statuses_count</th>\n      <th>user_time_zone</th>\n      <th>user_urls</th>\n      <th>user_verified</th>\n    </tr>\n  </thead>\n  <tbody>\n    <tr>\n      <th>0</th>\n      <td>NaN</td>\n      <td>Mon Apr 27 23:59:45 +0000 2020</td>\n      <td>NaN</td>\n      <td>NaN</td>\n      <td>https://www.nytimes.com/2020/04/27/business/co...</td>\n      <td>0</td>\n      <td>1254923219359936512</td>\n      <td>NaN</td>\n      <td>NaN</td>\n      <td>NaN</td>\n      <td>...</td>\n      <td>4524</td>\n      <td>2834</td>\n      <td>142</td>\n      <td>New York, NY</td>\n      <td>Jennifer Mascia</td>\n      <td>JenniferMascia</td>\n      <td>25105</td>\n      <td>NaN</td>\n      <td>http://www.thetrace.org/author/jennifer-mascia/</td>\n      <td>True</td>\n    </tr>\n    <tr>\n      <th>1</th>\n      <td>NaN</td>\n      <td>Fri May 01 03:33:46 +0000 2020</td>\n      <td>NaN</td>\n      <td>NaN</td>\n      <td>NaN</td>\n      <td>11</td>\n      <td>1256064242572300293</td>\n      <td>NaN</td>\n      <td>NaN</td>\n      <td>NaN</td>\n      <td>...</td>\n      <td>1464</td>\n      <td>1820</td>\n      <td>11</td>\n      <td>Austin, TX</td>\n      <td>Nic Sarc</td>\n      <td>drainbownick</td>\n      <td>37448</td>\n      <td>NaN</td>\n      <td>https://drainbow1.bandcamp.com</td>\n      <td>False</td>\n    </tr>\n    <tr>\n      <th>2</th>\n      <td>NaN</td>\n      <td>Thu Apr 23 04:45:54 +0000 2020</td>\n      <td>IsAMassiveUnderstatement</td>\n      <td>https://twitter.com/yer_boat/status/1253183292...</td>\n      <td>NaN</td>\n      <td>2</td>\n      <td>1253183292947550208</td>\n      <td>NaN</td>\n      <td>NaN</td>\n      <td>NaN</td>\n      <td>...</td>\n      <td>843</td>\n      <td>2228</td>\n      <td>1</td>\n      <td>NaN</td>\n      <td>Klo-eek!!</td>\n      <td>yer_boat</td>\n      <td>1415</td>\n      <td>NaN</td>\n      <td>NaN</td>\n      <td>False</td>\n    </tr>\n    <tr>\n      <th>3</th>\n      <td>NaN</td>\n      <td>Tue Apr 21 16:32:32 +0000 2020</td>\n      <td>NaN</td>\n      <td>https://twitter.com/VILSHOPEWORLD/status/12526...</td>\n      <td>NaN</td>\n      <td>4</td>\n      <td>1252636346134355968</td>\n      <td>NaN</td>\n      <td>NaN</td>\n      <td>NaN</td>\n      <td>...</td>\n      <td>395</td>\n      <td>261</td>\n      <td>5</td>\n      <td>🇩🇪🇻🇳</td>\n      <td>vil⁷</td>\n      <td>VILSHOPEWORLD</td>\n      <td>18718</td>\n      <td>NaN</td>\n      <td>https://dotherightthing.carrd.co/</td>\n      <td>False</td>\n    </tr>\n    <tr>\n      <th>4</th>\n      <td>NaN</td>\n      <td>Tue Apr 21 14:37:34 +0000 2020</td>\n      <td>NaN</td>\n      <td>NaN</td>\n      <td>https://crooksandliars.com/2020/04/we-are-not-...</td>\n      <td>1</td>\n      <td>1252607413846491136</td>\n      <td>NaN</td>\n      <td>NaN</td>\n      <td>NaN</td>\n      <td>...</td>\n      <td>31174</td>\n      <td>31344</td>\n      <td>24</td>\n      <td>BLUE dot in red state Oklahoma</td>\n      <td>🐝BEA🐝💙VotesBlue💙🌱🌝🌱😷MaskUp&amp; Care4others❤😷</td>\n      <td>grinningbamE</td>\n      <td>141286</td>\n      <td>NaN</td>\n      <td>NaN</td>\n      <td>False</td>\n    </tr>\n  </tbody>\n</table>\n<p>5 rows × 34 columns</p>\n</div>"
     },
     "metadata": {}
    }
   ]
  },
  {
   "cell_type": "code",
   "metadata": {
    "tags": [],
    "cell_id": "00004-594dc8ab-5b12-4625-94aa-b8d8e26b6940",
    "deepnote_to_be_reexecuted": false,
    "source_hash": "6f77a3b3",
    "execution_start": 1621972312402,
    "execution_millis": 164,
    "deepnote_cell_type": "code"
   },
   "source": "texts = df[\"text\"].tolist()\n\nanalyzer = SentimentIntensityAnalyzer()\nvs = {}\nfor i in range(len(texts)):\n    vs[i] = analyzer.polarity_scores(texts[i])\n \ndf_vs = pd.DataFrame(vs)\n\ndf_vs = df_vs.pivot_table(columns=[\"neg\", \"neu\", \"pos\", \"compound\"])\n\ndf[\"neg\"] = df_vs[\"neg\"]\ndf['neu'] = df_vs[\"neu\"]\ndf[\"pos\"] = df_vs[\"pos\"]\ndf[\"compound\"] = df_vs[\"compound\"]\ndf[\"sentiment\"] = df_vs.idxmax(axis = 1)",
   "execution_count": null,
   "outputs": []
  },
  {
   "cell_type": "code",
   "metadata": {
    "tags": [],
    "cell_id": "00005-f56b377d-4a7e-4251-87a0-9e14a263a58d",
    "deepnote_to_be_reexecuted": true,
    "source_hash": "b623e53d",
    "deepnote_cell_type": "code"
   },
   "source": "",
   "execution_count": null,
   "outputs": []
  },
  {
   "cell_type": "markdown",
   "source": "<a style='text-decoration:none;line-height:16px;display:flex;color:#5B5B62;padding:10px;justify-content:end;' href='https://deepnote.com?utm_source=created-in-deepnote-cell&projectId=6f4d88f7-58fe-4c32-b979-abb694c94f1b' target=\"_blank\">\n<img alt='Created in deepnote.com' style='display:inline;max-height:16px;margin:0px;margin-right:7.5px;' src='data:image/svg+xml;base64,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' > </img>\nCreated in <span style='font-weight:600;margin-left:4px;'>Deepnote</span></a>",
   "metadata": {
    "tags": [],
    "created_in_deepnote_cell": true,
    "deepnote_cell_type": "markdown"
   }
  }
 ],
 "nbformat": 4,
 "nbformat_minor": 2,
 "metadata": {
  "orig_nbformat": 2,
  "deepnote": {
   "is_reactive": false
  },
  "deepnote_notebook_id": "2e568cc1-9106-404a-b21e-84fb7b0781c3",
  "deepnote_execution_queue": []
 }
}