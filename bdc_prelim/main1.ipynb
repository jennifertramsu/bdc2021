{
 "cells": [
  {
   "cell_type": "code",
   "metadata": {
    "tags": [],
    "cell_id": "00000-d046cdc2-164a-4b4f-ab0f-a15028c071dc",
    "deepnote_to_be_reexecuted": false,
    "source_hash": "9d1101c8",
    "execution_start": 1621907591316,
    "execution_millis": 2,
    "deepnote_cell_type": "code"
   },
   "source": [
    "# importing librairies\n",
    "\n",
    "import pandas as pd\n",
    "from vaderSentiment.vaderSentiment import SentimentIntensityAnalyzer\n",
    "import nltk\n",
    "import glob"
   ],
   "execution_count": null,
   "outputs": []
  },
  {
   "cell_type": "code",
   "metadata": {
    "tags": [],
    "cell_id": "00002-cc24c0e8-c81f-41a4-9200-081a491c457c",
    "deepnote_to_be_reexecuted": false,
    "source_hash": "fc9a0a49",
    "execution_start": 1621905881953,
    "execution_millis": 28,
    "deepnote_cell_type": "code"
   },
   "source": [
    "from vaderSentiment.vaderSentiment import SentimentIntensityAnalyzer\n",
    "\n",
    "\n",
    "sentences = [\"VADER is smart, handsome, and funny.\",  # positive sentence example\n",
    "            \"VADER is smart, handsome, and funny!\",  # punctuation emphasis handled correctly (sentiment intensity adjusted)\n",
    "            \"VADER is very smart, handsome, and funny.\", # booster words handled correctly (sentiment intensity adjusted)\n",
    "            \"VADER is VERY SMART, handsome, and FUNNY.\",  # emphasis for ALLCAPS handled\n",
    "            \"VADER is VERY SMART, handsome, and FUNNY!!!\", # combination of signals - VADER appropriately adjusts intensity\n",
    "            \"VADER is VERY SMART, uber handsome, and FRIGGIN FUNNY!!!\", # booster words & punctuation make this close to ceiling for score\n",
    "            \"VADER is not smart, handsome, nor funny.\",  # negation sentence example\n",
    "            \"The book was good.\",  # positive sentence\n",
    "            \"At least it isn't a horrible book.\",  # negated negative sentence with contraction\n",
    "            \"The book was only kind of good.\", # qualified positive sentence is handled correctly (intensity adjusted)\n",
    "            \"The plot was good, but the characters are uncompelling and the dialog is not great.\", # mixed negation sentence\n",
    "            \"Today SUX!\",  # negative slang with capitalization emphasis\n",
    "            \"Today only kinda sux! But I'll get by, lol\", # mixed sentiment example with slang and constrastive conjunction \"but\"\n",
    "            \"Make sure you :) or :D today!\",  # emoticons handled\n",
    "            \"Catch utf-8 emoji such as such as 💘 and 💋 and 😁\",  # emojis handled\n",
    "            \"Not bad at all\"  # Capitalized negation\n",
    "            ]\n",
    "\n",
    "analyzer = SentimentIntensityAnalyzer()\n",
    "for sentence in sentences:\n",
    "    vs = analyzer.polarity_scores(sentence)\n",
    "    print(\"{:-<65} {}\".format(sentence, str(vs)))            "
   ],
   "execution_count": 59,
   "outputs": [
    {
     "output_type": "stream",
     "name": "stdout",
     "text": [
      "VADER is smart, handsome, and funny.----------------------------- {'neg': 0.0, 'neu': 0.254, 'pos': 0.746, 'compound': 0.8316}\nVADER is smart, handsome, and funny!----------------------------- {'neg': 0.0, 'neu': 0.248, 'pos': 0.752, 'compound': 0.8439}\nVADER is very smart, handsome, and funny.------------------------ {'neg': 0.0, 'neu': 0.299, 'pos': 0.701, 'compound': 0.8545}\nVADER is VERY SMART, handsome, and FUNNY.------------------------ {'neg': 0.0, 'neu': 0.246, 'pos': 0.754, 'compound': 0.9227}\nVADER is VERY SMART, handsome, and FUNNY!!!---------------------- {'neg': 0.0, 'neu': 0.233, 'pos': 0.767, 'compound': 0.9342}\nVADER is VERY SMART, uber handsome, and FRIGGIN FUNNY!!!--------- {'neg': 0.0, 'neu': 0.294, 'pos': 0.706, 'compound': 0.9469}\nVADER is not smart, handsome, nor funny.------------------------- {'neg': 0.646, 'neu': 0.354, 'pos': 0.0, 'compound': -0.7424}\nThe book was good.----------------------------------------------- {'neg': 0.0, 'neu': 0.508, 'pos': 0.492, 'compound': 0.4404}\nAt least it isn't a horrible book.------------------------------- {'neg': 0.0, 'neu': 0.678, 'pos': 0.322, 'compound': 0.431}\nThe book was only kind of good.---------------------------------- {'neg': 0.0, 'neu': 0.697, 'pos': 0.303, 'compound': 0.3832}\nThe plot was good, but the characters are uncompelling and the dialog is not great. {'neg': 0.327, 'neu': 0.579, 'pos': 0.094, 'compound': -0.7042}\nToday SUX!------------------------------------------------------- {'neg': 0.779, 'neu': 0.221, 'pos': 0.0, 'compound': -0.5461}\nToday only kinda sux! But I'll get by, lol----------------------- {'neg': 0.127, 'neu': 0.556, 'pos': 0.317, 'compound': 0.5249}\nMake sure you :) or :D today!------------------------------------ {'neg': 0.0, 'neu': 0.294, 'pos': 0.706, 'compound': 0.8633}\nCatch utf-8 emoji such as such as 💘 and 💋 and 😁------------------ {'neg': 0.0, 'neu': 0.615, 'pos': 0.385, 'compound': 0.875}\nNot bad at all--------------------------------------------------- {'neg': 0.0, 'neu': 0.513, 'pos': 0.487, 'compound': 0.431}\n"
     ]
    }
   ]
  },
  {
   "cell_type": "code",
   "metadata": {
    "tags": [],
    "cell_id": "00002-453510b1-44bb-415b-a508-58ddd28cb40d",
    "deepnote_to_be_reexecuted": false,
    "source_hash": "d7973770",
    "execution_start": 1621907999578,
    "execution_millis": 227,
    "deepnote_cell_type": "code"
   },
   "source": [
    "df = pd.read_csv('./CoAID-master/05-01-2020/ClaimFakeCOVID-19_tweets_hydrated.csv')\n",
    "df1 = pd.read_csv(\"./CoAID-master/07-01-2020/ClaimFakeCOVID-19_tweets_hydrated.csv\")\n",
    "df_fake = pd.concat([df, df1], ignore_index = True)\n",
    "\n",
    "newsFakeList = glob.glob('./CoAID-master/*/NewsFakeCOVID-19_tweets_hydrated.csv')\n",
    "newsFakedf = [pd.read_csv(path) for path in newsFakeList]\n",
    "\n",
    "# does not exist for 09 and 11\n",
    "\n",
    "\n"
   ],
   "execution_count": 60,
   "outputs": []
  },
  {
   "cell_type": "code",
   "metadata": {
    "tags": [],
    "cell_id": "00003-c3526891-8504-4138-a33e-c01029b0faeb",
    "deepnote_to_be_reexecuted": false,
    "source_hash": "c085b6ba",
    "execution_start": 1621906058238,
    "execution_millis": 65,
    "deepnote_cell_type": "code"
   },
   "source": [
    "df.head()"
   ],
   "execution_count": 61,
   "outputs": [
    {
     "output_type": "execute_result",
     "data": {
      "text/plain": [
       "   coordinates                      created_at                  hashtags  \\\n",
       "0          NaN  Mon Apr 27 23:59:45 +0000 2020                       NaN   \n",
       "1          NaN  Fri May 01 03:33:46 +0000 2020                       NaN   \n",
       "2          NaN  Thu Apr 23 04:45:54 +0000 2020  IsAMassiveUnderstatement   \n",
       "3          NaN  Tue Apr 21 16:32:32 +0000 2020                       NaN   \n",
       "4          NaN  Tue Apr 21 14:37:34 +0000 2020                       NaN   \n",
       "\n",
       "                                               media  \\\n",
       "0                                                NaN   \n",
       "1                                                NaN   \n",
       "2  https://twitter.com/yer_boat/status/1253183292...   \n",
       "3  https://twitter.com/VILSHOPEWORLD/status/12526...   \n",
       "4                                                NaN   \n",
       "\n",
       "                                                urls  favorite_count  \\\n",
       "0  https://www.nytimes.com/2020/04/27/business/co...               0   \n",
       "1                                                NaN              11   \n",
       "2                                                NaN               2   \n",
       "3                                                NaN               4   \n",
       "4  https://crooksandliars.com/2020/04/we-are-not-...               1   \n",
       "\n",
       "                    id in_reply_to_screen_name  in_reply_to_status_id  \\\n",
       "0  1254923219359936512                     NaN                    NaN   \n",
       "1  1256064242572300293                     NaN                    NaN   \n",
       "2  1253183292947550208                     NaN                    NaN   \n",
       "3  1252636346134355968                     NaN                    NaN   \n",
       "4  1252607413846491136                     NaN                    NaN   \n",
       "\n",
       "   in_reply_to_user_id  ... user_followers_count user_friends_count  \\\n",
       "0                  NaN  ...                 4524               2834   \n",
       "1                  NaN  ...                 1464               1820   \n",
       "2                  NaN  ...                  843               2228   \n",
       "3                  NaN  ...                  395                261   \n",
       "4                  NaN  ...                31174              31344   \n",
       "\n",
       "  user_listed_count                   user_location  \\\n",
       "0               142                    New York, NY   \n",
       "1                11                      Austin, TX   \n",
       "2                 1                             NaN   \n",
       "3                 5                           🇩🇪🇻🇳    \n",
       "4                24  BLUE dot in red state Oklahoma   \n",
       "\n",
       "                                   user_name  user_screen_name.1  \\\n",
       "0                            Jennifer Mascia      JenniferMascia   \n",
       "1                                   Nic Sarc        drainbownick   \n",
       "2                                  Klo-eek!!            yer_boat   \n",
       "3                                       vil⁷       VILSHOPEWORLD   \n",
       "4  🐝BEA🐝💙VotesBlue💙🌱🌝🌱😷MaskUp& Care4others❤😷        grinningbamE   \n",
       "\n",
       "  user_statuses_count user_time_zone  \\\n",
       "0               25105            NaN   \n",
       "1               37448            NaN   \n",
       "2                1415            NaN   \n",
       "3               18718            NaN   \n",
       "4              141286            NaN   \n",
       "\n",
       "                                         user_urls user_verified  \n",
       "0  http://www.thetrace.org/author/jennifer-mascia/          True  \n",
       "1                   https://drainbow1.bandcamp.com         False  \n",
       "2                                              NaN         False  \n",
       "3                https://dotherightthing.carrd.co/         False  \n",
       "4                                              NaN         False  \n",
       "\n",
       "[5 rows x 34 columns]"
      ],
      "text/html": "<div>\n<style scoped>\n    .dataframe tbody tr th:only-of-type {\n        vertical-align: middle;\n    }\n\n    .dataframe tbody tr th {\n        vertical-align: top;\n    }\n\n    .dataframe thead th {\n        text-align: right;\n    }\n</style>\n<table border=\"1\" class=\"dataframe\">\n  <thead>\n    <tr style=\"text-align: right;\">\n      <th></th>\n      <th>coordinates</th>\n      <th>created_at</th>\n      <th>hashtags</th>\n      <th>media</th>\n      <th>urls</th>\n      <th>favorite_count</th>\n      <th>id</th>\n      <th>in_reply_to_screen_name</th>\n      <th>in_reply_to_status_id</th>\n      <th>in_reply_to_user_id</th>\n      <th>...</th>\n      <th>user_followers_count</th>\n      <th>user_friends_count</th>\n      <th>user_listed_count</th>\n      <th>user_location</th>\n      <th>user_name</th>\n      <th>user_screen_name.1</th>\n      <th>user_statuses_count</th>\n      <th>user_time_zone</th>\n      <th>user_urls</th>\n      <th>user_verified</th>\n    </tr>\n  </thead>\n  <tbody>\n    <tr>\n      <th>0</th>\n      <td>NaN</td>\n      <td>Mon Apr 27 23:59:45 +0000 2020</td>\n      <td>NaN</td>\n      <td>NaN</td>\n      <td>https://www.nytimes.com/2020/04/27/business/co...</td>\n      <td>0</td>\n      <td>1254923219359936512</td>\n      <td>NaN</td>\n      <td>NaN</td>\n      <td>NaN</td>\n      <td>...</td>\n      <td>4524</td>\n      <td>2834</td>\n      <td>142</td>\n      <td>New York, NY</td>\n      <td>Jennifer Mascia</td>\n      <td>JenniferMascia</td>\n      <td>25105</td>\n      <td>NaN</td>\n      <td>http://www.thetrace.org/author/jennifer-mascia/</td>\n      <td>True</td>\n    </tr>\n    <tr>\n      <th>1</th>\n      <td>NaN</td>\n      <td>Fri May 01 03:33:46 +0000 2020</td>\n      <td>NaN</td>\n      <td>NaN</td>\n      <td>NaN</td>\n      <td>11</td>\n      <td>1256064242572300293</td>\n      <td>NaN</td>\n      <td>NaN</td>\n      <td>NaN</td>\n      <td>...</td>\n      <td>1464</td>\n      <td>1820</td>\n      <td>11</td>\n      <td>Austin, TX</td>\n      <td>Nic Sarc</td>\n      <td>drainbownick</td>\n      <td>37448</td>\n      <td>NaN</td>\n      <td>https://drainbow1.bandcamp.com</td>\n      <td>False</td>\n    </tr>\n    <tr>\n      <th>2</th>\n      <td>NaN</td>\n      <td>Thu Apr 23 04:45:54 +0000 2020</td>\n      <td>IsAMassiveUnderstatement</td>\n      <td>https://twitter.com/yer_boat/status/1253183292...</td>\n      <td>NaN</td>\n      <td>2</td>\n      <td>1253183292947550208</td>\n      <td>NaN</td>\n      <td>NaN</td>\n      <td>NaN</td>\n      <td>...</td>\n      <td>843</td>\n      <td>2228</td>\n      <td>1</td>\n      <td>NaN</td>\n      <td>Klo-eek!!</td>\n      <td>yer_boat</td>\n      <td>1415</td>\n      <td>NaN</td>\n      <td>NaN</td>\n      <td>False</td>\n    </tr>\n    <tr>\n      <th>3</th>\n      <td>NaN</td>\n      <td>Tue Apr 21 16:32:32 +0000 2020</td>\n      <td>NaN</td>\n      <td>https://twitter.com/VILSHOPEWORLD/status/12526...</td>\n      <td>NaN</td>\n      <td>4</td>\n      <td>1252636346134355968</td>\n      <td>NaN</td>\n      <td>NaN</td>\n      <td>NaN</td>\n      <td>...</td>\n      <td>395</td>\n      <td>261</td>\n      <td>5</td>\n      <td>🇩🇪🇻🇳</td>\n      <td>vil⁷</td>\n      <td>VILSHOPEWORLD</td>\n      <td>18718</td>\n      <td>NaN</td>\n      <td>https://dotherightthing.carrd.co/</td>\n      <td>False</td>\n    </tr>\n    <tr>\n      <th>4</th>\n      <td>NaN</td>\n      <td>Tue Apr 21 14:37:34 +0000 2020</td>\n      <td>NaN</td>\n      <td>NaN</td>\n      <td>https://crooksandliars.com/2020/04/we-are-not-...</td>\n      <td>1</td>\n      <td>1252607413846491136</td>\n      <td>NaN</td>\n      <td>NaN</td>\n      <td>NaN</td>\n      <td>...</td>\n      <td>31174</td>\n      <td>31344</td>\n      <td>24</td>\n      <td>BLUE dot in red state Oklahoma</td>\n      <td>🐝BEA🐝💙VotesBlue💙🌱🌝🌱😷MaskUp&amp; Care4others❤😷</td>\n      <td>grinningbamE</td>\n      <td>141286</td>\n      <td>NaN</td>\n      <td>NaN</td>\n      <td>False</td>\n    </tr>\n  </tbody>\n</table>\n<p>5 rows × 34 columns</p>\n</div>"
     },
     "metadata": {},
     "execution_count": 61
    }
   ]
  },
  {
   "cell_type": "code",
   "metadata": {
    "tags": [],
    "cell_id": "00004-594dc8ab-5b12-4625-94aa-b8d8e26b6940",
    "deepnote_to_be_reexecuted": false,
    "source_hash": "f03e8f8d",
    "execution_start": 1621906888066,
    "execution_millis": 157,
    "deepnote_cell_type": "code"
   },
   "source": [
    "texts = df[\"text\"].tolist()\n",
    "\n",
    "analyzer = SentimentIntensityAnalyzer()\n",
    "vs = {}\n",
    "for i in range(len(texts)):\n",
    "    vs[i] = analyzer.polarity_scores(texts[i])\n",
    " \n",
    "df_vs = pd.DataFrame(vs)\n",
    "\n",
    "df_vs = df_vs.pivot_table(columns=[\"neg\", \"neu\", \"pos\", \"compound\"])\n",
    "\n",
    "df[\"neg\"] = df_vs[\"neg\"]\n",
    "df['neu'] = df_vs[\"neu\"]\n",
    "df[\"pos\"] = df_vs[\"pos\"]\n",
    "df[\"compound\"] = df_vs[\"compound\"]\n",
    "df[\"sentiment\"] = df_vs.idxmax(axis = 1)"
   ],
   "execution_count": 62,
   "outputs": []
  },
  {
   "cell_type": "code",
   "metadata": {
    "tags": [],
    "cell_id": "00005-f56b377d-4a7e-4251-87a0-9e14a263a58d",
    "deepnote_cell_type": "code"
   },
   "source": [
    "# remove unneccessary columns\n",
    "\n",
    "df_fake = df_fake.drop([\"lang\", \"place\", \"retweet_id\", \"retweet_screen_name\", \"source\", \"media\", \"urls\", \"favorite_count\", \"id\", \"in_reply_to_screen_name\", \"user_screen_name\", \"user_default_profile_image\", \"user_description\", \"in_reply_to_status_id\", \"in_reply_to_user_id\", \"user_name\", \"user_screen_name.1\", \"user_statuses_count\", \"user_urls\", \"tweet_url\", \"user_created_at\", \"user_favourites_count\", \"coordinates\"], axis=1)\n",
    "\n"
   ],
   "execution_count": 63,
   "outputs": []
  },
  {
   "cell_type": "code",
   "execution_count": 64,
   "metadata": {},
   "outputs": [
    {
     "output_type": "execute_result",
     "data": {
      "text/plain": [
       "                         created_at hashtags possibly_sensitive  \\\n",
       "57   Sun Apr 19 00:28:27 +0000 2020      NaN                NaN   \n",
       "196  Mon Mar 23 00:53:19 +0000 2020      NaN              False   \n",
       "259  Thu Feb 27 00:55:57 +0000 2020      NaN                NaN   \n",
       "22   Thu Apr 16 18:09:36 +0000 2020      NaN              False   \n",
       "275  Wed Mar 11 18:17:48 +0000 2020      NaN                NaN   \n",
       "..                              ...      ...                ...   \n",
       "146  Wed Apr 08 22:59:53 +0000 2020  COVID19                NaN   \n",
       "145  Fri Apr 10 14:40:41 +0000 2020      NaN                NaN   \n",
       "144  Tue Mar 31 14:47:29 +0000 2020      NaN              False   \n",
       "142  Fri Mar 27 19:12:37 +0000 2020      NaN                NaN   \n",
       "395  Sat Jun 06 08:52:28 +0000 2020      NaN              False   \n",
       "\n",
       "     retweet_count                                               text  \\\n",
       "57              86  Whoever says COVID-19 is just like the flu obv...   \n",
       "196             79  Terrifying piece by @ManvBrain on what coronav...   \n",
       "259             74  Trump says COVID-19 is just like the flu. \\r\\n...   \n",
       "22              74  Yeah, Covid-19 is just like the flu. https://t...   \n",
       "275             52  Anyone telling you that COVID-19 is just like ...   \n",
       "..             ...                                                ...   \n",
       "146              0  For all of those who say Covid 19 is just like...   \n",
       "145              0  @JohnnyBarone1 @MayorBeer I'm no health expert...   \n",
       "144              0  Since I'm only five in dog years, the covid-19...   \n",
       "142              0  @NameRedacted__ @xernue @Cernovich So you thin...   \n",
       "395              0  Can You Catch Coronavirus in a Swimming Pool—a...   \n",
       "\n",
       "     user_followers_count  user_friends_count  user_listed_count  \\\n",
       "57                  30503               32861                 19   \n",
       "196                 33511                 891                850   \n",
       "259                 51180               18554                 53   \n",
       "22                 190601                1425               3759   \n",
       "275                  9591                5479                142   \n",
       "..                    ...                 ...                ...   \n",
       "146                   183                 463                  0   \n",
       "145                    18                   3                  0   \n",
       "144                  1185                4997                 49   \n",
       "142                  1776                2450                 14   \n",
       "395                  1021                 684                 17   \n",
       "\n",
       "      user_location  user_time_zone  user_verified  \n",
       "57            Hania             NaN          False  \n",
       "196  United Kingdom             NaN           True  \n",
       "259    Georgia, USA             NaN          False  \n",
       "22         New York             NaN           True  \n",
       "275    Florida, USA             NaN          False  \n",
       "..              ...             ...            ...  \n",
       "146             NaN             NaN          False  \n",
       "145             NaN             NaN          False  \n",
       "144   Rochester, NY             NaN          False  \n",
       "142   Cleveland, OH             NaN          False  \n",
       "395    Columbus, OH             NaN          False  \n",
       "\n",
       "[396 rows x 11 columns]"
      ],
      "text/html": "<div>\n<style scoped>\n    .dataframe tbody tr th:only-of-type {\n        vertical-align: middle;\n    }\n\n    .dataframe tbody tr th {\n        vertical-align: top;\n    }\n\n    .dataframe thead th {\n        text-align: right;\n    }\n</style>\n<table border=\"1\" class=\"dataframe\">\n  <thead>\n    <tr style=\"text-align: right;\">\n      <th></th>\n      <th>created_at</th>\n      <th>hashtags</th>\n      <th>possibly_sensitive</th>\n      <th>retweet_count</th>\n      <th>text</th>\n      <th>user_followers_count</th>\n      <th>user_friends_count</th>\n      <th>user_listed_count</th>\n      <th>user_location</th>\n      <th>user_time_zone</th>\n      <th>user_verified</th>\n    </tr>\n  </thead>\n  <tbody>\n    <tr>\n      <th>57</th>\n      <td>Sun Apr 19 00:28:27 +0000 2020</td>\n      <td>NaN</td>\n      <td>NaN</td>\n      <td>86</td>\n      <td>Whoever says COVID-19 is just like the flu obv...</td>\n      <td>30503</td>\n      <td>32861</td>\n      <td>19</td>\n      <td>Hania</td>\n      <td>NaN</td>\n      <td>False</td>\n    </tr>\n    <tr>\n      <th>196</th>\n      <td>Mon Mar 23 00:53:19 +0000 2020</td>\n      <td>NaN</td>\n      <td>False</td>\n      <td>79</td>\n      <td>Terrifying piece by @ManvBrain on what coronav...</td>\n      <td>33511</td>\n      <td>891</td>\n      <td>850</td>\n      <td>United Kingdom</td>\n      <td>NaN</td>\n      <td>True</td>\n    </tr>\n    <tr>\n      <th>259</th>\n      <td>Thu Feb 27 00:55:57 +0000 2020</td>\n      <td>NaN</td>\n      <td>NaN</td>\n      <td>74</td>\n      <td>Trump says COVID-19 is just like the flu. \\r\\n...</td>\n      <td>51180</td>\n      <td>18554</td>\n      <td>53</td>\n      <td>Georgia, USA</td>\n      <td>NaN</td>\n      <td>False</td>\n    </tr>\n    <tr>\n      <th>22</th>\n      <td>Thu Apr 16 18:09:36 +0000 2020</td>\n      <td>NaN</td>\n      <td>False</td>\n      <td>74</td>\n      <td>Yeah, Covid-19 is just like the flu. https://t...</td>\n      <td>190601</td>\n      <td>1425</td>\n      <td>3759</td>\n      <td>New York</td>\n      <td>NaN</td>\n      <td>True</td>\n    </tr>\n    <tr>\n      <th>275</th>\n      <td>Wed Mar 11 18:17:48 +0000 2020</td>\n      <td>NaN</td>\n      <td>NaN</td>\n      <td>52</td>\n      <td>Anyone telling you that COVID-19 is just like ...</td>\n      <td>9591</td>\n      <td>5479</td>\n      <td>142</td>\n      <td>Florida, USA</td>\n      <td>NaN</td>\n      <td>False</td>\n    </tr>\n    <tr>\n      <th>...</th>\n      <td>...</td>\n      <td>...</td>\n      <td>...</td>\n      <td>...</td>\n      <td>...</td>\n      <td>...</td>\n      <td>...</td>\n      <td>...</td>\n      <td>...</td>\n      <td>...</td>\n      <td>...</td>\n    </tr>\n    <tr>\n      <th>146</th>\n      <td>Wed Apr 08 22:59:53 +0000 2020</td>\n      <td>COVID19</td>\n      <td>NaN</td>\n      <td>0</td>\n      <td>For all of those who say Covid 19 is just like...</td>\n      <td>183</td>\n      <td>463</td>\n      <td>0</td>\n      <td>NaN</td>\n      <td>NaN</td>\n      <td>False</td>\n    </tr>\n    <tr>\n      <th>145</th>\n      <td>Fri Apr 10 14:40:41 +0000 2020</td>\n      <td>NaN</td>\n      <td>NaN</td>\n      <td>0</td>\n      <td>@JohnnyBarone1 @MayorBeer I'm no health expert...</td>\n      <td>18</td>\n      <td>3</td>\n      <td>0</td>\n      <td>NaN</td>\n      <td>NaN</td>\n      <td>False</td>\n    </tr>\n    <tr>\n      <th>144</th>\n      <td>Tue Mar 31 14:47:29 +0000 2020</td>\n      <td>NaN</td>\n      <td>False</td>\n      <td>0</td>\n      <td>Since I'm only five in dog years, the covid-19...</td>\n      <td>1185</td>\n      <td>4997</td>\n      <td>49</td>\n      <td>Rochester, NY</td>\n      <td>NaN</td>\n      <td>False</td>\n    </tr>\n    <tr>\n      <th>142</th>\n      <td>Fri Mar 27 19:12:37 +0000 2020</td>\n      <td>NaN</td>\n      <td>NaN</td>\n      <td>0</td>\n      <td>@NameRedacted__ @xernue @Cernovich So you thin...</td>\n      <td>1776</td>\n      <td>2450</td>\n      <td>14</td>\n      <td>Cleveland, OH</td>\n      <td>NaN</td>\n      <td>False</td>\n    </tr>\n    <tr>\n      <th>395</th>\n      <td>Sat Jun 06 08:52:28 +0000 2020</td>\n      <td>NaN</td>\n      <td>False</td>\n      <td>0</td>\n      <td>Can You Catch Coronavirus in a Swimming Pool—a...</td>\n      <td>1021</td>\n      <td>684</td>\n      <td>17</td>\n      <td>Columbus, OH</td>\n      <td>NaN</td>\n      <td>False</td>\n    </tr>\n  </tbody>\n</table>\n<p>396 rows × 11 columns</p>\n</div>"
     },
     "metadata": {},
     "execution_count": 64
    }
   ],
   "source": [
    "df_fake.sort_values(\"retweet_count\", ascending=False)"
   ]
  },
  {
   "cell_type": "markdown",
   "source": [
    "<a style='text-decoration:none;line-height:16px;display:flex;color:#5B5B62;padding:10px;justify-content:end;' href='https://deepnote.com?utm_source=created-in-deepnote-cell&projectId=6f4d88f7-58fe-4c32-b979-abb694c94f1b' target=\"_blank\">\n",
    "<img alt='Created in deepnote.com' style='display:inline;max-height:16px;margin:0px;margin-right:7.5px;' src='data:image/svg+xml;base64,PD94bWwgdmVyc2lvbj0iMS4wIiBlbmNvZGluZz0iVVRGLTgiPz4KPHN2ZyB3aWR0aD0iODBweCIgaGVpZ2h0PSI4MHB4IiB2aWV3Qm94PSIwIDAgODAgODAiIHZlcnNpb249IjEuMSIgeG1sbnM9Imh0dHA6Ly93d3cudzMub3JnLzIwMDAvc3ZnIiB4bWxuczp4bGluaz0iaHR0cDovL3d3dy53My5vcmcvMTk5OS94bGluayI+CiAgICA8IS0tIEdlbmVyYXRvcjogU2tldGNoIDU0LjEgKDc2NDkwKSAtIGh0dHBzOi8vc2tldGNoYXBwLmNvbSAtLT4KICAgIDx0aXRsZT5Hcm91cCAzPC90aXRsZT4KICAgIDxkZXNjPkNyZWF0ZWQgd2l0aCBTa2V0Y2guPC9kZXNjPgogICAgPGcgaWQ9IkxhbmRpbmciIHN0cm9rZT0ibm9uZSIgc3Ryb2tlLXdpZHRoPSIxIiBmaWxsPSJub25lIiBmaWxsLXJ1bGU9ImV2ZW5vZGQiPgogICAgICAgIDxnIGlkPSJBcnRib2FyZCIgdHJhbnNmb3JtPSJ0cmFuc2xhdGUoLTEyMzUuMDAwMDAwLCAtNzkuMDAwMDAwKSI+CiAgICAgICAgICAgIDxnIGlkPSJHcm91cC0zIiB0cmFuc2Zvcm09InRyYW5zbGF0ZSgxMjM1LjAwMDAwMCwgNzkuMDAwMDAwKSI+CiAgICAgICAgICAgICAgICA8cG9seWdvbiBpZD0iUGF0aC0yMCIgZmlsbD0iIzAyNjVCNCIgcG9pbnRzPSIyLjM3NjIzNzYyIDgwIDM4LjA0NzY2NjcgODAgNTcuODIxNzgyMiA3My44MDU3NTkyIDU3LjgyMTc4MjIgMzIuNzU5MjczOSAzOS4xNDAyMjc4IDMxLjY4MzE2ODMiPjwvcG9seWdvbj4KICAgICAgICAgICAgICAgIDxwYXRoIGQ9Ik0zNS4wMDc3MTgsODAgQzQyLjkwNjIwMDcsNzYuNDU0OTM1OCA0Ny41NjQ5MTY3LDcxLjU0MjI2NzEgNDguOTgzODY2LDY1LjI2MTk5MzkgQzUxLjExMjI4OTksNTUuODQxNTg0MiA0MS42NzcxNzk1LDQ5LjIxMjIyODQgMjUuNjIzOTg0Niw0OS4yMTIyMjg0IEMyNS40ODQ5Mjg5LDQ5LjEyNjg0NDggMjkuODI2MTI5Niw0My4yODM4MjQ4IDM4LjY0NzU4NjksMzEuNjgzMTY4MyBMNzIuODcxMjg3MSwzMi41NTQ0MjUgTDY1LjI4MDk3Myw2Ny42NzYzNDIxIEw1MS4xMTIyODk5LDc3LjM3NjE0NCBMMzUuMDA3NzE4LDgwIFoiIGlkPSJQYXRoLTIyIiBmaWxsPSIjMDAyODY4Ij48L3BhdGg+CiAgICAgICAgICAgICAgICA8cGF0aCBkPSJNMCwzNy43MzA0NDA1IEwyNy4xMTQ1MzcsMC4yNTcxMTE0MzYgQzYyLjM3MTUxMjMsLTEuOTkwNzE3MDEgODAsMTAuNTAwMzkyNyA4MCwzNy43MzA0NDA1IEM4MCw2NC45NjA0ODgyIDY0Ljc3NjUwMzgsNzkuMDUwMzQxNCAzNC4zMjk1MTEzLDgwIEM0Ny4wNTUzNDg5LDc3LjU2NzA4MDggNTMuNDE4MjY3Nyw3MC4zMTM2MTAzIDUzLjQxODI2NzcsNTguMjM5NTg4NSBDNTMuNDE4MjY3Nyw0MC4xMjg1NTU3IDM2LjMwMzk1NDQsMzcuNzMwNDQwNSAyNS4yMjc0MTcsMzcuNzMwNDQwNSBDMTcuODQzMDU4NiwzNy43MzA0NDA1IDkuNDMzOTE5NjYsMzcuNzMwNDQwNSAwLDM3LjczMDQ0MDUgWiIgaWQ9IlBhdGgtMTkiIGZpbGw9IiMzNzkzRUYiPjwvcGF0aD4KICAgICAgICAgICAgPC9nPgogICAgICAgIDwvZz4KICAgIDwvZz4KPC9zdmc+' > </img>\n",
    "Created in <span style='font-weight:600;margin-left:4px;'>Deepnote</span></a>"
   ],
   "metadata": {
    "tags": [],
    "created_in_deepnote_cell": true,
    "deepnote_cell_type": "markdown"
   }
  }
 ],
 "nbformat": 4,
 "nbformat_minor": 2,
 "metadata": {
  "orig_nbformat": 2,
  "deepnote": {
   "is_reactive": false
  },
  "deepnote_notebook_id": "2e568cc1-9106-404a-b21e-84fb7b0781c3",
  "deepnote_execution_queue": [],
  "kernelspec": {
   "name": "python395jvsc74a57bd0df1d4501566b1753f163333fdb4ef33fd168166ab063e105c1cfc0db7fb36182",
   "display_name": "Python 3.9.5 64-bit"
  },
  "metadata": {
   "interpreter": {
    "hash": "df1d4501566b1753f163333fdb4ef33fd168166ab063e105c1cfc0db7fb36182"
   }
  }
 }
}