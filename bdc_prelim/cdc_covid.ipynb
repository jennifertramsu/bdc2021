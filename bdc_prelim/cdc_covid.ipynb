{
 "cells": [
  {
   "cell_type": "code",
   "metadata": {
    "tags": [],
    "cell_id": "00002-cc24c0e8-c81f-41a4-9200-081a491c457c",
    "deepnote_to_be_reexecuted": false,
    "source_hash": "f0278929",
    "execution_start": 1621972370456,
    "execution_millis": 11,
    "deepnote_cell_type": "code"
   },
   "source": [
    "import pandas as pd \n",
    "import numpy as np\n",
    "import matplotlib.pyplot as plt\n",
    "from IPython.display import display\n",
    "import os\n",
    "import glob         "
   ],
   "execution_count": 1,
   "outputs": []
  },
  {
   "cell_type": "code",
   "metadata": {
    "tags": [],
    "cell_id": "00002-453510b1-44bb-415b-a508-58ddd28cb40d",
    "deepnote_to_be_reexecuted": false,
    "source_hash": "c9401596",
    "execution_start": 1621972371063,
    "execution_millis": 156,
    "deepnote_cell_type": "code"
   },
   "source": [
    "df = pd.read_csv('C:/Users/Maggie/Documents/BDC/bdc2021/scrapedData/cdc.csv')\n",
    "df = df[['tweet','mentions','urls','photos','replies_count','retweets_count','likes_count','hashtags','retweet']]\n"
   ],
   "execution_count": 4,
   "outputs": []
  },
  {
   "cell_type": "code",
   "metadata": {
    "tags": [],
    "cell_id": "00003-c3526891-8504-4138-a33e-c01029b0faeb",
    "deepnote_to_be_reexecuted": false,
    "source_hash": "c085b6ba",
    "execution_start": 1621972371581,
    "execution_millis": 42,
    "deepnote_cell_type": "code"
   },
   "source": [
    "# filter by hashtags and other related words\n",
    "covid = df.loc[df['tweet'].str.contains('covid|coronavirus|covidvaccineforum|wearamask|socialdistancing|2019-nCoV|2019ncov|symptomatic', case=False)]\n",
    "covid.head()"
   ],
   "execution_count": 3,
   "outputs": [
    {
     "output_type": "execute_result",
     "data": {
      "text/plain": [
       "                                               tweet  \\\n",
       "0  #COVID19 hospital admissions are declining in ...   \n",
       "1  When loved ones decide to get a #COVID19 vacci...   \n",
       "4  #Parents: Are you looking for a #COVID19 vacci...   \n",
       "7  Data published today in @CDCMMWR provide infor...   \n",
       "8  It takes 2 weeks after #COVID19 vaccination to...   \n",
       "\n",
       "                                            mentions  \\\n",
       "0                                                 []   \n",
       "1                                                 []   \n",
       "4                                                 []   \n",
       "7  [{'screen_name': 'cdcmmwr', 'name': 'mmwr', 'i...   \n",
       "8                                                 []   \n",
       "\n",
       "                                                urls  \\\n",
       "0                   ['https://bit.ly/CDThealthcare']   \n",
       "1                         ['https://bit.ly/3cE25OH']   \n",
       "4  ['http://Vaccines.gov', 'https://bit.ly/3uFSUUu']   \n",
       "7                        ['http://bit.ly/MMWR52521']   \n",
       "8                      ['http://bit.ly/CDT_vaccine']   \n",
       "\n",
       "                                              photos  replies_count  \\\n",
       "0  ['https://pbs.twimg.com/media/E2Qq1V7XEAInYzP....             18   \n",
       "1  ['https://pbs.twimg.com/media/E2QePE7XoAcGnHV....             55   \n",
       "4  ['https://pbs.twimg.com/media/E2P9gy4XsAQ8p8y....             34   \n",
       "7  ['https://pbs.twimg.com/media/E2PhlplX0AApEMt....             17   \n",
       "8  ['https://pbs.twimg.com/media/E2LkIciWQAQaUZP....             81   \n",
       "\n",
       "   retweets_count  likes_count                hashtags  retweet  \n",
       "0              48           94             ['covid19']    False  \n",
       "1              90          204             ['covid19']    False  \n",
       "4              45          108  ['parents', 'covid19']    False  \n",
       "7              36          101             ['covid19']    False  \n",
       "8             241          575  ['covid19', 'covid19']    False  "
      ],
      "text/html": "<div>\n<style scoped>\n    .dataframe tbody tr th:only-of-type {\n        vertical-align: middle;\n    }\n\n    .dataframe tbody tr th {\n        vertical-align: top;\n    }\n\n    .dataframe thead th {\n        text-align: right;\n    }\n</style>\n<table border=\"1\" class=\"dataframe\">\n  <thead>\n    <tr style=\"text-align: right;\">\n      <th></th>\n      <th>tweet</th>\n      <th>mentions</th>\n      <th>urls</th>\n      <th>photos</th>\n      <th>replies_count</th>\n      <th>retweets_count</th>\n      <th>likes_count</th>\n      <th>hashtags</th>\n      <th>retweet</th>\n    </tr>\n  </thead>\n  <tbody>\n    <tr>\n      <th>0</th>\n      <td>#COVID19 hospital admissions are declining in ...</td>\n      <td>[]</td>\n      <td>['https://bit.ly/CDThealthcare']</td>\n      <td>['https://pbs.twimg.com/media/E2Qq1V7XEAInYzP....</td>\n      <td>18</td>\n      <td>48</td>\n      <td>94</td>\n      <td>['covid19']</td>\n      <td>False</td>\n    </tr>\n    <tr>\n      <th>1</th>\n      <td>When loved ones decide to get a #COVID19 vacci...</td>\n      <td>[]</td>\n      <td>['https://bit.ly/3cE25OH']</td>\n      <td>['https://pbs.twimg.com/media/E2QePE7XoAcGnHV....</td>\n      <td>55</td>\n      <td>90</td>\n      <td>204</td>\n      <td>['covid19']</td>\n      <td>False</td>\n    </tr>\n    <tr>\n      <th>4</th>\n      <td>#Parents: Are you looking for a #COVID19 vacci...</td>\n      <td>[]</td>\n      <td>['http://Vaccines.gov', 'https://bit.ly/3uFSUUu']</td>\n      <td>['https://pbs.twimg.com/media/E2P9gy4XsAQ8p8y....</td>\n      <td>34</td>\n      <td>45</td>\n      <td>108</td>\n      <td>['parents', 'covid19']</td>\n      <td>False</td>\n    </tr>\n    <tr>\n      <th>7</th>\n      <td>Data published today in @CDCMMWR provide infor...</td>\n      <td>[{'screen_name': 'cdcmmwr', 'name': 'mmwr', 'i...</td>\n      <td>['http://bit.ly/MMWR52521']</td>\n      <td>['https://pbs.twimg.com/media/E2PhlplX0AApEMt....</td>\n      <td>17</td>\n      <td>36</td>\n      <td>101</td>\n      <td>['covid19']</td>\n      <td>False</td>\n    </tr>\n    <tr>\n      <th>8</th>\n      <td>It takes 2 weeks after #COVID19 vaccination to...</td>\n      <td>[]</td>\n      <td>['http://bit.ly/CDT_vaccine']</td>\n      <td>['https://pbs.twimg.com/media/E2LkIciWQAQaUZP....</td>\n      <td>81</td>\n      <td>241</td>\n      <td>575</td>\n      <td>['covid19', 'covid19']</td>\n      <td>False</td>\n    </tr>\n  </tbody>\n</table>\n</div>"
     },
     "metadata": {},
     "execution_count": 3
    }
   ]
  },
  {
   "cell_type": "code",
   "execution_count": 16,
   "metadata": {
    "tags": []
   },
   "outputs": [
    {
     "output_type": "execute_result",
     "data": {
      "text/plain": [
       "423"
      ]
     },
     "metadata": {},
     "execution_count": 16
    }
   ],
   "source": [
    "n = 0\n",
    "a = []\n",
    "for i in range(len(df)):\n",
    "    if '[]' == df['hashtags'][i]:\n",
    "        a.append(df['tweet'][i])\n",
    "        n += 1\n",
    "n"
   ]
  },
  {
   "cell_type": "code",
   "execution_count": 25,
   "metadata": {
    "tags": []
   },
   "outputs": [
    {
     "output_type": "stream",
     "name": "stdout",
     "text": [
      "See CDC’s interim guidance to help employers and businesses in planning and helping prevent workplace exposures to acute respiratory illnesses, including #2019nCoV, in non-healthcare settings. Learn more:  https://t.co/lFDQW0HB0T #coronavirus\nIn January 2020, CDC, together with public health experts, evaluated more than 600 persons thought to be at risk for 2019 #novelcoronavirus infection. Learn how they identified the first 11 people in the US with lab-confirmed #2019nCoV. Learn more:  https://t.co/y8AvyWpgMh  https://t.co/kazo6VnQdk\nWant to know more about the novel (new) #coronavirus (2019-nCoV)? Watch this series of videos for answers to frequently asked questions about #2019nCoV.  https://t.co/yLAcX4C419  https://t.co/5zdRDWQkVm\n#2019nCoV diagnostic test kits will ship upon request to laboratories designed as qualified by CDC, including US state and local public health laboratories, @DeptofDefense laboratories, and select international laboratories. See Q&amp;A for lab requests:  https://t.co/4lfkGXqgrH\nCDC’s #2019nCoV diagnostic test uses technology that can provide results in 4 hours from initial processing to result. Other steps—like accessioning of patient specimens, reagent preparation, and reporting – may add to overall testing time.\nFollowing @US_FDA Emergency Use Authorization (EUA), CDC has begun distributing new #2019nCoV laboratory test kit to select US &amp; international labs through the International Reagent Resource (IRR). Each kit can test approx. 700-800 patient specimens.  https://t.co/U4FadMiQlO  https://t.co/NrZBpGM1HF\nRead @CDCMMWR report on the first cases of #2019nCoV (#coronavirus) in the U.S., including a summary of what we know about this outbreak and the public health response.  https://t.co/LcsHn9bqdE  https://t.co/Rl3ETxOQMt\nCoronaviruses are named for the crown-like spikes on the surface of the viruses. Human coronaviruses were first identified in the mid-1960s. The 2019 novel coronavirus (#2019nCoV) is a new virus never before seen in people. To learn about 2019-nCoV, visit  https://t.co/TqiKAW9nRW  https://t.co/hf4pUvjuyH\nCDC does not currently recommend the use of facemasks to help prevent novel #coronavirus. #2019nCoV is not spreading in communities in the US. Take everyday preventive actions to help slow the spread of respiratory illness.  https://t.co/uArGZTrH5L  https://t.co/EZR5VZwK45\n#2019nCoV is a virus identified as the cause of the respiratory #outbreak first detected in Wuhan, China. The virus is not spreading in the US, but you can help prevent the spread of respiratory illness by following everyday healthy habits.  https://t.co/uArGZTrH5L  https://t.co/pjTs9bFzuO\nMuch is unknown about how #2019nCoV, a new #coronavirus, spreads. Currently there is no evidence to support spread of 2019-nCoV from packages or products imported from China. See what is know about the spread of coronaviruses:  https://t.co/Ga2u5klE1v  https://t.co/rmdLjYswTG\n#HCPs: See the newest CDC Health Update on 2019 novel #coronavirus, updating interim guidance for: ▪️ caring for 2019-nCoV patients, ▪️ evaluating and testing of patients under investigation, and ▪️ preventing and controlling #2019nCoV infection.   https://t.co/uHtpS9LbbQ  https://t.co/3suBmMxLe1\nOutbreak response in action: #CDC staff are actively responding to the ongoing #2019nCoV outbreak in CDC’s Emergency Operations Center (EOC). CDC works 24/7 to keep Americans safe from public health threats. For #coronavirus updates &amp; to learn more:  https://t.co/ueWP8UYkLW  https://t.co/SIoZmA3xfm\nAuthorities in China identified the novel (new) #coronavirus, which has resulted in several thousand confirmed cases in China. Additional cases have been identified in other international locations, including the U.S. Learn more about #2019nCoV:  https://t.co/qhticRN9Ix.  https://t.co/RVgC5VUwjT\nWashington State public health and CDC experts just released an @NEJM report on the first U.S. case of #2019nCoV infection. The authors describe the clinical features of this first case. Learn more:  https://t.co/5q0nvNGDz1\nThe novel coronavirus, #2019nCoV, is not spreading in communities in the U.S. at this time. CDC is still working to contain the spread of the virus. See what is known about how 2019-nCoV spreads:  https://t.co/Ga2u5klE1v  https://t.co/UILUTQKtRr\nCDC is committed to protecting the health &amp; safety of all Americans. We continue to believe the immediate risk to the larger American public is low at this time. The #2019nCoV outbreak investigation is ongoing. For updates:  https://t.co/ueWP8UYkLW\nThese individuals will continue to be housed at March Air Reserve Base and medical staff will be readily available if an individual presents symptoms of #2019nCoV. CDC is using one of the tools in our toolbox as a way to contain the potential impact of 2019-nCoV in the US.\nThis legal order is part of a public health response that is necessary to prevent the transmission and spread of this virus in the U.S. This federal quarantine will protect the health of the repatriated US citizens, their families, and their communities. #2019nCoV\nThis action is a precautionary and preventive step to maximize the containment of the virus in the interest of the health of the American public. The current epidemic in Mainland China has demonstrated the #2019nCoV’s capacity to spread globally.  https://t.co/ueWP8UYkLW\nGenetic sequencing suggests #2019nCoV has its origins in bats but now is able to spread from person to person. Experts believe the virus spreads mainly via respiratory droplets produced when an infected person coughs or sneezes, the same way flu spreads.  https://t.co/4LCdPwHizU  https://t.co/E5SqiToWZg\n#HCPs: for CDC interim guidance on testing and management of #2019nCoV, as well as guidance for infection control of patients hospitalized or being evaluated by a healthcare provider, see  https://t.co/20hzAVXRBx #coronavirus  https://t.co/xqVl4v1hAT\nCDC confirmed the first US case of person-to-person spread of #2019nCoV in a patient who had close contact w/ a traveler previously diagnosed. While the virus is not spreading widely here, it’s likely that more US cases of #2019nCoV will be reported.  https://t.co/qhticS4L77  https://t.co/PLXsLfNrrE\nToday CDC and @IDPH confirmed diagnosis of #2019nCoV in a patient who had not traveled from China but had close contact with a traveler previously confirmed with the novel #coronavirus. Read the press release:  https://t.co/d7FyZLzRed.  https://t.co/WSzdgpcgrU\nIn the wake of #2019nCoV #coronavirus, @HHSGov &amp; CDC are supporting safe, expedient departure of approximately 200 US citizens from Wuhan, China back to the US. @StateDept leads the safe and expedient ordered departure of US citizens. Full details:  https://t.co/SJfZhS9YAo\nWhile CDC considers #2019nCoV a serious situation and is taking preparedness measures, the immediate risk in the U.S. is considered low. Everyone should always take simple daily precautions to help prevent the spread of respiratory illnesses.  https://t.co/qhticS4L77  https://t.co/wXkOxvK3cg\nThe immediate health risk from #2019nCoV in the U.S. is currently considered low. Learn more  https://t.co/0ElbjEVlYh\nIf you’ve recently returned from China, know the symptoms of #2019nCoV. These include mild to severe respiratory sickness with •Fever •Cough  •Shortness of breath.   See  https://t.co/ehL8kmRHaN  https://t.co/LXIf77DHlj\nCDC confirms 3 new US cases of novel #coronavirus (#2019nCoV) infection in the U.S., 1 in Arizona &amp; 2 in California. Everyone can do their part to help CDC respond to this emerging public health threat. See CDC Recommendations for what you can do:  https://t.co/rY45g1TcOc  https://t.co/2zjppx83eV\nCDC confirms 3 new cases of novel #coronavirus (#2019nCoV) infection in the U.S., 1 in AZ &amp; 2 in CA, bringing total to 5. All US cases travelled from Wuhan, China. More cases may be identified. However, risk to US general public is still considered low.  https://t.co/4LCdPwHizU  https://t.co/4RVMxJ1Wh0\nWhat are the symptoms of 2019 Novel Coronavirus (#2019nCoV)? How does the virus spread? Learn the answers to frequently asked questions here:  https://t.co/0ElbjEVlYh. #FAQ  https://t.co/dAdUno2jx0\nRead today’s press statement from CDC on the second travel-related case of 2019 Novel Coronavirus (#2019nCoV) detected in the United States:  https://t.co/UzGYijCsjU.\nA second travel-related case of novel #coronavirus (#2019nCoV) has been confirmed in the US. CDC expects more cases in the coming days. CDC is taking aggressive public health measures to help protect the health of Americans.  https://t.co/4LCdPwHizU  https://t.co/L9Owt5z500\nHealth screenings of travelers arriving from #Wuhan, China is part of a layered approach used with other public health measures already in place to slow and reduce possible spread of #2019nCOV into the United States.  https://t.co/Ovg4CTFJWf\nIn response to an outbreak in China caused by a novel (new) coronavirus,  CDC will begin health screenings of travelers arriving from #Wuhan, China at 3 US airports.  https://t.co/Ovg4CTFJWf #novelcoronavirus #2019nCoV  https://t.co/gwWLUCCbky\n"
     ]
    }
   ],
   "source": [
    "for i in range(len(df)):\n",
    "    if '2019ncov' in df['hashtags'][i]:\n",
    "        print(df['tweet'][i])"
   ]
  },
  {
   "cell_type": "code",
   "execution_count": null,
   "metadata": {},
   "outputs": [],
   "source": []
  }
 ],
 "nbformat": 4,
 "nbformat_minor": 2,
 "metadata": {
  "orig_nbformat": 2,
  "deepnote": {
   "is_reactive": false
  },
  "deepnote_notebook_id": "2e568cc1-9106-404a-b21e-84fb7b0781c3",
  "deepnote_execution_queue": [],
  "kernelspec": {
   "name": "python383jvsc74a57bd0e037ebae06607833108a0b7e17e85d7df9949872f53cdbbb39594cf74144a877",
   "display_name": "Python 3.8.3 64-bit"
  }
 }
}