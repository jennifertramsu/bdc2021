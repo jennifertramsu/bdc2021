{
 "metadata": {
  "language_info": {
   "codemirror_mode": {
    "name": "ipython",
    "version": 3
   },
   "file_extension": ".py",
   "mimetype": "text/x-python",
   "name": "python",
   "nbconvert_exporter": "python",
   "pygments_lexer": "ipython3",
   "version": "3.9.5"
  },
  "orig_nbformat": 4,
  "kernelspec": {
   "name": "python3",
   "display_name": "Python 3.9.5 64-bit"
  },
  "interpreter": {
   "hash": "918abd94c01e77c92c1526573d74443b78159393a4191cbedacf6744e3d87269"
  }
 },
 "nbformat": 4,
 "nbformat_minor": 2,
 "cells": [
  {
   "cell_type": "code",
   "execution_count": 5,
   "metadata": {},
   "outputs": [],
   "source": [
    "import pandas as pd \n",
    "import numpy as np\n",
    "import matplotlib.pyplot as plt\n",
    "from IPython.display import display\n",
    "import datetime\n",
    "\n",
    "from process import *\n",
    "from sentiment_helpers import *\n",
    "from KRCC import *"
   ]
  },
  {
   "cell_type": "code",
   "execution_count": 6,
   "metadata": {},
   "outputs": [],
   "source": [
    "path = \"Processed Datasets/\""
   ]
  },
  {
   "cell_type": "code",
   "execution_count": 7,
   "metadata": {},
   "outputs": [],
   "source": [
    "# May 25 cutoff applied\n",
    "\n",
    "# health orgs\n",
    "healthorg = pd.read_excel(path + \"healthorg.xlsx\", index_col=0)\n",
    "healthorg = sentimentanalysis(healthorg, \"tweet\")\n",
    "\n",
    "# left news\n",
    "leftnews = pd.read_excel(path + \"leftnews.xlsx\", index_col=0)\n",
    "leftnews = sentimentanalysis(leftnews, \"tweet\")\n",
    "\n",
    "# right news\n",
    "rightnews = pd.read_excel(path + \"rightnews.xlsx\", index_col=0)\n",
    "rightnews = sentimentanalysis(rightnews, \"tweet\")\n",
    "\n"
   ]
  },
  {
   "cell_type": "code",
   "execution_count": 8,
   "metadata": {},
   "outputs": [],
   "source": [
    "# May 25 cutoff applied\n",
    "# right ind\n",
    "rightind = pd.read_excel(path + \"rightind.xlsx\", index_col=0)\n",
    "rightind = sentimentanalysis(rightind, 'tweet')\n",
    "\n",
    "# left ind\n",
    "leftind = pd.read_excel(path + \"leftind.xlsx\", index_col=0)\n",
    "leftind = sentimentanalysis(leftind, 'tweet')\n",
    "\n",
    "# Celebrities\n",
    "celebrities = pd.read_excel(path + \"celebrities.xlsx\", index_col=0)\n",
    "celebrities = sentimentanalysis(celebrities, \"tweet\")"
   ]
  },
  {
   "cell_type": "code",
   "execution_count": 9,
   "metadata": {},
   "outputs": [],
   "source": [
    "# May 25 cutoff applied\n",
    "# fake\n",
    "fake = pd.read_excel(path + \"fake.xlsx\", index_col=0)\n",
    "fake = sentimentanalysis(fake, 'text')\n",
    "\n",
    "# real\n",
    "real = pd.read_excel(path + \"real.xlsx\", index_col=0)\n",
    "real = sentimentanalysis(real, 'text')"
   ]
  },
  {
   "cell_type": "code",
   "execution_count": 10,
   "metadata": {},
   "outputs": [],
   "source": [
    "files = [healthorg, celebrities, rightnews, leftnews, rightind, leftind, fake, real]\n",
    "names = ['healthorg', 'celebrities', 'rightnews', 'leftnews', 'rightind', 'leftind', 'fake', 'real']"
   ]
  },
  {
   "cell_type": "code",
   "execution_count": 11,
   "metadata": {},
   "outputs": [],
   "source": [
    "bins = '3D'"
   ]
  },
  {
   "cell_type": "code",
   "execution_count": 12,
   "metadata": {},
   "outputs": [],
   "source": [
    "# sentiment bins\n",
    "\n",
    "healthorg_sentiment = files[0].groupby(\"date\").sentiment.value_counts().unstack(level=1).fillna(0)\n",
    "healthorg_senti_bins = healthorg_sentiment.resample(bins).sum()\n",
    "celebrities_sentiment = files[1].groupby(\"date\").sentiment.value_counts().unstack(level=1).fillna(0)\n",
    "celebrities_senti_bins = celebrities_sentiment.resample(bins).sum()\n",
    "rightnews_sentiment = files[2].groupby(\"date\").sentiment.value_counts().unstack(level=1).fillna(0)\n",
    "rightnews_senti_bins = rightnews_sentiment.resample(bins).sum()\n",
    "leftnews_sentiment = files[3].groupby(\"date\").sentiment.value_counts().unstack(level=1).fillna(0)\n",
    "leftnews_senti_bins = leftnews_sentiment.resample(bins).sum()\n",
    "rightind_sentiment = files[4].groupby(\"date\").sentiment.value_counts().unstack(level=1).fillna(0)\n",
    "rightind_senti_bins = rightind_sentiment.resample(bins).sum()\n",
    "leftind_sentiment = files[5].groupby(\"date\").sentiment.value_counts().unstack(level=1).fillna(0)\n",
    "leftind_senti_bins = leftind_sentiment.resample(bins).sum()\n",
    "fake_sentiment = files[6].groupby(\"date\").sentiment.value_counts().unstack(level=1).fillna(0)\n",
    "fake_senti_bins = fake_sentiment.resample(bins).sum()\n",
    "real_sentiment = files[7].groupby(\"date\").sentiment.value_counts().unstack(level=1).fillna(0)\n",
    "real_senti_bins = real_sentiment.resample(bins).sum()"
   ]
  },
  {
   "cell_type": "code",
   "execution_count": 13,
   "metadata": {},
   "outputs": [],
   "source": [
    "# likes and retweets\n",
    "\n",
    "# health\n",
    "health_likes = healthorg.groupby('date')[\"likes_count\"].sum()\n",
    "health_retweets = healthorg.groupby('date')[\"retweets_count\"].sum()\n",
    "# right\n",
    "rightind_likes = rightind.groupby('date')[\"likes_count\"].sum()\n",
    "rightind_retweets = rightind.groupby('date')[\"retweets_count\"].sum()\n",
    "# left\n",
    "leftind_likes = leftind.groupby('date')[\"likes_count\"].sum()\n",
    "leftind_retweets = leftind.groupby('date')[\"retweets_count\"].sum()\n",
    "# celeb\n",
    "celeb_likes = celebrities.groupby('date')[\"likes_count\"].sum()\n",
    "celeb_retweets = celebrities.groupby('date')[\"retweets_count\"].sum()\n",
    "# left news\n",
    "leftnews_likes = leftnews.groupby('date')[\"likes_count\"].sum()\n",
    "leftnews_retweets = leftnews.groupby('date')[\"retweets_count\"].sum()\n",
    "# right news\n",
    "rightnews_likes = rightnews.groupby('date')[\"likes_count\"].sum()\n",
    "rightnews_retweets = rightnews.groupby('date')[\"retweets_count\"].sum()\n",
    "# real\n",
    "real_likes = real.groupby('date')[\"favorite_count\"].sum()\n",
    "real_retweets = real.groupby('date')[\"retweet_count\"].sum()\n",
    "# fake\n",
    "fake_likes = fake.groupby('date')[\"favorite_count\"].sum()\n",
    "fake_retweets = fake.groupby('date')[\"retweet_count\"].sum()\n",
    "\n"
   ]
  },
  {
   "cell_type": "code",
   "execution_count": 14,
   "metadata": {},
   "outputs": [],
   "source": [
    "# isolating dates\n",
    "\n",
    "healthorg_dates = healthorg.sort_values(\"date\", ascending=True)[\"date\"].value_counts()\n",
    "rightind_dates = rightind.sort_values(\"date\", ascending=True)[\"date\"].value_counts()\n",
    "leftind_dates = leftind.sort_values(\"date\", ascending=True)[\"date\"].value_counts()\n",
    "celeb_dates = celebrities.sort_values(\"date\", ascending=True)[\"date\"].value_counts()\n",
    "rightnews_dates = rightnews.sort_values(\"date\", ascending=True)[\"date\"].value_counts()\n",
    "leftnews_dates = leftnews.sort_values(\"date\", ascending=True)[\"date\"].value_counts()\n",
    "fake_dates = fake.sort_values(\"date\", ascending=True)[\"date\"].value_counts()\n",
    "real_dates = real.sort_values(\"date\", ascending=True)[\"date\"].value_counts()"
   ]
  },
  {
   "cell_type": "code",
   "execution_count": 15,
   "metadata": {},
   "outputs": [],
   "source": [
    "# frequency bins\n",
    "\n",
    "health_bins = pd.Series(index=healthorg.date, data=np.array(healthorg.count)).resample(bins).count().sort_index()\n",
    "rightind_bins = pd.Series(index=rightind.date, data=np.array(rightind.count)).resample(bins).count().sort_index()\n",
    "leftind_bins = pd.Series(index=leftind.date, data=np.array(leftind.count)).resample(bins).count().sort_index()\n",
    "rightnews_bins = pd.Series(index=rightnews.date, data=np.array(rightnews.count)).resample(bins).count().sort_index()\n",
    "leftnews_bins = pd.Series(index=leftnews.date, data=np.array(leftnews.count)).resample(bins).count().sort_index()\n",
    "celeb_bins = pd.Series(index=celebrities.date, data=np.array(celebrities.count)).resample(bins).count().sort_index()\n",
    "real_bins = pd.Series(index=real.date, data=np.array(real.count)).resample(bins).count().sort_index()\n",
    "fake_bins = pd.Series(index=fake.date, data=np.array(fake.count)).resample(bins).count().sort_index()"
   ]
  },
  {
   "cell_type": "code",
   "execution_count": 16,
   "metadata": {},
   "outputs": [],
   "source": [
    "# average retweets bins\n",
    "\n",
    "health_rt_bin = (health_retweets/healthorg_dates).resample(bins).sum()\n",
    "rightind_rt_bin = (rightind_retweets/rightind_dates).resample(bins).sum()\n",
    "leftind_rt_bin = (leftind_retweets/leftind_dates).resample(bins).sum()\n",
    "rightnews_rt_bin = (rightnews_retweets/rightnews_dates).resample(bins).sum()\n",
    "leftnews_rt_bin = (leftnews_retweets/leftnews_dates).resample(bins).sum()\n",
    "celeb_rt_bin = (celeb_retweets/celeb_dates).resample(bins).sum()\n",
    "real_rt_bin = (real_retweets/real_dates).resample(bins).sum()\n",
    "fake_rt_bin = (fake_retweets/fake_dates).resample(bins).sum()"
   ]
  },
  {
   "cell_type": "code",
   "execution_count": 17,
   "metadata": {},
   "outputs": [],
   "source": [
    "# average likes bins\n",
    "\n",
    "health_like_bin = (health_likes/healthorg_dates).resample('3D').sum()\n",
    "rightind_like_bin = (rightind_likes/rightind_dates).resample('3D').sum()\n",
    "leftind_like_bin = (leftind_likes/leftind_dates).resample('3D').sum()\n",
    "rightnews_like_bin = (rightnews_likes/rightnews_dates).resample('3D').sum()\n",
    "leftnews_like_bin = (leftnews_likes/leftnews_dates).resample('3D').sum()\n",
    "celeb_like_bin = (celeb_likes/celeb_dates).resample('3D').sum()\n",
    "real_like_bin = (real_likes/real_dates).resample('3D').sum()\n",
    "fake_like_bin = (fake_likes/fake_dates).resample('3D').sum()"
   ]
  },
  {
   "cell_type": "code",
   "execution_count": 21,
   "metadata": {},
   "outputs": [
    {
     "output_type": "stream",
     "name": "stdout",
     "text": [
      "-----------------health org-----------------\npositive likes\nKRCC = -0.16336833851263918\np value = 0.2153809625342079\npositive retweets\nKRCC = -0.23762667420020242\np value = 0.07153871385540321\nneutral likes\nKRCC = -0.07721531076380966\np value = 0.5602357377388666\nneutral retweets\nKRCC = -0.15193980505136742\np value = 0.2517154112481058\nnegative likes\nKRCC = 0.015078423261352733\np value = 0.9100200451314568\nnegative retweets\nKRCC = -0.07036597521964609\np value = 0.5979191771771858\n\n-----------------celebrities-----------------\npositive likes\nKRCC = 0.1500168778481903\np value = 0.25909522984908506\npositive retweets\nKRCC = 0.20002250379758704\np value = 0.13239875702917048\nneutral likes\nKRCC = 0.22337708084635563\np value = 0.0939968843882573\nneutral retweets\nKRCC = 0.2635347583018802\np value = 0.048183442952527314\nnegative likes\nKRCC = 0.22264281512467013\np value = 0.10565288725746147\nnegative retweets\nKRCC = 0.19644954275706186\np value = 0.153382022205884\n\n-----------------rightnews-----------------\npositive likes\nKRCC = 0.15155852514032808\np value = 0.2519385324586535\npositive retweets\nKRCC = 0.19131158091484035\np value = 0.14813433899748465\nneutral likes\nKRCC = 0.2645259226329628\np value = 0.04462493184202139\nneutral retweets\nKRCC = 0.27441474217064366\np value = 0.03722892589731709\nnegative likes\nKRCC = 0.14732974834837104\np value = 0.26720286995086295\nnegative retweets\nKRCC = 0.17729512089380242\np value = 0.1818129903758665\n\n-----------------leftnews-----------------\npositive likes\nKRCC = 0.17241379310344823\np value = 0.19740923451384743\npositive retweets\nKRCC = 0.13300492610837436\np value = 0.3231795724216393\nneutral likes\nKRCC = 0.29064039408866993\np value = 0.02724570500361764\nneutral retweets\nKRCC = 0.27093596059113295\np value = 0.040102865274462864\nnegative likes\nKRCC = 0.2068965517241379\np value = 0.12013974731191734\nnegative retweets\nKRCC = 0.17733990147783246\np value = 0.18459403185660211\n\n-----------------rightind-----------------\npositive likes\nKRCC = -0.3500393816457773\np value = 0.008480626775895528\npositive retweets\nKRCC = -0.2700303801267425\np value = 0.04229155903853444\nneutral likes\nKRCC = -0.1922778071665181\np value = 0.14775272635505482\nneutral retweets\nKRCC = -0.10737591828779583\np value = 0.4188876553972707\nnegative likes\nKRCC = -0.1461332738498243\np value = 0.274687062884971\nnegative retweets\nKRCC = -0.191484979527356\np value = 0.15233508842104934\n\n-----------------leftind-----------------\npositive likes\nKRCC = 0.22112637274572458\np value = 0.09461757026951856\npositive retweets\nKRCC = 0.2410029006329807\np value = 0.06848883669740315\nneutral likes\nKRCC = 0.3150354434811996\np value = 0.0178324135889328\nneutral retweets\nKRCC = 0.30503431829132027\np value = 0.02179792377463022\nnegative likes\nKRCC = -0.00501330290245426\np value = 0.9699818472039275\nnegative retweets\nKRCC = 0.060159634829451115\np value = 0.6515768702111469\n\n-----------------real-----------------\npositive likes\nKRCC = 0.21502419158240607\np value = 0.10588025401358077\npositive retweets\nKRCC = 0.2650298175318028\np value = 0.046257587812522295\nneutral likes\nKRCC = 0.17317998402694987\np value = 0.19411514174958966\nneutral retweets\nKRCC = 0.10792375816172237\np value = 0.4183938269484224\nnegative likes\nKRCC = 0.19777336338031817\np value = 0.13728220577966635\nnegative retweets\nKRCC = 0.21279412515603854\np value = 0.10985433362115958\n-----------------fake-----------------\npositive likes\nKRCC = -0.054592083368401156\np value = 0.6795233333952427\npositive retweets\nKRCC = 0.08933250005738372\np value = 0.4990379850805673\nneutral likes\nKRCC = 0.08178595642260741\np value = 0.5355466619689071\nneutral retweets\nKRCC = 0.24040114463614903\np value = 0.06858638569795764\nnegative likes\nKRCC = 0.10961899947165556\np value = 0.41662798064588047\nnegative retweets\nKRCC = 0.2064916036559093\np value = 0.12598735055785112\n"
     ]
    }
   ],
   "source": [
    "print('-----------------health org-----------------')\n",
    "print(\"positive likes\")\n",
    "krcc_test(health_like_bin, healthorg_senti_bins['positive'])\n",
    "print(\"positive retweets\")\n",
    "krcc_test(health_rt_bin, healthorg_senti_bins['positive'])\n",
    "print(\"neutral likes\")\n",
    "krcc_test(health_like_bin, healthorg_senti_bins['neutral'])\n",
    "print(\"neutral retweets\")\n",
    "krcc_test(health_rt_bin, healthorg_senti_bins['neutral'])\n",
    "print(\"negative likes\")\n",
    "krcc_test(health_like_bin, healthorg_senti_bins['negative'])\n",
    "print(\"negative retweets\")\n",
    "krcc_test(health_rt_bin, healthorg_senti_bins['negative'])\n",
    "\n",
    "print('\\n-----------------celebrities-----------------')\n",
    "print(\"positive likes\")\n",
    "krcc_test(celeb_like_bin, celebrities_senti_bins['positive'])\n",
    "print(\"positive retweets\")\n",
    "krcc_test(celeb_rt_bin, celebrities_senti_bins['positive'])\n",
    "print(\"neutral likes\")\n",
    "krcc_test(celeb_like_bin, celebrities_senti_bins['neutral'])\n",
    "print(\"neutral retweets\")\n",
    "krcc_test(celeb_rt_bin, celebrities_senti_bins['neutral'])\n",
    "print(\"negative likes\")\n",
    "krcc_test(celeb_like_bin, celebrities_senti_bins['negative'])\n",
    "print(\"negative retweets\")\n",
    "krcc_test(celeb_rt_bin, celebrities_senti_bins['negative'])\n",
    "\n",
    "print('\\n-----------------rightnews-----------------')\n",
    "print(\"positive likes\")\n",
    "krcc_test(rightnews_like_bin, rightnews_senti_bins['positive'])\n",
    "print(\"positive retweets\")\n",
    "krcc_test(rightnews_rt_bin, rightnews_senti_bins['positive'])\n",
    "print(\"neutral likes\")\n",
    "krcc_test(rightnews_like_bin, rightnews_senti_bins['neutral'])\n",
    "print(\"neutral retweets\")\n",
    "krcc_test(rightnews_rt_bin, rightnews_senti_bins['neutral'])\n",
    "print(\"negative likes\")\n",
    "krcc_test(rightnews_like_bin, rightnews_senti_bins['negative'])\n",
    "print(\"negative retweets\")\n",
    "krcc_test(rightnews_rt_bin, rightnews_senti_bins['negative'])\n",
    "\n",
    "print('\\n-----------------leftnews-----------------')\n",
    "print(\"positive likes\")\n",
    "krcc_test(leftnews_like_bin, leftnews_senti_bins['positive'])\n",
    "print(\"positive retweets\")\n",
    "krcc_test(leftnews_rt_bin, leftnews_senti_bins['positive'])\n",
    "print(\"neutral likes\")\n",
    "krcc_test(leftnews_like_bin, leftnews_senti_bins['neutral'])\n",
    "print(\"neutral retweets\")\n",
    "krcc_test(leftnews_rt_bin, leftnews_senti_bins['neutral'])\n",
    "print(\"negative likes\")\n",
    "krcc_test(leftnews_like_bin, leftnews_senti_bins['negative'])\n",
    "print(\"negative retweets\")\n",
    "krcc_test(leftnews_rt_bin, leftnews_senti_bins['negative'])\n",
    "\n",
    "print('\\n-----------------rightind-----------------')\n",
    "print(\"positive likes\")\n",
    "krcc_test(rightind_like_bin, rightind_senti_bins['positive'])\n",
    "print(\"positive retweets\")\n",
    "krcc_test(rightind_rt_bin, rightind_senti_bins['positive'])\n",
    "print(\"neutral likes\")\n",
    "krcc_test(rightind_like_bin, rightind_senti_bins['neutral'])\n",
    "print(\"neutral retweets\")\n",
    "krcc_test(rightind_rt_bin, rightind_senti_bins['neutral'])\n",
    "print(\"negative likes\")\n",
    "krcc_test(rightind_like_bin, rightind_senti_bins['negative'])\n",
    "print(\"negative retweets\")\n",
    "krcc_test(rightind_rt_bin, rightind_senti_bins['negative'])\n",
    "\n",
    "print('\\n-----------------leftind-----------------')\n",
    "print(\"positive likes\")\n",
    "krcc_test(leftind_like_bin, leftind_senti_bins['positive'])\n",
    "print(\"positive retweets\")\n",
    "krcc_test(leftind_rt_bin, leftind_senti_bins['positive'])\n",
    "print(\"neutral likes\")\n",
    "krcc_test(leftind_like_bin, leftind_senti_bins['neutral'])\n",
    "print(\"neutral retweets\")\n",
    "krcc_test(leftind_rt_bin, leftind_senti_bins['neutral'])\n",
    "print(\"negative likes\")\n",
    "krcc_test(leftind_like_bin, leftind_senti_bins['negative'])\n",
    "print(\"negative retweets\")\n",
    "krcc_test(leftind_rt_bin, leftind_senti_bins['negative'])\n",
    "\n",
    "print('\\n-----------------real-----------------')\n",
    "print(\"positive likes\")\n",
    "krcc_test(real_like_bin, real_senti_bins['positive'])\n",
    "print(\"positive retweets\")\n",
    "krcc_test(real_rt_bin, real_senti_bins['positive'])\n",
    "print(\"neutral likes\")\n",
    "krcc_test(real_like_bin, real_senti_bins['neutral'])\n",
    "print(\"neutral retweets\")\n",
    "krcc_test(real_rt_bin, real_senti_bins['neutral'])\n",
    "print(\"negative likes\")\n",
    "krcc_test(real_like_bin, real_senti_bins['negative'])\n",
    "print(\"negative retweets\")\n",
    "krcc_test(real_rt_bin, real_senti_bins['negative'])\n",
    "\n",
    "print('-----------------fake-----------------')\n",
    "print(\"positive likes\")\n",
    "krcc_test(fake_like_bin, fake_senti_bins['positive'])\n",
    "print(\"positive retweets\")\n",
    "krcc_test(fake_rt_bin, fake_senti_bins['positive'])\n",
    "print(\"neutral likes\")\n",
    "krcc_test(fake_like_bin, fake_senti_bins['neutral'])\n",
    "print(\"neutral retweets\")\n",
    "krcc_test(fake_rt_bin, fake_senti_bins['neutral'])\n",
    "print(\"negative likes\")\n",
    "krcc_test(fake_like_bin, fake_senti_bins['negative'])\n",
    "print(\"negative retweets\")\n",
    "krcc_test(fake_rt_bin, fake_senti_bins['negative'])"
   ]
  },
  {
   "cell_type": "code",
   "execution_count": null,
   "metadata": {},
   "outputs": [],
   "source": []
  }
 ]
}