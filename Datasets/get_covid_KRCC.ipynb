{
 "cells": [
  {
   "cell_type": "code",
   "metadata": {
    "tags": [],
    "cell_id": "00002-cc24c0e8-c81f-41a4-9200-081a491c457c",
    "deepnote_to_be_reexecuted": false,
    "source_hash": "f0278929",
    "execution_start": 1621972370456,
    "execution_millis": 11,
    "deepnote_cell_type": "code"
   },
   "source": [
    "import pandas as pd \n",
    "import numpy as np\n",
    "import matplotlib.pyplot as plt\n",
    "from IPython.display import display\n",
    "import os\n",
    "import glob\n",
    "import datetime\n",
    "\n",
    "from scipy.stats import kendalltau\n",
    "from scipy.special import comb\n",
    "import math"
   ],
   "execution_count": 2,
   "outputs": []
  },
  {
   "cell_type": "code",
   "execution_count": 3,
   "metadata": {},
   "outputs": [],
   "source": [
    "def krcc_test(x, y):\n",
    "    if len(x) == len(y):\n",
    "        n = len(x)\n",
    "\n",
    "        # default scipy is tau_b\n",
    "        krcc = kendalltau(x, y)\n",
    "        \n",
    "        # https://github.com/mmhs013/pyMannKendall this also finds the tau and mann-kendall score but it doesnt do what we want\n",
    "        \n",
    "        print(\"KRCC =\", krcc[0])\n",
    "\n",
    "        # The two-sided p-value for a hypothesis test whose null hypothesis is an absence of association, tau = 0\n",
    "        print(\"p value =\", krcc[1])\n",
    "\n",
    "    else:\n",
    "        print(\"inconsistent number of points in x and y\")"
   ]
  },
  {
   "cell_type": "code",
   "metadata": {
    "tags": [],
    "cell_id": "00002-453510b1-44bb-415b-a508-58ddd28cb40d",
    "deepnote_to_be_reexecuted": false,
    "source_hash": "c9401596",
    "execution_start": 1621972371063,
    "execution_millis": 156,
    "deepnote_cell_type": "code"
   },
   "source": [
    "# credible; makes dictionary of datasets sorted by user (credible), and dataframe of all credible tweets with username as additional column (credible_df) \n",
    "df_path = glob.glob('./HealthOrg/*.csv')\n",
    "df_ls = []\n",
    "\n",
    "for path in df_path:\n",
    "    df = pd.read_csv(path)\n",
    "    df = df[['username', 'tweet','date', 'replies_count','retweets_count','likes_count','hashtags','retweet']]\n",
    "\n",
    "    # general keywords used for dataset 4: ncov19, ncov2019, covid, rona, stayathome, socialdistancing\n",
    "    covid = df.loc[df['tweet'].str.contains('covid|coronavirus|rona|wearamask|socialdistancing|stayathome|ncov|symptomatic|covax', case=False)]\n",
    "\n",
    "    df_ls.append(covid)\n",
    "\n",
    "healthorg_df = pd.concat(df_ls, ignore_index = True)\n",
    "\n",
    "# fix dates\n",
    "\n",
    "dates = []\n",
    "for date in healthorg_df[\"date\"]:\n",
    "    test = datetime.datetime.strptime(date, \"%Y-%m-%d\")\n",
    "    dates.append(test.date())\n",
    "\n",
    "healthorg_df[\"date\"] = dates\n",
    "\n",
    "# filter for tweets in first half of 2020\n",
    "healthorg_df = healthorg_df[healthorg_df[\"date\"] >= datetime.date(2020,3,1)]\n",
    "healthorg_df = healthorg_df[healthorg_df[\"date\"] <= datetime.date(2020,5,25)]\n",
    "healthorg_df = healthorg_df.drop_duplicates(\"tweet\")\n",
    "\n",
    "df_names = []\n",
    "for line in healthorg_df[\"username\"].unique():\n",
    "    df_names.append(line)\n"
   ],
   "execution_count": 4,
   "outputs": []
  },
  {
   "cell_type": "code",
   "execution_count": 5,
   "metadata": {},
   "outputs": [
    {
     "output_type": "stream",
     "name": "stderr",
     "text": [
      "C:\\Users\\Jennifer Tramsu\\AppData\\Roaming\\Python\\Python39\\site-packages\\IPython\\core\\interactiveshell.py:3169: DtypeWarning: Columns (22) have mixed types.Specify dtype option on import or set low_memory=False.\n  has_raised = await self.run_ast_nodes(code_ast.body, cell_name,\n"
     ]
    }
   ],
   "source": [
    "# Left News Outlets\n",
    "df_path = glob.glob('./News_Outlets/Left/*.csv')\n",
    "df_ls = []\n",
    "\n",
    "for path in df_path:\n",
    "    df = pd.read_csv(path)\n",
    "    df = df[['username', 'tweet', 'date', 'replies_count','retweets_count','likes_count','hashtags','retweet']]\n",
    "\n",
    "    # general keywords used for dataset 4: ncov19, ncov2019, covid, rona, stayathome, socialdistancing\n",
    "    covid = df.loc[df['tweet'].str.contains('covid|coronavirus|rona|wearamask|socialdistancing|stayathome|ncov|symptomatic|covax', case=False)]\n",
    "    \n",
    "    df_ls.append(covid)\n",
    "\n",
    "leftnews_df = pd.concat(df_ls, ignore_index = True)\n",
    "\n",
    "dates = []\n",
    "\n",
    "for date in leftnews_df[\"date\"]:\n",
    "    test = datetime.datetime.strptime(date, \"%Y-%m-%d\")\n",
    "    dates.append(test.date())\n",
    "\n",
    "leftnews_df[\"date\"] = dates\n",
    "\n",
    "leftnews_df = leftnews_df[leftnews_df[\"date\"] <= datetime.date(2020,6,30)]\n",
    "leftnews_df = leftnews_df[leftnews_df[\"date\"] >= datetime.date(2020,3,1)]\n",
    "\n",
    "leftnews_df = leftnews_df.drop_duplicates(\"tweet\")\n",
    "\n",
    "for line in leftnews_df[\"username\"].drop_duplicates():\n",
    "    df_names.append(line)"
   ]
  },
  {
   "cell_type": "code",
   "execution_count": 8,
   "metadata": {},
   "outputs": [],
   "source": [
    "# Right News Outlets\n",
    "df_path = glob.glob('./News_Outlets/Right/*.csv')\n",
    "df_ls = []\n",
    "\n",
    "for path in df_path:\n",
    "    df = pd.read_csv(path)\n",
    "    df = df[['username', 'tweet', 'date', 'replies_count','retweets_count','likes_count','hashtags','retweet']]\n",
    "\n",
    "    # general keywords used for dataset 4: ncov19, ncov2019, covid, rona, stayathome, socialdistancing\n",
    "    covid = df.loc[df['tweet'].str.contains('covid|coronavirus|rona|wearamask|socialdistancing|stayathome|ncov|symptomatic|covax', case=False)]\n",
    "    \n",
    "    df_ls.append(covid)\n",
    "\n",
    "rightnews_df = pd.concat(df_ls, ignore_index = True)\n",
    "\n",
    "dates = []\n",
    "\n",
    "for date in rightnews_df[\"date\"]:\n",
    "    test = datetime.datetime.strptime(date, \"%Y-%m-%d\")\n",
    "    dates.append(test.date())\n",
    "\n",
    "rightnews_df[\"date\"] = dates\n",
    "\n",
    "rightnews_df = rightnews_df[rightnews_df[\"date\"] <= datetime.date(2020,6,30)]\n",
    "rightnews_df = rightnews_df[rightnews_df[\"date\"] >= datetime.date(2020,3,1)]\n",
    "\n",
    "rightnews_df = rightnews_df.drop_duplicates(\"tweet\")\n",
    "\n",
    "for line in rightnews_df[\"username\"].drop_duplicates():\n",
    "    df_names.append(line)"
   ]
  },
  {
   "cell_type": "code",
   "execution_count": 9,
   "metadata": {},
   "outputs": [],
   "source": [
    "# Right Individuals\n",
    "df_path = glob.glob('./Right/*.csv')[::2][:6]\n",
    "trump = pd.read_csv(\"./Right/trump_tweets.csv\") #https://www.kaggle.com/codebreaker619/donald-trump-tweets-dataset\n",
    "df_ls = []\n",
    "\n",
    "for path in df_path:\n",
    "    try:\n",
    "        df = pd.read_csv(path)\n",
    "        df = df[['username', 'tweet','date', 'replies_count','retweets_count','likes_count','hashtags','retweet']]\n",
    "\n",
    "    # general keywords used for dataset 4: ncov19, ncov2019, covid, rona, stayathome, socialdistancing\n",
    "        covid = df.loc[df['tweet'].str.contains('covid|coronavirus|rona|wearamask|socialdistancing|stayathome|ncov|symptomatic|covax', case=False)]\n",
    "        df_ls.append(covid)\n",
    "\n",
    "    except:\n",
    "        continue\n",
    "\n",
    "right_df = pd.concat(df_ls, ignore_index = True)\n",
    "\n",
    "dates = []\n",
    "\n",
    "for date in right_df[\"date\"]:\n",
    "    test = datetime.datetime.strptime(date, \"%Y-%m-%d\")\n",
    "    dates.append(test.date())\n",
    "\n",
    "right_df[\"date\"] = dates\n",
    "\n",
    "right_df = right_df[right_df[\"date\"] <= datetime.date(2020, 5,25)]\n",
    "right_df = right_df[right_df[\"date\"] >= datetime.date(2020,3,1)]\n",
    "right_df = right_df.drop_duplicates(\"tweet\")\n",
    "\n",
    "for line in right_df[\"username\"].drop_duplicates():\n",
    "    df_names.append(line)\n",
    "\n",
    "# rename dataset columns to match others\n",
    "trump[\"tweet\"] = trump[\"text\"]\n",
    "trump[\"retweets_count\"] = trump[\"retweets\"]\n",
    "trump[\"likes_count\"] = trump[\"favorites\"]\n",
    "trump[\"retweet\"] = trump[\"isRetweet\"]\n",
    "trump = trump[[\"tweet\", \"date\", \"retweets_count\", \"likes_count\", \"retweet\"]]\n",
    "\n",
    "#filter dates\n",
    "trump_dates = trump[\"date\"]\n",
    "trump_dates_corr = []\n",
    "trump_dates_corr = [d[:10] for d in trump_dates]\n",
    "trump_dates_corr = [datetime.datetime.strptime(d, \"%Y-%m-%d\") for d in trump_dates_corr]\n",
    "trump_dates_corr = [datetime.datetime.date(d) for d in trump_dates_corr]\n",
    "trump[\"date\"] = trump_dates_corr\n",
    "\n",
    "trump = trump[trump[\"date\"] >= datetime.date(2020, 3, 1)]\n",
    "trump = trump[trump[\"date\"] <= datetime.date(2020, 5,25)]\n",
    "\n",
    "trump = trump[trump['tweet'].str.contains('covid|coronavirus|rona|wearamask|socialdistancing|stayathome|ncov|symptomatic|covax', case=False)]\n",
    "\n",
    "right_df = pd.concat([right_df, trump])\n",
    "\n",
    "for line in right_df[\"username\"].drop_duplicates().dropna():\n",
    "    df_names.append(line)\n"
   ]
  },
  {
   "cell_type": "code",
   "execution_count": 10,
   "metadata": {},
   "outputs": [],
   "source": [
    "# Left Individuals\n",
    "\n",
    "df_path = glob.glob('./Left/*.csv')[::2][:7]\n",
    "df_ls = []\n",
    "\n",
    "for path in df_path:\n",
    "    try:\n",
    "        df = pd.read_csv(path)\n",
    "        df = df[['username', 'tweet','date', 'replies_count','retweets_count','likes_count','hashtags','retweet']]\n",
    "\n",
    "    # general keywords used for dataset 4: ncov19, ncov2019, covid, rona, stayathome, socialdistancing\n",
    "        covid = df.loc[df['tweet'].str.contains('covid|coronavirus|rona|wearamask|socialdistancing|stayathome|ncov|symptomatic|covax', case=False)]\n",
    "    \n",
    "        df_ls.append(covid)\n",
    "\n",
    "    except:\n",
    "        continue\n",
    "\n",
    "left_df = pd.concat(df_ls, ignore_index = True)\n",
    "\n",
    "dates = []\n",
    "\n",
    "for date in left_df[\"date\"]:\n",
    "    test = datetime.datetime.strptime(date, \"%Y-%m-%d\")\n",
    "    dates.append(test.date())\n",
    "\n",
    "left_df[\"date\"] = dates\n",
    "left_df = left_df[left_df[\"date\"] <= datetime.date(2020, 5,25)]\n",
    "left_df = left_df[left_df[\"date\"] >= datetime.date(2020, 3, 1)]\n",
    "left_df = left_df.drop_duplicates(\"tweet\")\n",
    "\n",
    "for line in left_df[\"username\"].drop_duplicates():\n",
    "    df_names.append(line)"
   ]
  },
  {
   "cell_type": "code",
   "execution_count": 11,
   "metadata": {},
   "outputs": [],
   "source": [
    "# Celebrities\n",
    "\n",
    "df_path = glob.glob('./Celebrities/*.csv')[::10][:7]\n",
    "df_ls = []\n",
    "\n",
    "for path in df_path:\n",
    "    try:\n",
    "        df = pd.read_csv(path)\n",
    "        df = df[['username', 'tweet','date', 'replies_count','retweets_count','likes_count','hashtags','retweet']]\n",
    "\n",
    "    # general keywords used for dataset 4: ncov19, ncov2019, covid, rona, stayathome, socialdistancing\n",
    "        covid = df.loc[df['tweet'].str.contains('covid|coronavirus|rona|wearamask|socialdistancing|stayathome|ncov|symptomatic|covax', case=False)]\n",
    "    \n",
    "        df_ls.append(covid)\n",
    "\n",
    "    except:\n",
    "        continue\n",
    "\n",
    "celeb_df = pd.concat(df_ls, ignore_index = True)\n",
    "\n",
    "dates = []\n",
    "\n",
    "for date in celeb_df[\"date\"]:\n",
    "    test = datetime.datetime.strptime(date, \"%Y-%m-%d\")\n",
    "    dates.append(test.date())\n",
    "\n",
    "celeb_df[\"date\"] = dates\n",
    "celeb_df = celeb_df[celeb_df[\"date\"] <= datetime.date(2020, 5,25)]\n",
    "celeb_df = celeb_df[celeb_df[\"date\"] >= datetime.date(2020, 3, 1)]\n",
    "celeb_df = celeb_df.drop_duplicates(\"tweet\")\n",
    "\n",
    "for line in celeb_df[\"username\"].drop_duplicates():\n",
    "    df_names.append(line)"
   ]
  },
  {
   "cell_type": "code",
   "execution_count": 12,
   "metadata": {},
   "outputs": [],
   "source": [
    "# filtering CMUID\n",
    "\n",
    "df_cmulabels = pd.read_csv(\"./fake news/CMU_MisCov19_dataset.csv\")[[\"status_id\", \"annotation1\"]]\n",
    "\n",
    "df_cmulabels = df_cmulabels[df_cmulabels[\"annotation1\"].str.contains(\"irrelevant\") == False]\n",
    "df_cmulabels = df_cmulabels[df_cmulabels[\"annotation1\"].str.contains(\"news\") == False]\n",
    "df_cmulabels = df_cmulabels[df_cmulabels[\"annotation1\"].str.contains(\"politics\") == False]\n",
    "df_cmulabels = df_cmulabels[df_cmulabels[\"annotation1\"].str.contains(\"sarcasm\") == False]\n",
    "df_cmulabels = df_cmulabels[df_cmulabels[\"annotation1\"].str.contains(\"commercial\") == False]\n",
    "\n",
    "df1 = df_cmulabels[df_cmulabels[\"annotation1\"].str.contains(\"false\") == True]\n",
    "df2 = df_cmulabels[df_cmulabels[\"annotation1\"].str.contains(\"fake\") == True]\n",
    "df3 = df_cmulabels[df_cmulabels[\"annotation1\"].str.contains(\"conspiracy\") == True]\n",
    "df4 = df_cmulabels[df_cmulabels[\"annotation1\"].str.contains(\"panic\") == True]\n",
    "\n",
    "cmu_fake = pd.concat([df1, df2, df3, df4])\n",
    "\n",
    "df5 = df_cmulabels[df_cmulabels[\"annotation1\"].str.contains(\"true\") == True]\n",
    "df6 = df_cmulabels[df_cmulabels[\"annotation1\"].str.contains(\"emergency\") == True]\n",
    "df7 = df_cmulabels[df_cmulabels[\"annotation1\"].str.contains(\"correction\") == True]\n",
    "\n",
    "cmu_real = pd.concat([df5, df6, df7])\n"
   ]
  },
  {
   "cell_type": "code",
   "execution_count": 13,
   "metadata": {},
   "outputs": [],
   "source": [
    "# filtering FakeNews\n",
    "\n",
    "df_fakenews = pd.read_csv(\"./Covid19_FakeNews_Detection-master/data/Language_CSVs/english.csv\", index_col=0)\n",
    "\n",
    "df_fakenews_f = df_fakenews[df_fakenews[\"label\"] == 0]\n",
    "df_fakenews_r = df_fakenews[df_fakenews[\"label\"] == 1]"
   ]
  },
  {
   "cell_type": "code",
   "execution_count": 14,
   "metadata": {},
   "outputs": [
    {
     "output_type": "execute_result",
     "data": {
      "text/plain": [
       "<AxesSubplot:>"
      ]
     },
     "metadata": {},
     "execution_count": 14
    },
    {
     "output_type": "display_data",
     "data": {
      "text/plain": "<Figure size 432x288 with 1 Axes>",
      "image/svg+xml": "<?xml version=\"1.0\" encoding=\"utf-8\" standalone=\"no\"?>\r\n<!DOCTYPE svg PUBLIC \"-//W3C//DTD SVG 1.1//EN\"\r\n  \"http://www.w3.org/Graphics/SVG/1.1/DTD/svg11.dtd\">\r\n<!-- Created with matplotlib (https://matplotlib.org/) -->\r\n<svg height=\"248.518125pt\" version=\"1.1\" viewBox=\"0 0 392.975078 248.518125\" width=\"392.975078pt\" xmlns=\"http://www.w3.org/2000/svg\" xmlns:xlink=\"http://www.w3.org/1999/xlink\">\r\n <metadata>\r\n  <rdf:RDF xmlns:cc=\"http://creativecommons.org/ns#\" xmlns:dc=\"http://purl.org/dc/elements/1.1/\" xmlns:rdf=\"http://www.w3.org/1999/02/22-rdf-syntax-ns#\">\r\n   <cc:Work>\r\n    <dc:type rdf:resource=\"http://purl.org/dc/dcmitype/StillImage\"/>\r\n    <dc:date>2021-05-30T14:08:38.052906</dc:date>\r\n    <dc:format>image/svg+xml</dc:format>\r\n    <dc:creator>\r\n     <cc:Agent>\r\n      <dc:title>Matplotlib v3.3.3, https://matplotlib.org/</dc:title>\r\n     </cc:Agent>\r\n    </dc:creator>\r\n   </cc:Work>\r\n  </rdf:RDF>\r\n </metadata>\r\n <defs>\r\n  <style type=\"text/css\">*{stroke-linecap:butt;stroke-linejoin:round;}</style>\r\n </defs>\r\n <g id=\"figure_1\">\r\n  <g id=\"patch_1\">\r\n   <path d=\"M 0 248.518125 \r\nL 392.975078 248.518125 \r\nL 392.975078 0 \r\nL 0 0 \r\nz\r\n\" style=\"fill:none;\"/>\r\n  </g>\r\n  <g id=\"axes_1\">\r\n   <g id=\"patch_2\">\r\n    <path d=\"M 33.2875 224.64 \r\nL 368.0875 224.64 \r\nL 368.0875 7.2 \r\nL 33.2875 7.2 \r\nz\r\n\" style=\"fill:#ffffff;\"/>\r\n   </g>\r\n   <g id=\"matplotlib.axis_1\">\r\n    <g id=\"xtick_1\">\r\n     <g id=\"line2d_1\">\r\n      <defs>\r\n       <path d=\"M 0 0 \r\nL 0 3.5 \r\n\" id=\"m92e0240555\" style=\"stroke:#000000;stroke-width:0.8;\"/>\r\n      </defs>\r\n      <g>\r\n       <use style=\"stroke:#000000;stroke-width:0.8;\" x=\"62.522428\" xlink:href=\"#m92e0240555\" y=\"224.64\"/>\r\n      </g>\r\n     </g>\r\n     <g id=\"text_1\">\r\n      <!-- 2020-02 -->\r\n      <g transform=\"translate(41.631022 239.238437)scale(0.1 -0.1)\">\r\n       <defs>\r\n        <path d=\"M 19.1875 8.296875 \r\nL 53.609375 8.296875 \r\nL 53.609375 0 \r\nL 7.328125 0 \r\nL 7.328125 8.296875 \r\nQ 12.9375 14.109375 22.625 23.890625 \r\nQ 32.328125 33.6875 34.8125 36.53125 \r\nQ 39.546875 41.84375 41.421875 45.53125 \r\nQ 43.3125 49.21875 43.3125 52.78125 \r\nQ 43.3125 58.59375 39.234375 62.25 \r\nQ 35.15625 65.921875 28.609375 65.921875 \r\nQ 23.96875 65.921875 18.8125 64.3125 \r\nQ 13.671875 62.703125 7.8125 59.421875 \r\nL 7.8125 69.390625 \r\nQ 13.765625 71.78125 18.9375 73 \r\nQ 24.125 74.21875 28.421875 74.21875 \r\nQ 39.75 74.21875 46.484375 68.546875 \r\nQ 53.21875 62.890625 53.21875 53.421875 \r\nQ 53.21875 48.921875 51.53125 44.890625 \r\nQ 49.859375 40.875 45.40625 35.40625 \r\nQ 44.1875 33.984375 37.640625 27.21875 \r\nQ 31.109375 20.453125 19.1875 8.296875 \r\nz\r\n\" id=\"DejaVuSans-50\"/>\r\n        <path d=\"M 31.78125 66.40625 \r\nQ 24.171875 66.40625 20.328125 58.90625 \r\nQ 16.5 51.421875 16.5 36.375 \r\nQ 16.5 21.390625 20.328125 13.890625 \r\nQ 24.171875 6.390625 31.78125 6.390625 \r\nQ 39.453125 6.390625 43.28125 13.890625 \r\nQ 47.125 21.390625 47.125 36.375 \r\nQ 47.125 51.421875 43.28125 58.90625 \r\nQ 39.453125 66.40625 31.78125 66.40625 \r\nz\r\nM 31.78125 74.21875 \r\nQ 44.046875 74.21875 50.515625 64.515625 \r\nQ 56.984375 54.828125 56.984375 36.375 \r\nQ 56.984375 17.96875 50.515625 8.265625 \r\nQ 44.046875 -1.421875 31.78125 -1.421875 \r\nQ 19.53125 -1.421875 13.0625 8.265625 \r\nQ 6.59375 17.96875 6.59375 36.375 \r\nQ 6.59375 54.828125 13.0625 64.515625 \r\nQ 19.53125 74.21875 31.78125 74.21875 \r\nz\r\n\" id=\"DejaVuSans-48\"/>\r\n        <path d=\"M 4.890625 31.390625 \r\nL 31.203125 31.390625 \r\nL 31.203125 23.390625 \r\nL 4.890625 23.390625 \r\nz\r\n\" id=\"DejaVuSans-45\"/>\r\n       </defs>\r\n       <use xlink:href=\"#DejaVuSans-50\"/>\r\n       <use x=\"63.623047\" xlink:href=\"#DejaVuSans-48\"/>\r\n       <use x=\"127.246094\" xlink:href=\"#DejaVuSans-50\"/>\r\n       <use x=\"190.869141\" xlink:href=\"#DejaVuSans-48\"/>\r\n       <use x=\"254.492188\" xlink:href=\"#DejaVuSans-45\"/>\r\n       <use x=\"290.576172\" xlink:href=\"#DejaVuSans-48\"/>\r\n       <use x=\"354.199219\" xlink:href=\"#DejaVuSans-50\"/>\r\n      </g>\r\n     </g>\r\n    </g>\r\n    <g id=\"xtick_2\">\r\n     <g id=\"line2d_2\">\r\n      <g>\r\n       <use style=\"stroke:#000000;stroke-width:0.8;\" x=\"120.591806\" xlink:href=\"#m92e0240555\" y=\"224.64\"/>\r\n      </g>\r\n     </g>\r\n     <g id=\"text_2\">\r\n      <!-- 2020-03 -->\r\n      <g transform=\"translate(99.7004 239.238437)scale(0.1 -0.1)\">\r\n       <defs>\r\n        <path d=\"M 40.578125 39.3125 \r\nQ 47.65625 37.796875 51.625 33 \r\nQ 55.609375 28.21875 55.609375 21.1875 \r\nQ 55.609375 10.40625 48.1875 4.484375 \r\nQ 40.765625 -1.421875 27.09375 -1.421875 \r\nQ 22.515625 -1.421875 17.65625 -0.515625 \r\nQ 12.796875 0.390625 7.625 2.203125 \r\nL 7.625 11.71875 \r\nQ 11.71875 9.328125 16.59375 8.109375 \r\nQ 21.484375 6.890625 26.8125 6.890625 \r\nQ 36.078125 6.890625 40.9375 10.546875 \r\nQ 45.796875 14.203125 45.796875 21.1875 \r\nQ 45.796875 27.640625 41.28125 31.265625 \r\nQ 36.765625 34.90625 28.71875 34.90625 \r\nL 20.21875 34.90625 \r\nL 20.21875 43.015625 \r\nL 29.109375 43.015625 \r\nQ 36.375 43.015625 40.234375 45.921875 \r\nQ 44.09375 48.828125 44.09375 54.296875 \r\nQ 44.09375 59.90625 40.109375 62.90625 \r\nQ 36.140625 65.921875 28.71875 65.921875 \r\nQ 24.65625 65.921875 20.015625 65.03125 \r\nQ 15.375 64.15625 9.8125 62.3125 \r\nL 9.8125 71.09375 \r\nQ 15.4375 72.65625 20.34375 73.4375 \r\nQ 25.25 74.21875 29.59375 74.21875 \r\nQ 40.828125 74.21875 47.359375 69.109375 \r\nQ 53.90625 64.015625 53.90625 55.328125 \r\nQ 53.90625 49.265625 50.4375 45.09375 \r\nQ 46.96875 40.921875 40.578125 39.3125 \r\nz\r\n\" id=\"DejaVuSans-51\"/>\r\n       </defs>\r\n       <use xlink:href=\"#DejaVuSans-50\"/>\r\n       <use x=\"63.623047\" xlink:href=\"#DejaVuSans-48\"/>\r\n       <use x=\"127.246094\" xlink:href=\"#DejaVuSans-50\"/>\r\n       <use x=\"190.869141\" xlink:href=\"#DejaVuSans-48\"/>\r\n       <use x=\"254.492188\" xlink:href=\"#DejaVuSans-45\"/>\r\n       <use x=\"290.576172\" xlink:href=\"#DejaVuSans-48\"/>\r\n       <use x=\"354.199219\" xlink:href=\"#DejaVuSans-51\"/>\r\n      </g>\r\n     </g>\r\n    </g>\r\n    <g id=\"xtick_3\">\r\n     <g id=\"line2d_3\">\r\n      <g>\r\n       <use style=\"stroke:#000000;stroke-width:0.8;\" x=\"182.665969\" xlink:href=\"#m92e0240555\" y=\"224.64\"/>\r\n      </g>\r\n     </g>\r\n     <g id=\"text_3\">\r\n      <!-- 2020-04 -->\r\n      <g transform=\"translate(161.774563 239.238437)scale(0.1 -0.1)\">\r\n       <defs>\r\n        <path d=\"M 37.796875 64.3125 \r\nL 12.890625 25.390625 \r\nL 37.796875 25.390625 \r\nz\r\nM 35.203125 72.90625 \r\nL 47.609375 72.90625 \r\nL 47.609375 25.390625 \r\nL 58.015625 25.390625 \r\nL 58.015625 17.1875 \r\nL 47.609375 17.1875 \r\nL 47.609375 0 \r\nL 37.796875 0 \r\nL 37.796875 17.1875 \r\nL 4.890625 17.1875 \r\nL 4.890625 26.703125 \r\nz\r\n\" id=\"DejaVuSans-52\"/>\r\n       </defs>\r\n       <use xlink:href=\"#DejaVuSans-50\"/>\r\n       <use x=\"63.623047\" xlink:href=\"#DejaVuSans-48\"/>\r\n       <use x=\"127.246094\" xlink:href=\"#DejaVuSans-50\"/>\r\n       <use x=\"190.869141\" xlink:href=\"#DejaVuSans-48\"/>\r\n       <use x=\"254.492188\" xlink:href=\"#DejaVuSans-45\"/>\r\n       <use x=\"290.576172\" xlink:href=\"#DejaVuSans-48\"/>\r\n       <use x=\"354.199219\" xlink:href=\"#DejaVuSans-52\"/>\r\n      </g>\r\n     </g>\r\n    </g>\r\n    <g id=\"xtick_4\">\r\n     <g id=\"line2d_4\">\r\n      <g>\r\n       <use style=\"stroke:#000000;stroke-width:0.8;\" x=\"242.737739\" xlink:href=\"#m92e0240555\" y=\"224.64\"/>\r\n      </g>\r\n     </g>\r\n     <g id=\"text_4\">\r\n      <!-- 2020-05 -->\r\n      <g transform=\"translate(221.846333 239.238437)scale(0.1 -0.1)\">\r\n       <defs>\r\n        <path d=\"M 10.796875 72.90625 \r\nL 49.515625 72.90625 \r\nL 49.515625 64.59375 \r\nL 19.828125 64.59375 \r\nL 19.828125 46.734375 \r\nQ 21.96875 47.46875 24.109375 47.828125 \r\nQ 26.265625 48.1875 28.421875 48.1875 \r\nQ 40.625 48.1875 47.75 41.5 \r\nQ 54.890625 34.8125 54.890625 23.390625 \r\nQ 54.890625 11.625 47.5625 5.09375 \r\nQ 40.234375 -1.421875 26.90625 -1.421875 \r\nQ 22.3125 -1.421875 17.546875 -0.640625 \r\nQ 12.796875 0.140625 7.71875 1.703125 \r\nL 7.71875 11.625 \r\nQ 12.109375 9.234375 16.796875 8.0625 \r\nQ 21.484375 6.890625 26.703125 6.890625 \r\nQ 35.15625 6.890625 40.078125 11.328125 \r\nQ 45.015625 15.765625 45.015625 23.390625 \r\nQ 45.015625 31 40.078125 35.4375 \r\nQ 35.15625 39.890625 26.703125 39.890625 \r\nQ 22.75 39.890625 18.8125 39.015625 \r\nQ 14.890625 38.140625 10.796875 36.28125 \r\nz\r\n\" id=\"DejaVuSans-53\"/>\r\n       </defs>\r\n       <use xlink:href=\"#DejaVuSans-50\"/>\r\n       <use x=\"63.623047\" xlink:href=\"#DejaVuSans-48\"/>\r\n       <use x=\"127.246094\" xlink:href=\"#DejaVuSans-50\"/>\r\n       <use x=\"190.869141\" xlink:href=\"#DejaVuSans-48\"/>\r\n       <use x=\"254.492188\" xlink:href=\"#DejaVuSans-45\"/>\r\n       <use x=\"290.576172\" xlink:href=\"#DejaVuSans-48\"/>\r\n       <use x=\"354.199219\" xlink:href=\"#DejaVuSans-53\"/>\r\n      </g>\r\n     </g>\r\n    </g>\r\n    <g id=\"xtick_5\">\r\n     <g id=\"line2d_5\">\r\n      <g>\r\n       <use style=\"stroke:#000000;stroke-width:0.8;\" x=\"304.811902\" xlink:href=\"#m92e0240555\" y=\"224.64\"/>\r\n      </g>\r\n     </g>\r\n     <g id=\"text_5\">\r\n      <!-- 2020-06 -->\r\n      <g transform=\"translate(283.920496 239.238437)scale(0.1 -0.1)\">\r\n       <defs>\r\n        <path d=\"M 33.015625 40.375 \r\nQ 26.375 40.375 22.484375 35.828125 \r\nQ 18.609375 31.296875 18.609375 23.390625 \r\nQ 18.609375 15.53125 22.484375 10.953125 \r\nQ 26.375 6.390625 33.015625 6.390625 \r\nQ 39.65625 6.390625 43.53125 10.953125 \r\nQ 47.40625 15.53125 47.40625 23.390625 \r\nQ 47.40625 31.296875 43.53125 35.828125 \r\nQ 39.65625 40.375 33.015625 40.375 \r\nz\r\nM 52.59375 71.296875 \r\nL 52.59375 62.3125 \r\nQ 48.875 64.0625 45.09375 64.984375 \r\nQ 41.3125 65.921875 37.59375 65.921875 \r\nQ 27.828125 65.921875 22.671875 59.328125 \r\nQ 17.53125 52.734375 16.796875 39.40625 \r\nQ 19.671875 43.65625 24.015625 45.921875 \r\nQ 28.375 48.1875 33.59375 48.1875 \r\nQ 44.578125 48.1875 50.953125 41.515625 \r\nQ 57.328125 34.859375 57.328125 23.390625 \r\nQ 57.328125 12.15625 50.6875 5.359375 \r\nQ 44.046875 -1.421875 33.015625 -1.421875 \r\nQ 20.359375 -1.421875 13.671875 8.265625 \r\nQ 6.984375 17.96875 6.984375 36.375 \r\nQ 6.984375 53.65625 15.1875 63.9375 \r\nQ 23.390625 74.21875 37.203125 74.21875 \r\nQ 40.921875 74.21875 44.703125 73.484375 \r\nQ 48.484375 72.75 52.59375 71.296875 \r\nz\r\n\" id=\"DejaVuSans-54\"/>\r\n       </defs>\r\n       <use xlink:href=\"#DejaVuSans-50\"/>\r\n       <use x=\"63.623047\" xlink:href=\"#DejaVuSans-48\"/>\r\n       <use x=\"127.246094\" xlink:href=\"#DejaVuSans-50\"/>\r\n       <use x=\"190.869141\" xlink:href=\"#DejaVuSans-48\"/>\r\n       <use x=\"254.492188\" xlink:href=\"#DejaVuSans-45\"/>\r\n       <use x=\"290.576172\" xlink:href=\"#DejaVuSans-48\"/>\r\n       <use x=\"354.199219\" xlink:href=\"#DejaVuSans-54\"/>\r\n      </g>\r\n     </g>\r\n    </g>\r\n    <g id=\"xtick_6\">\r\n     <g id=\"line2d_6\">\r\n      <g>\r\n       <use style=\"stroke:#000000;stroke-width:0.8;\" x=\"364.883672\" xlink:href=\"#m92e0240555\" y=\"224.64\"/>\r\n      </g>\r\n     </g>\r\n     <g id=\"text_6\">\r\n      <!-- 2020-07 -->\r\n      <g transform=\"translate(343.992266 239.238437)scale(0.1 -0.1)\">\r\n       <defs>\r\n        <path d=\"M 8.203125 72.90625 \r\nL 55.078125 72.90625 \r\nL 55.078125 68.703125 \r\nL 28.609375 0 \r\nL 18.3125 0 \r\nL 43.21875 64.59375 \r\nL 8.203125 64.59375 \r\nz\r\n\" id=\"DejaVuSans-55\"/>\r\n       </defs>\r\n       <use xlink:href=\"#DejaVuSans-50\"/>\r\n       <use x=\"63.623047\" xlink:href=\"#DejaVuSans-48\"/>\r\n       <use x=\"127.246094\" xlink:href=\"#DejaVuSans-50\"/>\r\n       <use x=\"190.869141\" xlink:href=\"#DejaVuSans-48\"/>\r\n       <use x=\"254.492188\" xlink:href=\"#DejaVuSans-45\"/>\r\n       <use x=\"290.576172\" xlink:href=\"#DejaVuSans-48\"/>\r\n       <use x=\"354.199219\" xlink:href=\"#DejaVuSans-55\"/>\r\n      </g>\r\n     </g>\r\n    </g>\r\n   </g>\r\n   <g id=\"matplotlib.axis_2\">\r\n    <g id=\"ytick_1\">\r\n     <g id=\"line2d_7\">\r\n      <defs>\r\n       <path d=\"M 0 0 \r\nL -3.5 0 \r\n\" id=\"m16ff65b360\" style=\"stroke:#000000;stroke-width:0.8;\"/>\r\n      </defs>\r\n      <g>\r\n       <use style=\"stroke:#000000;stroke-width:0.8;\" x=\"33.2875\" xlink:href=\"#m16ff65b360\" y=\"215.926025\"/>\r\n      </g>\r\n     </g>\r\n     <g id=\"text_7\">\r\n      <!-- 0 -->\r\n      <g transform=\"translate(19.925 219.725243)scale(0.1 -0.1)\">\r\n       <use xlink:href=\"#DejaVuSans-48\"/>\r\n      </g>\r\n     </g>\r\n    </g>\r\n    <g id=\"ytick_2\">\r\n     <g id=\"line2d_8\">\r\n      <g>\r\n       <use style=\"stroke:#000000;stroke-width:0.8;\" x=\"33.2875\" xlink:href=\"#m16ff65b360\" y=\"186.684497\"/>\r\n      </g>\r\n     </g>\r\n     <g id=\"text_8\">\r\n      <!-- 25 -->\r\n      <g transform=\"translate(13.5625 190.483716)scale(0.1 -0.1)\">\r\n       <use xlink:href=\"#DejaVuSans-50\"/>\r\n       <use x=\"63.623047\" xlink:href=\"#DejaVuSans-53\"/>\r\n      </g>\r\n     </g>\r\n    </g>\r\n    <g id=\"ytick_3\">\r\n     <g id=\"line2d_9\">\r\n      <g>\r\n       <use style=\"stroke:#000000;stroke-width:0.8;\" x=\"33.2875\" xlink:href=\"#m16ff65b360\" y=\"157.442969\"/>\r\n      </g>\r\n     </g>\r\n     <g id=\"text_9\">\r\n      <!-- 50 -->\r\n      <g transform=\"translate(13.5625 161.242188)scale(0.1 -0.1)\">\r\n       <use xlink:href=\"#DejaVuSans-53\"/>\r\n       <use x=\"63.623047\" xlink:href=\"#DejaVuSans-48\"/>\r\n      </g>\r\n     </g>\r\n    </g>\r\n    <g id=\"ytick_4\">\r\n     <g id=\"line2d_10\">\r\n      <g>\r\n       <use style=\"stroke:#000000;stroke-width:0.8;\" x=\"33.2875\" xlink:href=\"#m16ff65b360\" y=\"128.201442\"/>\r\n      </g>\r\n     </g>\r\n     <g id=\"text_10\">\r\n      <!-- 75 -->\r\n      <g transform=\"translate(13.5625 132.00066)scale(0.1 -0.1)\">\r\n       <use xlink:href=\"#DejaVuSans-55\"/>\r\n       <use x=\"63.623047\" xlink:href=\"#DejaVuSans-53\"/>\r\n      </g>\r\n     </g>\r\n    </g>\r\n    <g id=\"ytick_5\">\r\n     <g id=\"line2d_11\">\r\n      <g>\r\n       <use style=\"stroke:#000000;stroke-width:0.8;\" x=\"33.2875\" xlink:href=\"#m16ff65b360\" y=\"98.959914\"/>\r\n      </g>\r\n     </g>\r\n     <g id=\"text_11\">\r\n      <!-- 100 -->\r\n      <g transform=\"translate(7.2 102.759133)scale(0.1 -0.1)\">\r\n       <defs>\r\n        <path d=\"M 12.40625 8.296875 \r\nL 28.515625 8.296875 \r\nL 28.515625 63.921875 \r\nL 10.984375 60.40625 \r\nL 10.984375 69.390625 \r\nL 28.421875 72.90625 \r\nL 38.28125 72.90625 \r\nL 38.28125 8.296875 \r\nL 54.390625 8.296875 \r\nL 54.390625 0 \r\nL 12.40625 0 \r\nz\r\n\" id=\"DejaVuSans-49\"/>\r\n       </defs>\r\n       <use xlink:href=\"#DejaVuSans-49\"/>\r\n       <use x=\"63.623047\" xlink:href=\"#DejaVuSans-48\"/>\r\n       <use x=\"127.246094\" xlink:href=\"#DejaVuSans-48\"/>\r\n      </g>\r\n     </g>\r\n    </g>\r\n    <g id=\"ytick_6\">\r\n     <g id=\"line2d_12\">\r\n      <g>\r\n       <use style=\"stroke:#000000;stroke-width:0.8;\" x=\"33.2875\" xlink:href=\"#m16ff65b360\" y=\"69.718386\"/>\r\n      </g>\r\n     </g>\r\n     <g id=\"text_12\">\r\n      <!-- 125 -->\r\n      <g transform=\"translate(7.2 73.517605)scale(0.1 -0.1)\">\r\n       <use xlink:href=\"#DejaVuSans-49\"/>\r\n       <use x=\"63.623047\" xlink:href=\"#DejaVuSans-50\"/>\r\n       <use x=\"127.246094\" xlink:href=\"#DejaVuSans-53\"/>\r\n      </g>\r\n     </g>\r\n    </g>\r\n    <g id=\"ytick_7\">\r\n     <g id=\"line2d_13\">\r\n      <g>\r\n       <use style=\"stroke:#000000;stroke-width:0.8;\" x=\"33.2875\" xlink:href=\"#m16ff65b360\" y=\"40.476859\"/>\r\n      </g>\r\n     </g>\r\n     <g id=\"text_13\">\r\n      <!-- 150 -->\r\n      <g transform=\"translate(7.2 44.276077)scale(0.1 -0.1)\">\r\n       <use xlink:href=\"#DejaVuSans-49\"/>\r\n       <use x=\"63.623047\" xlink:href=\"#DejaVuSans-53\"/>\r\n       <use x=\"127.246094\" xlink:href=\"#DejaVuSans-48\"/>\r\n      </g>\r\n     </g>\r\n    </g>\r\n    <g id=\"ytick_8\">\r\n     <g id=\"line2d_14\">\r\n      <g>\r\n       <use style=\"stroke:#000000;stroke-width:0.8;\" x=\"33.2875\" xlink:href=\"#m16ff65b360\" y=\"11.235331\"/>\r\n      </g>\r\n     </g>\r\n     <g id=\"text_14\">\r\n      <!-- 175 -->\r\n      <g transform=\"translate(7.2 15.03455)scale(0.1 -0.1)\">\r\n       <use xlink:href=\"#DejaVuSans-49\"/>\r\n       <use x=\"63.623047\" xlink:href=\"#DejaVuSans-55\"/>\r\n       <use x=\"127.246094\" xlink:href=\"#DejaVuSans-53\"/>\r\n      </g>\r\n     </g>\r\n    </g>\r\n   </g>\r\n   <g id=\"line2d_15\">\r\n    <path clip-path=\"url(#p0737461240)\" d=\"M 48.505682 174.987886 \r\nL 50.508074 213.586703 \r\nL 52.510467 211.24738 \r\nL 54.512859 144.576697 \r\nL 56.515251 182.005853 \r\nL 58.517644 205.399075 \r\nL 60.520036 164.460936 \r\nL 62.522428 69.718386 \r\nL 64.524821 17.083636 \r\nL 66.527213 58.021775 \r\nL 68.529605 39.307197 \r\nL 70.531998 180.836192 \r\nL 120.591806 162.121614 \r\nL 124.596591 163.291275 \r\nL 126.598983 165.630597 \r\nL 128.601376 200.72043 \r\nL 132.60616 184.345175 \r\nL 134.608553 177.327208 \r\nL 136.610945 210.077719 \r\nL 138.613337 193.702464 \r\nL 140.61573 198.381108 \r\nL 142.618122 210.077719 \r\nL 144.620514 212.417041 \r\nL 146.622907 193.702464 \r\nL 148.625299 213.586703 \r\nL 150.627691 206.568736 \r\nL 152.630084 212.417041 \r\nL 154.632476 211.24738 \r\nL 156.634868 203.059753 \r\nL 158.637261 211.24738 \r\nL 162.642045 212.417041 \r\nL 164.644438 211.24738 \r\nL 166.64683 199.550769 \r\nL 168.649222 212.417041 \r\nL 170.651615 211.24738 \r\nL 172.654007 203.059753 \r\nL 174.6564 208.908058 \r\nL 176.658792 208.908058 \r\nL 180.663577 200.72043 \r\nL 182.665969 212.417041 \r\nL 188.673146 213.586703 \r\nL 194.680323 206.568736 \r\nL 196.682715 206.568736 \r\nL 200.6875 211.24738 \r\nL 202.689892 211.24738 \r\nL 210.699462 211.24738 \r\nL 216.706639 213.586703 \r\nL 218.709031 210.077719 \r\nL 224.716208 211.24738 \r\nL 226.7186 199.550769 \r\nL 228.720993 207.738397 \r\nL 230.723385 206.568736 \r\nL 236.730562 210.077719 \r\nL 238.732955 208.908058 \r\nL 240.735347 187.854158 \r\nL 306.814294 214.756364 \r\nL 308.816687 212.417041 \r\nL 312.821471 204.229414 \r\nL 316.826256 211.24738 \r\nL 320.831041 197.211447 \r\nL 324.835825 214.756364 \r\nL 328.84061 213.586703 \r\nL 330.843002 164.460936 \r\nL 332.845395 203.059753 \r\nL 338.852572 214.756364 \r\nL 340.854964 205.399075 \r\nL 342.857356 204.229414 \r\nL 344.859749 201.890091 \r\nL 348.864533 206.568736 \r\nL 350.866926 194.872125 \r\nL 352.869318 199.550769 \r\n\" style=\"fill:none;stroke:#1f77b4;stroke-linecap:square;stroke-width:1.5;\"/>\r\n   </g>\r\n   <g id=\"patch_3\">\r\n    <path d=\"M 33.2875 224.64 \r\nL 33.2875 7.2 \r\n\" style=\"fill:none;stroke:#000000;stroke-linecap:square;stroke-linejoin:miter;stroke-width:0.8;\"/>\r\n   </g>\r\n   <g id=\"patch_4\">\r\n    <path d=\"M 368.0875 224.64 \r\nL 368.0875 7.2 \r\n\" style=\"fill:none;stroke:#000000;stroke-linecap:square;stroke-linejoin:miter;stroke-width:0.8;\"/>\r\n   </g>\r\n   <g id=\"patch_5\">\r\n    <path d=\"M 33.2875 224.64 \r\nL 368.0875 224.64 \r\n\" style=\"fill:none;stroke:#000000;stroke-linecap:square;stroke-linejoin:miter;stroke-width:0.8;\"/>\r\n   </g>\r\n   <g id=\"patch_6\">\r\n    <path d=\"M 33.2875 7.2 \r\nL 368.0875 7.2 \r\n\" style=\"fill:none;stroke:#000000;stroke-linecap:square;stroke-linejoin:miter;stroke-width:0.8;\"/>\r\n   </g>\r\n  </g>\r\n </g>\r\n <defs>\r\n  <clipPath id=\"p0737461240\">\r\n   <rect height=\"217.44\" width=\"334.8\" x=\"33.2875\" y=\"7.2\"/>\r\n  </clipPath>\r\n </defs>\r\n</svg>\r\n",
      "image/png": "[encoded data removed]"
     },
     "metadata": {
      "needs_background": "light"
     }
    }
   ],
   "source": [
    "# fake news\n",
    "\n",
    "CMU_fake = pd.read_csv(\"./fake news/cmu_fake_hydrated.csv\", index_col=0)\n",
    "detection_fake = pd.read_csv(\"./Covid19_FakeNews_Detection-master/detection_fake.csv\")\n",
    "#covidFake = pd.read_csv(\"./fake news/covidFakesID_reformatted.csv\", index_col=0)\n",
    "misinformation = pd.read_csv(\"./fake news/Misinformation_hydrated.csv\", index_col=0)\n",
    "fakeTweets = pd.read_csv(\"./Cross-SEAN Dataset/Fake_Tweets.csv\", index_col=0) # add if want to include first two spikes, otherwise comment out and take out of list\n",
    "\n",
    "fake = [CMU_fake, detection_fake, misinformation, fakeTweets]\n",
    "\n",
    "dfs = pd.concat(fake)\n",
    "\n",
    "dfs = dfs[[\"user_name\", \"user_screen_name\", \"text\", \"created_at\", \"retweet_count\", \"favorite_count\", \"hashtags\", \"user_followers_count\", \"user_verified\"]]\n",
    "\n",
    "fake_dfs = dfs\n",
    "\n",
    "# fake_dfs = pd.concat([fake_dfs, dfs])\n",
    "\n",
    "# fix date\n",
    "\n",
    "dates = fake_dfs[\"created_at\"]\n",
    "dates = [date[4:10] + \" \" + date[-4:] for date in dates]\n",
    "\n",
    "for i in range(len(dates)):\n",
    "    test = datetime.datetime.strptime(dates[i], \"%b %d %Y\")\n",
    "    dates[i] = test.date()\n",
    "\n",
    "# reassigned back to df\n",
    "\n",
    "fake_dfs[\"date\"] = dates\n",
    "fake_dfs = fake_dfs.drop(\"created_at\", axis=1)\n",
    "\n",
    "fake_dfs = fake_dfs[fake_dfs[\"date\"] >= datetime.date(2020, 3, 1)]\n",
    "fake_dfs = fake_dfs[fake_dfs[\"date\"] <= datetime.date(2020,5,25)]\n",
    "fake_dfs = fake_dfs.drop_duplicates(\"text\")\n",
    "\n",
    "for name in df_names: # removing overlap between groups\n",
    "    fake_dfs = fake_dfs[fake_dfs[\"user_screen_name\"].str.lower().str.contains(name) == False]\n",
    "\n",
    "temp = fakeTweets[\"created_at\"]\n",
    "temp = [date[4:10] + \" \" + date[-4:] for date in temp]\n",
    "\n",
    "for i in range(len(temp)):\n",
    "    test = datetime.datetime.strptime(temp[i], \"%b %d %Y\")\n",
    "    temp[i] = test.date()\n",
    "\n",
    "fakeTweets[\"date\"] = temp\n",
    "fakeTweets[\"date\"].value_counts().plot()"
   ]
  },
  {
   "cell_type": "code",
   "execution_count": 15,
   "metadata": {},
   "outputs": [],
   "source": [
    "# real tweets\n",
    "\n",
    "CMU_real = pd.read_csv(\"./fake news/cmu_real_hydrated.csv\", index_col=0)\n",
    "realTweets = pd.read_csv(\"./Cross-SEAN Dataset/Real_Tweets.csv\", index_col=0)\n",
    "detection_real = pd.read_csv(\"./Covid19_FakeNews_Detection-master/detection_real.csv\")\n",
    "\n",
    "real_dfs = pd.concat([realTweets, CMU_real, detection_real])\n",
    "\n",
    "real_dfs = real_dfs[[\"user_name\", \"user_screen_name\", \"text\", \"created_at\", \"retweet_count\", \"favorite_count\", \"hashtags\", \"user_followers_count\", \"user_verified\"]]\n",
    "\n",
    "# fix date\n",
    "dates = real_dfs[\"created_at\"]\n",
    "dates = [date[4:10] + \" \" + date[-4:] for date in dates]\n",
    "\n",
    "for i in range(len(dates)):\n",
    "    test = datetime.datetime.strptime(dates[i], \"%b %d %Y\")\n",
    "    dates[i] = test.date()\n",
    "\n",
    "# reassigned back to df\n",
    "real_dfs[\"date\"] = dates\n",
    "real_dfs = real_dfs[real_dfs[\"date\"] >= datetime.date(2020, 3, 1)]\n",
    "real_dfs = real_dfs[real_dfs[\"date\"] <= datetime.date(2020,5,25)]\n",
    "real_dfs = real_dfs.drop(\"created_at\", axis=1)\n",
    "real_dfs = real_dfs.drop_duplicates(\"text\")\n",
    "\n",
    "for name in df_names: # removing overlap between groups\n",
    "    real_dfs = real_dfs[real_dfs[\"user_screen_name\"].str.lower().str.contains(name) == False]\n"
   ]
  },
  {
   "cell_type": "code",
   "execution_count": 27,
   "metadata": {},
   "outputs": [],
   "source": [
    "# 1-Day Bin\n",
    "\n",
    "healthorg_dates = healthorg_df.sort_values(\"date\", ascending=True)[\"date\"].value_counts()\n",
    "right_dates = right_df.sort_values(\"date\", ascending=True)[\"date\"].value_counts()\n",
    "left_dates = left_df.sort_values(\"date\", ascending=True)[\"date\"].value_counts()\n",
    "rightnews_dates = rightnews_df.sort_values(\"date\", ascending=True)[\"date\"].value_counts()\n",
    "leftnews_dates = leftnews_df.sort_values(\"date\", ascending=True)[\"date\"].value_counts()\n",
    "eleb_dates = celeb_df.sort_values(\"date\", ascending=True)[\"date\"].value_counts()\n",
    "\n",
    "fake_tweets = fake_dfs.sort_values(\"date\", ascending=True)[\"date\"].value_counts()\n",
    "real_tweets = real_dfs.sort_values(\"date\", ascending=True)[\"date\"].value_counts()\n"
   ]
  },
  {
   "cell_type": "code",
   "execution_count": 28,
   "metadata": {},
   "outputs": [],
   "source": [
    "# 3-Day Bins\n",
    "\n",
    "healthorg_df[\"date\"] = pd.to_datetime(healthorg_df[\"date\"])\n",
    "right_df[\"date\"] = pd.to_datetime(right_df[\"date\"])\n",
    "left_df[\"date\"] = pd.to_datetime(left_df[\"date\"])\n",
    "rightnews_df[\"date\"] = pd.to_datetime(rightnews_df[\"date\"])\n",
    "leftnews_df[\"date\"] = pd.to_datetime(leftnews_df[\"date\"])\n",
    "celeb_df[\"date\"] = pd.to_datetime(celeb_df[\"date\"])\n",
    "real_dfs[\"date\"] = pd.to_datetime(real_dfs[\"date\"])\n",
    "fake_dfs[\"date\"] = pd.to_datetime(fake_dfs[\"date\"])\n",
    "\n",
    "health_bins = pd.Series(index=healthorg_df.date, data=np.array(healthorg_dates.count)).resample('3D').count()\n",
    "right_bins = pd.Series(index=right_df.date, data=np.array(right_df.count)).resample('3D').count()\n",
    "left_bins = pd.Series(index=left_df.date, data=np.array(left_df.count)).resample('3D').count()\n",
    "rightnews_bins = pd.Series(index=rightnews_df.date, data=np.array(rightnews_df.count)).resample('3D').count()\n",
    "leftnews_bins = pd.Series(index=leftnews_df.date, data=np.array(leftnews_df.count)).resample('3D').count()\n",
    "celeb_bins = pd.Series(index=celeb_df.date, data=np.array(celeb_df.count)).resample('3D').count()\n",
    "real_bins = pd.Series(index=real_dfs.date, data=np.array(real_dfs.count)).resample('3D').count()\n",
    "fake_bins = pd.Series(index=fake_dfs.date, data=np.array(fake_dfs.count)).resample('3D').count()\n"
   ]
  },
  {
   "cell_type": "code",
   "execution_count": 38,
   "metadata": {},
   "outputs": [
    {
     "output_type": "stream",
     "name": "stdout",
     "text": [
      "HealthOrg Tweets: \t86\nLeft Tweets: \t86\nRight Tweets: \t86\nCeleb Tweets: \t81\nLeft News Outlet Tweets: \t122\nRight News Outlet Tweets: \t122\nFake Tweets:\t\t86\nReal Tweets:\t\t86\n\n"
     ]
    }
   ],
   "source": [
    "print(\"HealthOrg Tweets: \\t{}\\nLeft Tweets: \\t{}\\nRight Tweets: \\t{}\\nCeleb Tweets: \\t{}\\nLeft News Outlet Tweets: \\t{}\\nRight News Outlet Tweets: \\t{}\\nFake Tweets:\\t\\t{}\\nReal Tweets:\\t\\t{}\\n\".format(len(health_bins), len(left_bins), len(right_bins), len(celeb_bins), len(leftnews_bins), len(rightnews_bins), len(fake_bins), len(real_bins)))\n"
   ]
  },
  {
   "cell_type": "code",
   "execution_count": 30,
   "metadata": {},
   "outputs": [
    {
     "output_type": "stream",
     "name": "stdout",
     "text": [
      "real and health\nKRCC = 0.03970235548035083\np value = 0.763810605835433\nreal and left\nKRCC = 0.3383126446713963\np value = 0.010619335609451887\nreal and right\nKRCC = 0.22279260744709262\np value = 0.09415523119502782\nreal and celeb\nKRCC = -0.30023903972197763\np value = 0.05250107801833848\nreal and news\n"
     ]
    },
    {
     "output_type": "error",
     "ename": "NameError",
     "evalue": "name 'news_bins' is not defined",
     "traceback": [
      "\u001b[1;31m---------------------------------------------------------------------------\u001b[0m",
      "\u001b[1;31mNameError\u001b[0m                                 Traceback (most recent call last)",
      "\u001b[1;32m<ipython-input-30-08c833e25bd8>\u001b[0m in \u001b[0;36m<module>\u001b[1;34m\u001b[0m\n\u001b[0;32m     10\u001b[0m \u001b[0mkrcc_test\u001b[0m\u001b[1;33m(\u001b[0m\u001b[0mreal_bins\u001b[0m\u001b[1;33m[\u001b[0m\u001b[1;36m2\u001b[0m\u001b[1;33m:\u001b[0m\u001b[1;33m]\u001b[0m\u001b[1;33m,\u001b[0m \u001b[0mceleb_bins\u001b[0m\u001b[1;33m)\u001b[0m\u001b[1;33m\u001b[0m\u001b[1;33m\u001b[0m\u001b[0m\n\u001b[0;32m     11\u001b[0m \u001b[0mprint\u001b[0m\u001b[1;33m(\u001b[0m\u001b[1;34m\"real and news\"\u001b[0m\u001b[1;33m)\u001b[0m\u001b[1;33m\u001b[0m\u001b[1;33m\u001b[0m\u001b[0m\n\u001b[1;32m---> 12\u001b[1;33m \u001b[0mkrcc_test\u001b[0m\u001b[1;33m(\u001b[0m\u001b[0mreal_bins\u001b[0m\u001b[1;33m,\u001b[0m \u001b[0mnews_bins\u001b[0m\u001b[1;33m)\u001b[0m\u001b[1;33m\u001b[0m\u001b[1;33m\u001b[0m\u001b[0m\n\u001b[0m",
      "\u001b[1;31mNameError\u001b[0m: name 'news_bins' is not defined"
     ]
    }
   ],
   "source": [
    "# only look at similar dates... so length is the same, need to find a better way\n",
    "\n",
    "print(\"real and health\")\n",
    "krcc_test(real_bins, health_bins)\n",
    "print(\"real and left\")\n",
    "krcc_test(real_bins, left_bins)\n",
    "print(\"real and right\")\n",
    "krcc_test(real_bins, right_bins)\n",
    "print(\"real and celeb\")\n",
    "krcc_test(real_bins[2:], celeb_bins)\n",
    "print(\"real and news\")\n",
    "krcc_test(real_bins, news_bins)\n"
   ]
  },
  {
   "cell_type": "code",
   "execution_count": 31,
   "metadata": {},
   "outputs": [
    {
     "output_type": "stream",
     "name": "stdout",
     "text": [
      "KRCC = -0.0570016330285879\np value = 0.6658392170075844\nfake and left\nKRCC = 0.2708126772749745\np value = 0.040620119265730024\nfake and right\nKRCC = 0.3750293003086746\np value = 0.004792619346392512\nfake and celeb\ninconsistent number of points in x and y\nfake and news\n"
     ]
    },
    {
     "output_type": "error",
     "ename": "NameError",
     "evalue": "name 'news_bins' is not defined",
     "traceback": [
      "\u001b[1;31m---------------------------------------------------------------------------\u001b[0m",
      "\u001b[1;31mNameError\u001b[0m                                 Traceback (most recent call last)",
      "\u001b[1;32m<ipython-input-31-2ecdbee1025c>\u001b[0m in \u001b[0;36m<module>\u001b[1;34m\u001b[0m\n\u001b[0;32m      8\u001b[0m \u001b[0mkrcc_test\u001b[0m\u001b[1;33m(\u001b[0m\u001b[0mfake_bins\u001b[0m\u001b[1;33m,\u001b[0m \u001b[0mceleb_bins\u001b[0m\u001b[1;33m)\u001b[0m\u001b[1;33m\u001b[0m\u001b[1;33m\u001b[0m\u001b[0m\n\u001b[0;32m      9\u001b[0m \u001b[0mprint\u001b[0m\u001b[1;33m(\u001b[0m\u001b[1;34m\"fake and news\"\u001b[0m\u001b[1;33m)\u001b[0m\u001b[1;33m\u001b[0m\u001b[1;33m\u001b[0m\u001b[0m\n\u001b[1;32m---> 10\u001b[1;33m \u001b[0mkrcc_test\u001b[0m\u001b[1;33m(\u001b[0m\u001b[0mfake_bins\u001b[0m\u001b[1;33m,\u001b[0m \u001b[0mnews_bins\u001b[0m\u001b[1;33m)\u001b[0m\u001b[1;33m\u001b[0m\u001b[1;33m\u001b[0m\u001b[0m\n\u001b[0m",
      "\u001b[1;31mNameError\u001b[0m: name 'news_bins' is not defined"
     ]
    }
   ],
   "source": [
    "# print(\"fake and health\")\n",
    "krcc_test(fake_bins, health_bins)\n",
    "print(\"fake and left\")\n",
    "krcc_test(fake_bins, left_bins)\n",
    "print(\"fake and right\")\n",
    "krcc_test(fake_bins, right_bins)\n",
    "print(\"fake and celeb\")\n",
    "krcc_test(fake_bins, celeb_bins)\n",
    "print(\"fake and news\")\n",
    "krcc_test(fake_bins, news_bins)"
   ]
  },
  {
   "cell_type": "code",
   "execution_count": null,
   "metadata": {},
   "outputs": [],
   "source": [
    "# bin using 7 days\n",
    "health_bins = pd.Series(index=healthorg_df.date, data=np.array(healthorg_dates.count)).resample('7D').count()\n",
    "right_bins = pd.Series(index=right_df.date, data=np.array(right_df.count)).resample('7D').count()\n",
    "left_bins = pd.Series(index=left_df.date, data=np.array(left_df.count)).resample('7D').count()\n",
    "rightnews_bins = pd.Series(index=rightnews_df.date, data=np.array(rightnews_df.count)).resample('7D').count()\n",
    "leftnews_bins = pd.Series(index=leftnews_df.date, data=np.array(leftnews_df.count)).resample('7D').count()\n",
    "celeb_bins = pd.Series(index=celeb_df.date, data=np.array(celeb_df.count)).resample('7D').count()\n",
    "real_bins = pd.Series(index=real_dfs.date, data=np.array(real_dfs.count)).resample('7D').count()\n",
    "fake_bins = pd.Series(index=fake_dfs.date, data=np.array(fake_dfs.count)).resample('7D').count()\n",
    "\n",
    "fig, axes = plt.subplots(7, 1, figsize=[30, 20], sharex=True)\n",
    "\n",
    "print(\"HealthOrg Tweets: \\t{}\\nLeft Tweets: \\t{}\\nRight Tweets: \\t{}\\nCeleb Tweets: \\t{}\\nLeft News Outlet Tweets: \\t{}\\Right News Outlet Tweets: \\t{}\\nFake Tweets:\\t\\t{}\\nReal Tweets:\\t\\t{}\\n\".format(len(health_bins), len(left_bins), len(right_bins), len(celeb_bins), len(leftnews_bins), len(rightnews_bins), len(fake_bins), len(real_bins)))"
   ]
  },
  {
   "cell_type": "code",
   "execution_count": null,
   "metadata": {},
   "outputs": [],
   "source": [
    "print(\"real and health\")\n",
    "krcc_test(real_bins, health_bins)\n",
    "print(\"real and left\")\n",
    "krcc_test(real_bins, left_bins)\n",
    "print(\"real and right\")\n",
    "krcc_test(real_bins, right_bins)\n",
    "print(\"real and celeb\")\n",
    "krcc_test(real_bins, celeb_bins)\n",
    "print(\"real and news\")\n",
    "krcc_test(real_bins, news_bins)\n"
   ]
  },
  {
   "cell_type": "code",
   "execution_count": null,
   "metadata": {},
   "outputs": [],
   "source": [
    "krcc_test(fake_bins, health_bins)\n",
    "print(\"fake and left\")\n",
    "krcc_test(fake_bins, left_bins)\n",
    "print(\"fake and right\")\n",
    "krcc_test(fake_bins, right_bins)\n",
    "print(\"fake and celeb\")\n",
    "krcc_test(fake_bins, celeb_bins)\n",
    "print(\"fake and news\")\n",
    "krcc_test(fake_bins, news_bins)"
   ]
  },
  {
   "cell_type": "code",
   "execution_count": null,
   "metadata": {},
   "outputs": [],
   "source": [
    "# bin using 2 days\n",
    "health_bins = pd.Series(index=healthorg_df.date, data=np.array(healthorg_dates.count)).resample('1D').count()\n",
    "right_bins = pd.Series(index=right_df.date, data=np.array(right_df.count)).resample('1D').count()\n",
    "left_bins = pd.Series(index=left_df.date, data=np.array(left_df.count)).resample('1D').count()\n",
    "rightnews_bins = pd.Series(index=rightnews_df.date, data=np.array(rightnews_df.count)).resample('1D').count()\n",
    "leftnews_bins = pd.Series(index=leftnews_df.date, data=np.array(leftnews_df.count)).resample('1D').count()\n",
    "celeb_bins = pd.Series(index=celeb_df.date, data=np.array(celeb_df.count)).resample('1D').count()\n",
    "real_bins = pd.Series(index=real_dfs.date, data=np.array(real_dfs.count)).resample('1D').count()\n",
    "fake_bins = pd.Series(index=fake_dfs.date, data=np.array(fake_dfs.count)).resample('1D').count()\n",
    "\n",
    "print(\"HealthOrg Tweets: \\t{}\\nLeft Tweets: \\t{}\\nRight Tweets: \\t{}\\nCeleb Tweets: \\t{}\\nLeft News Outlet Tweets: \\t{}\\Right News Outlet Tweets: \\t{}\\nFake Tweets:\\t\\t{}\\nReal Tweets:\\t\\t{}\\n\".format(len(health_bins), len(left_bins), len(right_bins), len(celeb_bins), len(leftnews_bins), len(rightnews_bins), len(fake_bins), len(real_bins)))"
   ]
  },
  {
   "cell_type": "code",
   "execution_count": null,
   "metadata": {},
   "outputs": [],
   "source": [
    "print(\"real and health\")\n",
    "krcc_test(real_bins, health_bins)\n",
    "print(\"real and left\")\n",
    "krcc_test(real_bins, left_bins)\n",
    "print(\"real and right\")\n",
    "krcc_test(real_bins, right_bins)\n",
    "print(\"real and celeb\")\n",
    "krcc_test(real_bins[1:], celeb_bins)\n",
    "print(\"real and news\")\n",
    "krcc_test(real_bins, news_bins)"
   ]
  },
  {
   "cell_type": "code",
   "execution_count": 37,
   "metadata": {},
   "outputs": [
    {
     "output_type": "stream",
     "name": "stdout",
     "text": [
      "KRCC = -0.046753488814486245\np value = 0.532585362925611\nfake and left\nKRCC = 0.15869017654875472\np value = 0.035546274982081065\nfake and right\nKRCC = 0.27375448417835885\np value = 0.0003722783954734124\nfake and celeb\ninconsistent number of points in x and y\nfake and news\n"
     ]
    },
    {
     "output_type": "error",
     "ename": "NameError",
     "evalue": "name 'news_bins' is not defined",
     "traceback": [
      "\u001b[1;31m---------------------------------------------------------------------------\u001b[0m",
      "\u001b[1;31mNameError\u001b[0m                                 Traceback (most recent call last)",
      "\u001b[1;32m<ipython-input-37-13701aa6d6ab>\u001b[0m in \u001b[0;36m<module>\u001b[1;34m\u001b[0m\n\u001b[0;32m      7\u001b[0m \u001b[0mkrcc_test\u001b[0m\u001b[1;33m(\u001b[0m\u001b[0mfake_bins\u001b[0m\u001b[1;33m[\u001b[0m\u001b[1;36m1\u001b[0m\u001b[1;33m:\u001b[0m\u001b[1;33m]\u001b[0m\u001b[1;33m,\u001b[0m \u001b[0mceleb_bins\u001b[0m\u001b[1;33m)\u001b[0m\u001b[1;33m\u001b[0m\u001b[1;33m\u001b[0m\u001b[0m\n\u001b[0;32m      8\u001b[0m \u001b[0mprint\u001b[0m\u001b[1;33m(\u001b[0m\u001b[1;34m\"fake and news\"\u001b[0m\u001b[1;33m)\u001b[0m\u001b[1;33m\u001b[0m\u001b[1;33m\u001b[0m\u001b[0m\n\u001b[1;32m----> 9\u001b[1;33m \u001b[0mkrcc_test\u001b[0m\u001b[1;33m(\u001b[0m\u001b[0mfake_bins\u001b[0m\u001b[1;33m,\u001b[0m \u001b[0mnews_bins\u001b[0m\u001b[1;33m)\u001b[0m\u001b[1;33m\u001b[0m\u001b[1;33m\u001b[0m\u001b[0m\n\u001b[0m",
      "\u001b[1;31mNameError\u001b[0m: name 'news_bins' is not defined"
     ]
    }
   ],
   "source": [
    "krcc_test(fake_bins, health_bins)\n",
    "print(\"fake and left\")\n",
    "krcc_test(fake_bins, left_bins)\n",
    "print(\"fake and right\")\n",
    "krcc_test(fake_bins, right_bins)\n",
    "print(\"fake and celeb\")\n",
    "krcc_test(fake_bins[1:], celeb_bins)\n",
    "print(\"fake and news\")\n",
    "krcc_test(fake_bins, news_bins)"
   ]
  },
  {
   "cell_type": "code",
   "execution_count": null,
   "metadata": {},
   "outputs": [],
   "source": []
  }
 ],
 "nbformat": 4,
 "nbformat_minor": 2,
 "metadata": {
  "orig_nbformat": 2,
  "deepnote": {
   "is_reactive": false
  },
  "deepnote_notebook_id": "2e568cc1-9106-404a-b21e-84fb7b0781c3",
  "deepnote_execution_queue": [],
  "kernelspec": {
   "name": "python395jvsc74a57bd0df1d4501566b1753f163333fdb4ef33fd168166ab063e105c1cfc0db7fb36182",
   "display_name": "Python 3.9.5 64-bit"
  },
  "metadata": {
   "interpreter": {
    "hash": "df1d4501566b1753f163333fdb4ef33fd168166ab063e105c1cfc0db7fb36182"
   }
  }
 }
}