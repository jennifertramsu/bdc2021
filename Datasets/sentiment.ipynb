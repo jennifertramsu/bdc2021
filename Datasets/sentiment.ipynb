{
 "metadata": {
  "language_info": {
   "codemirror_mode": {
    "name": "ipython",
    "version": 3
   },
   "file_extension": ".py",
   "mimetype": "text/x-python",
   "name": "python",
   "nbconvert_exporter": "python",
   "pygments_lexer": "ipython3",
   "version": "3.9.5"
  },
  "orig_nbformat": 4,
  "kernelspec": {
   "name": "python3",
   "display_name": "Python 3.9.5 64-bit"
  },
  "interpreter": {
   "hash": "df1d4501566b1753f163333fdb4ef33fd168166ab063e105c1cfc0db7fb36182"
  }
 },
 "nbformat": 4,
 "nbformat_minor": 2,
 "cells": [
  {
   "source": [
    "# Sentiment Analysis"
   ],
   "cell_type": "markdown",
   "metadata": {}
  },
  {
   "cell_type": "code",
   "execution_count": null,
   "metadata": {},
   "outputs": [],
   "source": [
    "# using Anaconda's base env\n",
    "# import torch\n",
    "# import torchtext"
   ]
  },
  {
   "cell_type": "code",
   "execution_count": 1,
   "metadata": {},
   "outputs": [],
   "source": [
    "# https://www.geeksforgeeks.org/twitter-sentiment-analysis-using-python/\n",
    "\n",
    "import pandas as pd\n",
    "from sentiment_helpers import *\n"
   ]
  },
  {
   "cell_type": "code",
   "execution_count": 2,
   "metadata": {},
   "outputs": [
    {
     "output_type": "stream",
     "name": "stdout",
     "text": [
      "NaN       neutral\nNaN      positive\nNaN      positive\nNaN      positive\nNaN      positive\n           ...   \n252.0    positive\n253.0    negative\n254.0     neutral\n255.0    positive\n256.0    positive\nName: sentiment, Length: 1915, dtype: object\n"
     ]
    }
   ],
   "source": [
    "\n",
    "path = \"Processed/\"\n",
    "\n",
    "# health orgs\n",
    "\n",
    "healthorg = pd.read_excel(path + \"healthorg.xlsx\", index_col=0)\n",
    "healthorg = sentimentanalysis(healthorg, \"tweet\")\n",
    "\n",
    "# Celebrities\n",
    "\n",
    "celebrities = pd.read_excel(path + \"celebrities.xlsx\", index_col=0)\n",
    "celebrities = sentimentanalysis(celebrities, \"tweet\")\n",
    "\n",
    "# left news\n",
    "\n",
    "leftnews = pd.read_excel(path + \"leftnews.xlsx\", index_col=0)\n",
    "leftnews = sentimentanalysis(leftnews, \"tweet\")\n",
    "\n",
    "# right news\n",
    "\n",
    "rightnews = pd.read_excel(path + \"rightnews.xlsx\", index_col=0)\n",
    "rightnews = sentimentanalysis(rightnews, \"tweet\")\n",
    "\n",
    "# right ind\n",
    "\n",
    "rightind = pd.read_excel(path + \"rightind.xlsx\", index_col=0)\n",
    "rightind = sentimentanalysis(rightind, 'tweet')\n",
    "\n",
    "# left ind\n",
    "\n",
    "leftind = pd.read_excel(path + \"leftind.xlsx\", index_col=0)\n",
    "leftind = sentimentanalysis(leftind, 'tweet')\n",
    "\n",
    "# fake\n",
    "\n",
    "fake = pd.read_excel(path + \"fake.xlsx\", index_col=0)\n",
    "fake = sentimentanalysis(fake, 'text')\n",
    "\n",
    "# real\n",
    "\n",
    "real = pd.read_excel(path + \"real.xlsx\", index_col=0)\n",
    "real = sentimentanalysis(real, 'text')\n",
    "\n",
    "print(real['sentiment'])"
   ]
  },
  {
   "cell_type": "code",
   "execution_count": null,
   "metadata": {},
   "outputs": [],
   "source": [
    "# plotting over time"
   ]
  }
 ]
}