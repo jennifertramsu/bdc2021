{
 "metadata": {
  "language_info": {
   "codemirror_mode": {
    "name": "ipython",
    "version": 3
   },
   "file_extension": ".py",
   "mimetype": "text/x-python",
   "name": "python",
   "nbconvert_exporter": "python",
   "pygments_lexer": "ipython3",
   "version": "3.9.5"
  },
  "orig_nbformat": 4,
  "kernelspec": {
   "name": "python3",
   "display_name": "Python 3.9.5 64-bit"
  },
  "interpreter": {
   "hash": "df1d4501566b1753f163333fdb4ef33fd168166ab063e105c1cfc0db7fb36182"
  }
 },
 "nbformat": 4,
 "nbformat_minor": 2,
 "cells": [
  {
   "source": [
    "# Sentiment Analysis"
   ],
   "cell_type": "markdown",
   "metadata": {}
  },
  {
   "cell_type": "code",
   "execution_count": null,
   "metadata": {},
   "outputs": [],
   "source": [
    "# using Anaconda's base env\n",
    "# import torch\n",
    "# import torchtext"
   ]
  },
  {
   "cell_type": "code",
   "execution_count": 1,
   "metadata": {},
   "outputs": [],
   "source": [
    "# https://www.geeksforgeeks.org/twitter-sentiment-analysis-using-python/\n",
    "\n",
    "import pandas as pd\n",
    "from sentiment_helpers import *\n"
   ]
  },
  {
   "cell_type": "code",
   "execution_count": 2,
   "metadata": {},
   "outputs": [
    {
     "output_type": "stream",
     "name": "stdout",
     "text": [
      "                     user_name user_screen_name  \\\nNaN            Prof Manohar K.    Prof_Manohara   \nNaN    PA Department of Health     PAHealthDept   \nNaN            The Daily Beast    thedailybeast   \nNaN                  BOOM Live      boomlive_in   \nNaN        Mass. Public Health          MassDPH   \n...                        ...              ...   \n252.0              Nick Hinton      NickHintonn   \n253.0    Trades Union Congress          The_TUC   \n254.0              KUSH PAPI 🧃        KushPapii   \n255.0             Mr Reload it         AlexBasz   \n256.0             Dave Portnoy  stoolpresidente   \n\n                                                    text  retweet_count  \\\nNaN    RT @WHO: Media briefing on #COVID19 with @DrTe...            919   \nNaN    All #COVID19 press conferences are available t...             21   \nNaN    NEW: China reported no new confirmed cases of ...             14   \nNaN    .@CDCgov, the apex health agency of USA revise...              1   \nNaN    Get the latest updates about #COVID19 on our w...              1   \n...                                                  ...            ...   \n252.0  So coronavirus, or COVID-19, takes over the he...           2052   \n253.0  Two week’s sick pay:\\r\\n\\r\\n🇬🇧UK £188.50\\r\\n\\r...           6401   \n254.0  $57 round trip to LA, thanks corona virus http...           8542   \n255.0  Why has it taken the threat of a virus before ...           4893   \n256.0  Umm seems like maybe you should include this p...           2677   \n\n       favorite_count                              hashtags  \\\nNaN                 0                               COVID19   \nNaN                30                               COVID19   \nNaN                30                                   NaN   \nNaN                 3              COVID19 CoronaVirusFacts   \nNaN                 2                     COVID19 covid19MA   \n...               ...                                   ...   \n252.0            7308                                   NaN   \n253.0            7571  SickPayForAll Coronavirus Ridge Marr   \n254.0           77510                                   NaN   \n255.0           20868                                   NaN   \n256.0           19950                                   NaN   \n\n       user_followers_count  user_verified       date  \\\nNaN                     180          False 2020-04-29   \nNaN                   91616           True 2020-03-18   \nNaN                 1328360           True 2020-05-23   \nNaN                   68967           True 2020-05-23   \nNaN                   60058          False 2020-05-17   \n...                     ...            ...        ...   \n252.0                116308          False 2020-03-09   \n253.0                 45139           True 2020-03-08   \n254.0                 45242          False 2020-03-10   \n255.0                  3376          False 2020-03-10   \n256.0               2565437          False 2020-03-10   \n\n                                           cleaned_tweet  polarity sentiment  \nNaN                    RT Media briefing on COVID19 with  0.000000   neutral  \nNaN    All COVID19 press conferences are available to...  0.400000  positive  \nNaN    NEW China reported no new confirmed cases of C...  0.069697  positive  \nNaN    the apex health agency of USA revised its COVI...  0.352121  positive  \nNaN    Get the latest updates about COVID19 on our we...  0.500000  positive  \n...                                                  ...       ...       ...  \n252.0  So coronavirus or COVID 19 takes over the head...  0.285714  positive  \n253.0  Two week s sick pay UK 188 50 What you d get i... -0.225108  negative  \n254.0            57 round trip to LA thanks corona virus  0.000000   neutral  \n255.0  Why has it taken the threat of a virus before ...  0.500000  positive  \n256.0  Umm seems like maybe you should include this p...  0.083333  positive  \n\n[1915 rows x 12 columns]\n"
     ]
    }
   ],
   "source": [
    "\n",
    "path = \"Processed/\"\n",
    "\n",
    "# health orgs\n",
    "\n",
    "healthorg = pd.read_excel(path + \"healthorg.xlsx\", index_col=0)\n",
    "healthorg = sentimentanalysis(healthorg, \"tweet\")\n",
    "\n",
    "# Celebrities\n",
    "\n",
    "celebrities = pd.read_excel(path + \"celebrities.xlsx\", index_col=0)\n",
    "celebrities = sentimentanalysis(celebrities, \"tweet\")\n",
    "\n",
    "# left news\n",
    "\n",
    "leftnews = pd.read_excel(path + \"leftnews.xlsx\", index_col=0)\n",
    "leftnews = sentimentanalysis(leftnews, \"tweet\")\n",
    "\n",
    "# right news\n",
    "\n",
    "rightnews = pd.read_excel(path + \"rightnews.xlsx\", index_col=0)\n",
    "rightnews = sentimentanalysis(rightnews, \"tweet\")\n",
    "\n",
    "# right ind\n",
    "\n",
    "rightind = pd.read_excel(path + \"rightind.xlsx\", index_col=0)\n",
    "rightind = sentimentanalysis(rightind, 'tweet')\n",
    "\n",
    "# left ind\n",
    "\n",
    "leftind = pd.read_excel(path + \"leftind.xlsx\", index_col=0)\n",
    "leftind = sentimentanalysis(leftind, 'tweet')\n",
    "\n",
    "# fake\n",
    "\n",
    "fake = pd.read_excel(path + \"fake.xlsx\", index_col=0)\n",
    "fake = sentimentanalysis(fake, 'text')\n",
    "\n",
    "# real\n",
    "\n",
    "real = pd.read_excel(path + \"real.xlsx\", index_col=0)\n",
    "real = sentimentanalysis(real, 'text')\n",
    "\n",
    "print(real)"
   ]
  },
  {
   "cell_type": "code",
   "execution_count": null,
   "metadata": {},
   "outputs": [],
   "source": [
    "# plotting over time"
   ]
  }
 ]
}