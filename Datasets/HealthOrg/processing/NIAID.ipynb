{
 "cells": [
  {
   "cell_type": "code",
   "metadata": {
    "tags": [],
    "cell_id": "00002-cc24c0e8-c81f-41a4-9200-081a491c457c",
    "deepnote_to_be_reexecuted": false,
    "source_hash": "f0278929",
    "execution_start": 1621972370456,
    "execution_millis": 11,
    "deepnote_cell_type": "code"
   },
   "source": [
    "import pandas as pd \n",
    "import numpy as np\n",
    "import matplotlib.pyplot as plt\n",
    "from IPython.display import display\n",
    "import os\n",
    "import glob         "
   ],
   "execution_count": 2,
   "outputs": []
  },
  {
   "cell_type": "code",
   "metadata": {
    "tags": [],
    "cell_id": "00002-453510b1-44bb-415b-a508-58ddd28cb40d",
    "deepnote_to_be_reexecuted": false,
    "source_hash": "c9401596",
    "execution_start": 1621972371063,
    "execution_millis": 156,
    "deepnote_cell_type": "code"
   },
   "source": [
    "df = pd.read_csv('../NIAID.csv')\n",
    "df = df[['tweet','mentions','urls','photos','replies_count','retweets_count','likes_count','hashtags','retweet']]\n",
    "\n",
    "df.head()"
   ],
   "execution_count": 3,
   "outputs": [
    {
     "output_type": "execute_result",
     "data": {
      "text/plain": [
       "                                               tweet  \\\n",
       "0  Interested in volunteering for a #COVID19 clin...   \n",
       "1  More than 60% of American adults have received...   \n",
       "2  Healthy adults 18 to 50 years old are needed t...   \n",
       "3  NIAID has updated the strategic plan for #COVI...   \n",
       "4  NEWS: An investigational #GeneTherapy can safe...   \n",
       "\n",
       "                                            mentions  \\\n",
       "0                                                 []   \n",
       "1                                                 []   \n",
       "2                                                 []   \n",
       "3                                                 []   \n",
       "4  [{'screen_name': 'nih', 'name': 'nih', 'id': '...   \n",
       "\n",
       "                                 urls  \\\n",
       "0          ['https://bit.ly/3n8xhZB']   \n",
       "1             ['http://vaccines.gov']   \n",
       "2  ['http://niaid.nih.gov/about/vrc']   \n",
       "3          ['https://bit.ly/3y5X5uY']   \n",
       "4          ['http://bit.ly/ADA-SCID']   \n",
       "\n",
       "                                              photos  replies_count  \\\n",
       "0  ['https://pbs.twimg.com/media/E2JzY_QXIAQtqCb....              0   \n",
       "1                                                 []              1   \n",
       "2  ['https://pbs.twimg.com/media/E1wrtKaWYAIAdH0....              2   \n",
       "3  ['https://pbs.twimg.com/media/E1MoHm7XMAQHKTD....              9   \n",
       "4  ['https://pbs.twimg.com/media/E1HHtB2VUAAWpJ9....              4   \n",
       "\n",
       "   retweets_count  likes_count  \\\n",
       "0               1            3   \n",
       "1               1            4   \n",
       "2               1            7   \n",
       "3               8           14   \n",
       "4               2           15   \n",
       "\n",
       "                                            hashtags  retweet  \n",
       "0                                        ['covid19']    False  \n",
       "1                         ['covid19', 'wecandothis']    False  \n",
       "2                                                 []    False  \n",
       "3                                        ['covid19']    False  \n",
       "4  ['genetherapy', 'immune', 'raredisease', 'adas...    False  "
      ],
      "text/html": "<div>\n<style scoped>\n    .dataframe tbody tr th:only-of-type {\n        vertical-align: middle;\n    }\n\n    .dataframe tbody tr th {\n        vertical-align: top;\n    }\n\n    .dataframe thead th {\n        text-align: right;\n    }\n</style>\n<table border=\"1\" class=\"dataframe\">\n  <thead>\n    <tr style=\"text-align: right;\">\n      <th></th>\n      <th>tweet</th>\n      <th>mentions</th>\n      <th>urls</th>\n      <th>photos</th>\n      <th>replies_count</th>\n      <th>retweets_count</th>\n      <th>likes_count</th>\n      <th>hashtags</th>\n      <th>retweet</th>\n    </tr>\n  </thead>\n  <tbody>\n    <tr>\n      <th>0</th>\n      <td>Interested in volunteering for a #COVID19 clin...</td>\n      <td>[]</td>\n      <td>['https://bit.ly/3n8xhZB']</td>\n      <td>['https://pbs.twimg.com/media/E2JzY_QXIAQtqCb....</td>\n      <td>0</td>\n      <td>1</td>\n      <td>3</td>\n      <td>['covid19']</td>\n      <td>False</td>\n    </tr>\n    <tr>\n      <th>1</th>\n      <td>More than 60% of American adults have received...</td>\n      <td>[]</td>\n      <td>['http://vaccines.gov']</td>\n      <td>[]</td>\n      <td>1</td>\n      <td>1</td>\n      <td>4</td>\n      <td>['covid19', 'wecandothis']</td>\n      <td>False</td>\n    </tr>\n    <tr>\n      <th>2</th>\n      <td>Healthy adults 18 to 50 years old are needed t...</td>\n      <td>[]</td>\n      <td>['http://niaid.nih.gov/about/vrc']</td>\n      <td>['https://pbs.twimg.com/media/E1wrtKaWYAIAdH0....</td>\n      <td>2</td>\n      <td>1</td>\n      <td>7</td>\n      <td>[]</td>\n      <td>False</td>\n    </tr>\n    <tr>\n      <th>3</th>\n      <td>NIAID has updated the strategic plan for #COVI...</td>\n      <td>[]</td>\n      <td>['https://bit.ly/3y5X5uY']</td>\n      <td>['https://pbs.twimg.com/media/E1MoHm7XMAQHKTD....</td>\n      <td>9</td>\n      <td>8</td>\n      <td>14</td>\n      <td>['covid19']</td>\n      <td>False</td>\n    </tr>\n    <tr>\n      <th>4</th>\n      <td>NEWS: An investigational #GeneTherapy can safe...</td>\n      <td>[{'screen_name': 'nih', 'name': 'nih', 'id': '...</td>\n      <td>['http://bit.ly/ADA-SCID']</td>\n      <td>['https://pbs.twimg.com/media/E1HHtB2VUAAWpJ9....</td>\n      <td>4</td>\n      <td>2</td>\n      <td>15</td>\n      <td>['genetherapy', 'immune', 'raredisease', 'adas...</td>\n      <td>False</td>\n    </tr>\n  </tbody>\n</table>\n</div>"
     },
     "metadata": {},
     "execution_count": 3
    }
   ]
  },
  {
   "cell_type": "code",
   "metadata": {
    "tags": [],
    "cell_id": "00003-c3526891-8504-4138-a33e-c01029b0faeb",
    "deepnote_to_be_reexecuted": false,
    "source_hash": "c085b6ba",
    "execution_start": 1621972371581,
    "execution_millis": 42,
    "deepnote_cell_type": "code"
   },
   "source": [
    "# filter by hashtags, missing some tweets on vaccines without hashtags\n",
    "# general keywords used for dataset 4: ncov19, ncov2019, covid, rona, stayathome, socialdistancing\n",
    "covid = df.loc[df['tweet'].str.contains('covid|coronavirus|wearamask|socialdistancing|stayathome|ncov|symptomatic', case=False)]\n",
    "print(len(covid))\n",
    "covid.head()"
   ],
   "execution_count": 12,
   "outputs": [
    {
     "output_type": "stream",
     "name": "stdout",
     "text": [
      "321\n"
     ]
    },
    {
     "output_type": "execute_result",
     "data": {
      "text/plain": [
       "                                               tweet  \\\n",
       "0  Interested in volunteering for a #COVID19 clin...   \n",
       "1  More than 60% of American adults have received...   \n",
       "2  Healthy adults 18 to 50 years old are needed t...   \n",
       "3  NIAID has updated the strategic plan for #COVI...   \n",
       "4  NEWS: An investigational #GeneTherapy can safe...   \n",
       "\n",
       "                                            mentions  \\\n",
       "0                                                 []   \n",
       "1                                                 []   \n",
       "2                                                 []   \n",
       "3                                                 []   \n",
       "4  [{'screen_name': 'nih', 'name': 'nih', 'id': '...   \n",
       "\n",
       "                                 urls  \\\n",
       "0          ['https://bit.ly/3n8xhZB']   \n",
       "1             ['http://vaccines.gov']   \n",
       "2  ['http://niaid.nih.gov/about/vrc']   \n",
       "3          ['https://bit.ly/3y5X5uY']   \n",
       "4          ['http://bit.ly/ADA-SCID']   \n",
       "\n",
       "                                              photos  replies_count  \\\n",
       "0  ['https://pbs.twimg.com/media/E2JzY_QXIAQtqCb....              0   \n",
       "1                                                 []              1   \n",
       "2  ['https://pbs.twimg.com/media/E1wrtKaWYAIAdH0....              2   \n",
       "3  ['https://pbs.twimg.com/media/E1MoHm7XMAQHKTD....              9   \n",
       "4  ['https://pbs.twimg.com/media/E1HHtB2VUAAWpJ9....              4   \n",
       "\n",
       "   retweets_count  likes_count  \\\n",
       "0               1            3   \n",
       "1               1            4   \n",
       "2               1            7   \n",
       "3               8           14   \n",
       "4               2           15   \n",
       "\n",
       "                                            hashtags  retweet  \n",
       "0                                        ['covid19']    False  \n",
       "1                         ['covid19', 'wecandothis']    False  \n",
       "2                                                 []    False  \n",
       "3                                        ['covid19']    False  \n",
       "4  ['genetherapy', 'immune', 'raredisease', 'adas...    False  "
      ],
      "text/html": "<div>\n<style scoped>\n    .dataframe tbody tr th:only-of-type {\n        vertical-align: middle;\n    }\n\n    .dataframe tbody tr th {\n        vertical-align: top;\n    }\n\n    .dataframe thead th {\n        text-align: right;\n    }\n</style>\n<table border=\"1\" class=\"dataframe\">\n  <thead>\n    <tr style=\"text-align: right;\">\n      <th></th>\n      <th>tweet</th>\n      <th>mentions</th>\n      <th>urls</th>\n      <th>photos</th>\n      <th>replies_count</th>\n      <th>retweets_count</th>\n      <th>likes_count</th>\n      <th>hashtags</th>\n      <th>retweet</th>\n    </tr>\n  </thead>\n  <tbody>\n    <tr>\n      <th>0</th>\n      <td>Interested in volunteering for a #COVID19 clin...</td>\n      <td>[]</td>\n      <td>['https://bit.ly/3n8xhZB']</td>\n      <td>['https://pbs.twimg.com/media/E2JzY_QXIAQtqCb....</td>\n      <td>0</td>\n      <td>1</td>\n      <td>3</td>\n      <td>['covid19']</td>\n      <td>False</td>\n    </tr>\n    <tr>\n      <th>1</th>\n      <td>More than 60% of American adults have received...</td>\n      <td>[]</td>\n      <td>['http://vaccines.gov']</td>\n      <td>[]</td>\n      <td>1</td>\n      <td>1</td>\n      <td>4</td>\n      <td>['covid19', 'wecandothis']</td>\n      <td>False</td>\n    </tr>\n    <tr>\n      <th>2</th>\n      <td>Healthy adults 18 to 50 years old are needed t...</td>\n      <td>[]</td>\n      <td>['http://niaid.nih.gov/about/vrc']</td>\n      <td>['https://pbs.twimg.com/media/E1wrtKaWYAIAdH0....</td>\n      <td>2</td>\n      <td>1</td>\n      <td>7</td>\n      <td>[]</td>\n      <td>False</td>\n    </tr>\n    <tr>\n      <th>3</th>\n      <td>NIAID has updated the strategic plan for #COVI...</td>\n      <td>[]</td>\n      <td>['https://bit.ly/3y5X5uY']</td>\n      <td>['https://pbs.twimg.com/media/E1MoHm7XMAQHKTD....</td>\n      <td>9</td>\n      <td>8</td>\n      <td>14</td>\n      <td>['covid19']</td>\n      <td>False</td>\n    </tr>\n    <tr>\n      <th>4</th>\n      <td>NEWS: An investigational #GeneTherapy can safe...</td>\n      <td>[{'screen_name': 'nih', 'name': 'nih', 'id': '...</td>\n      <td>['http://bit.ly/ADA-SCID']</td>\n      <td>['https://pbs.twimg.com/media/E1HHtB2VUAAWpJ9....</td>\n      <td>4</td>\n      <td>2</td>\n      <td>15</td>\n      <td>['genetherapy', 'immune', 'raredisease', 'adas...</td>\n      <td>False</td>\n    </tr>\n  </tbody>\n</table>\n</div>"
     },
     "metadata": {},
     "execution_count": 12
    }
   ]
  },
  {
   "cell_type": "code",
   "execution_count": 13,
   "metadata": {
    "tags": []
   },
   "outputs": [
    {
     "output_type": "stream",
     "name": "stdout",
     "text": [
      "Healthy adults 18 to 50 years old are needed to participate in the study of an investigational influenza (flu vaccine). To volunteer, call 1-866-833-5433 (TTY 1-866-411-1010), email vaccines@nih.gov, or visit  https://t.co/l8dV93ZWK4. Financial compensation is provided.  https://t.co/c1CNP2WrHK\nThe researchers found that the majority of CD8+ T cells targeted internal and non-structural sites on viral proteins (epitopes), indicating possible targets for next-generation vaccines.\nNEJM paper details mRNA-1273 vaccine's 94.1% efficacy in preventing symptomatic COVID-19 when tested in Phase 3 clinical trial. Vaccine co-developed by Moderna and NIH also effective at preventing severe COVID-19. Study findings at: DOI: 10.1056/NEJMoa2035389 (2020).\nNatural infection with SARS-CoV-2 does not always lead to durable immunity to the virus. These results suggest that the mRNA-1273 vaccine could provide long-term protection.  https://t.co/oCGhEHkWEz\nPositive interim results (due to be published online imminently) from a Phase 1/2a clinical trial of the Janssen vaccine candidate demonstrated that the safety profile and immunogenicity after a single vaccination were supportive of further development.\nVOLUNTEERS NEEDED: The NIH Vaccine Research Center is looking for volunteers to donate blood for studies on the immune system. Participants will be compensated for their time and convenience. To volunteer, call 1-866-833-5433 (TTY 1-866-411-1010) or email vaccines@nih.gov.  https://t.co/D71SgYNBZY\nHIV NEWS: An experimental vaccine regimen under study in South Africa was found to be ineffective in preventing HIV.  https://t.co/bbKp2Xp5lQ\n"
     ]
    },
    {
     "output_type": "execute_result",
     "data": {
      "text/plain": [
       "7"
      ]
     },
     "metadata": {},
     "execution_count": 13
    }
   ],
   "source": [
    "# check number of tweets without hashtags\n",
    "n = 0\n",
    "for i in range(len(df)):\n",
    "    if '[]' == df['hashtags'][i]:\n",
    "        if 'vaccine' in df['tweet'][i]:\n",
    "            print(df['tweet'][i])\n",
    "            n += 1\n",
    "n"
   ]
  },
  {
   "cell_type": "code",
   "execution_count": 22,
   "metadata": {},
   "outputs": [],
   "source": [
    "for i in range(len(df)):\n",
    "    if 'test_statement' in df['hashtags'][i]:\n",
    "        print(df['tweet'][i])"
   ]
  }
 ],
 "nbformat": 4,
 "nbformat_minor": 2,
 "metadata": {
  "orig_nbformat": 2,
  "deepnote": {
   "is_reactive": false
  },
  "deepnote_notebook_id": "2e568cc1-9106-404a-b21e-84fb7b0781c3",
  "deepnote_execution_queue": [],
  "kernelspec": {
   "name": "python395jvsc74a57bd0df1d4501566b1753f163333fdb4ef33fd168166ab063e105c1cfc0db7fb36182",
   "display_name": "Python 3.9.5 64-bit"
  },
  "metadata": {
   "interpreter": {
    "hash": "df1d4501566b1753f163333fdb4ef33fd168166ab063e105c1cfc0db7fb36182"
   }
  }
 }
}