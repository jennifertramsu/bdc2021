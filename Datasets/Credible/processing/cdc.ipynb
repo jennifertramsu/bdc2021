{
 "cells": [
  {
   "cell_type": "code",
   "metadata": {
    "tags": [],
    "cell_id": "00002-cc24c0e8-c81f-41a4-9200-081a491c457c",
    "deepnote_to_be_reexecuted": false,
    "source_hash": "f0278929",
    "execution_start": 1621972370456,
    "execution_millis": 11,
    "deepnote_cell_type": "code"
   },
   "source": [
    "import pandas as pd \n",
    "import numpy as np\n",
    "import matplotlib.pyplot as plt\n",
    "from IPython.display import display\n",
    "import os\n",
    "import glob         "
   ],
   "execution_count": 3,
   "outputs": []
  },
  {
   "cell_type": "code",
   "metadata": {
    "tags": [],
    "cell_id": "00002-453510b1-44bb-415b-a508-58ddd28cb40d",
    "deepnote_to_be_reexecuted": false,
    "source_hash": "c9401596",
    "execution_start": 1621972371063,
    "execution_millis": 156,
    "deepnote_cell_type": "code"
   },
   "source": [
    "df = pd.read_csv('C:/Users/Maggie/Documents/BDC/bdc2021/Datasets/Credible/cdc.csv')\n",
    "df = df[['tweet','mentions','urls','photos','replies_count','retweets_count','likes_count','hashtags','retweet']]\n"
   ],
   "execution_count": 4,
   "outputs": []
  },
  {
   "cell_type": "code",
   "metadata": {
    "tags": [],
    "cell_id": "00003-c3526891-8504-4138-a33e-c01029b0faeb",
    "deepnote_to_be_reexecuted": false,
    "source_hash": "c085b6ba",
    "execution_start": 1621972371581,
    "execution_millis": 42,
    "deepnote_cell_type": "code"
   },
   "source": [
    "# filter by hashtags and other related words\n",
    "covid = df.loc[df['tweet'].str.contains('covid|coronavirus|covidvaccineforum|wearamask|socialdistancing|2019-nCoV|2019ncov|symptomatic', case=False)]\n",
    "print(len(covid))\n",
    "covid.head()"
   ],
   "execution_count": 5,
   "outputs": [
    {
     "output_type": "stream",
     "name": "stdout",
     "text": [
      "2225\n"
     ]
    },
    {
     "output_type": "execute_result",
     "data": {
      "text/plain": [
       "                                               tweet  \\\n",
       "0  #COVID19 hospital admissions are declining in ...   \n",
       "1  When loved ones decide to get a #COVID19 vacci...   \n",
       "4  #Parents: Are you looking for a #COVID19 vacci...   \n",
       "7  Data published today in @CDCMMWR provide infor...   \n",
       "8  It takes 2 weeks after #COVID19 vaccination to...   \n",
       "\n",
       "                                            mentions  \\\n",
       "0                                                 []   \n",
       "1                                                 []   \n",
       "4                                                 []   \n",
       "7  [{'screen_name': 'cdcmmwr', 'name': 'mmwr', 'i...   \n",
       "8                                                 []   \n",
       "\n",
       "                                                urls  \\\n",
       "0                   ['https://bit.ly/CDThealthcare']   \n",
       "1                         ['https://bit.ly/3cE25OH']   \n",
       "4  ['http://Vaccines.gov', 'https://bit.ly/3uFSUUu']   \n",
       "7                        ['http://bit.ly/MMWR52521']   \n",
       "8                      ['http://bit.ly/CDT_vaccine']   \n",
       "\n",
       "                                              photos  replies_count  \\\n",
       "0  ['https://pbs.twimg.com/media/E2Qq1V7XEAInYzP....             18   \n",
       "1  ['https://pbs.twimg.com/media/E2QePE7XoAcGnHV....             55   \n",
       "4  ['https://pbs.twimg.com/media/E2P9gy4XsAQ8p8y....             34   \n",
       "7  ['https://pbs.twimg.com/media/E2PhlplX0AApEMt....             17   \n",
       "8  ['https://pbs.twimg.com/media/E2LkIciWQAQaUZP....             81   \n",
       "\n",
       "   retweets_count  likes_count                hashtags  retweet  \n",
       "0              48           94             ['covid19']    False  \n",
       "1              90          204             ['covid19']    False  \n",
       "4              45          108  ['parents', 'covid19']    False  \n",
       "7              36          101             ['covid19']    False  \n",
       "8             241          575  ['covid19', 'covid19']    False  "
      ],
      "text/html": "<div>\n<style scoped>\n    .dataframe tbody tr th:only-of-type {\n        vertical-align: middle;\n    }\n\n    .dataframe tbody tr th {\n        vertical-align: top;\n    }\n\n    .dataframe thead th {\n        text-align: right;\n    }\n</style>\n<table border=\"1\" class=\"dataframe\">\n  <thead>\n    <tr style=\"text-align: right;\">\n      <th></th>\n      <th>tweet</th>\n      <th>mentions</th>\n      <th>urls</th>\n      <th>photos</th>\n      <th>replies_count</th>\n      <th>retweets_count</th>\n      <th>likes_count</th>\n      <th>hashtags</th>\n      <th>retweet</th>\n    </tr>\n  </thead>\n  <tbody>\n    <tr>\n      <th>0</th>\n      <td>#COVID19 hospital admissions are declining in ...</td>\n      <td>[]</td>\n      <td>['https://bit.ly/CDThealthcare']</td>\n      <td>['https://pbs.twimg.com/media/E2Qq1V7XEAInYzP....</td>\n      <td>18</td>\n      <td>48</td>\n      <td>94</td>\n      <td>['covid19']</td>\n      <td>False</td>\n    </tr>\n    <tr>\n      <th>1</th>\n      <td>When loved ones decide to get a #COVID19 vacci...</td>\n      <td>[]</td>\n      <td>['https://bit.ly/3cE25OH']</td>\n      <td>['https://pbs.twimg.com/media/E2QePE7XoAcGnHV....</td>\n      <td>55</td>\n      <td>90</td>\n      <td>204</td>\n      <td>['covid19']</td>\n      <td>False</td>\n    </tr>\n    <tr>\n      <th>4</th>\n      <td>#Parents: Are you looking for a #COVID19 vacci...</td>\n      <td>[]</td>\n      <td>['http://Vaccines.gov', 'https://bit.ly/3uFSUUu']</td>\n      <td>['https://pbs.twimg.com/media/E2P9gy4XsAQ8p8y....</td>\n      <td>34</td>\n      <td>45</td>\n      <td>108</td>\n      <td>['parents', 'covid19']</td>\n      <td>False</td>\n    </tr>\n    <tr>\n      <th>7</th>\n      <td>Data published today in @CDCMMWR provide infor...</td>\n      <td>[{'screen_name': 'cdcmmwr', 'name': 'mmwr', 'i...</td>\n      <td>['http://bit.ly/MMWR52521']</td>\n      <td>['https://pbs.twimg.com/media/E2PhlplX0AApEMt....</td>\n      <td>17</td>\n      <td>36</td>\n      <td>101</td>\n      <td>['covid19']</td>\n      <td>False</td>\n    </tr>\n    <tr>\n      <th>8</th>\n      <td>It takes 2 weeks after #COVID19 vaccination to...</td>\n      <td>[]</td>\n      <td>['http://bit.ly/CDT_vaccine']</td>\n      <td>['https://pbs.twimg.com/media/E2LkIciWQAQaUZP....</td>\n      <td>81</td>\n      <td>241</td>\n      <td>575</td>\n      <td>['covid19', 'covid19']</td>\n      <td>False</td>\n    </tr>\n  </tbody>\n</table>\n</div>"
     },
     "metadata": {},
     "execution_count": 5
    }
   ]
  },
  {
   "cell_type": "code",
   "execution_count": 16,
   "metadata": {
    "tags": []
   },
   "outputs": [
    {
     "output_type": "execute_result",
     "data": {
      "text/plain": [
       "423"
      ]
     },
     "metadata": {},
     "execution_count": 16
    }
   ],
   "source": [
    "# check tweets with empty hashtags\n",
    "n = 0\n",
    "a = []\n",
    "for i in range(len(df)):\n",
    "    if '[]' == df['hashtags'][i]:\n",
    "        a.append(df['tweet'][i])\n",
    "        n += 1\n",
    "n"
   ]
  },
  {
   "cell_type": "code",
   "execution_count": 6,
   "metadata": {
    "tags": []
   },
   "outputs": [
    {
     "output_type": "stream",
     "name": "stdout",
     "text": [
      "A new @CDCMMWR provides more evidence that mRNA #COVID19 vaccines are effective in real-world conditions. Two doses of the mRNA vaccines were 94% effective among study participants at preventing symptomatic COVID-19. More:  https://t.co/nfbhTiu80F.  https://t.co/MY801PtkM6\n🧪 COVID-19 Science Update:  Read the latest #COVID19 research on vaccine effectiveness, strategies for testing asymptomatic airline passengers, and the B.1.1.7 variant, first identified in the U.K.  👓 Read the full update:  https://t.co/MrwAjEn0D0.  https://t.co/YENb18v4XB\nA person with #COVID19 can spread it for 2-14 days without showing any symptoms, and asymptomatic cases are common. You may not know you have COVID-19, so #WearAMask to help stop the spread. More tips:  https://t.co/jPOTTKINAz.  https://t.co/UvWc9DRb19\nCalifornia’s arriving traveler monitoring for #COVID19 was limited by poor quality of received traveler data, high volume of travelers, &amp; asymptomatic transmission. Read more about lessons learned in this @CDCMMWR:  https://t.co/eUOPul7RCX.  https://t.co/Sp7t3HWwFR\nGrowing evidence suggests #COVID19 can spread before people show symptoms (pre-symptomatic) and from people who have #coronavirus but never show symptoms (asymptomatic).  Cloth face coverings help prevent spread of COVID-19 in these situations. See Q&amp;A:  https://t.co/vuYx19NZPE.  https://t.co/RE9K3kZmYR\nGrowing evidence suggests #COVID19 can spread before people show symptoms (pre-symptomatic) and from people who have #coronavirus but never show symptoms (asymptomatic).  Cloth face coverings help prevent spread of COVID-19 in these situations. See Q&amp;A:  https://t.co/vuYx19woY6.  https://t.co/7uuYJfqou4\nGrowing evidence suggests #COVID19 can spread before people show symptoms (pre-symptomatic) and from people who have #coronavirus but never show symptoms (asymptomatic).  Cloth face coverings help prevent spread of COVID-19 in these situations. See Q&amp;A:  https://t.co/vuYx19woY6.  https://t.co/CO6g0GPvGN\nRecent studies show that a significant portion of individuals with #COVID19 lack symptoms (“asymptomatic”) and that even those who eventually develop symptoms (“pre-symptomatic”) can transmit the virus to others before showing symptoms.\nStudy findings documenting asymptomatic infection in older residents in a skilled nursing facility may not apply to the general population, including younger, healthier people. Learn more:  https://t.co/s5KmREVXcM.\nAsymptomatic and pre-symptomatic nursing home residents with COVID-19 had high viral loads, raising concern about pre-symptomatic or asymptomatic spread of the virus among residents of skilled nursing facilities. Learn more:  https://t.co/s5KmREVXcM.\nQ: #askCDC after an individual is sickened with the COVID-19 virus; how long before no longer symptomatic or contagious? - @ellewrsp  A:  https://t.co/77oar4ftrV\nResearchers believe novel coronavirus spreads mainly from person to person among close contacts through respiratory droplets produced when an infected person coughs or sneezes. People are likely most contagious when they are most symptomatic (the sickest).  https://t.co/TqiKAW9nRW  https://t.co/3GzrnnMYwa\n"
     ]
    }
   ],
   "source": [
    "# search for tweets with specific hashtags or keyword in tweet\n",
    "for i in range(len(df)):\n",
    "    if 'symptomatic' in df['tweet'][i]:\n",
    "        print(df['tweet'][i])"
   ]
  },
  {
   "cell_type": "code",
   "execution_count": null,
   "metadata": {},
   "outputs": [],
   "source": []
  }
 ],
 "nbformat": 4,
 "nbformat_minor": 2,
 "metadata": {
  "orig_nbformat": 2,
  "deepnote": {
   "is_reactive": false
  },
  "deepnote_notebook_id": "2e568cc1-9106-404a-b21e-84fb7b0781c3",
  "deepnote_execution_queue": [],
  "kernelspec": {
   "name": "python383jvsc74a57bd0e037ebae06607833108a0b7e17e85d7df9949872f53cdbbb39594cf74144a877",
   "display_name": "Python 3.8.3 64-bit"
  }
 }
}