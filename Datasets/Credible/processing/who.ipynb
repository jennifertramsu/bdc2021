{
 "cells": [
  {
   "cell_type": "code",
   "metadata": {
    "tags": [],
    "cell_id": "00002-cc24c0e8-c81f-41a4-9200-081a491c457c",
    "deepnote_to_be_reexecuted": false,
    "source_hash": "f0278929",
    "execution_start": 1621972370456,
    "execution_millis": 11,
    "deepnote_cell_type": "code"
   },
   "source": [
    "import pandas as pd \n",
    "import numpy as np\n",
    "import matplotlib.pyplot as plt\n",
    "from IPython.display import display\n",
    "import os\n",
    "import glob         "
   ],
   "execution_count": 1,
   "outputs": []
  },
  {
   "cell_type": "code",
   "metadata": {
    "tags": [],
    "cell_id": "00002-453510b1-44bb-415b-a508-58ddd28cb40d",
    "deepnote_to_be_reexecuted": false,
    "source_hash": "c9401596",
    "execution_start": 1621972371063,
    "execution_millis": 156,
    "deepnote_cell_type": "code"
   },
   "source": [
    "df = pd.read_csv('C:/Users/Maggie/Documents/BDC/bdc2021/Datasets/Credible/who.csv')\n",
    "df = df[['tweet','mentions','urls','photos','replies_count','retweets_count','likes_count','hashtags','retweet']]"
   ],
   "execution_count": 4,
   "outputs": []
  },
  {
   "cell_type": "code",
   "metadata": {
    "tags": [],
    "cell_id": "00003-c3526891-8504-4138-a33e-c01029b0faeb",
    "deepnote_to_be_reexecuted": false,
    "source_hash": "c085b6ba",
    "execution_start": 1621972371581,
    "execution_millis": 42,
    "deepnote_cell_type": "code"
   },
   "source": [
    "# filter by hashtags, missing some tweets on vaccines without hashtags\n",
    "covid = df.loc[df['tweet'].str.contains('covid|coronavirus|covidvaccineforum|wearamask|socialdistancing|2019-nCoV|2019ncov|symptomatic|covax', case=False)]\n",
    "print(len(covid))\n",
    "covid.head()"
   ],
   "execution_count": 5,
   "outputs": [
    {
     "output_type": "stream",
     "name": "stdout",
     "text": [
      "7235\n"
     ]
    },
    {
     "output_type": "execute_result",
     "data": {
      "text/plain": [
       "                                                tweet  \\\n",
       "4   \"We must harness the momentum &amp; political ...   \n",
       "5   \"#Spain made a commitment to contribute EUR125...   \n",
       "10  \"Apart from releasing surplus [#COVID19] vacci...   \n",
       "11  \"This ignoble system of [#COVID19] vaccine apa...   \n",
       "12  \"To refuse [#COVID19] vaccines is to court dea...   \n",
       "\n",
       "                                             mentions urls photos  \\\n",
       "4   [{'screen_name': 'sanchezcastejon', 'name': 'p...   []     []   \n",
       "5   [{'screen_name': 'sanchezcastejon', 'name': 'p...   []     []   \n",
       "10  [{'screen_name': 'gastonbrowne', 'name': 'gast...   []     []   \n",
       "11  [{'screen_name': 'gastonbrowne', 'name': 'gast...   []     []   \n",
       "12  [{'screen_name': 'gastonbrowne', 'name': 'gast...   []     []   \n",
       "\n",
       "    replies_count  retweets_count  likes_count                     hashtags  \\\n",
       "4              11              18           71         ['covid19', 'wha74']   \n",
       "5               8              20           92  ['spain', 'covax', 'wha74']   \n",
       "10              6              31           86         ['covid19', 'wha74']   \n",
       "11              7              14           37         ['covid19', 'wha74']   \n",
       "12            168             115          330         ['covid19', 'wha74']   \n",
       "\n",
       "    retweet  \n",
       "4     False  \n",
       "5     False  \n",
       "10    False  \n",
       "11    False  \n",
       "12    False  "
      ],
      "text/html": "<div>\n<style scoped>\n    .dataframe tbody tr th:only-of-type {\n        vertical-align: middle;\n    }\n\n    .dataframe tbody tr th {\n        vertical-align: top;\n    }\n\n    .dataframe thead th {\n        text-align: right;\n    }\n</style>\n<table border=\"1\" class=\"dataframe\">\n  <thead>\n    <tr style=\"text-align: right;\">\n      <th></th>\n      <th>tweet</th>\n      <th>mentions</th>\n      <th>urls</th>\n      <th>photos</th>\n      <th>replies_count</th>\n      <th>retweets_count</th>\n      <th>likes_count</th>\n      <th>hashtags</th>\n      <th>retweet</th>\n    </tr>\n  </thead>\n  <tbody>\n    <tr>\n      <th>4</th>\n      <td>\"We must harness the momentum &amp;amp; political ...</td>\n      <td>[{'screen_name': 'sanchezcastejon', 'name': 'p...</td>\n      <td>[]</td>\n      <td>[]</td>\n      <td>11</td>\n      <td>18</td>\n      <td>71</td>\n      <td>['covid19', 'wha74']</td>\n      <td>False</td>\n    </tr>\n    <tr>\n      <th>5</th>\n      <td>\"#Spain made a commitment to contribute EUR125...</td>\n      <td>[{'screen_name': 'sanchezcastejon', 'name': 'p...</td>\n      <td>[]</td>\n      <td>[]</td>\n      <td>8</td>\n      <td>20</td>\n      <td>92</td>\n      <td>['spain', 'covax', 'wha74']</td>\n      <td>False</td>\n    </tr>\n    <tr>\n      <th>10</th>\n      <td>\"Apart from releasing surplus [#COVID19] vacci...</td>\n      <td>[{'screen_name': 'gastonbrowne', 'name': 'gast...</td>\n      <td>[]</td>\n      <td>[]</td>\n      <td>6</td>\n      <td>31</td>\n      <td>86</td>\n      <td>['covid19', 'wha74']</td>\n      <td>False</td>\n    </tr>\n    <tr>\n      <th>11</th>\n      <td>\"This ignoble system of [#COVID19] vaccine apa...</td>\n      <td>[{'screen_name': 'gastonbrowne', 'name': 'gast...</td>\n      <td>[]</td>\n      <td>[]</td>\n      <td>7</td>\n      <td>14</td>\n      <td>37</td>\n      <td>['covid19', 'wha74']</td>\n      <td>False</td>\n    </tr>\n    <tr>\n      <th>12</th>\n      <td>\"To refuse [#COVID19] vaccines is to court dea...</td>\n      <td>[{'screen_name': 'gastonbrowne', 'name': 'gast...</td>\n      <td>[]</td>\n      <td>[]</td>\n      <td>168</td>\n      <td>115</td>\n      <td>330</td>\n      <td>['covid19', 'wha74']</td>\n      <td>False</td>\n    </tr>\n  </tbody>\n</table>\n</div>"
     },
     "metadata": {},
     "execution_count": 5
    }
   ]
  },
  {
   "cell_type": "code",
   "execution_count": 27,
   "metadata": {
    "tags": []
   },
   "outputs": [
    {
     "output_type": "stream",
     "name": "stdout",
     "text": [
      "\"We continue to work with countries and companies to find ways of sharing technology and know-how for these difficult-to-make vaccines.\"-@DrTedros\n\"WHO is working day in and day out to urgently increase the production and equitable distribution of vaccines, with countries, companies and partners, including the African Vaccine Acquisition Task Team and the Partnership for African Vaccine Manufacturing.\"-@DrTedros\n\"The inequitable distribution of vaccines is not just a moral outrage, it is also economically and epidemiologically self-defeating. I have said this many times and the gap is very tragic between the have and have-nots.\"-@DrTedros\n\"And we remain totally committed to supporting every @_AfricanUnion Member State to access the tools to end this pandemic, including vaccines. We are all painfully aware of the shocking disparity in the global distribution of vaccines.\"-@DrTedros\n\"But we know what works. There are many countries that have shown that with a consistent and tailored use of proven public health measures, this virus can be controlled, even without vaccines.\"-@DrTedros\n\"In many countries, the emergence of rapidly spreading variants, combined with premature easing of public health and social measures, and the inequitable distribution of vaccines, is having tragic consequences as we all know.\"-@DrTedros\n\"The Strategic Advisory Group of Experts on Immunization, or SAGE, has also reviewed the available data, and recommends the vaccine for adults 18 years and older, with a two-dose schedule.\"-@DrTedros   https://t.co/0ASiom6H72\n\"We encourage governments to offer incentives to manufacturers to share technology &amp; know-how.  And we encourage countries with the most vaccines to donate doses through COVAX, which is the fastest &amp; most equitable way to increase the distribution of vaccines globally.\"-@DrTedros\n\"We would not have the vaccines, medicines, diagnostics and devices that save lives and improve well-being around the world if it were not for the innovation of the private sector.\"-@DrTedros\nIncreased transparency &amp; access to clinical data for all new medicines &amp; vaccines would improve: ✅ the overall scientific evidence base ✅ public trust ✅ data integrity &amp; quality  ✅ the pace of scientific advancement  👉  https://t.co/2GRrUbvZ9R  https://t.co/tbK8qe1U0V\n🆕 Joint Statement by International Coalition of Medicines Regulatory Authorities (ICMRA) &amp; WHO calls on the pharmaceutical industry to provide wide access to clinical data for all new medicines and vaccines.   👉  https://t.co/2GRrUbvZ9R  https://t.co/OKh4bWg5cY\n\"We face a shared threat that we can only overcome with shared solutions: 💵 Sharing financial resources; 💉 Sharing vaccine doses and production capacity; 🔬 Sharing technology, know-how and waiving intellectual property.\"-@DrTedros\nThe @ACTAccelerator's Health Systems Connector has: ✅ Procured over US$ 500 million of personal protective equipment ✅ Assessed country readiness for the deployment of vaccines in more than 140 countries   👉   https://t.co/gLFBHUMxHa  https://t.co/bffEFo3qNB\n\"That means: -sharing 💰 resources to fully fund the @ACTAccelerator -sharing vaccine doses to protect the most at-risk -all countries being transparent about their bilateral dose donations -sharing technology, know-how &amp; IP, to urgently &amp; massively scale up production\"-@DrTedros\n\"We’re deeply concerned about the increasing number of cases &amp; deaths in 🇮🇳 right now. The situation is complex &amp; requires different responses in different parts of the country &amp; I welcome the steps the govt has taken to reduce social mixing &amp; boost vaccine production\"-@DrTedros\nWHO is seeking expressions of interest from small/middle-sized manufacturers of drugs, vaccines or drug substances, preferably in LMICs, which could host a COVID-19 mRNA hub  https://t.co/I21nz7Gunm\n\"Earlier today I joined several leaders from Africa for a discussion about how to increase local vaccine production. It was very encouraging to hear Rwanda, Senegal and South Africa speak about the concrete steps they have so far taken to start local production\"-@DrTedros\nBased on current information, a causal relationship between the vaccine and the occurrence of blood clots with low platelets is considered plausible but is not confirmed  https://t.co/p8XMMAiUne\n\"We’re not in a race against each other, we’re in a race against the virus &amp; over the last year the @ACTAccelerator has been critical for ensuring that new vaccines, lifesaving oxygen, corticosteroids for severe disease &amp; rapid tests are being shared more equitably\"-@DrTedros\n\"We urge all countries &amp; individuals to pay careful attention to this issue. Any suspicious sale of vaccines should be reported to national authorities, who will report it to WHO. Information flow is essential to map global threats &amp; protect confidence in vaccines\"-@DrTedros\n🔸 Pathogen 🔸 Antigen 🔸 Antibody  What do they mean when it comes to vaccines❓  👀 Watch this video to find out 👇  https://t.co/i8FnoKSBm5\n\"This measure was taken as a precaution while a full investigation is finalised. It's important to note that the @EMA_News has said there is no indication of a link between the vaccine &amp; 🩸 clots &amp; that it can continue to be used while its investigation is ongoing\"-@DrTedros\n\"4⃣ many countries with vaccine manufacturing capacity can start producing their own vaccines by waiving intellectual property rights, as provided for in the TRIPS agreement. Those provisions are there for use in emergencies. If now is not a time to use them, when is?\"-@DrTedros\nThe agreement makes use of the multi-partner Humanitarian Mechanism, launched in 2017. Rotavirus vaccine is the second vaccine to be accessed through the scheme. The first to be made available was the pneumococcal vaccine.  ➡️  https://t.co/glVh5fOV3u\n👏🏼👏🏼 for a landmark pricing agreement which provides opportunity to make rotavirus vaccine available to more children living in humanitarian crises.   https://t.co/glVh5fOV3u  https://t.co/NNhe39jUvD\n\"Antiretrovirals for HIV were first approved in 1996, but more than a decade passed before the world’s poor got access to them.   In the same way, when the H1N1 pandemic erupted in 2009, vaccines were developed but by the time the poor got access, the pandemic was over\"-@DrTedros\n\"One of the 1st roadmaps developed was for the MERS-coronavirus, which had, at that time, infected 1600 people &amp; caused almost 600 deaths. Much of the work done on developing vaccines for MERS laid the groundwork for the development of vaccines against the SARS-CoV-2\"-@DrTedros\n\"The West African Ebola outbreak gave rise to vaccines, but it also gave rise to WHO’s Research and Development Blueprint for epidemics, a strategy to facilitate the rapid development of vaccines, diagnostics and therapeutics in response to outbreaks\"-@DrTedros\n\"Four months later, preliminary efficacy data were announced.  By that stage, the outbreak was waning, and the vaccines arrived too late to benefit the majority of those affected\"-@DrTedros    https://t.co/MwaVrkvEtQ\n\"In response, WHO brought together a global consortium to facilitate the rapid development and evaluation of several vaccine candidates.   In Guinea, we coordinated an innovative phase 3 trial and hired and trained national staff to conduct it\"-@DrTedros\n\"As I often say, there is no vaccine for poverty, no vaccine for hunger, no vaccine for climate change and no vaccine for inequality\"-@DrTedros\n\"Last year, with the support of President @vonderleyen, WHO and our partners launched the @ACTAccelerator, with two aims: to develop vaccines, tests and treatments fast, and distribute them fairly.   The first objective has been achieved; the second is in jeopardy\"-@DrTedros\n\"Among many other achievements, she played a vital role in the development and implementation of a low-cost vaccine to prevent epidemic meningococcal meningitis in Africa.   Dr @DrNancyM_CDC, thank you so much for joining us today\"-@DrTedros\n\"Tomorrow marks the halfway point &amp; we have made progress, but we are not there yet. With the emergency use listing of 2 versions of the AstraZeneca vaccine, COVAX is ready to roll out vaccines &amp; is waiting for several manufacturers to make good on their commitments\"-@DrTedros\n\"The new plan builds on last year’s SPRP, with 6 objectives: Suppress transmission Reduce exposure Counter misinformation &amp; disinformation Protect the vulnerable Reduce death &amp; illness Accelerate equitable access to new tools, incl. vaccines, diagnostics &amp; therapeutics\"-@DrTedros\n128 million vaccine doses have been administered so far &amp; more than 3/4 of those vaccinations are in just 🔟 countries.  We need to ensure that vaccine rollouts begin in all countries in the first 💯 days of 2021. Here's how 👉 https://t.co/MEEI8XzeGk  https://t.co/XuTVbYGlQx\n\"We know viruses mutate and we know we have to be ready to adapt vaccines so they remain effective.  This is what happens with flu vaccines, which are updated twice a year to match the dominant strains\"-@DrTedros\nIn addition to phases 1⃣ &amp; 2⃣, up to 5% of the total number of available doses of vaccine are reserved for other vulnerable populations as part of a “humanitarian buffer”  Learn more 👉 https://t.co/OIrswJq1vi  https://t.co/Nn7236KoSw\n2⃣ phase of allocation: countries would receive additional doses of vaccine, depending on their risk and if substantial supply limitations remain  Learn more in detail 👉 https://t.co/OIrswJq1vi  https://t.co/M2kDQBi4kH\n👀 Watch and follow the journey of a vaccine from development &amp; clinical trials ➡️ to manufacturing &amp; cold storage ➡️ to vaccination 👉 https://t.co/oLeDZSpZj6⠀  https://t.co/lrk6SNWnkq\nWhy are there so many vaccines in development❓  Typically, many vaccine candidates will be evaluated before any are found to be both safe &amp; effective. Having lots of different vaccines in development increases the chances that there will be one or more successful vaccines.  https://t.co/ByyhnXvFhs\nA nucleic acid vaccine delivers a specific set of instructions to our cells, either as DNA or mRNA, for them to make the specific protein that we want our immune system to recognize and respond to.  Learn more 👉 https://t.co/2V0FOThmpl  https://t.co/wHzTuSoh24\nThe genetic approach (nucleic acid vaccine) uses a section of genetic material that provides the instructions for specific proteins, not the whole microbe.   Learn more 👉 https://t.co/2V0FOThmpl  https://t.co/p9wb8XIenC\nThe subunit approach uses the parts of the germ (or microbe) that triggers the immune system.   Most of the vaccines on the childhood schedule are subunit vaccines. Learn more 👉 https://t.co/2V0FOThmpl  https://t.co/Xq4ChUGDqm\nWhat about quality control❓  The safety of the vaccine is paramount. National authorities &amp; WHO constantly monitor &amp; conduct regular assessments &amp; post-approval clinical studies to report on its safety &amp; effectiveness.  More info 👉 https://t.co/oLeDZSpZj6  https://t.co/kbvdchYHsa\nHow is a vaccine shipped❓  ✈️To maintain this cold chain, vaccines are shipped using specialized equipment 🚚Refrigerated lorries transport the vaccines to the cold room 🧊Portable iceboxes are used to transport vaccines to regional centres  More info 👉 https://t.co/oLeDZSpZj6  https://t.co/wmwyc68Fzk\nHow is a vaccine stored❓  Vaccines need to be stored at the correct temperature.  Most vaccines require refrigerated storage at between 2 and 8 °C. Some newer vaccines need to be kept cold at -20°C or ultra-cold at -70°C.  More info👇👇👇 https://t.co/oLeDZSpZj6\nHow is a vaccine approved for production❓  1⃣ Pre-approval stage following clinical trials 2⃣ Regulatory assessment &amp; approval 3⃣ WHO prequalification &amp; approval 4⃣ Ready for production  Find out more in detail 👉 https://t.co/oLeDZSpZj6  https://t.co/o0W2t6YSNy\n\"The report: -projects that most countries will recover in the 2nd half of 2021, depending on vaccination rollout -recommends intl. support for low- &amp; middle-income countries to support vaccine rollout &amp; to promote economic &amp; employment recovery\"-@DrTedros  https://t.co/5dzL8nyN6X\n\"It’s important we all remember that vaccines will complement but not replace the proven public health measures that have been shown to suppress transmission &amp; save lives. We still have a lot of work to do, but the 💡 at the end of the tunnel continues to grow brighter\"-@DrTedros\n\"Vaccines are giving us all hope of ending the pandemic &amp; getting the 🌍 economy on the road to recovery. But we can only end the pandemic anywhere if we end it everywhere. And to do that, we need every Member State, every partner &amp; every vaccine producer on board\"-@DrTedros\n\"I urge: -manufacturers prioritise supply &amp; rollout through COVAX. -countries that have contracted more vaccines than they'll need, &amp; are controlling the 🌍 supply to also donate &amp; release them to COVAX immediately, which is ready TODAY to rollout them out equitably\"-@DrTedros\n\"Following the Emergency Use Listing last week, the SAGE group met today to discuss policy recommendations for the use of the Pfizer/BioNTech vaccine. I would like to invite the chair Dr. Alejandro Cravioto to tell us about the recommendations\"-@DrTedros   https://t.co/99MmQF58kq  https://t.co/ym2JCBFJWi\nThe COVAX Facility has opened another potential source of vaccines: the Principles for Dose-Sharing, which provides a framework for higher-income economies to make additional volumes secured via bilateral deals available through the Facility on an equitable basis.\nThe new deals include: Advance purchase agreement with AstraZeneca for 170M doses of the AstraZeneca/Oxford candidate vaccine Memorandum of understanding with Johnson &amp; Johnson for 500M doses of the Janssen candidate, which is currently being investigated as a single dose vaccine\n@MHRAgovuk @pfizer @BioNTech_Group @UNICEF WHO’s Strategic Advisory Group of Experts on Immunization is reviewing the vaccine and formulating policy recommendations on its use.\n@MHRAgovuk @pfizer @BioNTech_Group A WHO emergency use listing allows countries to authorize the vaccine for national emergency use and could open the door to international supplies through global procurers like @UNICEF.\n@MHRAgovuk @pfizer @BioNTech_Group WHO has received the data on the vaccine from the manufacturer and is reviewing it for possible listing for emergency use.\nFor more information on vaccine safety, check WHO Q&amp;A ⬇️  https://t.co/HIGtj0VAPk\n\"That there are enough masks, gloves &amp; other protective equipment.  That governments have access to enough tests, therapeutics &amp; supplies to cope with demand now.  That health systems will be ready when safe &amp; effective vaccines are rolled out\"-@DrTedros   https://t.co/Pho7FtzgIL\nBefore medicines &amp; vaccines are made widely available, they are rigorously tested in patients &amp; healthy volunteers to 🔎 how: ✅well they work ✅safe they are  It is 🔑 to monitor their safety &amp; effectiveness once they are widely used in a population.  👉  https://t.co/BZBUDCg9xj  https://t.co/pQ4viy3Sa7\nAccording to the 🆕 Results Report, new strategies have helped  ✅improve patient safety ✅increase financial protection ✅ensure core regulatory functions for medicines &amp; vaccines ✅increase service coverage index from 45% in 2000 to 66% in 2017  👉 https://t.co/RdTIqFUgo4  https://t.co/XsFlzXcOHw\n\"Herd immunity is only possible with safe &amp; effective vaccines that are distributed equitably around the 🌍.  Until we have a vaccine, govts &amp; ppl must do all that they can to suppress transmission, which is the best way to prevent the post-COVID long-term consequences\"-@DrTedros\n\"On 9 Oct. I shared that 171 countries &amp; economies were part of the @gavi, @CEPIvaccines &amp; WHO-led COVAX initiative for vaccine access. I am pleased to announce that now 184 countries have now joined COVAX. The most recent countries joining over the weekend are 🇪🇨 &amp; 🇺🇾\"-@DrTedros\nAchieving herd immunity with safe and effective vaccines makes diseases rarer and saves lives.   👉  https://t.co/X9N7zcyfOX   https://t.co/oRJTq3oQ1Y\nThe 64 members of the Facility will be joined by 92 low- and middle-income economies eligible for support for the procurement of vaccines through the @gavi COVAX Advance Market Commitment, a financing instrument aimed at supporting the procurement of vaccines for these countries.  https://t.co/lEJSqX1goI\n\"Currently, the ACT-Accelerator is supporting research into promising vaccines, therapeutics &amp; diagnostics. But we need to rapidly scale up our clinical trials, manufacturing, licensing &amp; regulation capacity so that these products can get to people &amp; start saving lives\"-@DrTedros\n\"Our last media briefing focused on the world’s progress in developing new diagnostic tests, therapeutics &amp; vaccines.  Today, I’m going to outline some of the key logistical hurdles we’ve faced in the last 8 months, shipping lifesaving medical equipment around the 🌍\"-@DrTedros\nIn 2019, nearly 14 million children missed out on life-saving vaccines such as measles and diphtheria, tetanus and pertussis (DTP3). Most of these children live in Africa and are likely to lack access to other health services.  https://t.co/fexIvlFgqD  https://t.co/4tdoVpNSYX\nThe likelihood that a child born today will be fully vaccinated with all the globally recommended vaccines by the time she reaches the age of 5 is less than 20 per cent  https://t.co/fexIvlFgqD  https://t.co/GIA8wTtKYd\nPreliminary data for the first four months of 2020 points to a substantial drop in the number of children completing three doses of the vaccine against diphtheria, tetanus and pertussis (DTP3), the marker for immunization coverage within and across countries.  https://t.co/az8UdTPlne\n\"We expect to reach a total of 10M cases within the next week. This is a sober reminder that even as we continue R&amp;D into vaccines &amp; therapeutics, we have an urgent responsibility to do everything we can with the tools we have now to suppress transmission &amp; save lives\"-@DrTedros\n\"As we work with governments across the 🌍 to suppress the virus and accelerate science around diagnostics, therapeutics and vaccines, we also continue to respond to other health emergencies and new disease outbreaks\"-@DrTedros\nAccording to data collected by WHO, @UNICEF, @gavi &amp; @sabinvaccine, provision of routine immunization services is substantially hindered in at least 68 countries, likely to affect approximately 80M children under the age of 1. 👉  https://t.co/Q5L45E5N4V  https://t.co/U4kUQXJJ35\n\"But of course, today’s event only covers one part of the response – for R&amp;D in vaccines, diagnostics &amp; therapeutics.  In the weeks &amp; months ahead, we will need much more to meet the demand for personal protective equipment, medical oxygen &amp; other essential supplies\"-@DrTedros\nThe @MeaslesRubella Initiative supports recommendations to:  -temporarily pause preventive immunization campaigns where there's no active outbreak of a vaccine-preventable disease -continue routine immunization services, while ensuring the safety of communities and health workers  https://t.co/aDquIpJuPP\n\"We’ve brought scientists together to boost funding in the R&amp;D of diagnostics, treatments &amp; a future vaccine.   We’ve communicated online, via the media &amp; in person with many world leaders, to ensure that preparations are accelerated &amp; populations are sensitized\"-@DrTedros\n@DrTedros @WHOWPRO @WHOSEARO @pahowho @WHO_Europe @WHOEMRO @WHOAFRO \"[We must:]  -accelerate the development of vaccines, therapeutics &amp; diagnostics; -combat the spread of rumours &amp; misinformation.  -review preparedness plans, identify gaps &amp; evaluate the resources needed to identify, isolate &amp; care for cases, &amp; prevent transmission\"-@DrTedros\n@WHOAFRO @pahowho @WHO_Europe @WHOSEARO @WHOEMRO @WHOWPRO A vaccine will only be approved for use if  -it provides proven protection against a disease  -it is manufactured according to the highest standards  -it is proven to be very safe, with high quality monitoring to detect rare side effects   https://t.co/xrE518HHwS\nQ: Can a child be given 1+ vaccine at a time?  A: Scientific evidence shows that giving multiple vaccines at the same time is safe and effective for children. Some vaccines are combined into a single injection meaning fewer injections, and less discomfort for the child  https://t.co/q2mKq6Ujku\nAbout 1/3 of the 🌍’s people lack access to medicines, vaccines, diagnostic tools &amp; other health products. WHO will sharpen its focus on: -Fighting substandard &amp; falsified medical products -Helping countries' build capacity to assure the quality of medical products  https://t.co/l0IpIuWi7w\n"
     ]
    },
    {
     "output_type": "execute_result",
     "data": {
      "text/plain": [
       "81"
      ]
     },
     "metadata": {},
     "execution_count": 27
    }
   ],
   "source": [
    "# check number of tweets without hashtags\n",
    "n = 0\n",
    "for i in range(len(df)):\n",
    "    if '[]' == df['hashtags'][i]:\n",
    "        if 'vaccine' in df['tweet'][i]:\n",
    "            print(df['tweet'][i])\n",
    "            n += 1\n",
    "n"
   ]
  },
  {
   "cell_type": "code",
   "execution_count": 22,
   "metadata": {},
   "outputs": [],
   "source": [
    "for i in range(len(df)):\n",
    "    if 'test_statement' in df['hashtags'][i]:\n",
    "        print(df['tweet'][i])"
   ]
  }
 ],
 "nbformat": 4,
 "nbformat_minor": 2,
 "metadata": {
  "orig_nbformat": 2,
  "deepnote": {
   "is_reactive": false
  },
  "deepnote_notebook_id": "2e568cc1-9106-404a-b21e-84fb7b0781c3",
  "deepnote_execution_queue": [],
  "kernelspec": {
   "name": "python383jvsc74a57bd0e037ebae06607833108a0b7e17e85d7df9949872f53cdbbb39594cf74144a877",
   "display_name": "Python 3.8.3 64-bit"
  }
 }
}