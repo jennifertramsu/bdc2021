{
 "cells": [
  {
   "cell_type": "code",
   "metadata": {
    "tags": [],
    "cell_id": "00002-cc24c0e8-c81f-41a4-9200-081a491c457c",
    "deepnote_to_be_reexecuted": false,
    "source_hash": "f0278929",
    "execution_start": 1621972370456,
    "execution_millis": 11,
    "deepnote_cell_type": "code"
   },
   "source": [
    "import pandas as pd \n",
    "import numpy as np\n",
    "import matplotlib.pyplot as plt\n",
    "from IPython.display import display\n",
    "import os\n",
    "import glob         "
   ],
   "execution_count": 3,
   "outputs": []
  },
  {
   "cell_type": "code",
   "metadata": {
    "tags": [],
    "cell_id": "00002-453510b1-44bb-415b-a508-58ddd28cb40d",
    "deepnote_to_be_reexecuted": false,
    "source_hash": "c9401596",
    "execution_start": 1621972371063,
    "execution_millis": 156,
    "deepnote_cell_type": "code"
   },
   "source": [
    "# credible; makes dictionary of datasets sorted by user (credible), and dataframe of all credible tweets with username as additional column (credible_df) \n",
    "df_path = glob.glob('C:/Users/Maggie/Documents/BDC/bdc2021/Datasets/Credible/*.csv')\n",
    "credible = {}\n",
    "df_ls = []\n",
    "\n",
    "for path in df_ls:\n",
    "    df = pd.read_csv(path)\n",
    "    df = df[['name','tweet','mentions','urls','photos','replies_count','retweets_count','likes_count','hashtags','retweet']]\n",
    "\n",
    "    # general keywords used for dataset 4: ncov19, ncov2019, covid, rona, stayathome, socialdistancing\n",
    "    covid = df.loc[df['tweet'].str.contains('covid|coronavirus|rona|wearamask|socialdistancing|stayathome|ncov|symptomatic|covax', case=False)]\n",
    "\n",
    "    df_ls.append(covid)\n",
    "    credible[path.split('\\\\')[-1][:-4]] = covid.drop(['name'], axis = 1)\n",
    "\n",
    "credible_df = pd.concat(df_ls, ignore_index = True)"
   ],
   "execution_count": 17,
   "outputs": []
  },
  {
   "cell_type": "code",
   "execution_count": null,
   "metadata": {},
   "outputs": [],
   "source": [
    "# News_Outlets\n",
    "df_path = glob.glob('C:/Users/Maggie/Documents/BDC/bdc2021/Datasets/Credible/*.csv')\n",
    "news = {}\n",
    "df_ls = []\n",
    "\n",
    "for path in df_ls:\n",
    "    df = pd.read_csv(path)\n",
    "    df = df[['name','tweet','mentions','urls','photos','replies_count','retweets_count','likes_count','hashtags','retweet']]\n",
    "\n",
    "    # general keywords used for dataset 4: ncov19, ncov2019, covid, rona, stayathome, socialdistancing\n",
    "    covid = df.loc[df['tweet'].str.contains('covid|coronavirus|rona|wearamask|socialdistancing|stayathome|ncov|symptomatic|covax', case=False)]\n",
    "    \n",
    "    df_ls.append(covid)\n",
    "    news[path.split('\\\\')[-1][:-4]] = covid.drop(['name'], axis = 1)\n",
    "\n",
    "news_df = pd.concat(df_ls, ignore_index = True)\n",
    "\n",
    "    "
   ]
  },
  {
   "cell_type": "code",
   "execution_count": null,
   "metadata": {},
   "outputs": [],
   "source": [
    "# Individual\n",
    "df_path = glob.glob('C:/Users/Maggie/Documents/BDC/bdc2021/Datasets/Political/*.csv')\n",
    "ind = {}\n",
    "df_ls = []\n",
    "\n",
    "for path in df_ls:\n",
    "    df = pd.read_csv(path)\n",
    "    df = df[['name','tweet','mentions','urls','photos','replies_count','retweets_count','likes_count','hashtags','retweet']]\n",
    "\n",
    "    # general keywords used for dataset 4: ncov19, ncov2019, covid, rona, stayathome, socialdistancing\n",
    "    covid = df.loc[df['tweet'].str.contains('covid|coronavirus|rona|wearamask|socialdistancing|stayathome|ncov|symptomatic|covax', case=False)]\n",
    "    \n",
    "    df_ls.append(covid)\n",
    "    news[path.split('\\\\')[-1][:-4]] = covid.drop(['name'], axis = 1)\n",
    "\n",
    "ind_df = pd.concat(df_ls, ignore_index = True)\n"
   ]
  }
 ],
 "nbformat": 4,
 "nbformat_minor": 2,
 "metadata": {
  "orig_nbformat": 2,
  "deepnote": {
   "is_reactive": false
  },
  "deepnote_notebook_id": "2e568cc1-9106-404a-b21e-84fb7b0781c3",
  "deepnote_execution_queue": [],
  "kernelspec": {
   "name": "python383jvsc74a57bd0e037ebae06607833108a0b7e17e85d7df9949872f53cdbbb39594cf74144a877",
   "display_name": "Python 3.8.3 64-bit"
  }
 }
}