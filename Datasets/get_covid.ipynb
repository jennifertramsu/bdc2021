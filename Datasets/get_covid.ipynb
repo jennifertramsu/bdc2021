{
 "cells": [
  {
   "cell_type": "code",
   "metadata": {
    "tags": [],
    "cell_id": "00002-cc24c0e8-c81f-41a4-9200-081a491c457c",
    "deepnote_to_be_reexecuted": false,
    "source_hash": "f0278929",
    "execution_start": 1621972370456,
    "execution_millis": 11,
    "deepnote_cell_type": "code"
   },
   "source": [
    "import pandas as pd \n",
    "import numpy as np\n",
    "import matplotlib.pyplot as plt\n",
    "from IPython.display import display\n",
    "import os\n",
    "import glob         "
   ],
   "execution_count": null,
   "outputs": []
  },
  {
   "cell_type": "code",
   "metadata": {
    "tags": [],
    "cell_id": "00002-453510b1-44bb-415b-a508-58ddd28cb40d",
    "deepnote_to_be_reexecuted": false,
    "source_hash": "c9401596",
    "execution_start": 1621972371063,
    "execution_millis": 156,
    "deepnote_cell_type": "code"
   },
   "source": [
    "# credible; makes dictionary of datasets sorted by user (credible), and dataframe of all credible tweets with username as additional column (credible_df) \n",
    "df_path = glob.glob('./Credible/*.csv')\n",
    "credible = {}\n",
    "df_ls = []\n",
    "\n",
    "for path in df_path:\n",
    "    df = pd.read_csv(path)\n",
    "    df = df[['name','tweet','mentions','urls','photos','replies_count','retweets_count','likes_count','hashtags','retweet']]\n",
    "\n",
    "    # general keywords used for dataset 4: ncov19, ncov2019, covid, rona, stayathome, socialdistancing\n",
    "    covid = df.loc[df['tweet'].str.contains('covid|coronavirus|rona|wearamask|socialdistancing|stayathome|ncov|symptomatic|covax', case=False)]\n",
    "\n",
    "    df_ls.append(covid)\n",
    "    credible[path.split('\\\\')[-1][:-4]] = covid.drop(['name'], axis = 1)\n",
    "\n",
    "credible_df = pd.concat(df_ls, ignore_index = True)\n",
    "credible_df"
   ],
   "execution_count": null,
   "outputs": []
  },
  {
   "cell_type": "code",
   "execution_count": 32,
   "metadata": {},
   "outputs": [
    {
     "output_type": "stream",
     "name": "stderr",
     "text": [
      "C:\\Users\\Jennifer Tramsu\\AppData\\Roaming\\Python\\Python39\\site-packages\\IPython\\core\\interactiveshell.py:3169: DtypeWarning: Columns (22) have mixed types.Specify dtype option on import or set low_memory=False.\n  has_raised = await self.run_ast_nodes(code_ast.body, cell_name,\n"
     ]
    },
    {
     "output_type": "execute_result",
     "data": {
      "text/plain": [
       "                      name                                              tweet  \\\n",
       "0                      BBC  The NHS is carrying out the biggest mass vacci...   \n",
       "1                      BBC  London to move to tier 3, England's highest ti...   \n",
       "2                      BBC  A 90-year-old woman has become the first perso...   \n",
       "3                      BBC  Who will be first in line for the Covid vaccin...   \n",
       "4                      BBC  England will go back to a three-tier system of...   \n",
       "...                    ...                                                ...   \n",
       "27757  The Washington Post  First U.S. case of potentially deadly coronavi...   \n",
       "27758  The Washington Post  Best actress in a leading role  Renée Zellwege...   \n",
       "27759  The Washington Post  China identifies new strain of coronavirus as ...   \n",
       "27760  The Washington Post  China identifies new strain of coronavirus as ...   \n",
       "27761  The Washington Post  In Artemis program, NASA to send astronauts to...   \n",
       "\n",
       "      mentions                         urls  \\\n",
       "0           []                           []   \n",
       "1           []   ['https://bbc.in/34dOklj']   \n",
       "2           []    ['http://bbc.in/2VS4yfq']   \n",
       "3           []                           []   \n",
       "4           []                           []   \n",
       "...        ...                          ...   \n",
       "27757       []  ['https://wapo.st/38kxG30']   \n",
       "27758       []  ['https://wapo.st/2Tm3U9M']   \n",
       "27759       []  ['https://wapo.st/36ymQG5']   \n",
       "27760       []  ['https://wapo.st/2sYHlNu']   \n",
       "27761       []  ['https://wapo.st/2ZQIsuF']   \n",
       "\n",
       "                                                  photos  replies_count  \\\n",
       "0                                                     []              5   \n",
       "1                                                     []             11   \n",
       "2      ['https://pbs.twimg.com/media/EotVFbWW4AkS-5M....              6   \n",
       "3                                                     []              7   \n",
       "4                                                     []              6   \n",
       "...                                                  ...            ...   \n",
       "27757                                                 []             12   \n",
       "27758                                                 []              7   \n",
       "27759                                                 []              8   \n",
       "27760                                                 []              9   \n",
       "27761                                                 []             27   \n",
       "\n",
       "       retweets_count  likes_count hashtags  retweet  \n",
       "0                  11           32       []    False  \n",
       "1                  21           40       []    False  \n",
       "2                  21          126       []    False  \n",
       "3                  13           38       []    False  \n",
       "4                   8           28       []    False  \n",
       "...               ...          ...      ...      ...  \n",
       "27757              86           78       []    False  \n",
       "27758              24           77       []    False  \n",
       "27759              37           65       []    False  \n",
       "27760              40           61       []    False  \n",
       "27761              57          196       []    False  \n",
       "\n",
       "[27762 rows x 10 columns]"
      ],
      "text/html": "<div>\n<style scoped>\n    .dataframe tbody tr th:only-of-type {\n        vertical-align: middle;\n    }\n\n    .dataframe tbody tr th {\n        vertical-align: top;\n    }\n\n    .dataframe thead th {\n        text-align: right;\n    }\n</style>\n<table border=\"1\" class=\"dataframe\">\n  <thead>\n    <tr style=\"text-align: right;\">\n      <th></th>\n      <th>name</th>\n      <th>tweet</th>\n      <th>mentions</th>\n      <th>urls</th>\n      <th>photos</th>\n      <th>replies_count</th>\n      <th>retweets_count</th>\n      <th>likes_count</th>\n      <th>hashtags</th>\n      <th>retweet</th>\n    </tr>\n  </thead>\n  <tbody>\n    <tr>\n      <th>0</th>\n      <td>BBC</td>\n      <td>The NHS is carrying out the biggest mass vacci...</td>\n      <td>[]</td>\n      <td>[]</td>\n      <td>[]</td>\n      <td>5</td>\n      <td>11</td>\n      <td>32</td>\n      <td>[]</td>\n      <td>False</td>\n    </tr>\n    <tr>\n      <th>1</th>\n      <td>BBC</td>\n      <td>London to move to tier 3, England's highest ti...</td>\n      <td>[]</td>\n      <td>['https://bbc.in/34dOklj']</td>\n      <td>[]</td>\n      <td>11</td>\n      <td>21</td>\n      <td>40</td>\n      <td>[]</td>\n      <td>False</td>\n    </tr>\n    <tr>\n      <th>2</th>\n      <td>BBC</td>\n      <td>A 90-year-old woman has become the first perso...</td>\n      <td>[]</td>\n      <td>['http://bbc.in/2VS4yfq']</td>\n      <td>['https://pbs.twimg.com/media/EotVFbWW4AkS-5M....</td>\n      <td>6</td>\n      <td>21</td>\n      <td>126</td>\n      <td>[]</td>\n      <td>False</td>\n    </tr>\n    <tr>\n      <th>3</th>\n      <td>BBC</td>\n      <td>Who will be first in line for the Covid vaccin...</td>\n      <td>[]</td>\n      <td>[]</td>\n      <td>[]</td>\n      <td>7</td>\n      <td>13</td>\n      <td>38</td>\n      <td>[]</td>\n      <td>False</td>\n    </tr>\n    <tr>\n      <th>4</th>\n      <td>BBC</td>\n      <td>England will go back to a three-tier system of...</td>\n      <td>[]</td>\n      <td>[]</td>\n      <td>[]</td>\n      <td>6</td>\n      <td>8</td>\n      <td>28</td>\n      <td>[]</td>\n      <td>False</td>\n    </tr>\n    <tr>\n      <th>...</th>\n      <td>...</td>\n      <td>...</td>\n      <td>...</td>\n      <td>...</td>\n      <td>...</td>\n      <td>...</td>\n      <td>...</td>\n      <td>...</td>\n      <td>...</td>\n      <td>...</td>\n    </tr>\n    <tr>\n      <th>27757</th>\n      <td>The Washington Post</td>\n      <td>First U.S. case of potentially deadly coronavi...</td>\n      <td>[]</td>\n      <td>['https://wapo.st/38kxG30']</td>\n      <td>[]</td>\n      <td>12</td>\n      <td>86</td>\n      <td>78</td>\n      <td>[]</td>\n      <td>False</td>\n    </tr>\n    <tr>\n      <th>27758</th>\n      <td>The Washington Post</td>\n      <td>Best actress in a leading role  Renée Zellwege...</td>\n      <td>[]</td>\n      <td>['https://wapo.st/2Tm3U9M']</td>\n      <td>[]</td>\n      <td>7</td>\n      <td>24</td>\n      <td>77</td>\n      <td>[]</td>\n      <td>False</td>\n    </tr>\n    <tr>\n      <th>27759</th>\n      <td>The Washington Post</td>\n      <td>China identifies new strain of coronavirus as ...</td>\n      <td>[]</td>\n      <td>['https://wapo.st/36ymQG5']</td>\n      <td>[]</td>\n      <td>8</td>\n      <td>37</td>\n      <td>65</td>\n      <td>[]</td>\n      <td>False</td>\n    </tr>\n    <tr>\n      <th>27760</th>\n      <td>The Washington Post</td>\n      <td>China identifies new strain of coronavirus as ...</td>\n      <td>[]</td>\n      <td>['https://wapo.st/2sYHlNu']</td>\n      <td>[]</td>\n      <td>9</td>\n      <td>40</td>\n      <td>61</td>\n      <td>[]</td>\n      <td>False</td>\n    </tr>\n    <tr>\n      <th>27761</th>\n      <td>The Washington Post</td>\n      <td>In Artemis program, NASA to send astronauts to...</td>\n      <td>[]</td>\n      <td>['https://wapo.st/2ZQIsuF']</td>\n      <td>[]</td>\n      <td>27</td>\n      <td>57</td>\n      <td>196</td>\n      <td>[]</td>\n      <td>False</td>\n    </tr>\n  </tbody>\n</table>\n<p>27762 rows × 10 columns</p>\n</div>"
     },
     "metadata": {},
     "execution_count": 32
    }
   ],
   "source": [
    "# News_Outlets\n",
    "df_path = glob.glob('./News_Outlets/*.csv')\n",
    "news = {}\n",
    "df_ls = []\n",
    "\n",
    "for path in df_path:\n",
    "    if \"wire\" in path: # this is saved in a different format for some reason, skip for now\n",
    "        continue\n",
    "    df = pd.read_csv(path)\n",
    "    df = df[['name','tweet','mentions','urls','photos','replies_count','retweets_count','likes_count','hashtags','retweet']]\n",
    "\n",
    "    # general keywords used for dataset 4: ncov19, ncov2019, covid, rona, stayathome, socialdistancing\n",
    "    covid = df.loc[df['tweet'].str.contains('covid|coronavirus|rona|wearamask|socialdistancing|stayathome|ncov|symptomatic|covax', case=False)]\n",
    "    \n",
    "    df_ls.append(covid)\n",
    "    news[path.split('\\\\')[-1][:-4]] = covid.drop(['name'], axis = 1)\n",
    "\n",
    "news_df = pd.concat(df_ls, ignore_index = True)\n",
    "news_df\n"
   ]
  },
  {
   "cell_type": "code",
   "execution_count": 34,
   "metadata": {},
   "outputs": [
    {
     "output_type": "execute_result",
     "data": {
      "text/plain": [
       "                  name                                              tweet  \\\n",
       "0        Andrew Klavan  Vaccinated and impervious to covid, gentlemanl...   \n",
       "1        Andrew Klavan  This is a remarkably smart piece from @FDRLST,...   \n",
       "2        Andrew Klavan  Happy to have gotten my first Covid Vaccine. T...   \n",
       "3        Andrew Klavan  Biden Forms Corona Task Force to Marvel at Tru...   \n",
       "4        Andrew Klavan  And not just any antibodies. The best antibodi...   \n",
       "...                ...                                                ...   \n",
       "2866  Donald Trump Jr.  Interesting statistic that I just learned duri...   \n",
       "2867  Donald Trump Jr.  When @realDonaldTrump first shut down travel f...   \n",
       "2868  Donald Trump Jr.  2 competing convos over Coronavirus in US poli...   \n",
       "2869  Donald Trump Jr.  Coronavirus is the intersection of 3 issues @r...   \n",
       "2870  Donald Trump Jr.  The coronavirus outbreak shows how important i...   \n",
       "\n",
       "                                               mentions  \\\n",
       "0                                                    []   \n",
       "1     [{'screen_name': 'fdrlst', 'name': 'the federa...   \n",
       "2                                                    []   \n",
       "3                                                    []   \n",
       "4     [{'screen_name': 'epochtimes', 'name': 'the ep...   \n",
       "...                                                 ...   \n",
       "2866                                                 []   \n",
       "2867  [{'screen_name': 'realdonaldtrump', 'name': 'd...   \n",
       "2868                                                 []   \n",
       "2869  [{'screen_name': 'realdonaldtrump', 'name': 'd...   \n",
       "2870  [{'screen_name': 'realdonaldtrump', 'name': 'd...   \n",
       "\n",
       "                                                   urls photos  replies_count  \\\n",
       "0                                                    []     []             54   \n",
       "1     ['https://thefederalist.com/2021/03/10/the-rea...     []             17   \n",
       "2                                                    []     []             16   \n",
       "3     ['https://www.dailywire.com/news/biden-forms-c...     []             10   \n",
       "4     ['https://www.theepochtimes.com/trump-has-deve...     []             43   \n",
       "...                                                 ...    ...            ...   \n",
       "2866                                                 []     []           3296   \n",
       "2867                                                 []     []           1156   \n",
       "2868  ['https://www.nytimes.com/2020/02/26/opinion/c...     []            973   \n",
       "2869                                                 []     []           3157   \n",
       "2870                                                 []     []           5211   \n",
       "\n",
       "      retweets_count  likes_count           hashtags  retweet  \n",
       "0                153         1541                 []    False  \n",
       "1                226          717                 []    False  \n",
       "2                 28          486  ['savetheklavan']    False  \n",
       "3                 35          296                 []    False  \n",
       "4                109          580                 []    False  \n",
       "...              ...          ...                ...      ...  \n",
       "2866            8767        35795                 []    False  \n",
       "2867            5837        17483                 []    False  \n",
       "2868            2573         8871                 []    False  \n",
       "2869            9209        35073                 []    False  \n",
       "2870           10011        43871                 []    False  \n",
       "\n",
       "[2871 rows x 10 columns]"
      ],
      "text/html": "<div>\n<style scoped>\n    .dataframe tbody tr th:only-of-type {\n        vertical-align: middle;\n    }\n\n    .dataframe tbody tr th {\n        vertical-align: top;\n    }\n\n    .dataframe thead th {\n        text-align: right;\n    }\n</style>\n<table border=\"1\" class=\"dataframe\">\n  <thead>\n    <tr style=\"text-align: right;\">\n      <th></th>\n      <th>name</th>\n      <th>tweet</th>\n      <th>mentions</th>\n      <th>urls</th>\n      <th>photos</th>\n      <th>replies_count</th>\n      <th>retweets_count</th>\n      <th>likes_count</th>\n      <th>hashtags</th>\n      <th>retweet</th>\n    </tr>\n  </thead>\n  <tbody>\n    <tr>\n      <th>0</th>\n      <td>Andrew Klavan</td>\n      <td>Vaccinated and impervious to covid, gentlemanl...</td>\n      <td>[]</td>\n      <td>[]</td>\n      <td>[]</td>\n      <td>54</td>\n      <td>153</td>\n      <td>1541</td>\n      <td>[]</td>\n      <td>False</td>\n    </tr>\n    <tr>\n      <th>1</th>\n      <td>Andrew Klavan</td>\n      <td>This is a remarkably smart piece from @FDRLST,...</td>\n      <td>[{'screen_name': 'fdrlst', 'name': 'the federa...</td>\n      <td>['https://thefederalist.com/2021/03/10/the-rea...</td>\n      <td>[]</td>\n      <td>17</td>\n      <td>226</td>\n      <td>717</td>\n      <td>[]</td>\n      <td>False</td>\n    </tr>\n    <tr>\n      <th>2</th>\n      <td>Andrew Klavan</td>\n      <td>Happy to have gotten my first Covid Vaccine. T...</td>\n      <td>[]</td>\n      <td>[]</td>\n      <td>[]</td>\n      <td>16</td>\n      <td>28</td>\n      <td>486</td>\n      <td>['savetheklavan']</td>\n      <td>False</td>\n    </tr>\n    <tr>\n      <th>3</th>\n      <td>Andrew Klavan</td>\n      <td>Biden Forms Corona Task Force to Marvel at Tru...</td>\n      <td>[]</td>\n      <td>['https://www.dailywire.com/news/biden-forms-c...</td>\n      <td>[]</td>\n      <td>10</td>\n      <td>35</td>\n      <td>296</td>\n      <td>[]</td>\n      <td>False</td>\n    </tr>\n    <tr>\n      <th>4</th>\n      <td>Andrew Klavan</td>\n      <td>And not just any antibodies. The best antibodi...</td>\n      <td>[{'screen_name': 'epochtimes', 'name': 'the ep...</td>\n      <td>['https://www.theepochtimes.com/trump-has-deve...</td>\n      <td>[]</td>\n      <td>43</td>\n      <td>109</td>\n      <td>580</td>\n      <td>[]</td>\n      <td>False</td>\n    </tr>\n    <tr>\n      <th>...</th>\n      <td>...</td>\n      <td>...</td>\n      <td>...</td>\n      <td>...</td>\n      <td>...</td>\n      <td>...</td>\n      <td>...</td>\n      <td>...</td>\n      <td>...</td>\n      <td>...</td>\n    </tr>\n    <tr>\n      <th>2866</th>\n      <td>Donald Trump Jr.</td>\n      <td>Interesting statistic that I just learned duri...</td>\n      <td>[]</td>\n      <td>[]</td>\n      <td>[]</td>\n      <td>3296</td>\n      <td>8767</td>\n      <td>35795</td>\n      <td>[]</td>\n      <td>False</td>\n    </tr>\n    <tr>\n      <th>2867</th>\n      <td>Donald Trump Jr.</td>\n      <td>When @realDonaldTrump first shut down travel f...</td>\n      <td>[{'screen_name': 'realdonaldtrump', 'name': 'd...</td>\n      <td>[]</td>\n      <td>[]</td>\n      <td>1156</td>\n      <td>5837</td>\n      <td>17483</td>\n      <td>[]</td>\n      <td>False</td>\n    </tr>\n    <tr>\n      <th>2868</th>\n      <td>Donald Trump Jr.</td>\n      <td>2 competing convos over Coronavirus in US poli...</td>\n      <td>[]</td>\n      <td>['https://www.nytimes.com/2020/02/26/opinion/c...</td>\n      <td>[]</td>\n      <td>973</td>\n      <td>2573</td>\n      <td>8871</td>\n      <td>[]</td>\n      <td>False</td>\n    </tr>\n    <tr>\n      <th>2869</th>\n      <td>Donald Trump Jr.</td>\n      <td>Coronavirus is the intersection of 3 issues @r...</td>\n      <td>[{'screen_name': 'realdonaldtrump', 'name': 'd...</td>\n      <td>[]</td>\n      <td>[]</td>\n      <td>3157</td>\n      <td>9209</td>\n      <td>35073</td>\n      <td>[]</td>\n      <td>False</td>\n    </tr>\n    <tr>\n      <th>2870</th>\n      <td>Donald Trump Jr.</td>\n      <td>The coronavirus outbreak shows how important i...</td>\n      <td>[{'screen_name': 'realdonaldtrump', 'name': 'd...</td>\n      <td>[]</td>\n      <td>[]</td>\n      <td>5211</td>\n      <td>10011</td>\n      <td>43871</td>\n      <td>[]</td>\n      <td>False</td>\n    </tr>\n  </tbody>\n</table>\n<p>2871 rows × 10 columns</p>\n</div>"
     },
     "metadata": {},
     "execution_count": 34
    }
   ],
   "source": [
    "# Individual\n",
    "df_path = glob.glob('./Political/*.csv')\n",
    "ind = {}\n",
    "df_ls = []\n",
    "\n",
    "for path in df_path:\n",
    "    try:\n",
    "        df = pd.read_csv(path)\n",
    "        df = df[['name','tweet','mentions','urls','photos','replies_count','retweets_count','likes_count','hashtags','retweet']]\n",
    "\n",
    "    # general keywords used for dataset 4: ncov19, ncov2019, covid, rona, stayathome, socialdistancing\n",
    "        covid = df.loc[df['tweet'].str.contains('covid|coronavirus|rona|wearamask|socialdistancing|stayathome|ncov|symptomatic|covax', case=False)]\n",
    "    \n",
    "        df_ls.append(covid)\n",
    "        news[path.split('\\\\')[-1][:-4]] = covid.drop(['name'], axis = 1)\n",
    "    except:\n",
    "        continue\n",
    "\n",
    "ind_df = pd.concat(df_ls, ignore_index = True)\n",
    "ind_df\n",
    "\n"
   ]
  },
  {
   "cell_type": "code",
   "execution_count": null,
   "metadata": {},
   "outputs": [],
   "source": []
  }
 ],
 "nbformat": 4,
 "nbformat_minor": 2,
 "metadata": {
  "orig_nbformat": 2,
  "deepnote": {
   "is_reactive": false
  },
  "deepnote_notebook_id": "2e568cc1-9106-404a-b21e-84fb7b0781c3",
  "deepnote_execution_queue": [],
  "kernelspec": {
   "name": "python395jvsc74a57bd0df1d4501566b1753f163333fdb4ef33fd168166ab063e105c1cfc0db7fb36182",
   "display_name": "Python 3.9.5 64-bit"
  },
  "metadata": {
   "interpreter": {
    "hash": "df1d4501566b1753f163333fdb4ef33fd168166ab063e105c1cfc0db7fb36182"
   }
  }
 }
}