{
 "cells": [
  {
   "cell_type": "code",
   "metadata": {
    "tags": [],
    "deepnote_to_be_reexecuted": false,
    "source_hash": "483f2178",
    "execution_start": 1622059571962,
    "execution_millis": 769,
    "cell_id": "00000-e7bcdeac-9692-44a1-9d42-9cb391c5f8ac",
    "deepnote_cell_type": "code"
   },
   "source": "import pandas as pd \nimport numpy as np\nimport matplotlib.pyplot as plt\nfrom IPython.display import display\nimport os\nimport glob         ",
   "execution_count": null,
   "outputs": []
  },
  {
   "cell_type": "code",
   "metadata": {
    "tags": [],
    "deepnote_to_be_reexecuted": false,
    "source_hash": "dd681ba8",
    "execution_start": 1622059572779,
    "execution_millis": 983,
    "cell_id": "00001-fdb0c108-c3f2-4822-bba9-08db8980cbbb",
    "deepnote_cell_type": "code"
   },
   "source": "# credible; makes dictionary of datasets sorted by user (credible), and dataframe of all credible tweets with username as additional column (credible_df) \ndf_path = glob.glob('./Credible/*.csv')\ncredible = {}\ndf_ls = []\n\nfor path in df_path:\n    df = pd.read_csv(path)\n    df = df[['name','tweet','mentions','urls','photos','replies_count','retweets_count','likes_count','hashtags','retweet']]\n\n    # general keywords used for dataset 4: ncov19, ncov2019, covid, rona, stayathome, socialdistancing\n    covid = df.loc[df['tweet'].str.contains('covid|coronavirus|rona|wearamask|socialdistancing|stayathome|ncov|symptomatic|covax', case=False)]\n\n    df_ls.append(covid)\n    credible[path.split('\\\\')[-1][:-4]] = covid.drop(['name'], axis = 1)\n\ncredible_df = pd.concat(df_ls, ignore_index = True)\ncredible_df",
   "execution_count": null,
   "outputs": [
    {
     "output_type": "execute_result",
     "execution_count": 2,
     "data": {
      "application/vnd.deepnote.dataframe.v2+json": {
       "row_count": 11172,
       "column_count": 10,
       "columns": [
        {
         "name": "name",
         "dtype": "object",
         "stats": {
          "unique_count": 6,
          "nan_count": 0,
          "categories": [
           {
            "name": "World Health Organization (WHO)",
            "count": 7241
           },
           {
            "name": "CDC",
            "count": 2228
           },
           {
            "name": "4 others",
            "count": 1703
           }
          ]
         }
        },
        {
         "name": "tweet",
         "dtype": "object",
         "stats": {
          "unique_count": 11091,
          "nan_count": 0,
          "categories": [
           {
            "name": "Subscribe to get CDC’s COVID Data Tracker Weekly Review sent to your inbox every Friday:  https://t.co/m5w5IKMJIv.",
            "count": 11
           },
           {
            "name": "We are #InThisTogether to beat #COVID19 - tip 4⃣:  Cover your 👄 &amp; 👃 with your bent elbow or tissue when you cough/sneeze. Then dispose of the tissue immediately into a closed bin &amp; wash your hands.  Staying safe: ✅ protects you ✅ protects others   https://t.co/3LAiDYr5Ns",
            "count": 6
           },
           {
            "name": "11089 others",
            "count": 11155
           }
          ]
         }
        },
        {
         "name": "mentions",
         "dtype": "object",
         "stats": {
          "unique_count": 801,
          "nan_count": 0,
          "categories": [
           {
            "name": "[]",
            "count": 5644
           },
           {
            "name": "[{'screen_name': 'drtedros', 'name': 'tedros adhanom ghebreyesus', 'id': '189868631'}]",
            "count": 3657
           },
           {
            "name": "799 others",
            "count": 1871
           }
          ]
         }
        },
        {
         "name": "urls",
         "dtype": "object",
         "stats": {
          "unique_count": 3420,
          "nan_count": 0,
          "categories": [
           {
            "name": "[]",
            "count": 4888
           },
           {
            "name": "['https://bit.ly/2ViFflZ']",
            "count": 87
           },
           {
            "name": "3418 others",
            "count": 6197
           }
          ]
         }
        },
        {
         "name": "photos",
         "dtype": "object",
         "stats": {
          "unique_count": 4056,
          "nan_count": 0,
          "categories": [
           {
            "name": "[]",
            "count": 7055
           },
           {
            "name": "['https://pbs.twimg.com/media/EslmkAvXMAABQhL.jpg']",
            "count": 6
           },
           {
            "name": "4054 others",
            "count": 4111
           }
          ]
         }
        },
        {
         "name": "replies_count",
         "dtype": "int64",
         "stats": {
          "unique_count": 449,
          "nan_count": 0,
          "min": "0",
          "max": "15144",
          "histogram": [
           {
            "bin_start": 0,
            "bin_end": 1514.4,
            "count": 11153
           },
           {
            "bin_start": 1514.4,
            "bin_end": 3028.8,
            "count": 14
           },
           {
            "bin_start": 3028.8,
            "bin_end": 4543.200000000001,
            "count": 2
           },
           {
            "bin_start": 4543.200000000001,
            "bin_end": 6057.6,
            "count": 1
           },
           {
            "bin_start": 6057.6,
            "bin_end": 7572,
            "count": 0
           },
           {
            "bin_start": 7572,
            "bin_end": 9086.400000000001,
            "count": 0
           },
           {
            "bin_start": 9086.400000000001,
            "bin_end": 10600.800000000001,
            "count": 0
           },
           {
            "bin_start": 10600.800000000001,
            "bin_end": 12115.2,
            "count": 1
           },
           {
            "bin_start": 12115.2,
            "bin_end": 13629.6,
            "count": 0
           },
           {
            "bin_start": 13629.6,
            "bin_end": 15144,
            "count": 1
           }
          ]
         }
        },
        {
         "name": "retweets_count",
         "dtype": "int64",
         "stats": {
          "unique_count": 1094,
          "nan_count": 0,
          "min": "0",
          "max": "53438",
          "histogram": [
           {
            "bin_start": 0,
            "bin_end": 5343.8,
            "count": 11138
           },
           {
            "bin_start": 5343.8,
            "bin_end": 10687.6,
            "count": 21
           },
           {
            "bin_start": 10687.6,
            "bin_end": 16031.400000000001,
            "count": 7
           },
           {
            "bin_start": 16031.400000000001,
            "bin_end": 21375.2,
            "count": 1
           },
           {
            "bin_start": 21375.2,
            "bin_end": 26719,
            "count": 2
           },
           {
            "bin_start": 26719,
            "bin_end": 32062.800000000003,
            "count": 0
           },
           {
            "bin_start": 32062.800000000003,
            "bin_end": 37406.6,
            "count": 1
           },
           {
            "bin_start": 37406.6,
            "bin_end": 42750.4,
            "count": 1
           },
           {
            "bin_start": 42750.4,
            "bin_end": 48094.200000000004,
            "count": 0
           },
           {
            "bin_start": 48094.200000000004,
            "bin_end": 53438,
            "count": 1
           }
          ]
         }
        },
        {
         "name": "likes_count",
         "dtype": "int64",
         "stats": {
          "unique_count": 1509,
          "nan_count": 0,
          "min": "0",
          "max": "54828",
          "histogram": [
           {
            "bin_start": 0,
            "bin_end": 5482.8,
            "count": 11088
           },
           {
            "bin_start": 5482.8,
            "bin_end": 10965.6,
            "count": 57
           },
           {
            "bin_start": 10965.6,
            "bin_end": 16448.4,
            "count": 8
           },
           {
            "bin_start": 16448.4,
            "bin_end": 21931.2,
            "count": 5
           },
           {
            "bin_start": 21931.2,
            "bin_end": 27414,
            "count": 5
           },
           {
            "bin_start": 27414,
            "bin_end": 32896.8,
            "count": 1
           },
           {
            "bin_start": 32896.8,
            "bin_end": 38379.6,
            "count": 1
           },
           {
            "bin_start": 38379.6,
            "bin_end": 43862.4,
            "count": 3
           },
           {
            "bin_start": 43862.4,
            "bin_end": 49345.200000000004,
            "count": 2
           },
           {
            "bin_start": 49345.200000000004,
            "bin_end": 54828,
            "count": 2
           }
          ]
         }
        },
        {
         "name": "hashtags",
         "dtype": "object"
        },
        {
         "name": "retweet",
         "dtype": "bool"
        },
        {
         "name": "_deepnote_index_column",
         "dtype": "int64"
        }
       ],
       "rows_top": [
        {
         "name": "CDC",
         "tweet": "#COVID19 hospital admissions are declining in most age groups across the U.S. The New Hospital Admissions page on CDC’s COVID Data Tracker now shows data broken down by state or territory and age group. See COVID-19 hospital admissions in your area:  https://t.co/5sh6eaVnG3.  https://t.co/7FueMvCBrs",
         "mentions": "[]",
         "urls": "['https://bit.ly/CDThealthcare']",
         "photos": "['https://pbs.twimg.com/media/E2Qq1V7XEAInYzP.jpg']",
         "replies_count": 18,
         "retweets_count": 48,
         "likes_count": 94,
         "hashtags": "['covid19']",
         "retweet": "False",
         "_deepnote_index_column": 0
        },
        {
         "name": "CDC",
         "tweet": "When loved ones decide to get a #COVID19 vaccine, help make it happen. Offer to make the appointment, go with them, drive them, or babysit. Everyone who gets vaccinated brings us closer to moving past the COVID-19 pandemic. More:  https://t.co/tGGql5cDOC.  https://t.co/GtYpZRyy8b",
         "mentions": "[]",
         "urls": "['https://bit.ly/3cE25OH']",
         "photos": "['https://pbs.twimg.com/media/E2QePE7XoAcGnHV.jpg']",
         "replies_count": 55,
         "retweets_count": 90,
         "likes_count": 204,
         "hashtags": "['covid19']",
         "retweet": "False",
         "_deepnote_index_column": 1
        },
        {
         "name": "CDC",
         "tweet": "#Parents: Are you looking for a #COVID19 vaccine for your 12–15-year-old?  Check w/ your child’s doctor or your local pharmacy to see if they have vaccination appointments. You can also visit  https://t.co/U6bZ3HQd3P to find vaccination providers near you:  https://t.co/p4fdYarnsK.  https://t.co/5KrhaiuMbz",
         "mentions": "[]",
         "urls": "['http://Vaccines.gov', 'https://bit.ly/3uFSUUu']",
         "photos": "['https://pbs.twimg.com/media/E2P9gy4XsAQ8p8y.jpg']",
         "replies_count": 34,
         "retweets_count": 45,
         "likes_count": 108,
         "hashtags": "['parents', 'covid19']",
         "retweet": "False",
         "_deepnote_index_column": 2
        },
        {
         "name": "CDC",
         "tweet": "Data published today in @CDCMMWR provide information on #COVID19 vaccine breakthrough cases reported to CDC between Jan 1 and April 30. Learn more:  https://t.co/rjs7jQkWYt.  https://t.co/X3I0DYhAlu",
         "mentions": "[{'screen_name': 'cdcmmwr', 'name': 'mmwr', 'id': '111354912'}]",
         "urls": "['http://bit.ly/MMWR52521']",
         "photos": "['https://pbs.twimg.com/media/E2PhlplX0AApEMt.jpg']",
         "replies_count": 17,
         "retweets_count": 36,
         "likes_count": 101,
         "hashtags": "['covid19']",
         "retweet": "False",
         "_deepnote_index_column": 3
        },
        {
         "name": "CDC",
         "tweet": "It takes 2 weeks after #COVID19 vaccination to be fully vaccinated.  As of May 24, 2021, more than 163 million people across the United States had received at least one dose of #COVID19 vaccine. Of those, more than 130 million are fully vaccinated.   More:  https://t.co/zYLe3H12re  https://t.co/efNXvxFusD",
         "mentions": "[]",
         "urls": "['http://bit.ly/CDT_vaccine']",
         "photos": "['https://pbs.twimg.com/media/E2LkIciWQAQaUZP.png']",
         "replies_count": 81,
         "retweets_count": 241,
         "likes_count": 575,
         "hashtags": "['covid19', 'covid19']",
         "retweet": "False",
         "_deepnote_index_column": 4
        },
        {
         "name": "CDC",
         "tweet": "May is Mental Health Awareness Month. Check out this new American Sign Language (#ASL) video for helpful tips on managing stress during #COVID19:  https://t.co/BX19oCDg4Y.  https://t.co/dBnoneCMYN",
         "mentions": "[]",
         "urls": "['https://youtu.be/R6SHYF9sknY']",
         "photos": "['https://pbs.twimg.com/media/E2LBpjAXsAE5V60.jpg']",
         "replies_count": 21,
         "retweets_count": 94,
         "likes_count": 173,
         "hashtags": "['asl', 'covid19']",
         "retweet": "False",
         "_deepnote_index_column": 5
        },
        {
         "name": "CDC",
         "tweet": "Everyone 12 years and older is now eligible to get a #COVID19 vaccine.    Widespread vaccination is a critical tool to help stop the pandemic. Getting your child or teen vaccinated can bring you one step closer to enjoying the activities they miss.  More:  https://t.co/p4fdYarnsK.  https://t.co/ggQkvwit7g",
         "mentions": "[]",
         "urls": "['https://bit.ly/3uFSUUu']",
         "photos": "['https://pbs.twimg.com/media/E2KjioLX0AEeSsl.jpg']",
         "replies_count": 84,
         "retweets_count": 151,
         "likes_count": 243,
         "hashtags": "['covid19']",
         "retweet": "False",
         "_deepnote_index_column": 6
        },
        {
         "name": "CDC",
         "tweet": "Find the latest #COVID19 health equity case studies, videos, webinars, and research publications to help you and your organization understand more about health disparities:  https://t.co/jptJqC9hTm.  https://t.co/x0tEkj1GPi",
         "mentions": "[]",
         "urls": "['https://bit.ly/3bPadLE']",
         "photos": "['https://pbs.twimg.com/media/E2KclpcXsAEiu-4.jpg']",
         "replies_count": 9,
         "retweets_count": 53,
         "likes_count": 102,
         "hashtags": "['covid19']",
         "retweet": "False",
         "_deepnote_index_column": 7
        },
        {
         "name": "CDC",
         "tweet": "Join today’s CDC #COVID19 Partner Update Call, “Pregnant in a Pandemic: What data say about COVID-19 &amp; COVID-19 vaccines,” at 3:00 pm EDT.  Retweet and Register:  https://t.co/vGlyUkZA4d.  #vaccination #pregnancy  https://t.co/bdQtSzvFdo",
         "mentions": "[]",
         "urls": "['https://bit.ly/3fuiWUf']",
         "photos": "['https://pbs.twimg.com/media/E2KO2oQWYAou1_J.jpg']",
         "replies_count": 20,
         "retweets_count": 54,
         "likes_count": 99,
         "hashtags": "['covid19', 'vaccination', 'pregnancy']",
         "retweet": "False",
         "_deepnote_index_column": 8
        },
        {
         "name": "CDC",
         "tweet": "New American Sign Language (#ASL) videos about how to protect yourself and others from #COVID19 are now available on CDC’s YouTube channel. Watch the videos here:  https://t.co/y2hAU8hutB.  https://t.co/OE4qIOcd0t",
         "mentions": "[]",
         "urls": "['https://bit.ly/3wqvhQo']",
         "photos": "['https://pbs.twimg.com/media/E2GPodvXoAUdSBg.jpg']",
         "replies_count": 20,
         "retweets_count": 91,
         "likes_count": 174,
         "hashtags": "['asl', 'covid19']",
         "retweet": "False",
         "_deepnote_index_column": 9
        },
        {
         "name": "CDC",
         "tweet": "Vaccination is an important tool for protecting people in your community from COVID-19. For resources and tips on how to promote vaccination in your community, get the Community Health Workers Toolkit at  https://t.co/R7b3W4rNlD. #WeCanDoThis  https://t.co/3k4yifipmH",
         "mentions": "[]",
         "urls": "['http://WeCanDoThis.hhs.gov']",
         "photos": "['https://pbs.twimg.com/media/E2F_1pWWEAMiMWf.jpg']",
         "replies_count": 80,
         "retweets_count": 128,
         "likes_count": 300,
         "hashtags": "['wecandothis']",
         "retweet": "False",
         "_deepnote_index_column": 10
        },
        {
         "name": "CDC",
         "tweet": "As CDC country director, Macarena Garcia is responsible for all CDC activities in the Dominican Republic. With #COVID19, Macarena advises the country’s leaders on travel orders, vaccine supplies, &amp; its vaccine program. Learn more:  https://t.co/JHJ0WG6SHB.  https://t.co/f8VFcVRPHO",
         "mentions": "[]",
         "urls": "['https://bit.ly/3hAyLvp']",
         "photos": "['https://pbs.twimg.com/media/E2BGRQ7XEAgSu5X.jpg']",
         "replies_count": 28,
         "retweets_count": 34,
         "likes_count": 123,
         "hashtags": "['covid19']",
         "retweet": "False",
         "_deepnote_index_column": 11
        },
        {
         "name": "CDC",
         "tweet": "Rural communities have been hit hard by the COVID-19 pandemic. Help ensure your community knows about safe and effective COVID-19 vaccines. For help with these important conversations, access the Rural Communities Toolkit at  https://t.co/R7b3W4rNlD. #WeCanDoThis  https://t.co/SQK284CbxE",
         "mentions": "[]",
         "urls": "['http://WeCanDoThis.hhs.gov']",
         "photos": "['https://pbs.twimg.com/media/E2ATsUPWQAI8HPl.jpg']",
         "replies_count": 39,
         "retweets_count": 64,
         "likes_count": 144,
         "hashtags": "['wecandothis']",
         "retweet": "False",
         "_deepnote_index_column": 12
        },
        {
         "name": "CDC",
         "tweet": "Everyone reacts differently to stressful situations. Finding ways to practice #SelfCare can help reduce your stress during #COVID19. Find ways to cope with stress:  https://t.co/GKZV8vsPCV.  https://t.co/kLNCEJxWtw",
         "mentions": "[]",
         "urls": "['https://bit.ly/340pBQa']",
         "photos": "['https://pbs.twimg.com/media/E2ACk9QXEAMk1kn.jpg']",
         "replies_count": 26,
         "retweets_count": 69,
         "likes_count": 161,
         "hashtags": "['selfcare', 'covid19']",
         "retweet": "False",
         "_deepnote_index_column": 13
        },
        {
         "name": "CDC",
         "tweet": "Recent COVID-NET data show that #COVID19 hospitalization rates for non-Hispanic Black people remain nearly double the rates of non-Hispanic White people. Getting vaccinated is critical to preventing serious illness and getting these rates down. More:  https://t.co/qpYN3dSJL8.  https://t.co/baKUtFcVqO",
         "mentions": "[]",
         "urls": "['https://bit.ly/2ETd34F']",
         "photos": "['https://pbs.twimg.com/media/E18EeoAXEAM6vks.jpg']",
         "replies_count": 33,
         "retweets_count": 60,
         "likes_count": 120,
         "hashtags": "['covid19']",
         "retweet": "False",
         "_deepnote_index_column": 14
        },
        {
         "name": "CDC",
         "tweet": "Subscribe to get CDC’s COVID Data Tracker Weekly Review sent to your inbox every Friday:  https://t.co/m5w5IKMJIv.",
         "mentions": "[]",
         "urls": "['http://bit.ly/CDTsubscribe']",
         "photos": "[]",
         "replies_count": 6,
         "retweets_count": 20,
         "likes_count": 38,
         "hashtags": "[]",
         "retweet": "False",
         "_deepnote_index_column": 15
        },
        {
         "name": "CDC",
         "tweet": "#COVID19 cases, deaths, and hospitalizations are down, and vaccinations continue to climb. As summer nears and you return to the things you love, consider how COVID-19 is spreading in your community when making plans and choosing activities. More:  https://t.co/F4bAyObDp1.  https://t.co/DHc9KSx2qk",
         "mentions": "[]",
         "urls": "['http://bit.ly/CDTweeklyreview']",
         "photos": "['https://pbs.twimg.com/media/E1795QaWQAA-gZv.jpg']",
         "replies_count": 40,
         "retweets_count": 58,
         "likes_count": 138,
         "hashtags": "['covid19']",
         "retweet": "False",
         "_deepnote_index_column": 16
        },
        {
         "name": "CDC",
         "tweet": "Have questions about #COVID19 vaccines? We have answers. The fact is COVID-19 vaccines are safe and effective at keeping you from getting sick from COVID-19. They are an important tool to protect our families and get back to our way of life. More:  https://t.co/bKmffn4RYW.  https://t.co/UcWxmVKFyd",
         "mentions": "[]",
         "urls": "['https://bit.ly/3dILBpC']",
         "photos": "[]",
         "replies_count": 48,
         "retweets_count": 115,
         "likes_count": 161,
         "hashtags": "['covid19']",
         "retweet": "False",
         "_deepnote_index_column": 17
        },
        {
         "name": "CDC",
         "tweet": "If recommended, get a 2nd #COVID19 shot even if you had side effects after the 1st, unless a vaccination provider or doctor tells you not to. Side effects are normal signs your body is building protection.    More:  https://t.co/YrWuIXfAxW.  https://t.co/dfvWjcPCj4",
         "mentions": "[]",
         "urls": "['https://bit.ly/2RfAtaM']",
         "photos": "['https://pbs.twimg.com/media/E17bSwAXIAAqldq.jpg']",
         "replies_count": 134,
         "retweets_count": 166,
         "likes_count": 420,
         "hashtags": "['covid19']",
         "retweet": "False",
         "_deepnote_index_column": 18
        },
        {
         "name": "CDC",
         "tweet": "More than 60% of American adults have received their first #COVID19 vaccine. Do your part to help defeat this virus so we can get back to spending time with the ones we love. #WeCanDoThis 🔍 Search  https://t.co/2akIUZiFIL 💬 Text your ZIP code to 438829  📞 Call 1-800-232-0233  https://t.co/yHsuPCShEX",
         "mentions": "[]",
         "urls": "['http://vaccines.gov']",
         "photos": "[]",
         "replies_count": 219,
         "retweets_count": 155,
         "likes_count": 294,
         "hashtags": "['covid19', 'wecandothis']",
         "retweet": "False",
         "_deepnote_index_column": 19
        },
        {
         "name": "CDC",
         "tweet": "A new @CDCMMWR found that elementary schools with improved ventilation and mask requirements for teachers and staff helped slow the spread of #COVID19 and provided safer, in-person learning environments. Learn more:  https://t.co/Z17ngoeUOJ.  https://t.co/eWBlJKvLnJ",
         "mentions": "[{'screen_name': 'cdcmmwr', 'name': 'mmwr', 'id': '111354912'}]",
         "urls": "['http://bit.ly/MMWR52121']",
         "photos": "['https://pbs.twimg.com/media/E17GyBKXIAA5AZR.jpg']",
         "replies_count": 35,
         "retweets_count": 57,
         "likes_count": 123,
         "hashtags": "['covid19']",
         "retweet": "False",
         "_deepnote_index_column": 20
        },
        {
         "name": "CDC",
         "tweet": "A new @CDCMMWR shows how routine, school-based #COVID19 testing in Utah enabled early identification of cases and allowed in-person instruction and extracurricular activities to continue. Learn more:  https://t.co/Zae6JREnzN.  https://t.co/rSkQPXoWhF",
         "mentions": "[{'screen_name': 'cdcmmwr', 'name': 'mmwr', 'id': '111354912'}]",
         "urls": "['http://bit.ly/MMWR52121b']",
         "photos": "['https://pbs.twimg.com/media/E167OsPXEAYKEy0.jpg']",
         "replies_count": 26,
         "retweets_count": 57,
         "likes_count": 148,
         "hashtags": "['covid19']",
         "retweet": "False",
         "_deepnote_index_column": 21
        },
        {
         "name": "CDC",
         "tweet": "Thanks to @ALPublicHealth, @AlabamaNG, @CDCFound , &amp; @NASCAR for teaming up with CDC on #RacetoEndCOVID, where attendees got #COVID19 vaccines &amp; tests this past Saturday! If you haven’t received a vaccine yet, find one at  https://t.co/2akIUZ14Rd or call 1-800-232-0233.  https://t.co/Wf1j2W0u9e",
         "mentions": "[{'screen_name': 'alpublichealth', 'name': 'alabama public health', 'id': '323311059'}, {'screen_name': 'alabamang', 'name': 'al national guard', 'id': '116972991'}, {'screen_name': 'cdcfound', 'name': 'cdc foundation', 'id': '139832064'}, {'screen_name': 'nascar', 'name': 'nascar', 'id': '49153854'}]",
         "urls": "['http://vaccines.gov']",
         "photos": "['https://pbs.twimg.com/media/E16rhIEXIAAePHf.jpg']",
         "replies_count": 20,
         "retweets_count": 20,
         "likes_count": 79,
         "hashtags": "['racetoendcovid', 'covid19']",
         "retweet": "False",
         "_deepnote_index_column": 22
        },
        {
         "name": "CDC",
         "tweet": "As of May 17, national forecasts predict 900–3,600 new #COVID19 hospitalizations will likely be reported on June 14. More:  https://t.co/Xys80ZGlxV.  https://t.co/GREQJitfVB",
         "mentions": "[]",
         "urls": "['http://bit.ly/CDC_HForecast']",
         "photos": "['https://pbs.twimg.com/media/E13B0TWXoAMUHPJ.jpg']",
         "replies_count": 18,
         "retweets_count": 24,
         "likes_count": 48,
         "hashtags": "['covid19']",
         "retweet": "False",
         "_deepnote_index_column": 23
        },
        {
         "name": "CDC",
         "tweet": "As of May 17, national forecasts predict 1,200–4,600 new #COVID19 deaths will be reported during the week ending June 12. That would bring the projected total number of U.S. deaths to 594,000–604,000. More:  https://t.co/rcqjOX3Ypl.  https://t.co/FhS5OFYRZZ",
         "mentions": "[]",
         "urls": "['http://bit.ly/CDC_MForecast']",
         "photos": "['https://pbs.twimg.com/media/E13BtnYXoAMLQIz.jpg']",
         "replies_count": 19,
         "retweets_count": 26,
         "likes_count": 57,
         "hashtags": "['covid19']",
         "retweet": "False",
         "_deepnote_index_column": 24
        },
        {
         "name": "CDC",
         "tweet": "As of May 17, national forecasts predict 60,000–268,000 new #COVID19 cases will likely be reported during the week ending June 12. More:  https://t.co/7AP4I3S9PU.  https://t.co/d1ZiQUEuEH",
         "mentions": "[]",
         "urls": "['http://bit.ly/CDC_CForecast']",
         "photos": "['https://pbs.twimg.com/media/E13BneEXoAU-pO6.jpg']",
         "replies_count": 47,
         "retweets_count": 64,
         "likes_count": 121,
         "hashtags": "['covid19']",
         "retweet": "False",
         "_deepnote_index_column": 25
        },
        {
         "name": "CDC",
         "tweet": "May is Mental Health Awareness Month. Everyone reacts differently to stressful situations like #COVID19. You may feel anxious, angry, sad, or overwhelmed. You or a loved one can find support 24/7 by calling or texting 1-800-985-5990. Learn more:  https://t.co/GKZV8vsPCV.  https://t.co/Wd9A1wdRt2",
         "mentions": "[]",
         "urls": "['https://bit.ly/340pBQa']",
         "photos": "['https://pbs.twimg.com/media/E120EUdWEAcEM42.jpg']",
         "replies_count": 26,
         "retweets_count": 118,
         "likes_count": 200,
         "hashtags": "['covid19']",
         "retweet": "False",
         "_deepnote_index_column": 26
        },
        {
         "name": "CDC",
         "tweet": "#Parents: Now that your children 12 years and older are eligible for a #COVID19 vaccine, you’re one step closer to enjoying moments you miss, like visits with grandparents! Get your family vaccinated as soon as you can.   More:  https://t.co/p4fdYarnsK.  https://t.co/ft2MtvpFtw",
         "mentions": "[]",
         "urls": "['https://bit.ly/3uFSUUu']",
         "photos": "['https://pbs.twimg.com/media/E12mWklXIAku3Ou.jpg']",
         "replies_count": 194,
         "retweets_count": 87,
         "likes_count": 209,
         "hashtags": "['parents', 'covid19']",
         "retweet": "False",
         "_deepnote_index_column": 27
        },
        {
         "name": "CDC",
         "tweet": "DID YOU KNOW: Almost 1 in 5 people with severe illness from #COVID19 require oxygen therapy? Pulse oximeters are painless and simple tools that can measure your oxygen levels at home. Learn how:  https://t.co/9arFELP0Bq. #PulseOximetry  https://t.co/qDz9D2FMhU",
         "mentions": "[]",
         "urls": "['https://bit.ly/3xvtURy']",
         "photos": "[]",
         "replies_count": 21,
         "retweets_count": 65,
         "likes_count": 123,
         "hashtags": "['covid19', 'pulseoximetry']",
         "retweet": "False",
         "_deepnote_index_column": 28
        },
        {
         "name": "CDC",
         "tweet": "New @CDCMMWR finds District of Columbia child care facilities were able to reduce #COVID19 spread by using prevention measures like mask wearing by teachers and other staff, symptom monitoring, and smaller class sizes. Learn more:  https://t.co/5K7wFJIXcF.  https://t.co/1UuMz9mi6l",
         "mentions": "[{'screen_name': 'cdcmmwr', 'name': 'mmwr', 'id': '111354912'}]",
         "urls": "['http://bit.ly/mm7020a3']",
         "photos": "['https://pbs.twimg.com/media/E12NHTGWQAEvlHR.jpg']",
         "replies_count": 26,
         "retweets_count": 42,
         "likes_count": 101,
         "hashtags": "['covid19']",
         "retweet": "False",
         "_deepnote_index_column": 29
        },
        {
         "name": "CDC",
         "tweet": "Everyone who chooses to get a #COVID19 vaccine does it for a reason—to protect family, to see their friends, to get back to work. When talking with friends and family about getting vaccinated, ask them about their “why.” More tips:  https://t.co/tGGql5cDOC.  https://t.co/Ttqtfn1jHB",
         "mentions": "[]",
         "urls": "['https://bit.ly/3cE25OH']",
         "photos": "['https://pbs.twimg.com/media/E119NW7WEAAIVl8.jpg']",
         "replies_count": 72,
         "retweets_count": 138,
         "likes_count": 283,
         "hashtags": "['covid19']",
         "retweet": "False",
         "_deepnote_index_column": 30
        },
        {
         "name": "CDC",
         "tweet": "#COVID19 cases are decreasing nationwide, but they’re still high in some parts of the country. The 7-day average of new daily cases decreased 18.5% compared with the previous week. Keep doing your part to slow the spread. Get vaccinated. More:  https://t.co/gp6X4zTnBT.  https://t.co/VWiaQuJHNK",
         "mentions": "[]",
         "urls": "['https://bit.ly/36EDJQI']",
         "photos": "['https://pbs.twimg.com/media/E1xxS1JXIAMLBm-.jpg']",
         "replies_count": 139,
         "retweets_count": 164,
         "likes_count": 338,
         "hashtags": "['covid19']",
         "retweet": "False",
         "_deepnote_index_column": 31
        },
        {
         "name": "CDC",
         "tweet": "🧪 COVID-19 Science Update:  Read the latest research on #COVID19 vaccine boosters, the effectiveness of COVID-19 vaccines on variants, and more.  👓 Read the full update:  https://t.co/urZrInbDYK.",
         "mentions": "[]",
         "urls": "['https://bit.ly/3eVXrgh']",
         "photos": "[]",
         "replies_count": 39,
         "retweets_count": 81,
         "likes_count": 135,
         "hashtags": "['covid19']",
         "retweet": "False",
         "_deepnote_index_column": 32
        },
        {
         "name": "CDC",
         "tweet": "Join CDC’s #COVID19 Partner Update Call Monday, May 24, at 3:00 pm EDT, for more information on what you need to know about the effects of COVID-19 vaccines on pregnant people.  Retweet and Register:  https://t.co/vGlyUkZA4d.  #Vaccination #Pregnancy  https://t.co/lwg3WUjZTy",
         "mentions": "[]",
         "urls": "['https://bit.ly/3fuiWUf']",
         "photos": "['https://pbs.twimg.com/media/E1xcw3IXsAEf04F.jpg']",
         "replies_count": 20,
         "retweets_count": 30,
         "likes_count": 83,
         "hashtags": "['covid19', 'vaccination', 'pregnancy']",
         "retweet": "False",
         "_deepnote_index_column": 33
        },
        {
         "name": "CDC",
         "tweet": "It’s okay to have questions about the #COVID19 vaccines. The fact is COVID-19 vaccines are safe and effective at keeping you from getting sick from COVID-19.    Find answers from trusted sources, like your health department, or healthcare provider. More:  https://t.co/bKmffmNh7o.  https://t.co/wM4OkoXLFb",
         "mentions": "[]",
         "urls": "['https://bit.ly/3dILBpC']",
         "photos": "[]",
         "replies_count": 55,
         "retweets_count": 148,
         "likes_count": 205,
         "hashtags": "['covid19']",
         "retweet": "False",
         "_deepnote_index_column": 34
        },
        {
         "name": "CDC",
         "tweet": "Everyone 12 years and older is now eligible to get a #COVID19 vaccine.   Your child may have some side effects like chills and a headache after getting vaccinated. These are normal signs that their body is building protection.   More:  https://t.co/p4fdYarnsK.  https://t.co/179BPqz6H7",
         "mentions": "[]",
         "urls": "['https://bit.ly/3uFSUUu']",
         "photos": "['https://pbs.twimg.com/media/E1xBTy4WQAcayF-.jpg']",
         "replies_count": 56,
         "retweets_count": 182,
         "likes_count": 304,
         "hashtags": "['covid19']",
         "retweet": "False",
         "_deepnote_index_column": 35
        },
        {
         "name": "CDC",
         "tweet": "Employers, healthcare systems and providers, public health agencies, policymakers, and others all have a part in helping promote fair access to health. Learn how CDC is working with these groups for equitable access to #COVID19 vaccines:  https://t.co/W2LMS3hEls.  https://t.co/fBet3ntU4f",
         "mentions": "[]",
         "urls": "['https://bit.ly/3fYmi0P']",
         "photos": "['https://pbs.twimg.com/media/E1wzmv8WYAIpM1D.jpg']",
         "replies_count": 16,
         "retweets_count": 40,
         "likes_count": 94,
         "hashtags": "['covid19']",
         "retweet": "False",
         "_deepnote_index_column": 36
        },
        {
         "name": "CDC",
         "tweet": "#DYK? CDC’s COVID Data Tracker now displays case, death, and testing data on the same page, along with levels of community transmission. Easily compare states and territories to understand how the #COVID19 situation in your community differs from others:  https://t.co/4dgsRDM4vy.  https://t.co/rbepZXKfYU",
         "mentions": "[]",
         "urls": "['http://bit.ly/CDTcombined']",
         "photos": "['https://pbs.twimg.com/media/E1snuaxXIAURQhG.jpg']",
         "replies_count": 47,
         "retweets_count": 68,
         "likes_count": 143,
         "hashtags": "['dyk', 'covid19']",
         "retweet": "False",
         "_deepnote_index_column": 37
        },
        {
         "name": "CDC",
         "tweet": "#VaxFact: You can get a #COVID19 vaccine if you are trying to become pregnant or want to get pregnant.   There is currently no evidence that any vaccines, including COVID-19 vaccines, cause fertility problems.  Learn more:  https://t.co/pBVlI6STf8.  https://t.co/qyPTDtJP1A",
         "mentions": "[]",
         "urls": "['https://bit.ly/2WWh9hT']",
         "photos": "['https://pbs.twimg.com/media/E1sMRtEXIAMzaT3.jpg']",
         "replies_count": 90,
         "retweets_count": 154,
         "likes_count": 244,
         "hashtags": "['vaxfact', 'covid19']",
         "retweet": "False",
         "_deepnote_index_column": 38
        },
        {
         "name": "CDC",
         "tweet": "DYK? Everyone 12 years and older is now eligible to get a #COVID19 vaccine. Have your family #SleeveUp 💪 for their vaccine as soon as they can and join millions of others across the United States in helping to stop the pandemic. More:  https://t.co/p4fdYa9M4a.  https://t.co/tcq37xgVWV",
         "mentions": "[]",
         "urls": "['https://bit.ly/3uFSUUu']",
         "photos": "[]",
         "replies_count": 58,
         "retweets_count": 142,
         "likes_count": 215,
         "hashtags": "['covid19', 'sleeveup']",
         "retweet": "False",
         "_deepnote_index_column": 39
        },
        {
         "name": "CDC",
         "tweet": "Learn more about building confidence in #COVID19 vaccines:  https://t.co/iaHExSJ4un.",
         "mentions": "[]",
         "urls": "['https://www.cdc.gov/vaccines/covid-19/vaccinate-with-confidence.html']",
         "photos": "[]",
         "replies_count": 9,
         "retweets_count": 15,
         "likes_count": 36,
         "hashtags": "['covid19']",
         "retweet": "False",
         "_deepnote_index_column": 40
        },
        {
         "name": "CDC",
         "tweet": "New @CDCMMWR finds lower #COVID19 vaccination rates in rural counties compared to urban counties. Getting a COVID-19 vaccine is an important step to protect yourself, your family, and your community. Read more:  https://t.co/deVuG4HIxc.  https://t.co/wa845yTR3u",
         "mentions": "[{'screen_name': 'cdcmmwr', 'name': 'mmwr', 'id': '111354912'}]",
         "urls": "['http://bit.ly/MMWR51821']",
         "photos": "['https://pbs.twimg.com/media/E1redMIWQAMxGZm.jpg']",
         "replies_count": 29,
         "retweets_count": 79,
         "likes_count": 163,
         "hashtags": "['covid19']",
         "retweet": "False",
         "_deepnote_index_column": 41
        },
        {
         "name": "CDC",
         "tweet": "Everyone age 12 &amp; older is now eligible for a #COVID19 vaccine.  As of May 16, 2021, more than 157.1 million people across the United States had received at least one dose of COVID-19 vaccine. Of those, more than 122.9 million are fully vaccinated.  More:  https://t.co/zYLe3H12re.  https://t.co/i9D45OuaNh",
         "mentions": "[]",
         "urls": "['http://bit.ly/CDT_vaccine']",
         "photos": "['https://pbs.twimg.com/media/E1nlmq1WEAIXhGE.png']",
         "replies_count": 149,
         "retweets_count": 313,
         "likes_count": 663,
         "hashtags": "['covid19']",
         "retweet": "False",
         "_deepnote_index_column": 42
        },
        {
         "name": "CDC",
         "tweet": "#NEW: An updated list of articles by CDC on people experiencing homelessness and #COVID19 now includes information on contact tracing, handwashing, and hospitalizations. Find links to these new articles and others:  https://t.co/lPk9nBxlL1.  https://t.co/k6dk9QQ4Qb",
         "mentions": "[]",
         "urls": "['https://bit.ly/3v0wnSI']",
         "photos": "['https://pbs.twimg.com/media/E1nR-ZGWEAEjWI-.jpg']",
         "replies_count": 31,
         "retweets_count": 96,
         "likes_count": 192,
         "hashtags": "['new', 'covid19']",
         "retweet": "False",
         "_deepnote_index_column": 43
        },
        {
         "name": "CDC",
         "tweet": "#Parents: Your children 12 years and older are eligible to get a #COVID19 vaccine.   Have your family #SleeveUp 💪 for their vaccine as soon as they can and join millions of others across the United States in helping stop the pandemic.  More:  https://t.co/p4fdYarnsK.  https://t.co/ahu5k1JeuC",
         "mentions": "[]",
         "urls": "['https://bit.ly/3uFSUUu']",
         "photos": "['https://pbs.twimg.com/media/E1nK4UZX0AYnXI8.jpg']",
         "replies_count": 107,
         "retweets_count": 157,
         "likes_count": 301,
         "hashtags": "['parents', 'covid19', 'sleeveup']",
         "retweet": "False",
         "_deepnote_index_column": 44
        },
        {
         "name": "CDC",
         "tweet": "Pregnant and recently pregnant people are more likely to get severely ill from #COVID19, although the overall risk is low. If you are pregnant, visit CDC’s webpage to learn what you need to know to stay healthy and avoid getting sick:  https://t.co/ONijYAs38H.  https://t.co/0neeu9n9CT",
         "mentions": "[]",
         "urls": "['https://bit.ly/3fBCIPo']",
         "photos": "['https://pbs.twimg.com/media/E1mvrGqXoAQDsMg.jpg']",
         "replies_count": 43,
         "retweets_count": 131,
         "likes_count": 203,
         "hashtags": "['covid19']",
         "retweet": "False",
         "_deepnote_index_column": 45
        },
        {
         "name": "CDC",
         "tweet": "#DYK? CDC works with states, territories, tribes, and local communities to advance health equity for communities unequally affected by #COVID19. Learn more:  https://t.co/Iw21OtZZcw.  https://t.co/X200RZk9qe",
         "mentions": "[]",
         "urls": "['https://bit.ly/2BtdocJ']",
         "photos": "['https://pbs.twimg.com/media/E1mheU5XsAAP68X.jpg']",
         "replies_count": 15,
         "retweets_count": 29,
         "likes_count": 82,
         "hashtags": "['dyk', 'covid19']",
         "retweet": "False",
         "_deepnote_index_column": 46
        },
        {
         "name": "CDC",
         "tweet": "Vaccination is an important tool for protecting agricultural communities from COVID-19. For resources and tips on how to promote vaccination in your community, get the Essential Workers in Agriculture Toolkit at  https://t.co/R7b3W4rNlD. #WeCanDoThis  https://t.co/65dOaYxgLm",
         "mentions": "[]",
         "urls": "['http://WeCanDoThis.hhs.gov']",
         "photos": "['https://pbs.twimg.com/media/E1h92nlWYAguRj3.jpg']",
         "replies_count": 50,
         "retweets_count": 117,
         "likes_count": 297,
         "hashtags": "['wecandothis']",
         "retweet": "False",
         "_deepnote_index_column": 47
        },
        {
         "name": "CDC",
         "tweet": "To find a COVID-19 vaccine near you:   1. 🔍Search  https://t.co/2akIUZ14Rd  2. 📱Text your ZIP code to 438829  3. 📞Call 1-800-232-0233   Get vaccinated as soon as you can. Visit  https://t.co/2akIUZ14Rd for more information.  https://t.co/56b32nEG7X",
         "mentions": "[]",
         "urls": "['http://vaccines.gov', 'http://vaccines.gov']",
         "photos": "['https://pbs.twimg.com/media/E1h350xXsAM9Kvi.jpg']",
         "replies_count": 29,
         "retweets_count": 181,
         "likes_count": 218,
         "hashtags": "[]",
         "retweet": "False",
         "_deepnote_index_column": 48
        },
        {
         "name": "CDC",
         "tweet": "#VaxFact: It takes about 2 weeks after you receive your final vaccine dose for your body to build protection against #COVID19.  That's 2 weeks after your 1-dose vaccine, or 2 weeks after your second dose of a 2-dose vaccine.  More to know about vaccines:  https://t.co/bKmffmNh7o.  https://t.co/mYJP9vniqr",
         "mentions": "[]",
         "urls": "['https://bit.ly/3dILBpC']",
         "photos": "['https://pbs.twimg.com/media/E1dXDcOXoAAh4Ki.png']",
         "replies_count": 95,
         "retweets_count": 333,
         "likes_count": 569,
         "hashtags": "['vaxfact', 'covid19']",
         "retweet": "False",
         "_deepnote_index_column": 49
        }
       ],
       "rows_bottom": [
        {
         "name": "World Health Organization (WHO)",
         "tweet": "@M_FerreiraDVM @M_FerreiraDVM Hi Matt, there has been no clear evidence of human-to-human transmission of the novel #coronavirus (2019-nCoV). However, such transmission is always a concern when patients have respiratory symptoms - this requires further investigation.",
         "mentions": "[{'screen_name': 'm_ferreiradvm', 'name': 'matt ferreira dvm', 'id': '46782186'}]",
         "urls": "[]",
         "photos": "[]",
         "replies_count": 1,
         "retweets_count": 2,
         "likes_count": 3,
         "hashtags": "['coronavirus']",
         "retweet": "False",
         "_deepnote_index_column": 11122
        },
        {
         "name": "World Health Organization (WHO)",
         "tweet": "@mattrbo @mattrbo Hi Matt, there has been no clear evidence of human-to-human transmission of the novel #coronavirus (2019-nCoV). However, such transmission is always a concern when patients have respiratory symptoms - this requires further investigation.",
         "mentions": "[{'screen_name': 'mattrbo', 'name': 'matt boyce', 'id': '778228483831042048'}]",
         "urls": "[]",
         "photos": "[]",
         "replies_count": 0,
         "retweets_count": 11,
         "likes_count": 10,
         "hashtags": "['coronavirus']",
         "retweet": "False",
         "_deepnote_index_column": 11123
        },
        {
         "name": "World Health Organization (WHO)",
         "tweet": "Preliminary investigations conducted by the Chinese authorities have found no clear evidence of human-to-human transmission of the novel #coronavirus (2019-nCoV) identified in #Wuhan, #China🇨🇳.  https://t.co/Fnl5P877VG",
         "mentions": "[]",
         "urls": "[]",
         "photos": "['https://pbs.twimg.com/media/EOPOXY5UEAEYk7g.jpg']",
         "replies_count": 15144,
         "retweets_count": 22592,
         "likes_count": 27090,
         "hashtags": "['coronavirus', 'wuhan', 'china']",
         "retweet": "False",
         "_deepnote_index_column": 11124
        },
        {
         "name": "World Health Organization (WHO)",
         "tweet": "Reduce your risk of #coronavirus infection:  https://t.co/ZwyFVwY6EU",
         "mentions": "[]",
         "urls": "[]",
         "photos": "['https://pbs.twimg.com/media/EOLIF-YXsAAS8u5.jpg']",
         "replies_count": 18,
         "retweets_count": 650,
         "likes_count": 896,
         "hashtags": "['coronavirus']",
         "retweet": "False",
         "_deepnote_index_column": 11125
        },
        {
         "name": "World Health Organization (WHO)",
         "tweet": "@WHOThailand @WHOSEARO @WHOWPRO Given the developments on the novel #coronavirus (2019-nC0V), WHO Director-General @DrTedros is consulting with Emergency Committee members and could call for a meeting of the committee on short notice  https://t.co/oTSIsz1iu0  https://t.co/15yZJNTyKo",
         "mentions": "[{'screen_name': 'drtedros', 'name': 'tedros adhanom ghebreyesus', 'id': '189868631'}]",
         "urls": "['http://bit.ly/37ZdgMI']",
         "photos": "['https://pbs.twimg.com/media/EOKUg92W4AIp29D.jpg']",
         "replies_count": 1,
         "retweets_count": 22,
         "likes_count": 40,
         "hashtags": "['coronavirus']",
         "retweet": "False",
         "_deepnote_index_column": 11126
        },
        {
         "name": "World Health Organization (WHO)",
         "tweet": "@WHOThailand @WHOSEARO @WHOWPRO WHO reiterates that it is essential that investigations of the novel #coronavirus (2019-nCoV) continue in #China🇨🇳 to identify the source of the outbreak and any animal reservoirs or intermediate hosts  https://t.co/oTSIsziTly  https://t.co/EnyCV5Jo2C",
         "mentions": "[]",
         "urls": "['http://bit.ly/37ZdgMI']",
         "photos": "['https://pbs.twimg.com/media/EOKRyReXsAApfZ_.jpg']",
         "replies_count": 3,
         "retweets_count": 30,
         "likes_count": 31,
         "hashtags": "['coronavirus', 'china']",
         "retweet": "False",
         "_deepnote_index_column": 11127
        },
        {
         "name": "World Health Organization (WHO)",
         "tweet": "@WHOThailand @WHOSEARO @WHOWPRO WHO has issued guidance on how to detect and treat persons ill with the new #coronavirus (2019-nCoV)   https://t.co/8WTH6SjJNY",
         "mentions": "[]",
         "urls": "['https://twitter.com/who/status/1215916433827356672?s=21']",
         "photos": "[]",
         "replies_count": 2,
         "retweets_count": 20,
         "likes_count": 29,
         "hashtags": "['coronavirus']",
         "retweet": "False",
         "_deepnote_index_column": 11128
        },
        {
         "name": "World Health Organization (WHO)",
         "tweet": "@WHOThailand @WHOSEARO @WHOWPRO The possibility of the novel #coronavirus (2019-nCoV) cases being identified in countries other than #China🇨🇳 was not unexpected, and reinforces why WHO calls for on-going active monitoring and preparedness in other countries.  https://t.co/oTSIsz1iu0  https://t.co/HtkO5adJuo",
         "mentions": "[]",
         "urls": "['http://bit.ly/37ZdgMI']",
         "photos": "['https://pbs.twimg.com/media/EOKPzRwXkAAMoxr.jpg']",
         "replies_count": 1,
         "retweets_count": 33,
         "likes_count": 46,
         "hashtags": "['coronavirus', 'china']",
         "retweet": "False",
         "_deepnote_index_column": 11129
        },
        {
         "name": "World Health Organization (WHO)",
         "tweet": "WHO is working with officials in #Thailand🇹🇭 and #China🇨🇳 following reports of confirmation of the novel #coronavirus (2019-nCoV) in a traveler from #Wuhan, China, who traveled to Thailand  https://t.co/pj20trsUCE",
         "mentions": "[]",
         "urls": "[]",
         "photos": "['https://pbs.twimg.com/media/EOKIJDTX0AAqTDF.jpg']",
         "replies_count": 7,
         "retweets_count": 240,
         "likes_count": 272,
         "hashtags": "['thailand', 'china', 'coronavirus', 'wuhan']",
         "retweet": "False",
         "_deepnote_index_column": 11130
        },
        {
         "name": "World Health Organization (WHO)",
         "tweet": "More comprehensive information and ongoing investigations are required to better understand the novel #coronavirus (2019-nCoV) outbreak’s epidemiology, clinical picture, source, modes of transmission, and extent of infection; as well as the countermeasures implemented.  https://t.co/3NIO27g45p",
         "mentions": "[]",
         "urls": "[]",
         "photos": "['https://pbs.twimg.com/media/EOGPO4WXkAIglhs.jpg']",
         "replies_count": 6,
         "retweets_count": 60,
         "likes_count": 71,
         "hashtags": "['coronavirus']",
         "retweet": "False",
         "_deepnote_index_column": 11131
        },
        {
         "name": "World Health Organization (WHO)",
         "tweet": "Currently, no case with infection of this novel #coronavirus (2019-nCoV) has been reported elsewhere other than #Wuhan, #China🇨🇳  https://t.co/eTffz8oyEa  https://t.co/xIrXU5Oj4m",
         "mentions": "[]",
         "urls": "['http://bit.ly/36N7hdF']",
         "photos": "['https://pbs.twimg.com/media/EOGJsN8XUAMAzwN.jpg']",
         "replies_count": 6,
         "retweets_count": 63,
         "likes_count": 75,
         "hashtags": "['coronavirus', 'wuhan', 'china']",
         "retweet": "False",
         "_deepnote_index_column": 11132
        },
        {
         "name": "World Health Organization (WHO)",
         "tweet": "Among the 41 confirmed cases with the novel #coronavirus (2019-nC0V) in #Wuhan, #China🇨🇳, there has been one death. This occurred in a patient with serious underlying medical conditions.  https://t.co/eTffz8oyEa  https://t.co/g0FkvMLUSK",
         "mentions": "[]",
         "urls": "['http://bit.ly/36N7hdF']",
         "photos": "['https://pbs.twimg.com/media/EOGGM7dWAAInNIR.jpg']",
         "replies_count": 4,
         "retweets_count": 70,
         "likes_count": 60,
         "hashtags": "['coronavirus', 'wuhan', 'china']",
         "retweet": "False",
         "_deepnote_index_column": 11133
        },
        {
         "name": "World Health Organization (WHO)",
         "tweet": "At this stage, there is no clear evidence of human-to-human transmission in the novel #coronavirus (2019-nC0V) outbreak in #Wuhan, #China🇨🇳. However, the Chinese authorities continue intensive surveillance and follow-up measures, including environmental investigations.  https://t.co/lWUgOMkedB",
         "mentions": "[]",
         "urls": "[]",
         "photos": "['https://pbs.twimg.com/media/EOGC1ZAWsAE8D6f.jpg']",
         "replies_count": 53,
         "retweets_count": 205,
         "likes_count": 156,
         "hashtags": "['coronavirus', 'wuhan', 'china']",
         "retweet": "False",
         "_deepnote_index_column": 11134
        },
        {
         "name": "World Health Organization (WHO)",
         "tweet": "The evidence is highly suggestive that the novel #coronavirus (2019-nCoV) outbreak is associated with exposures in a seafood market in #Wuhan, #China🇨🇳. The market was closed on 1 January 2020  https://t.co/eTffz8oyEa  https://t.co/g1d7EI69aU",
         "mentions": "[]",
         "urls": "['http://bit.ly/36N7hdF']",
         "photos": "['https://pbs.twimg.com/media/EOF_LlxX0AI58Aa.jpg']",
         "replies_count": 8,
         "retweets_count": 105,
         "likes_count": 102,
         "hashtags": "['coronavirus', 'wuhan', 'china']",
         "retweet": "False",
         "_deepnote_index_column": 11135
        },
        {
         "name": "World Health Organization (WHO)",
         "tweet": "WHO is reassured of the quality of the ongoing investigations and the response measures implemented on the novel #coronavirus (2019-nCoV) in #Wuhan, #China🇨🇳 and the authorities’ commitment to share information regularly with WHO  https://t.co/eTffz8oyEa  https://t.co/HYH5tSdf5Q",
         "mentions": "[]",
         "urls": "['http://bit.ly/36N7hdF']",
         "photos": "['https://pbs.twimg.com/media/EOF-gc0X0AAZB3j.jpg']",
         "replies_count": 3,
         "retweets_count": 67,
         "likes_count": 51,
         "hashtags": "['coronavirus', 'wuhan', 'china']",
         "retweet": "False",
         "_deepnote_index_column": 11136
        },
        {
         "name": "World Health Organization (WHO)",
         "tweet": "On 11 and 12 January 2020, WHO received further detailed information from the #China🇨🇳 National Health Commission about the novel #coronavirus (2019-nCoV) outbreak  https://t.co/eTffz8oyEa  https://t.co/pXrnYowcq8",
         "mentions": "[]",
         "urls": "['http://bit.ly/36N7hdF']",
         "photos": "['https://pbs.twimg.com/media/EOF95cHX4Agb48i.jpg']",
         "replies_count": 20,
         "retweets_count": 507,
         "likes_count": 437,
         "hashtags": "['china', 'coronavirus']",
         "retweet": "False",
         "_deepnote_index_column": 11137
        },
        {
         "name": "World Health Organization (WHO)",
         "tweet": "NEW: WHO interim guidance: 👩🏻‍⚕👨🏽‍⚕ Clinical management - how to care for patients with severe acute respiratory infection when novel #coronavirus (nCoV) infection is suspected   👉  https://t.co/XS6VNmuEIZ  https://t.co/OgZi0Zjy0w",
         "mentions": "[]",
         "urls": "['http://bit.ly/2tTquvC']",
         "photos": "['https://pbs.twimg.com/media/EOFRzS-WAAI8Tst.jpg']",
         "replies_count": 3,
         "retweets_count": 58,
         "likes_count": 98,
         "hashtags": "['coronavirus']",
         "retweet": "False",
         "_deepnote_index_column": 11138
        },
        {
         "name": "World Health Organization (WHO)",
         "tweet": "@WHOWPRO @DrTedros Whole genome sequences for the novel #coronavirus (2019-nCoV) from the Chinese🇨🇳 authorities were shared with WHO and have also been submitted by Chinese authorities to the GISAID platform so that they can be accessed by public health authorities, laboratories and researchers.  https://t.co/wmtGfI4dWl",
         "mentions": "[]",
         "urls": "[]",
         "photos": "['https://pbs.twimg.com/media/EOCK36WWkAAv7b0.jpg']",
         "replies_count": 5,
         "retweets_count": 77,
         "likes_count": 115,
         "hashtags": "['coronavirus']",
         "retweet": "False",
         "_deepnote_index_column": 11139
        },
        {
         "name": "World Health Organization (WHO)",
         "tweet": "@WHOWPRO @DrTedros WHO encourages all countries to continue preparedness activities, and has issued interim guidance on how to do this.  #coronavirus (2019-nCoV)   https://t.co/mGG9fnvaSF",
         "mentions": "[]",
         "urls": "['https://twitter.com/WHO/status/1215916433827356672?s=20']",
         "photos": "[]",
         "replies_count": 2,
         "retweets_count": 47,
         "likes_count": 87,
         "hashtags": "['coronavirus']",
         "retweet": "False",
         "_deepnote_index_column": 11140
        },
        {
         "name": "World Health Organization (WHO)",
         "tweet": "@WHOWPRO @DrTedros WHO thanks the Chinese authorities for their commitment to sharing information on the novel #coronavirus (2019-nC0V) as they continue intensive surveillance and follow-up measures, including environmental investigations in #China🇨🇳  https://t.co/ZOTCqsGTCr",
         "mentions": "[]",
         "urls": "[]",
         "photos": "['https://pbs.twimg.com/media/EOB_11UXkAARwOs.jpg']",
         "replies_count": 3,
         "retweets_count": 58,
         "likes_count": 125,
         "hashtags": "['coronavirus', 'china']",
         "retweet": "False",
         "_deepnote_index_column": 11141
        },
        {
         "name": "World Health Organization (WHO)",
         "tweet": "@WHOWPRO @DrTedros Genetic sequences of the novel #coronavirus (2019-nCoV) will allow countries to develop specific diagnostic kits, quickly identify and then care for anyone infected, and ensure better health outcomes and containment of the virus.  https://t.co/5weynFLuYQ",
         "mentions": "[]",
         "urls": "[]",
         "photos": "['https://pbs.twimg.com/media/EOB-b5mX4AIrX9F.jpg']",
         "replies_count": 3,
         "retweets_count": 76,
         "likes_count": 140,
         "hashtags": "['coronavirus']",
         "retweet": "False",
         "_deepnote_index_column": 11142
        },
        {
         "name": "World Health Organization (WHO)",
         "tweet": "BREAKING: WHO has received the genetic sequences for the novel #coronavirus (2019-nCoV) from the Chinese authorities. We expect them to be made publicly available as soon as possible.  https://t.co/h1w7A0jBm2",
         "mentions": "[]",
         "urls": "[]",
         "photos": "['https://pbs.twimg.com/media/EOB8O45WsAAhMrc.jpg']",
         "replies_count": 20,
         "retweets_count": 759,
         "likes_count": 1237,
         "hashtags": "['coronavirus']",
         "retweet": "False",
         "_deepnote_index_column": 11143
        },
        {
         "name": "World Health Organization (WHO)",
         "tweet": "All of the WHO interim guidance and technical documents on novel #coronavirus will be updated as needed.  👉🏼  https://t.co/PuKGbQlUiV  https://t.co/yiPuKwNMLb",
         "mentions": "[]",
         "urls": "['http://bit.ly/2TaaWOH']",
         "photos": "['https://pbs.twimg.com/media/EOAgCzmWkAE8_9g.jpg']",
         "replies_count": 1,
         "retweets_count": 49,
         "likes_count": 66,
         "hashtags": "['coronavirus']",
         "retweet": "False",
         "_deepnote_index_column": 11144
        },
        {
         "name": "World Health Organization (WHO)",
         "tweet": "NEW: 🧪 WHO draft list of supplies needed for laboratories and health centers managing a novel #coronavirus.   👉🏼  https://t.co/PuKGbQlUiV (under ‘Technical documents’)  https://t.co/o4zY6L0dxP",
         "mentions": "[]",
         "urls": "['http://bit.ly/2TaaWOH']",
         "photos": "['https://pbs.twimg.com/media/EOAcnypWsAEdUYm.jpg']",
         "replies_count": 2,
         "retweets_count": 38,
         "likes_count": 61,
         "hashtags": "['coronavirus']",
         "retweet": "False",
         "_deepnote_index_column": 11145
        },
        {
         "name": "World Health Organization (WHO)",
         "tweet": "NEW: 📋 WHO tool for national authorities to review their capacity to detect and respond to a novel #coronavirus  👉🏼  https://t.co/PuKGbQlUiV (under ‘Technical documents’)  https://t.co/O1W88lUKCJ",
         "mentions": "[]",
         "urls": "['http://bit.ly/2TaaWOH']",
         "photos": "['https://pbs.twimg.com/media/EOAX53uX0AQbb4x.jpg']",
         "replies_count": 3,
         "retweets_count": 41,
         "likes_count": 64,
         "hashtags": "['coronavirus']",
         "retweet": "False",
         "_deepnote_index_column": 11146
        },
        {
         "name": "World Health Organization (WHO)",
         "tweet": "NEW: WHO interim guidance:  🗣 Risk communication and community engagement readiness and initial response for a novel #coronaviruses  👉🏼  https://t.co/PuKGbQlUiV (under ‘Technical documents’)  https://t.co/DKgIHvD8ov",
         "mentions": "[]",
         "urls": "['http://bit.ly/2TaaWOH']",
         "photos": "['https://pbs.twimg.com/media/EOAROfiWoAULAPp.jpg']",
         "replies_count": 1,
         "retweets_count": 38,
         "likes_count": 59,
         "hashtags": "['coronaviruses']",
         "retweet": "False",
         "_deepnote_index_column": 11147
        },
        {
         "name": "World Health Organization (WHO)",
         "tweet": "NEW: WHO interim guidance:  📋 Surveillance case definitions for human infection with a novel #coronavirus  👉🏼  https://t.co/PuKGbQlUiV (under ‘Technical documents’)  https://t.co/20iUH8rbvT",
         "mentions": "[]",
         "urls": "['http://bit.ly/2TaaWOH']",
         "photos": "['https://pbs.twimg.com/media/EOAIUPZWsAI4bpT.jpg']",
         "replies_count": 1,
         "retweets_count": 36,
         "likes_count": 65,
         "hashtags": "['coronavirus']",
         "retweet": "False",
         "_deepnote_index_column": 11148
        },
        {
         "name": "World Health Organization (WHO)",
         "tweet": "NEW: WHO interim guidance:  🏥 Infection prevention and control during health care when a novel #coronavirus infection is suspected  👉🏼  https://t.co/PuKGbQlUiV (under ‘Technical documents’)  https://t.co/Xb6bU6FVYu",
         "mentions": "[]",
         "urls": "['http://bit.ly/2TaaWOH']",
         "photos": "['https://pbs.twimg.com/media/EOABYMyW4AEImYd.jpg']",
         "replies_count": 1,
         "retweets_count": 56,
         "likes_count": 72,
         "hashtags": "['coronavirus']",
         "retweet": "False",
         "_deepnote_index_column": 11149
        },
        {
         "name": "World Health Organization (WHO)",
         "tweet": "NEW: WHO interim guidance:  🔬Laboratory testing of human suspected cases of novel #coronavirus infection  👉🏼  https://t.co/PuKGbQlUiV (under ‘Technical documents’)  https://t.co/JhGv1modRn",
         "mentions": "[]",
         "urls": "['http://bit.ly/2TaaWOH']",
         "photos": "['https://pbs.twimg.com/media/EN_zOMYWAAEl9nI.jpg']",
         "replies_count": 2,
         "retweets_count": 58,
         "likes_count": 97,
         "hashtags": "['coronavirus']",
         "retweet": "False",
         "_deepnote_index_column": 11150
        },
        {
         "name": "World Health Organization (WHO)",
         "tweet": "WHO advice for international travel and trade in relation to the outbreak of pneumonia caused by a new #coronavirus in #Wuhan, #China🇨🇳  👉🏼  https://t.co/UU8IgFvjpn  https://t.co/6Bcrm73CCl",
         "mentions": "[]",
         "urls": "['http://bit.ly/2sgvOZK']",
         "photos": "['https://pbs.twimg.com/media/EN_U4xQW4AACTl_.jpg']",
         "replies_count": 2,
         "retweets_count": 161,
         "likes_count": 179,
         "hashtags": "['coronavirus', 'wuhan', 'china']",
         "retweet": "False",
         "_deepnote_index_column": 11151
        },
        {
         "name": "World Health Organization (WHO)",
         "tweet": "WHO is providing information to countries on how to prepare for the new #coronavirus, incl. how to: 🌡 monitor for sick people 🔬 test samples 🩺 treat patients 🏥 control infection in health centres 🩹 maintain the right supplies 🗣 communicate with the public about the virus  https://t.co/D5bteTczIa",
         "mentions": "[]",
         "urls": "[]",
         "photos": "['https://pbs.twimg.com/media/EN_Q5JXWkAArBYV.jpg']",
         "replies_count": 5,
         "retweets_count": 174,
         "likes_count": 226,
         "hashtags": "['coronavirus']",
         "retweet": "False",
         "_deepnote_index_column": 11152
        },
        {
         "name": "World Health Organization (WHO)",
         "tweet": "NEW: WHO interim guidance on a range of topics to help countries manage the new #coronavirus   👉🏼  https://t.co/PuKGbQlUiV  https://t.co/iKZ0HXtlom",
         "mentions": "[]",
         "urls": "['http://bit.ly/2TaaWOH']",
         "photos": "['https://pbs.twimg.com/media/EN_NjOIW4AIxCJL.jpg']",
         "replies_count": 25,
         "retweets_count": 541,
         "likes_count": 721,
         "hashtags": "['coronavirus']",
         "retweet": "False",
         "_deepnote_index_column": 11153
        },
        {
         "name": "World Health Organization (WHO)",
         "tweet": "WHO advises against the application of any travel or trade restrictions on #China based on the information currently available  https://t.co/UU8IgFvjpn   #coronavirus  https://t.co/nTfz6IkeKy",
         "mentions": "[]",
         "urls": "['http://bit.ly/2sgvOZK']",
         "photos": "['https://pbs.twimg.com/media/EN9lH-oX4AEHKEH.jpg']",
         "replies_count": 103,
         "retweets_count": 119,
         "likes_count": 124,
         "hashtags": "['china', 'coronavirus']",
         "retweet": "False",
         "_deepnote_index_column": 11154
        },
        {
         "name": "World Health Organization (WHO)",
         "tweet": "Health practitioners and public health authorities should provide to travellers information to reduce the general risk of acute respiratory infections, via travel health clinics, travel agencies, conveyance operators and at points of entry  https://t.co/UU8IgFvjpn   #coronavirus  https://t.co/sYd3Lufv4U",
         "mentions": "[]",
         "urls": "['http://bit.ly/2sgvOZK']",
         "photos": "['https://pbs.twimg.com/media/EN9iapqX4AANkN5.jpg']",
         "replies_count": 4,
         "retweets_count": 32,
         "likes_count": 51,
         "hashtags": "['coronavirus']",
         "retweet": "False",
         "_deepnote_index_column": 11155
        },
        {
         "name": "World Health Organization (WHO)",
         "tweet": "WHO does not recommend any specific health measures for travellers to and from Wuhan,#China🇨🇳  It is generally considered that entry screening offers little benefit, while requiring considerable resources  https://t.co/UU8IgFvjpn #coronavirus",
         "mentions": "[]",
         "urls": "['http://bit.ly/2sgvOZK']",
         "photos": "[]",
         "replies_count": 319,
         "retweets_count": 374,
         "likes_count": 340,
         "hashtags": "['china', 'coronavirus']",
         "retweet": "False",
         "_deepnote_index_column": 11156
        },
        {
         "name": "World Health Organization (WHO)",
         "tweet": "WHO advice for international travel and trade in relation to the outbreak of pneumonia caused by a new #coronavirus in Wuhan, #China🇨🇳  https://t.co/UU8IgFvjpn  https://t.co/D13Xv9Yrt4",
         "mentions": "[]",
         "urls": "['http://bit.ly/2sgvOZK']",
         "photos": "['https://pbs.twimg.com/media/EN8bcOpXUAI5kae.jpg']",
         "replies_count": 7,
         "retweets_count": 81,
         "likes_count": 100,
         "hashtags": "['coronavirus', 'china']",
         "retweet": "False",
         "_deepnote_index_column": 11157
        },
        {
         "name": "World Health Organization (WHO)",
         "tweet": "Q&amp;A on coronaviruses  https://t.co/PKzKaO2yfK  #coronavirus  https://t.co/apeUtPvyan",
         "mentions": "[]",
         "urls": "['http://bit.ly/2tMEBmu']",
         "photos": "['https://pbs.twimg.com/media/EN8E2fLWkAErA8f.jpg']",
         "replies_count": 4,
         "retweets_count": 35,
         "likes_count": 70,
         "hashtags": "['coronavirus']",
         "retweet": "False",
         "_deepnote_index_column": 11158
        },
        {
         "name": "World Health Organization (WHO)",
         "tweet": "Protect yourself &amp; reduce risk from #coronavirus infection: 👏🏽Hand hygiene 🤧Cover mouth &amp; nose when coughing &amp; sneezing 🥩Thoroughly cook meat &amp; eggs  🌡Avoid close contact with anyone with respiratory illness ❌ Avoid close contact with wild or live farm animals  https://t.co/PVvMsPSMnU",
         "mentions": "[]",
         "urls": "[]",
         "photos": "['https://pbs.twimg.com/media/EN3d7X5UwAE3D6B.jpg']",
         "replies_count": 8,
         "retweets_count": 182,
         "likes_count": 186,
         "hashtags": "['coronavirus']",
         "retweet": "False",
         "_deepnote_index_column": 11159
        },
        {
         "name": "World Health Organization (WHO)",
         "tweet": "As surveillance improves around the world, more coronaviruses are likely to be identified.  #coronavirus  https://t.co/jsGXvEwOnM",
         "mentions": "[]",
         "urls": "[]",
         "photos": "['https://pbs.twimg.com/media/EN3IXreW4AI2N35.jpg']",
         "replies_count": 3,
         "retweets_count": 48,
         "likes_count": 89,
         "hashtags": "['coronavirus']",
         "retweet": "False",
         "_deepnote_index_column": 11160
        },
        {
         "name": "World Health Organization (WHO)",
         "tweet": "Novel coronaviruses emerge periodically, as we have seen. SARS emerged in 2002 and MERS emerged in 2012. Several known coronaviruses are currently circulating in animals that have not yet infected humans.  #coronavirus  https://t.co/7feYcQHUEW",
         "mentions": "[]",
         "urls": "[]",
         "photos": "['https://pbs.twimg.com/media/EN3A_cOU0AA4jVk.jpg']",
         "replies_count": 3,
         "retweets_count": 60,
         "likes_count": 87,
         "hashtags": "['coronavirus']",
         "retweet": "False",
         "_deepnote_index_column": 11161
        },
        {
         "name": "World Health Organization (WHO)",
         "tweet": "A novel #coronavirus is a new strain of the virus that has not been previously identified in humans  https://t.co/G0Os4ds9cv",
         "mentions": "[]",
         "urls": "[]",
         "photos": "['https://pbs.twimg.com/media/EN27SjfXsAIMDdy.jpg']",
         "replies_count": 3,
         "retweets_count": 69,
         "likes_count": 90,
         "hashtags": "['coronavirus']",
         "retweet": "False",
         "_deepnote_index_column": 11162
        },
        {
         "name": "World Health Organization (WHO)",
         "tweet": "Some coronaviruses cause less-severe disease, some more severe. Some transmit easily from person to person, while others don’t.  #coronavirus  https://t.co/zQpquyKEiX",
         "mentions": "[]",
         "urls": "[]",
         "photos": "['https://pbs.twimg.com/media/EN20C_wWoAAjYqJ.jpg']",
         "replies_count": 4,
         "retweets_count": 44,
         "likes_count": 83,
         "hashtags": "['coronavirus']",
         "retweet": "False",
         "_deepnote_index_column": 11163
        },
        {
         "name": "World Health Organization (WHO)",
         "tweet": "Coronaviruses are a large family of viruses that are known to cause illness ranging from the common cold to more severe diseases, such as Middle East Respiratory Syndrome (MERS) and Severe Acute Respiratory Syndrome (SARS)  #coronavirus  https://t.co/87h5HE32TL",
         "mentions": "[]",
         "urls": "[]",
         "photos": "['https://pbs.twimg.com/media/EN2vlCMXkAAWRu7.jpg']",
         "replies_count": 32,
         "retweets_count": 472,
         "likes_count": 722,
         "hashtags": "['coronavirus']",
         "retweet": "False",
         "_deepnote_index_column": 11164
        },
        {
         "name": "Bill Nye",
         "tweet": "Help keep each other safe from COVID-19. If you are in CA, please add your phone and encourage your loved ones to do the same. Protect your community, yourself, &amp; your privacy - it will never track your location &amp; is completely anonymous. #CAnotify #addyourphone",
         "mentions": "[]",
         "urls": "[]",
         "photos": "[]",
         "replies_count": 91,
         "retweets_count": 120,
         "likes_count": 830,
         "hashtags": "['canotify', 'addyourphone']",
         "retweet": "False",
         "_deepnote_index_column": 11165
        },
        {
         "name": "Bill Nye",
         "tweet": "A US-built Falcon 9 rocket, launched from the historic Kennedy Space Center, took two astronauts to the International Space Station. The mission is a product of the public-private partnership: a private company rocket, launched from and to government-built facilities.",
         "mentions": "[]",
         "urls": "[]",
         "photos": "[]",
         "replies_count": 12,
         "retweets_count": 227,
         "likes_count": 2606,
         "hashtags": "[]",
         "retweet": "False",
         "_deepnote_index_column": 11166
        },
        {
         "name": "Bill Nye",
         "tweet": "Today marks the beginning of a new era of human spaceflight! Watch the #SpaceX Crew Dragon's first astronaut flight live with me and @exploreplanets at  https://t.co/idUMe0PdEX  https://t.co/CcVm0jSHy0",
         "mentions": "[{'screen_name': 'exploreplanets', 'name': 'planetary society', 'id': '194347664'}]",
         "urls": "['http://planetary.org/live']",
         "photos": "['https://pbs.twimg.com/media/EZDFFyEVAAADaa8.jpg']",
         "replies_count": 29,
         "retweets_count": 194,
         "likes_count": 1481,
         "hashtags": "['spacex']",
         "retweet": "False",
         "_deepnote_index_column": 11167
        },
        {
         "name": "Bill Nye",
         "tweet": "Tomorrow, @SpaceX is launching @NASA astronauts on the first crewed commercial flight to the International Space Station. Here’s how to watch with me — turn it up loud!  https://t.co/JL5psfgnKN",
         "mentions": "[{'screen_name': 'spacex', 'name': 'spacex', 'id': '34743251'}, {'screen_name': 'nasa', 'name': 'nasa', 'id': '11348282'}]",
         "urls": "['http://planetary.org/blogs/crew-dragon-astro-flight.html']",
         "photos": "[]",
         "replies_count": 13,
         "retweets_count": 214,
         "likes_count": 1218,
         "hashtags": "[]",
         "retweet": "False",
         "_deepnote_index_column": 11168
        },
        {
         "name": "Bill Nye",
         "tweet": "When I was 14, I went to the 1st  #EarthDay in D.C. In those days, it was all about pollution. Today, it’s climate change - and the pandemic. Every astronaut, cosmonaut &amp; taikonaut comes down &amp; reminds us we are all citizens of one world, one planet. It’s up to us to preserve it!  https://t.co/SN1UWAVwNZ",
         "mentions": "[]",
         "urls": "[]",
         "photos": "['https://pbs.twimg.com/media/EWPEPXZUwAEMFAP.jpg']",
         "replies_count": 168,
         "retweets_count": 1555,
         "likes_count": 9670,
         "hashtags": "['earthday']",
         "retweet": "False",
         "_deepnote_index_column": 11169
        },
        {
         "name": "Bill Nye",
         "tweet": "Listen to the first episode of my new coronavirus edition of Science Rules! Today, we talk COVID testing. Plus, send me a voicemail about your experience living through the pandemic, on (201) 472-0785.  https://t.co/Z11xPBgWVj",
         "mentions": "[]",
         "urls": "[]",
         "photos": "['https://pbs.twimg.com/media/ET5m5FwUYAARIaF.jpg']",
         "replies_count": 40,
         "retweets_count": 255,
         "likes_count": 1248,
         "hashtags": "[]",
         "retweet": "False",
         "_deepnote_index_column": 11170
        },
        {
         "name": "Bill Nye",
         "tweet": "Now that the coronavirus is here, how will it affect our lives and what can we do about it? Infectious disease specialist and epidemiologist Dr. Celine Gounder is on the podcast to answer your questions. Our phone lines are open: just call 470-ASK-BILL (470-275-2455).",
         "mentions": "[]",
         "urls": "[]",
         "photos": "[]",
         "replies_count": 63,
         "retweets_count": 253,
         "likes_count": 1929,
         "hashtags": "[]",
         "retweet": "False",
         "_deepnote_index_column": 11171
        }
       ]
      },
      "text/plain": "           name                                              tweet  \\\n0           CDC  #COVID19 hospital admissions are declining in ...   \n1           CDC  When loved ones decide to get a #COVID19 vacci...   \n2           CDC  #Parents: Are you looking for a #COVID19 vacci...   \n3           CDC  Data published today in @CDCMMWR provide infor...   \n4           CDC  It takes 2 weeks after #COVID19 vaccination to...   \n...         ...                                                ...   \n11167  Bill Nye  Today marks the beginning of a new era of huma...   \n11168  Bill Nye  Tomorrow, @SpaceX is launching @NASA astronaut...   \n11169  Bill Nye  When I was 14, I went to the 1st  #EarthDay in...   \n11170  Bill Nye  Listen to the first episode of my new coronavi...   \n11171  Bill Nye  Now that the coronavirus is here, how will it ...   \n\n                                                mentions  \\\n0                                                     []   \n1                                                     []   \n2                                                     []   \n3      [{'screen_name': 'cdcmmwr', 'name': 'mmwr', 'i...   \n4                                                     []   \n...                                                  ...   \n11167  [{'screen_name': 'exploreplanets', 'name': 'pl...   \n11168  [{'screen_name': 'spacex', 'name': 'spacex', '...   \n11169                                                 []   \n11170                                                 []   \n11171                                                 []   \n\n                                                    urls  \\\n0                       ['https://bit.ly/CDThealthcare']   \n1                             ['https://bit.ly/3cE25OH']   \n2      ['http://Vaccines.gov', 'https://bit.ly/3uFSUUu']   \n3                            ['http://bit.ly/MMWR52521']   \n4                          ['http://bit.ly/CDT_vaccine']   \n...                                                  ...   \n11167                      ['http://planetary.org/live']   \n11168  ['http://planetary.org/blogs/crew-dragon-astro...   \n11169                                                 []   \n11170                                                 []   \n11171                                                 []   \n\n                                                  photos  replies_count  \\\n0      ['https://pbs.twimg.com/media/E2Qq1V7XEAInYzP....             18   \n1      ['https://pbs.twimg.com/media/E2QePE7XoAcGnHV....             55   \n2      ['https://pbs.twimg.com/media/E2P9gy4XsAQ8p8y....             34   \n3      ['https://pbs.twimg.com/media/E2PhlplX0AApEMt....             17   \n4      ['https://pbs.twimg.com/media/E2LkIciWQAQaUZP....             81   \n...                                                  ...            ...   \n11167  ['https://pbs.twimg.com/media/EZDFFyEVAAADaa8....             29   \n11168                                                 []             13   \n11169  ['https://pbs.twimg.com/media/EWPEPXZUwAEMFAP....            168   \n11170  ['https://pbs.twimg.com/media/ET5m5FwUYAARIaF....             40   \n11171                                                 []             63   \n\n       retweets_count  likes_count                hashtags  retweet  \n0                  48           94             ['covid19']    False  \n1                  90          204             ['covid19']    False  \n2                  45          108  ['parents', 'covid19']    False  \n3                  36          101             ['covid19']    False  \n4                 241          575  ['covid19', 'covid19']    False  \n...               ...          ...                     ...      ...  \n11167             194         1481              ['spacex']    False  \n11168             214         1218                      []    False  \n11169            1555         9670            ['earthday']    False  \n11170             255         1248                      []    False  \n11171             253         1929                      []    False  \n\n[11172 rows x 10 columns]",
      "text/html": "<div>\n<style scoped>\n    .dataframe tbody tr th:only-of-type {\n        vertical-align: middle;\n    }\n\n    .dataframe tbody tr th {\n        vertical-align: top;\n    }\n\n    .dataframe thead th {\n        text-align: right;\n    }\n</style>\n<table border=\"1\" class=\"dataframe\">\n  <thead>\n    <tr style=\"text-align: right;\">\n      <th></th>\n      <th>name</th>\n      <th>tweet</th>\n      <th>mentions</th>\n      <th>urls</th>\n      <th>photos</th>\n      <th>replies_count</th>\n      <th>retweets_count</th>\n      <th>likes_count</th>\n      <th>hashtags</th>\n      <th>retweet</th>\n    </tr>\n  </thead>\n  <tbody>\n    <tr>\n      <th>0</th>\n      <td>CDC</td>\n      <td>#COVID19 hospital admissions are declining in ...</td>\n      <td>[]</td>\n      <td>['https://bit.ly/CDThealthcare']</td>\n      <td>['https://pbs.twimg.com/media/E2Qq1V7XEAInYzP....</td>\n      <td>18</td>\n      <td>48</td>\n      <td>94</td>\n      <td>['covid19']</td>\n      <td>False</td>\n    </tr>\n    <tr>\n      <th>1</th>\n      <td>CDC</td>\n      <td>When loved ones decide to get a #COVID19 vacci...</td>\n      <td>[]</td>\n      <td>['https://bit.ly/3cE25OH']</td>\n      <td>['https://pbs.twimg.com/media/E2QePE7XoAcGnHV....</td>\n      <td>55</td>\n      <td>90</td>\n      <td>204</td>\n      <td>['covid19']</td>\n      <td>False</td>\n    </tr>\n    <tr>\n      <th>2</th>\n      <td>CDC</td>\n      <td>#Parents: Are you looking for a #COVID19 vacci...</td>\n      <td>[]</td>\n      <td>['http://Vaccines.gov', 'https://bit.ly/3uFSUUu']</td>\n      <td>['https://pbs.twimg.com/media/E2P9gy4XsAQ8p8y....</td>\n      <td>34</td>\n      <td>45</td>\n      <td>108</td>\n      <td>['parents', 'covid19']</td>\n      <td>False</td>\n    </tr>\n    <tr>\n      <th>3</th>\n      <td>CDC</td>\n      <td>Data published today in @CDCMMWR provide infor...</td>\n      <td>[{'screen_name': 'cdcmmwr', 'name': 'mmwr', 'i...</td>\n      <td>['http://bit.ly/MMWR52521']</td>\n      <td>['https://pbs.twimg.com/media/E2PhlplX0AApEMt....</td>\n      <td>17</td>\n      <td>36</td>\n      <td>101</td>\n      <td>['covid19']</td>\n      <td>False</td>\n    </tr>\n    <tr>\n      <th>4</th>\n      <td>CDC</td>\n      <td>It takes 2 weeks after #COVID19 vaccination to...</td>\n      <td>[]</td>\n      <td>['http://bit.ly/CDT_vaccine']</td>\n      <td>['https://pbs.twimg.com/media/E2LkIciWQAQaUZP....</td>\n      <td>81</td>\n      <td>241</td>\n      <td>575</td>\n      <td>['covid19', 'covid19']</td>\n      <td>False</td>\n    </tr>\n    <tr>\n      <th>...</th>\n      <td>...</td>\n      <td>...</td>\n      <td>...</td>\n      <td>...</td>\n      <td>...</td>\n      <td>...</td>\n      <td>...</td>\n      <td>...</td>\n      <td>...</td>\n      <td>...</td>\n    </tr>\n    <tr>\n      <th>11167</th>\n      <td>Bill Nye</td>\n      <td>Today marks the beginning of a new era of huma...</td>\n      <td>[{'screen_name': 'exploreplanets', 'name': 'pl...</td>\n      <td>['http://planetary.org/live']</td>\n      <td>['https://pbs.twimg.com/media/EZDFFyEVAAADaa8....</td>\n      <td>29</td>\n      <td>194</td>\n      <td>1481</td>\n      <td>['spacex']</td>\n      <td>False</td>\n    </tr>\n    <tr>\n      <th>11168</th>\n      <td>Bill Nye</td>\n      <td>Tomorrow, @SpaceX is launching @NASA astronaut...</td>\n      <td>[{'screen_name': 'spacex', 'name': 'spacex', '...</td>\n      <td>['http://planetary.org/blogs/crew-dragon-astro...</td>\n      <td>[]</td>\n      <td>13</td>\n      <td>214</td>\n      <td>1218</td>\n      <td>[]</td>\n      <td>False</td>\n    </tr>\n    <tr>\n      <th>11169</th>\n      <td>Bill Nye</td>\n      <td>When I was 14, I went to the 1st  #EarthDay in...</td>\n      <td>[]</td>\n      <td>[]</td>\n      <td>['https://pbs.twimg.com/media/EWPEPXZUwAEMFAP....</td>\n      <td>168</td>\n      <td>1555</td>\n      <td>9670</td>\n      <td>['earthday']</td>\n      <td>False</td>\n    </tr>\n    <tr>\n      <th>11170</th>\n      <td>Bill Nye</td>\n      <td>Listen to the first episode of my new coronavi...</td>\n      <td>[]</td>\n      <td>[]</td>\n      <td>['https://pbs.twimg.com/media/ET5m5FwUYAARIaF....</td>\n      <td>40</td>\n      <td>255</td>\n      <td>1248</td>\n      <td>[]</td>\n      <td>False</td>\n    </tr>\n    <tr>\n      <th>11171</th>\n      <td>Bill Nye</td>\n      <td>Now that the coronavirus is here, how will it ...</td>\n      <td>[]</td>\n      <td>[]</td>\n      <td>[]</td>\n      <td>63</td>\n      <td>253</td>\n      <td>1929</td>\n      <td>[]</td>\n      <td>False</td>\n    </tr>\n  </tbody>\n</table>\n<p>11172 rows × 10 columns</p>\n</div>"
     },
     "metadata": {}
    }
   ]
  },
  {
   "cell_type": "code",
   "metadata": {
    "cell_id": "00002-ee28d3ec-94fc-45f4-8613-6db45a31a481",
    "deepnote_cell_type": "code"
   },
   "source": "# News_Outlets\ndf_path = glob.glob('./News_Outlets/*.csv')\nnews = {}\ndf_ls = []\n\nfor path in df_path:\n    if \"wire\" in path: # this is saved in a different format for some reason, skip for now\n        continue\n    df = pd.read_csv(path)\n    df = df[['name','tweet','mentions','urls','photos','replies_count','retweets_count','likes_count','hashtags','retweet']]\n\n    # general keywords used for dataset 4: ncov19, ncov2019, covid, rona, stayathome, socialdistancing\n    covid = df.loc[df['tweet'].str.contains('covid|coronavirus|rona|wearamask|socialdistancing|stayathome|ncov|symptomatic|covax', case=False)]\n    \n    df_ls.append(covid)\n    news[path.split('\\\\')[-1][:-4]] = covid.drop(['name'], axis = 1)\n\nnews_df = pd.concat(df_ls, ignore_index = True)\nnews_df\n",
   "execution_count": null,
   "outputs": [
    {
     "output_type": "stream",
     "name": "stderr",
     "text": "C:\\Users\\Jennifer Tramsu\\AppData\\Roaming\\Python\\Python39\\site-packages\\IPython\\core\\interactiveshell.py:3169: DtypeWarning: Columns (22) have mixed types.Specify dtype option on import or set low_memory=False.\n  has_raised = await self.run_ast_nodes(code_ast.body, cell_name,\n"
    },
    {
     "output_type": "execute_result",
     "data": {
      "text/plain": "                      name                                              tweet  \\\n0                      BBC  The NHS is carrying out the biggest mass vacci...   \n1                      BBC  London to move to tier 3, England's highest ti...   \n2                      BBC  A 90-year-old woman has become the first perso...   \n3                      BBC  Who will be first in line for the Covid vaccin...   \n4                      BBC  England will go back to a three-tier system of...   \n...                    ...                                                ...   \n27757  The Washington Post  First U.S. case of potentially deadly coronavi...   \n27758  The Washington Post  Best actress in a leading role  Renée Zellwege...   \n27759  The Washington Post  China identifies new strain of coronavirus as ...   \n27760  The Washington Post  China identifies new strain of coronavirus as ...   \n27761  The Washington Post  In Artemis program, NASA to send astronauts to...   \n\n      mentions                         urls  \\\n0           []                           []   \n1           []   ['https://bbc.in/34dOklj']   \n2           []    ['http://bbc.in/2VS4yfq']   \n3           []                           []   \n4           []                           []   \n...        ...                          ...   \n27757       []  ['https://wapo.st/38kxG30']   \n27758       []  ['https://wapo.st/2Tm3U9M']   \n27759       []  ['https://wapo.st/36ymQG5']   \n27760       []  ['https://wapo.st/2sYHlNu']   \n27761       []  ['https://wapo.st/2ZQIsuF']   \n\n                                                  photos  replies_count  \\\n0                                                     []              5   \n1                                                     []             11   \n2      ['https://pbs.twimg.com/media/EotVFbWW4AkS-5M....              6   \n3                                                     []              7   \n4                                                     []              6   \n...                                                  ...            ...   \n27757                                                 []             12   \n27758                                                 []              7   \n27759                                                 []              8   \n27760                                                 []              9   \n27761                                                 []             27   \n\n       retweets_count  likes_count hashtags  retweet  \n0                  11           32       []    False  \n1                  21           40       []    False  \n2                  21          126       []    False  \n3                  13           38       []    False  \n4                   8           28       []    False  \n...               ...          ...      ...      ...  \n27757              86           78       []    False  \n27758              24           77       []    False  \n27759              37           65       []    False  \n27760              40           61       []    False  \n27761              57          196       []    False  \n\n[27762 rows x 10 columns]",
      "text/html": "<div>\n<style scoped>\n    .dataframe tbody tr th:only-of-type {\n        vertical-align: middle;\n    }\n\n    .dataframe tbody tr th {\n        vertical-align: top;\n    }\n\n    .dataframe thead th {\n        text-align: right;\n    }\n</style>\n<table border=\"1\" class=\"dataframe\">\n  <thead>\n    <tr style=\"text-align: right;\">\n      <th></th>\n      <th>name</th>\n      <th>tweet</th>\n      <th>mentions</th>\n      <th>urls</th>\n      <th>photos</th>\n      <th>replies_count</th>\n      <th>retweets_count</th>\n      <th>likes_count</th>\n      <th>hashtags</th>\n      <th>retweet</th>\n    </tr>\n  </thead>\n  <tbody>\n    <tr>\n      <th>0</th>\n      <td>BBC</td>\n      <td>The NHS is carrying out the biggest mass vacci...</td>\n      <td>[]</td>\n      <td>[]</td>\n      <td>[]</td>\n      <td>5</td>\n      <td>11</td>\n      <td>32</td>\n      <td>[]</td>\n      <td>False</td>\n    </tr>\n    <tr>\n      <th>1</th>\n      <td>BBC</td>\n      <td>London to move to tier 3, England's highest ti...</td>\n      <td>[]</td>\n      <td>['https://bbc.in/34dOklj']</td>\n      <td>[]</td>\n      <td>11</td>\n      <td>21</td>\n      <td>40</td>\n      <td>[]</td>\n      <td>False</td>\n    </tr>\n    <tr>\n      <th>2</th>\n      <td>BBC</td>\n      <td>A 90-year-old woman has become the first perso...</td>\n      <td>[]</td>\n      <td>['http://bbc.in/2VS4yfq']</td>\n      <td>['https://pbs.twimg.com/media/EotVFbWW4AkS-5M....</td>\n      <td>6</td>\n      <td>21</td>\n      <td>126</td>\n      <td>[]</td>\n      <td>False</td>\n    </tr>\n    <tr>\n      <th>3</th>\n      <td>BBC</td>\n      <td>Who will be first in line for the Covid vaccin...</td>\n      <td>[]</td>\n      <td>[]</td>\n      <td>[]</td>\n      <td>7</td>\n      <td>13</td>\n      <td>38</td>\n      <td>[]</td>\n      <td>False</td>\n    </tr>\n    <tr>\n      <th>4</th>\n      <td>BBC</td>\n      <td>England will go back to a three-tier system of...</td>\n      <td>[]</td>\n      <td>[]</td>\n      <td>[]</td>\n      <td>6</td>\n      <td>8</td>\n      <td>28</td>\n      <td>[]</td>\n      <td>False</td>\n    </tr>\n    <tr>\n      <th>...</th>\n      <td>...</td>\n      <td>...</td>\n      <td>...</td>\n      <td>...</td>\n      <td>...</td>\n      <td>...</td>\n      <td>...</td>\n      <td>...</td>\n      <td>...</td>\n      <td>...</td>\n    </tr>\n    <tr>\n      <th>27757</th>\n      <td>The Washington Post</td>\n      <td>First U.S. case of potentially deadly coronavi...</td>\n      <td>[]</td>\n      <td>['https://wapo.st/38kxG30']</td>\n      <td>[]</td>\n      <td>12</td>\n      <td>86</td>\n      <td>78</td>\n      <td>[]</td>\n      <td>False</td>\n    </tr>\n    <tr>\n      <th>27758</th>\n      <td>The Washington Post</td>\n      <td>Best actress in a leading role  Renée Zellwege...</td>\n      <td>[]</td>\n      <td>['https://wapo.st/2Tm3U9M']</td>\n      <td>[]</td>\n      <td>7</td>\n      <td>24</td>\n      <td>77</td>\n      <td>[]</td>\n      <td>False</td>\n    </tr>\n    <tr>\n      <th>27759</th>\n      <td>The Washington Post</td>\n      <td>China identifies new strain of coronavirus as ...</td>\n      <td>[]</td>\n      <td>['https://wapo.st/36ymQG5']</td>\n      <td>[]</td>\n      <td>8</td>\n      <td>37</td>\n      <td>65</td>\n      <td>[]</td>\n      <td>False</td>\n    </tr>\n    <tr>\n      <th>27760</th>\n      <td>The Washington Post</td>\n      <td>China identifies new strain of coronavirus as ...</td>\n      <td>[]</td>\n      <td>['https://wapo.st/2sYHlNu']</td>\n      <td>[]</td>\n      <td>9</td>\n      <td>40</td>\n      <td>61</td>\n      <td>[]</td>\n      <td>False</td>\n    </tr>\n    <tr>\n      <th>27761</th>\n      <td>The Washington Post</td>\n      <td>In Artemis program, NASA to send astronauts to...</td>\n      <td>[]</td>\n      <td>['https://wapo.st/2ZQIsuF']</td>\n      <td>[]</td>\n      <td>27</td>\n      <td>57</td>\n      <td>196</td>\n      <td>[]</td>\n      <td>False</td>\n    </tr>\n  </tbody>\n</table>\n<p>27762 rows × 10 columns</p>\n</div>"
     },
     "metadata": {},
     "execution_count": 32
    }
   ]
  },
  {
   "cell_type": "code",
   "metadata": {
    "cell_id": "00003-6abb4285-80bc-4803-8ac1-bc70ab0b5e2b",
    "deepnote_cell_type": "code"
   },
   "source": "# Individual\ndf_path = glob.glob('./Political/*.csv')\nind = {}\ndf_ls = []\n\nfor path in df_path:\n    try:\n        df = pd.read_csv(path)\n        df = df[['name','tweet','mentions','urls','photos','replies_count','retweets_count','likes_count','hashtags','retweet']]\n\n    # general keywords used for dataset 4: ncov19, ncov2019, covid, rona, stayathome, socialdistancing\n        covid = df.loc[df['tweet'].str.contains('covid|coronavirus|rona|wearamask|socialdistancing|stayathome|ncov|symptomatic|covax', case=False)]\n    \n        df_ls.append(covid)\n        news[path.split('\\\\')[-1][:-4]] = covid.drop(['name'], axis = 1)\n    except:\n        continue\n\nind_df = pd.concat(df_ls, ignore_index = True)\nind_df\n\n",
   "execution_count": null,
   "outputs": [
    {
     "output_type": "execute_result",
     "data": {
      "text/plain": "                  name                                              tweet  \\\n0        Andrew Klavan  Vaccinated and impervious to covid, gentlemanl...   \n1        Andrew Klavan  This is a remarkably smart piece from @FDRLST,...   \n2        Andrew Klavan  Happy to have gotten my first Covid Vaccine. T...   \n3        Andrew Klavan  Biden Forms Corona Task Force to Marvel at Tru...   \n4        Andrew Klavan  And not just any antibodies. The best antibodi...   \n...                ...                                                ...   \n2866  Donald Trump Jr.  Interesting statistic that I just learned duri...   \n2867  Donald Trump Jr.  When @realDonaldTrump first shut down travel f...   \n2868  Donald Trump Jr.  2 competing convos over Coronavirus in US poli...   \n2869  Donald Trump Jr.  Coronavirus is the intersection of 3 issues @r...   \n2870  Donald Trump Jr.  The coronavirus outbreak shows how important i...   \n\n                                               mentions  \\\n0                                                    []   \n1     [{'screen_name': 'fdrlst', 'name': 'the federa...   \n2                                                    []   \n3                                                    []   \n4     [{'screen_name': 'epochtimes', 'name': 'the ep...   \n...                                                 ...   \n2866                                                 []   \n2867  [{'screen_name': 'realdonaldtrump', 'name': 'd...   \n2868                                                 []   \n2869  [{'screen_name': 'realdonaldtrump', 'name': 'd...   \n2870  [{'screen_name': 'realdonaldtrump', 'name': 'd...   \n\n                                                   urls photos  replies_count  \\\n0                                                    []     []             54   \n1     ['https://thefederalist.com/2021/03/10/the-rea...     []             17   \n2                                                    []     []             16   \n3     ['https://www.dailywire.com/news/biden-forms-c...     []             10   \n4     ['https://www.theepochtimes.com/trump-has-deve...     []             43   \n...                                                 ...    ...            ...   \n2866                                                 []     []           3296   \n2867                                                 []     []           1156   \n2868  ['https://www.nytimes.com/2020/02/26/opinion/c...     []            973   \n2869                                                 []     []           3157   \n2870                                                 []     []           5211   \n\n      retweets_count  likes_count           hashtags  retweet  \n0                153         1541                 []    False  \n1                226          717                 []    False  \n2                 28          486  ['savetheklavan']    False  \n3                 35          296                 []    False  \n4                109          580                 []    False  \n...              ...          ...                ...      ...  \n2866            8767        35795                 []    False  \n2867            5837        17483                 []    False  \n2868            2573         8871                 []    False  \n2869            9209        35073                 []    False  \n2870           10011        43871                 []    False  \n\n[2871 rows x 10 columns]",
      "text/html": "<div>\n<style scoped>\n    .dataframe tbody tr th:only-of-type {\n        vertical-align: middle;\n    }\n\n    .dataframe tbody tr th {\n        vertical-align: top;\n    }\n\n    .dataframe thead th {\n        text-align: right;\n    }\n</style>\n<table border=\"1\" class=\"dataframe\">\n  <thead>\n    <tr style=\"text-align: right;\">\n      <th></th>\n      <th>name</th>\n      <th>tweet</th>\n      <th>mentions</th>\n      <th>urls</th>\n      <th>photos</th>\n      <th>replies_count</th>\n      <th>retweets_count</th>\n      <th>likes_count</th>\n      <th>hashtags</th>\n      <th>retweet</th>\n    </tr>\n  </thead>\n  <tbody>\n    <tr>\n      <th>0</th>\n      <td>Andrew Klavan</td>\n      <td>Vaccinated and impervious to covid, gentlemanl...</td>\n      <td>[]</td>\n      <td>[]</td>\n      <td>[]</td>\n      <td>54</td>\n      <td>153</td>\n      <td>1541</td>\n      <td>[]</td>\n      <td>False</td>\n    </tr>\n    <tr>\n      <th>1</th>\n      <td>Andrew Klavan</td>\n      <td>This is a remarkably smart piece from @FDRLST,...</td>\n      <td>[{'screen_name': 'fdrlst', 'name': 'the federa...</td>\n      <td>['https://thefederalist.com/2021/03/10/the-rea...</td>\n      <td>[]</td>\n      <td>17</td>\n      <td>226</td>\n      <td>717</td>\n      <td>[]</td>\n      <td>False</td>\n    </tr>\n    <tr>\n      <th>2</th>\n      <td>Andrew Klavan</td>\n      <td>Happy to have gotten my first Covid Vaccine. T...</td>\n      <td>[]</td>\n      <td>[]</td>\n      <td>[]</td>\n      <td>16</td>\n      <td>28</td>\n      <td>486</td>\n      <td>['savetheklavan']</td>\n      <td>False</td>\n    </tr>\n    <tr>\n      <th>3</th>\n      <td>Andrew Klavan</td>\n      <td>Biden Forms Corona Task Force to Marvel at Tru...</td>\n      <td>[]</td>\n      <td>['https://www.dailywire.com/news/biden-forms-c...</td>\n      <td>[]</td>\n      <td>10</td>\n      <td>35</td>\n      <td>296</td>\n      <td>[]</td>\n      <td>False</td>\n    </tr>\n    <tr>\n      <th>4</th>\n      <td>Andrew Klavan</td>\n      <td>And not just any antibodies. The best antibodi...</td>\n      <td>[{'screen_name': 'epochtimes', 'name': 'the ep...</td>\n      <td>['https://www.theepochtimes.com/trump-has-deve...</td>\n      <td>[]</td>\n      <td>43</td>\n      <td>109</td>\n      <td>580</td>\n      <td>[]</td>\n      <td>False</td>\n    </tr>\n    <tr>\n      <th>...</th>\n      <td>...</td>\n      <td>...</td>\n      <td>...</td>\n      <td>...</td>\n      <td>...</td>\n      <td>...</td>\n      <td>...</td>\n      <td>...</td>\n      <td>...</td>\n      <td>...</td>\n    </tr>\n    <tr>\n      <th>2866</th>\n      <td>Donald Trump Jr.</td>\n      <td>Interesting statistic that I just learned duri...</td>\n      <td>[]</td>\n      <td>[]</td>\n      <td>[]</td>\n      <td>3296</td>\n      <td>8767</td>\n      <td>35795</td>\n      <td>[]</td>\n      <td>False</td>\n    </tr>\n    <tr>\n      <th>2867</th>\n      <td>Donald Trump Jr.</td>\n      <td>When @realDonaldTrump first shut down travel f...</td>\n      <td>[{'screen_name': 'realdonaldtrump', 'name': 'd...</td>\n      <td>[]</td>\n      <td>[]</td>\n      <td>1156</td>\n      <td>5837</td>\n      <td>17483</td>\n      <td>[]</td>\n      <td>False</td>\n    </tr>\n    <tr>\n      <th>2868</th>\n      <td>Donald Trump Jr.</td>\n      <td>2 competing convos over Coronavirus in US poli...</td>\n      <td>[]</td>\n      <td>['https://www.nytimes.com/2020/02/26/opinion/c...</td>\n      <td>[]</td>\n      <td>973</td>\n      <td>2573</td>\n      <td>8871</td>\n      <td>[]</td>\n      <td>False</td>\n    </tr>\n    <tr>\n      <th>2869</th>\n      <td>Donald Trump Jr.</td>\n      <td>Coronavirus is the intersection of 3 issues @r...</td>\n      <td>[{'screen_name': 'realdonaldtrump', 'name': 'd...</td>\n      <td>[]</td>\n      <td>[]</td>\n      <td>3157</td>\n      <td>9209</td>\n      <td>35073</td>\n      <td>[]</td>\n      <td>False</td>\n    </tr>\n    <tr>\n      <th>2870</th>\n      <td>Donald Trump Jr.</td>\n      <td>The coronavirus outbreak shows how important i...</td>\n      <td>[{'screen_name': 'realdonaldtrump', 'name': 'd...</td>\n      <td>[]</td>\n      <td>[]</td>\n      <td>5211</td>\n      <td>10011</td>\n      <td>43871</td>\n      <td>[]</td>\n      <td>False</td>\n    </tr>\n  </tbody>\n</table>\n<p>2871 rows × 10 columns</p>\n</div>"
     },
     "metadata": {},
     "execution_count": 34
    }
   ]
  },
  {
   "cell_type": "code",
   "metadata": {
    "cell_id": "00004-43f699fc-cfd6-47b9-9298-3bd25efa8124",
    "deepnote_cell_type": "code"
   },
   "source": "",
   "execution_count": null,
   "outputs": []
  },
  {
   "cell_type": "markdown",
   "source": "<a style='text-decoration:none;line-height:16px;display:flex;color:#5B5B62;padding:10px;justify-content:end;' href='https://deepnote.com?utm_source=created-in-deepnote-cell&projectId=6f4d88f7-58fe-4c32-b979-abb694c94f1b' target=\"_blank\">\n<img alt='Created in deepnote.com' style='display:inline;max-height:16px;margin:0px;margin-right:7.5px;' src='data:image/svg+xml;base64,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' > </img>\nCreated in <span style='font-weight:600;margin-left:4px;'>Deepnote</span></a>",
   "metadata": {
    "tags": [],
    "created_in_deepnote_cell": true,
    "deepnote_cell_type": "markdown"
   }
  }
 ],
 "nbformat": 4,
 "nbformat_minor": 2,
 "metadata": {
  "orig_nbformat": 2,
  "deepnote": {
   "is_reactive": false
  },
  "deepnote_notebook_id": "f94c88c4-cb28-4bc1-a5c9-353c929682f0",
  "deepnote_execution_queue": [],
  "kernelspec": {
   "name": "python395jvsc74a57bd0df1d4501566b1753f163333fdb4ef33fd168166ab063e105c1cfc0db7fb36182",
   "display_name": "Python 3.9.5 64-bit"
  },
  "metadata": {
   "interpreter": {
    "hash": "df1d4501566b1753f163333fdb4ef33fd168166ab063e105c1cfc0db7fb36182"
   }
  }
 }
}