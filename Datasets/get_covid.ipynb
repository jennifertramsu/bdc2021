{
 "cells": [
  {
   "cell_type": "code",
   "metadata": {
    "tags": [],
    "cell_id": "00002-cc24c0e8-c81f-41a4-9200-081a491c457c",
    "deepnote_to_be_reexecuted": false,
    "source_hash": "f0278929",
    "execution_start": 1621972370456,
    "execution_millis": 11,
    "deepnote_cell_type": "code"
   },
   "source": [
    "import pandas as pd \n",
    "import numpy as np\n",
    "import matplotlib.pyplot as plt\n",
    "from IPython.display import display\n",
    "import os\n",
    "import glob         "
   ],
   "execution_count": 3,
   "outputs": []
  },
  {
   "cell_type": "code",
   "metadata": {
    "tags": [],
    "cell_id": "00002-453510b1-44bb-415b-a508-58ddd28cb40d",
    "deepnote_to_be_reexecuted": false,
    "source_hash": "c9401596",
    "execution_start": 1621972371063,
    "execution_millis": 156,
    "deepnote_cell_type": "code"
   },
   "source": [
    "# credible; makes dictionary of datasets sorted by user (credible), and dataframe of all credible tweets with username as additional column (credible_df) \n",
    "df_path = glob.glob('./Credible/*.csv')\n",
    "credible = {}\n",
    "df_ls = []\n",
    "\n",
    "for path in df_path:\n",
    "    df = pd.read_csv(path)\n",
    "    df = df[['name','tweet','mentions','urls','photos','replies_count','retweets_count','likes_count','hashtags','retweet']]\n",
    "\n",
    "    # general keywords used for dataset 4: ncov19, ncov2019, covid, rona, stayathome, socialdistancing\n",
    "    covid = df.loc[df['tweet'].str.contains('covid|coronavirus|rona|wearamask|socialdistancing|stayathome|ncov|symptomatic|covax', case=False)]\n",
    "\n",
    "    df_ls.append(covid)\n",
    "    credible[path.split('\\\\')[-1][:-4]] = covid.drop(['name'], axis = 1)\n",
    "\n",
    "credible_df = pd.concat(df_ls, ignore_index = True)"
   ],
   "execution_count": 11,
   "outputs": [
    {
     "output_type": "execute_result",
     "data": {
      "text/plain": [
       "                                  name  \\\n",
       "0                             Bill Nye   \n",
       "1                             Bill Nye   \n",
       "2                             Bill Nye   \n",
       "3                             Bill Nye   \n",
       "4                             Bill Nye   \n",
       "...                                ...   \n",
       "11167  World Health Organization (WHO)   \n",
       "11168  World Health Organization (WHO)   \n",
       "11169  World Health Organization (WHO)   \n",
       "11170  World Health Organization (WHO)   \n",
       "11171  World Health Organization (WHO)   \n",
       "\n",
       "                                                   tweet  \\\n",
       "0      Help keep each other safe from COVID-19. If yo...   \n",
       "1      A US-built Falcon 9 rocket, launched from the ...   \n",
       "2      Today marks the beginning of a new era of huma...   \n",
       "3      Tomorrow, @SpaceX is launching @NASA astronaut...   \n",
       "4      When I was 14, I went to the 1st  #EarthDay in...   \n",
       "...                                                  ...   \n",
       "11167  As surveillance improves around the world, mor...   \n",
       "11168  Novel coronaviruses emerge periodically, as we...   \n",
       "11169  A novel #coronavirus is a new strain of the vi...   \n",
       "11170  Some coronaviruses cause less-severe disease, ...   \n",
       "11171  Coronaviruses are a large family of viruses th...   \n",
       "\n",
       "                                                mentions  \\\n",
       "0                                                     []   \n",
       "1                                                     []   \n",
       "2      [{'screen_name': 'exploreplanets', 'name': 'pl...   \n",
       "3      [{'screen_name': 'spacex', 'name': 'spacex', '...   \n",
       "4                                                     []   \n",
       "...                                                  ...   \n",
       "11167                                                 []   \n",
       "11168                                                 []   \n",
       "11169                                                 []   \n",
       "11170                                                 []   \n",
       "11171                                                 []   \n",
       "\n",
       "                                                    urls  \\\n",
       "0                                                     []   \n",
       "1                                                     []   \n",
       "2                          ['http://planetary.org/live']   \n",
       "3      ['http://planetary.org/blogs/crew-dragon-astro...   \n",
       "4                                                     []   \n",
       "...                                                  ...   \n",
       "11167                                                 []   \n",
       "11168                                                 []   \n",
       "11169                                                 []   \n",
       "11170                                                 []   \n",
       "11171                                                 []   \n",
       "\n",
       "                                                  photos  replies_count  \\\n",
       "0                                                     []             91   \n",
       "1                                                     []             12   \n",
       "2      ['https://pbs.twimg.com/media/EZDFFyEVAAADaa8....             29   \n",
       "3                                                     []             13   \n",
       "4      ['https://pbs.twimg.com/media/EWPEPXZUwAEMFAP....            168   \n",
       "...                                                  ...            ...   \n",
       "11167  ['https://pbs.twimg.com/media/EN3IXreW4AI2N35....              3   \n",
       "11168  ['https://pbs.twimg.com/media/EN3A_cOU0AA4jVk....              3   \n",
       "11169  ['https://pbs.twimg.com/media/EN27SjfXsAIMDdy....              3   \n",
       "11170  ['https://pbs.twimg.com/media/EN20C_wWoAAjYqJ....              4   \n",
       "11171  ['https://pbs.twimg.com/media/EN2vlCMXkAAWRu7....             32   \n",
       "\n",
       "       retweets_count  likes_count                      hashtags  retweet  \n",
       "0                 120          830  ['canotify', 'addyourphone']    False  \n",
       "1                 227         2606                            []    False  \n",
       "2                 194         1481                    ['spacex']    False  \n",
       "3                 214         1218                            []    False  \n",
       "4                1555         9670                  ['earthday']    False  \n",
       "...               ...          ...                           ...      ...  \n",
       "11167              48           89               ['coronavirus']    False  \n",
       "11168              60           87               ['coronavirus']    False  \n",
       "11169              69           90               ['coronavirus']    False  \n",
       "11170              44           83               ['coronavirus']    False  \n",
       "11171             472          722               ['coronavirus']    False  \n",
       "\n",
       "[11172 rows x 10 columns]"
      ],
      "text/html": "<div>\n<style scoped>\n    .dataframe tbody tr th:only-of-type {\n        vertical-align: middle;\n    }\n\n    .dataframe tbody tr th {\n        vertical-align: top;\n    }\n\n    .dataframe thead th {\n        text-align: right;\n    }\n</style>\n<table border=\"1\" class=\"dataframe\">\n  <thead>\n    <tr style=\"text-align: right;\">\n      <th></th>\n      <th>name</th>\n      <th>tweet</th>\n      <th>mentions</th>\n      <th>urls</th>\n      <th>photos</th>\n      <th>replies_count</th>\n      <th>retweets_count</th>\n      <th>likes_count</th>\n      <th>hashtags</th>\n      <th>retweet</th>\n    </tr>\n  </thead>\n  <tbody>\n    <tr>\n      <th>0</th>\n      <td>Bill Nye</td>\n      <td>Help keep each other safe from COVID-19. If yo...</td>\n      <td>[]</td>\n      <td>[]</td>\n      <td>[]</td>\n      <td>91</td>\n      <td>120</td>\n      <td>830</td>\n      <td>['canotify', 'addyourphone']</td>\n      <td>False</td>\n    </tr>\n    <tr>\n      <th>1</th>\n      <td>Bill Nye</td>\n      <td>A US-built Falcon 9 rocket, launched from the ...</td>\n      <td>[]</td>\n      <td>[]</td>\n      <td>[]</td>\n      <td>12</td>\n      <td>227</td>\n      <td>2606</td>\n      <td>[]</td>\n      <td>False</td>\n    </tr>\n    <tr>\n      <th>2</th>\n      <td>Bill Nye</td>\n      <td>Today marks the beginning of a new era of huma...</td>\n      <td>[{'screen_name': 'exploreplanets', 'name': 'pl...</td>\n      <td>['http://planetary.org/live']</td>\n      <td>['https://pbs.twimg.com/media/EZDFFyEVAAADaa8....</td>\n      <td>29</td>\n      <td>194</td>\n      <td>1481</td>\n      <td>['spacex']</td>\n      <td>False</td>\n    </tr>\n    <tr>\n      <th>3</th>\n      <td>Bill Nye</td>\n      <td>Tomorrow, @SpaceX is launching @NASA astronaut...</td>\n      <td>[{'screen_name': 'spacex', 'name': 'spacex', '...</td>\n      <td>['http://planetary.org/blogs/crew-dragon-astro...</td>\n      <td>[]</td>\n      <td>13</td>\n      <td>214</td>\n      <td>1218</td>\n      <td>[]</td>\n      <td>False</td>\n    </tr>\n    <tr>\n      <th>4</th>\n      <td>Bill Nye</td>\n      <td>When I was 14, I went to the 1st  #EarthDay in...</td>\n      <td>[]</td>\n      <td>[]</td>\n      <td>['https://pbs.twimg.com/media/EWPEPXZUwAEMFAP....</td>\n      <td>168</td>\n      <td>1555</td>\n      <td>9670</td>\n      <td>['earthday']</td>\n      <td>False</td>\n    </tr>\n    <tr>\n      <th>...</th>\n      <td>...</td>\n      <td>...</td>\n      <td>...</td>\n      <td>...</td>\n      <td>...</td>\n      <td>...</td>\n      <td>...</td>\n      <td>...</td>\n      <td>...</td>\n      <td>...</td>\n    </tr>\n    <tr>\n      <th>11167</th>\n      <td>World Health Organization (WHO)</td>\n      <td>As surveillance improves around the world, mor...</td>\n      <td>[]</td>\n      <td>[]</td>\n      <td>['https://pbs.twimg.com/media/EN3IXreW4AI2N35....</td>\n      <td>3</td>\n      <td>48</td>\n      <td>89</td>\n      <td>['coronavirus']</td>\n      <td>False</td>\n    </tr>\n    <tr>\n      <th>11168</th>\n      <td>World Health Organization (WHO)</td>\n      <td>Novel coronaviruses emerge periodically, as we...</td>\n      <td>[]</td>\n      <td>[]</td>\n      <td>['https://pbs.twimg.com/media/EN3A_cOU0AA4jVk....</td>\n      <td>3</td>\n      <td>60</td>\n      <td>87</td>\n      <td>['coronavirus']</td>\n      <td>False</td>\n    </tr>\n    <tr>\n      <th>11169</th>\n      <td>World Health Organization (WHO)</td>\n      <td>A novel #coronavirus is a new strain of the vi...</td>\n      <td>[]</td>\n      <td>[]</td>\n      <td>['https://pbs.twimg.com/media/EN27SjfXsAIMDdy....</td>\n      <td>3</td>\n      <td>69</td>\n      <td>90</td>\n      <td>['coronavirus']</td>\n      <td>False</td>\n    </tr>\n    <tr>\n      <th>11170</th>\n      <td>World Health Organization (WHO)</td>\n      <td>Some coronaviruses cause less-severe disease, ...</td>\n      <td>[]</td>\n      <td>[]</td>\n      <td>['https://pbs.twimg.com/media/EN20C_wWoAAjYqJ....</td>\n      <td>4</td>\n      <td>44</td>\n      <td>83</td>\n      <td>['coronavirus']</td>\n      <td>False</td>\n    </tr>\n    <tr>\n      <th>11171</th>\n      <td>World Health Organization (WHO)</td>\n      <td>Coronaviruses are a large family of viruses th...</td>\n      <td>[]</td>\n      <td>[]</td>\n      <td>['https://pbs.twimg.com/media/EN2vlCMXkAAWRu7....</td>\n      <td>32</td>\n      <td>472</td>\n      <td>722</td>\n      <td>['coronavirus']</td>\n      <td>False</td>\n    </tr>\n  </tbody>\n</table>\n<p>11172 rows × 10 columns</p>\n</div>"
     },
     "metadata": {},
     "execution_count": 11
    }
   ]
  },
  {
   "cell_type": "code",
   "execution_count": 13,
   "metadata": {},
   "outputs": [],
   "source": [
    "# News_Outlets\n",
    "df_path = glob.glob('./Credible/*.csv')\n",
    "news = {}\n",
    "df_ls = []\n",
    "\n",
    "for path in df_path:\n",
    "    df = pd.read_csv(path)\n",
    "    df = df[['name','tweet','mentions','urls','photos','replies_count','retweets_count','likes_count','hashtags','retweet']]\n",
    "\n",
    "    # general keywords used for dataset 4: ncov19, ncov2019, covid, rona, stayathome, socialdistancing\n",
    "    covid = df.loc[df['tweet'].str.contains('covid|coronavirus|rona|wearamask|socialdistancing|stayathome|ncov|symptomatic|covax', case=False)]\n",
    "    \n",
    "    df_ls.append(covid)\n",
    "    news[path.split('\\\\')[-1][:-4]] = covid.drop(['name'], axis = 1)\n",
    "\n",
    "news_df = pd.concat(df_ls, ignore_index = True)"
   ]
  },
  {
   "cell_type": "code",
   "execution_count": 18,
   "metadata": {},
   "outputs": [
    {
     "output_type": "error",
     "ename": "ParserError",
     "evalue": "Error tokenizing data. C error: Expected 1 fields in line 4, saw 2\n",
     "traceback": [
      "\u001b[1;31m---------------------------------------------------------------------------\u001b[0m",
      "\u001b[1;31mParserError\u001b[0m                               Traceback (most recent call last)",
      "\u001b[1;32m<ipython-input-18-cd273bd376a9>\u001b[0m in \u001b[0;36m<module>\u001b[1;34m\u001b[0m\n\u001b[0;32m      5\u001b[0m \u001b[1;33m\u001b[0m\u001b[0m\n\u001b[0;32m      6\u001b[0m \u001b[1;32mfor\u001b[0m \u001b[0mpath\u001b[0m \u001b[1;32min\u001b[0m \u001b[0mdf_path\u001b[0m\u001b[1;33m:\u001b[0m\u001b[1;33m\u001b[0m\u001b[1;33m\u001b[0m\u001b[0m\n\u001b[1;32m----> 7\u001b[1;33m     \u001b[0mdf\u001b[0m \u001b[1;33m=\u001b[0m \u001b[0mpd\u001b[0m\u001b[1;33m.\u001b[0m\u001b[0mread_csv\u001b[0m\u001b[1;33m(\u001b[0m\u001b[0mpath\u001b[0m\u001b[1;33m)\u001b[0m\u001b[1;33m\u001b[0m\u001b[1;33m\u001b[0m\u001b[0m\n\u001b[0m\u001b[0;32m      8\u001b[0m \u001b[1;33m\u001b[0m\u001b[0m\n\u001b[0;32m      9\u001b[0m \u001b[0mpd\u001b[0m\u001b[1;33m.\u001b[0m\u001b[0mread_csv\u001b[0m\u001b[1;33m(\u001b[0m\u001b[0mdf_path\u001b[0m\u001b[1;33m[\u001b[0m\u001b[1;36m0\u001b[0m\u001b[1;33m]\u001b[0m\u001b[1;33m)\u001b[0m\u001b[1;33m\u001b[0m\u001b[1;33m\u001b[0m\u001b[0m\n",
      "\u001b[1;32m~\\AppData\\Local\\Programs\\Python\\Python39\\lib\\site-packages\\pandas\\io\\parsers.py\u001b[0m in \u001b[0;36mread_csv\u001b[1;34m(filepath_or_buffer, sep, delimiter, header, names, index_col, usecols, squeeze, prefix, mangle_dupe_cols, dtype, engine, converters, true_values, false_values, skipinitialspace, skiprows, skipfooter, nrows, na_values, keep_default_na, na_filter, verbose, skip_blank_lines, parse_dates, infer_datetime_format, keep_date_col, date_parser, dayfirst, cache_dates, iterator, chunksize, compression, thousands, decimal, lineterminator, quotechar, quoting, doublequote, escapechar, comment, encoding, dialect, error_bad_lines, warn_bad_lines, delim_whitespace, low_memory, memory_map, float_precision, storage_options)\u001b[0m\n\u001b[0;32m    608\u001b[0m     \u001b[0mkwds\u001b[0m\u001b[1;33m.\u001b[0m\u001b[0mupdate\u001b[0m\u001b[1;33m(\u001b[0m\u001b[0mkwds_defaults\u001b[0m\u001b[1;33m)\u001b[0m\u001b[1;33m\u001b[0m\u001b[1;33m\u001b[0m\u001b[0m\n\u001b[0;32m    609\u001b[0m \u001b[1;33m\u001b[0m\u001b[0m\n\u001b[1;32m--> 610\u001b[1;33m     \u001b[1;32mreturn\u001b[0m \u001b[0m_read\u001b[0m\u001b[1;33m(\u001b[0m\u001b[0mfilepath_or_buffer\u001b[0m\u001b[1;33m,\u001b[0m \u001b[0mkwds\u001b[0m\u001b[1;33m)\u001b[0m\u001b[1;33m\u001b[0m\u001b[1;33m\u001b[0m\u001b[0m\n\u001b[0m\u001b[0;32m    611\u001b[0m \u001b[1;33m\u001b[0m\u001b[0m\n\u001b[0;32m    612\u001b[0m \u001b[1;33m\u001b[0m\u001b[0m\n",
      "\u001b[1;32m~\\AppData\\Local\\Programs\\Python\\Python39\\lib\\site-packages\\pandas\\io\\parsers.py\u001b[0m in \u001b[0;36m_read\u001b[1;34m(filepath_or_buffer, kwds)\u001b[0m\n\u001b[0;32m    466\u001b[0m \u001b[1;33m\u001b[0m\u001b[0m\n\u001b[0;32m    467\u001b[0m     \u001b[1;32mwith\u001b[0m \u001b[0mparser\u001b[0m\u001b[1;33m:\u001b[0m\u001b[1;33m\u001b[0m\u001b[1;33m\u001b[0m\u001b[0m\n\u001b[1;32m--> 468\u001b[1;33m         \u001b[1;32mreturn\u001b[0m \u001b[0mparser\u001b[0m\u001b[1;33m.\u001b[0m\u001b[0mread\u001b[0m\u001b[1;33m(\u001b[0m\u001b[0mnrows\u001b[0m\u001b[1;33m)\u001b[0m\u001b[1;33m\u001b[0m\u001b[1;33m\u001b[0m\u001b[0m\n\u001b[0m\u001b[0;32m    469\u001b[0m \u001b[1;33m\u001b[0m\u001b[0m\n\u001b[0;32m    470\u001b[0m \u001b[1;33m\u001b[0m\u001b[0m\n",
      "\u001b[1;32m~\\AppData\\Local\\Programs\\Python\\Python39\\lib\\site-packages\\pandas\\io\\parsers.py\u001b[0m in \u001b[0;36mread\u001b[1;34m(self, nrows)\u001b[0m\n\u001b[0;32m   1055\u001b[0m     \u001b[1;32mdef\u001b[0m \u001b[0mread\u001b[0m\u001b[1;33m(\u001b[0m\u001b[0mself\u001b[0m\u001b[1;33m,\u001b[0m \u001b[0mnrows\u001b[0m\u001b[1;33m=\u001b[0m\u001b[1;32mNone\u001b[0m\u001b[1;33m)\u001b[0m\u001b[1;33m:\u001b[0m\u001b[1;33m\u001b[0m\u001b[1;33m\u001b[0m\u001b[0m\n\u001b[0;32m   1056\u001b[0m         \u001b[0mnrows\u001b[0m \u001b[1;33m=\u001b[0m \u001b[0mvalidate_integer\u001b[0m\u001b[1;33m(\u001b[0m\u001b[1;34m\"nrows\"\u001b[0m\u001b[1;33m,\u001b[0m \u001b[0mnrows\u001b[0m\u001b[1;33m)\u001b[0m\u001b[1;33m\u001b[0m\u001b[1;33m\u001b[0m\u001b[0m\n\u001b[1;32m-> 1057\u001b[1;33m         \u001b[0mindex\u001b[0m\u001b[1;33m,\u001b[0m \u001b[0mcolumns\u001b[0m\u001b[1;33m,\u001b[0m \u001b[0mcol_dict\u001b[0m \u001b[1;33m=\u001b[0m \u001b[0mself\u001b[0m\u001b[1;33m.\u001b[0m\u001b[0m_engine\u001b[0m\u001b[1;33m.\u001b[0m\u001b[0mread\u001b[0m\u001b[1;33m(\u001b[0m\u001b[0mnrows\u001b[0m\u001b[1;33m)\u001b[0m\u001b[1;33m\u001b[0m\u001b[1;33m\u001b[0m\u001b[0m\n\u001b[0m\u001b[0;32m   1058\u001b[0m \u001b[1;33m\u001b[0m\u001b[0m\n\u001b[0;32m   1059\u001b[0m         \u001b[1;32mif\u001b[0m \u001b[0mindex\u001b[0m \u001b[1;32mis\u001b[0m \u001b[1;32mNone\u001b[0m\u001b[1;33m:\u001b[0m\u001b[1;33m\u001b[0m\u001b[1;33m\u001b[0m\u001b[0m\n",
      "\u001b[1;32m~\\AppData\\Local\\Programs\\Python\\Python39\\lib\\site-packages\\pandas\\io\\parsers.py\u001b[0m in \u001b[0;36mread\u001b[1;34m(self, nrows)\u001b[0m\n\u001b[0;32m   2059\u001b[0m     \u001b[1;32mdef\u001b[0m \u001b[0mread\u001b[0m\u001b[1;33m(\u001b[0m\u001b[0mself\u001b[0m\u001b[1;33m,\u001b[0m \u001b[0mnrows\u001b[0m\u001b[1;33m=\u001b[0m\u001b[1;32mNone\u001b[0m\u001b[1;33m)\u001b[0m\u001b[1;33m:\u001b[0m\u001b[1;33m\u001b[0m\u001b[1;33m\u001b[0m\u001b[0m\n\u001b[0;32m   2060\u001b[0m         \u001b[1;32mtry\u001b[0m\u001b[1;33m:\u001b[0m\u001b[1;33m\u001b[0m\u001b[1;33m\u001b[0m\u001b[0m\n\u001b[1;32m-> 2061\u001b[1;33m             \u001b[0mdata\u001b[0m \u001b[1;33m=\u001b[0m \u001b[0mself\u001b[0m\u001b[1;33m.\u001b[0m\u001b[0m_reader\u001b[0m\u001b[1;33m.\u001b[0m\u001b[0mread\u001b[0m\u001b[1;33m(\u001b[0m\u001b[0mnrows\u001b[0m\u001b[1;33m)\u001b[0m\u001b[1;33m\u001b[0m\u001b[1;33m\u001b[0m\u001b[0m\n\u001b[0m\u001b[0;32m   2062\u001b[0m         \u001b[1;32mexcept\u001b[0m \u001b[0mStopIteration\u001b[0m\u001b[1;33m:\u001b[0m\u001b[1;33m\u001b[0m\u001b[1;33m\u001b[0m\u001b[0m\n\u001b[0;32m   2063\u001b[0m             \u001b[1;32mif\u001b[0m \u001b[0mself\u001b[0m\u001b[1;33m.\u001b[0m\u001b[0m_first_chunk\u001b[0m\u001b[1;33m:\u001b[0m\u001b[1;33m\u001b[0m\u001b[1;33m\u001b[0m\u001b[0m\n",
      "\u001b[1;32mpandas\\_libs\\parsers.pyx\u001b[0m in \u001b[0;36mpandas._libs.parsers.TextReader.read\u001b[1;34m()\u001b[0m\n",
      "\u001b[1;32mpandas\\_libs\\parsers.pyx\u001b[0m in \u001b[0;36mpandas._libs.parsers.TextReader._read_low_memory\u001b[1;34m()\u001b[0m\n",
      "\u001b[1;32mpandas\\_libs\\parsers.pyx\u001b[0m in \u001b[0;36mpandas._libs.parsers.TextReader._read_rows\u001b[1;34m()\u001b[0m\n",
      "\u001b[1;32mpandas\\_libs\\parsers.pyx\u001b[0m in \u001b[0;36mpandas._libs.parsers.TextReader._tokenize_rows\u001b[1;34m()\u001b[0m\n",
      "\u001b[1;32mpandas\\_libs\\parsers.pyx\u001b[0m in \u001b[0;36mpandas._libs.parsers.raise_parser_error\u001b[1;34m()\u001b[0m\n",
      "\u001b[1;31mParserError\u001b[0m: Error tokenizing data. C error: Expected 1 fields in line 4, saw 2\n"
     ]
    }
   ],
   "source": [
    "# Individual\n",
    "df_path = glob.glob('./Political/*.csv')\n",
    "ind = {}\n",
    "df_ls = []\n",
    "\n",
    "for path in df_path:\n",
    "    df = pd.read_csv(path)\n",
    "        df = df[['name','tweet','mentions','urls','photos','replies_count','retweets_count','likes_count','hashtags','retweet']]\n",
    "\n",
    "    # general keywords used for dataset 4: ncov19, ncov2019, covid, rona, stayathome, socialdistancing\n",
    "    covid = df.loc[df['tweet'].str.contains('covid|coronavirus|rona|wearamask|socialdistancing|stayathome|ncov|symptomatic|covax', case=False)]\n",
    "    \n",
    "    df_ls.append(covid)\n",
    "    news[path.split('\\\\')[-1][:-4]] = covid.drop(['name'], axis = 1)\n",
    "\n",
    "ind_df = pd.concat(df_ls, ignore_index = True)\n",
    "\n"
   ]
  },
  {
   "cell_type": "code",
   "execution_count": null,
   "metadata": {},
   "outputs": [],
   "source": []
  }
 ],
 "nbformat": 4,
 "nbformat_minor": 2,
 "metadata": {
  "orig_nbformat": 2,
  "deepnote": {
   "is_reactive": false
  },
  "deepnote_notebook_id": "2e568cc1-9106-404a-b21e-84fb7b0781c3",
  "deepnote_execution_queue": [],
  "kernelspec": {
   "name": "python395jvsc74a57bd0df1d4501566b1753f163333fdb4ef33fd168166ab063e105c1cfc0db7fb36182",
   "display_name": "Python 3.9.5 64-bit"
  },
  "metadata": {
   "interpreter": {
    "hash": "df1d4501566b1753f163333fdb4ef33fd168166ab063e105c1cfc0db7fb36182"
   }
  }
 }
}