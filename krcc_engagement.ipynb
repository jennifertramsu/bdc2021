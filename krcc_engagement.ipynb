{
 "metadata": {
  "language_info": {
   "codemirror_mode": {
    "name": "ipython",
    "version": 3
   },
   "file_extension": ".py",
   "mimetype": "text/x-python",
   "name": "python",
   "nbconvert_exporter": "python",
   "pygments_lexer": "ipython3",
   "version": "3.9.5"
  },
  "orig_nbformat": 4,
  "kernelspec": {
   "name": "python3",
   "display_name": "Python 3.9.5 64-bit"
  },
  "interpreter": {
   "hash": "df1d4501566b1753f163333fdb4ef33fd168166ab063e105c1cfc0db7fb36182"
  }
 },
 "nbformat": 4,
 "nbformat_minor": 2,
 "cells": [
  {
   "cell_type": "code",
   "execution_count": 40,
   "metadata": {},
   "outputs": [],
   "source": [
    "import pandas as pd \n",
    "import numpy as np\n",
    "import matplotlib.pyplot as plt\n",
    "from IPython.display import display\n",
    "import datetime\n",
    "\n",
    "from process import *\n",
    "from sentiment_helpers import *\n",
    "from KRCC import *"
   ]
  },
  {
   "cell_type": "code",
   "execution_count": 41,
   "metadata": {},
   "outputs": [],
   "source": [
    "path = \"Processed Datasets/\""
   ]
  },
  {
   "cell_type": "code",
   "execution_count": 42,
   "metadata": {},
   "outputs": [],
   "source": [
    "# May 25 cutoff applied\n",
    "\n",
    "# health orgs\n",
    "healthorg = pd.read_excel(path + \"healthorg.xlsx\", index_col=0)\n",
    "healthorg = sentimentanalysis(healthorg, \"tweet\")\n",
    "\n",
    "# left news\n",
    "leftnews = pd.read_excel(path + \"leftnews.xlsx\", index_col=0)\n",
    "leftnews = sentimentanalysis(leftnews, \"tweet\")\n",
    "\n",
    "# right news\n",
    "rightnews = pd.read_excel(path + \"rightnews.xlsx\", index_col=0)\n",
    "rightnews = sentimentanalysis(rightnews, \"tweet\")\n",
    "\n"
   ]
  },
  {
   "cell_type": "code",
   "execution_count": 43,
   "metadata": {},
   "outputs": [],
   "source": [
    "# May 25 cutoff applied\n",
    "# right ind\n",
    "rightind = pd.read_excel(path + \"rightind.xlsx\", index_col=0)\n",
    "rightind = sentimentanalysis(rightind, 'tweet')\n",
    "\n",
    "# left ind\n",
    "leftind = pd.read_excel(path + \"leftind.xlsx\", index_col=0)\n",
    "leftind = sentimentanalysis(leftind, 'tweet')\n",
    "\n",
    "# Celebrities\n",
    "celebrities = pd.read_excel(path + \"celebrities.xlsx\", index_col=0)\n",
    "celebrities = sentimentanalysis(celebrities, \"tweet\")"
   ]
  },
  {
   "cell_type": "code",
   "execution_count": 44,
   "metadata": {},
   "outputs": [],
   "source": [
    "# May 25 cutoff applied\n",
    "# fake\n",
    "fake = pd.read_excel(path + \"fake.xlsx\", index_col=0)\n",
    "fake = sentimentanalysis(fake, 'text')\n",
    "\n",
    "# real\n",
    "real = pd.read_excel(path + \"real.xlsx\", index_col=0)\n",
    "real = sentimentanalysis(real, 'text')"
   ]
  },
  {
   "cell_type": "code",
   "execution_count": 45,
   "metadata": {},
   "outputs": [],
   "source": [
    "files = [healthorg, celebrities, rightnews, leftnews, rightind, leftind, fake, real]\n",
    "names = ['healthorg', 'celebrities', 'rightnews', 'leftnews', 'rightind', 'leftind', 'fake', 'real']"
   ]
  },
  {
   "cell_type": "code",
   "execution_count": 46,
   "metadata": {},
   "outputs": [],
   "source": [
    "bins = '3D'"
   ]
  },
  {
   "cell_type": "code",
   "execution_count": 47,
   "metadata": {},
   "outputs": [],
   "source": [
    "# sentiment bins\n",
    "\n",
    "healthorg_sentiment = files[0].groupby(\"date\").sentiment.value_counts().unstack(level=1).fillna(0)\n",
    "healthorg_senti_bins = healthorg_sentiment.resample(bins).sum()\n",
    "celebrities_sentiment = files[1].groupby(\"date\").sentiment.value_counts().unstack(level=1).fillna(0)\n",
    "celebrities_senti_bins = celebrities_sentiment.resample(bins).sum()\n",
    "rightnews_sentiment = files[2].groupby(\"date\").sentiment.value_counts().unstack(level=1).fillna(0)\n",
    "rightnews_senti_bins = rightnews_sentiment.resample(bins).sum()\n",
    "leftnews_sentiment = files[3].groupby(\"date\").sentiment.value_counts().unstack(level=1).fillna(0)\n",
    "leftnews_senti_bins = leftnews_sentiment.resample(bins).sum()\n",
    "rightind_sentiment = files[4].groupby(\"date\").sentiment.value_counts().unstack(level=1).fillna(0)\n",
    "rightind_senti_bins = rightind_sentiment.resample(bins).sum()\n",
    "leftind_sentiment = files[5].groupby(\"date\").sentiment.value_counts().unstack(level=1).fillna(0)\n",
    "leftind_senti_bins = leftind_sentiment.resample(bins).sum()\n",
    "fake_sentiment = files[6].groupby(\"date\").sentiment.value_counts().unstack(level=1).fillna(0)\n",
    "fake_senti_bins = fake_sentiment.resample(bins).sum()\n",
    "real_sentiment = files[7].groupby(\"date\").sentiment.value_counts().unstack(level=1).fillna(0)\n",
    "real_senti_bins = real_sentiment.resample(bins).sum()"
   ]
  },
  {
   "cell_type": "code",
   "execution_count": 48,
   "metadata": {},
   "outputs": [],
   "source": [
    "# likes and retweets\n",
    "\n",
    "# health\n",
    "health_likes = healthorg.groupby('date')[\"likes_count\"].sum()\n",
    "health_retweets = healthorg.groupby('date')[\"retweets_count\"].sum()\n",
    "# right\n",
    "rightind_likes = rightind.groupby('date')[\"likes_count\"].sum()\n",
    "rightind_retweets = rightind.groupby('date')[\"retweets_count\"].sum()\n",
    "# left\n",
    "leftind_likes = leftind.groupby('date')[\"likes_count\"].sum()\n",
    "leftind_retweets = leftind.groupby('date')[\"retweets_count\"].sum()\n",
    "# celeb\n",
    "celeb_likes = celebrities.groupby('date')[\"likes_count\"].sum()\n",
    "celeb_retweets = celebrities.groupby('date')[\"retweets_count\"].sum()\n",
    "# left news\n",
    "leftnews_likes = leftnews.groupby('date')[\"likes_count\"].sum()\n",
    "leftnews_retweets = leftnews.groupby('date')[\"retweets_count\"].sum()\n",
    "# right news\n",
    "rightnews_likes = rightnews.groupby('date')[\"likes_count\"].sum()\n",
    "rightnews_retweets = rightnews.groupby('date')[\"retweets_count\"].sum()\n",
    "# real\n",
    "real_likes = real.groupby('date')[\"favorite_count\"].sum()\n",
    "real_retweets = real.groupby('date')[\"retweet_count\"].sum()\n",
    "# fake\n",
    "fake_likes = fake.groupby('date')[\"favorite_count\"].sum()\n",
    "fake_retweets = fake.groupby('date')[\"retweet_count\"].sum()\n",
    "\n"
   ]
  },
  {
   "cell_type": "code",
   "execution_count": 49,
   "metadata": {},
   "outputs": [],
   "source": [
    "# isolating dates\n",
    "\n",
    "healthorg_dates = healthorg.sort_values(\"date\", ascending=True)[\"date\"].value_counts()\n",
    "rightind_dates = rightind.sort_values(\"date\", ascending=True)[\"date\"].value_counts()\n",
    "leftind_dates = leftind.sort_values(\"date\", ascending=True)[\"date\"].value_counts()\n",
    "celeb_dates = celebrities.sort_values(\"date\", ascending=True)[\"date\"].value_counts()\n",
    "rightnews_dates = rightnews.sort_values(\"date\", ascending=True)[\"date\"].value_counts()\n",
    "leftnews_dates = leftnews.sort_values(\"date\", ascending=True)[\"date\"].value_counts()\n",
    "fake_dates = fake.sort_values(\"date\", ascending=True)[\"date\"].value_counts()\n",
    "real_dates = real.sort_values(\"date\", ascending=True)[\"date\"].value_counts()"
   ]
  },
  {
   "cell_type": "code",
   "execution_count": 50,
   "metadata": {},
   "outputs": [],
   "source": [
    "# frequency bins\n",
    "\n",
    "health_bins = pd.Series(index=healthorg.date, data=np.array(healthorg.count)).resample(bins).count().sort_index()\n",
    "rightind_bins = pd.Series(index=rightind.date, data=np.array(rightind.count)).resample(bins).count().sort_index()\n",
    "leftind_bins = pd.Series(index=leftind.date, data=np.array(leftind.count)).resample(bins).count().sort_index()\n",
    "rightnews_bins = pd.Series(index=rightnews.date, data=np.array(rightnews.count)).resample(bins).count().sort_index()\n",
    "leftnews_bins = pd.Series(index=leftnews.date, data=np.array(leftnews.count)).resample(bins).count().sort_index()\n",
    "celeb_bins = pd.Series(index=celebrities.date, data=np.array(celebrities.count)).resample(bins).count().sort_index()\n",
    "real_bins = pd.Series(index=real.date, data=np.array(real.count)).resample(bins).count().sort_index()\n",
    "fake_bins = pd.Series(index=fake.date, data=np.array(fake.count)).resample(bins).count().sort_index()"
   ]
  },
  {
   "cell_type": "code",
   "execution_count": 51,
   "metadata": {},
   "outputs": [],
   "source": [
    "# average retweets bins\n",
    "\n",
    "health_rt_bin = (health_retweets/healthorg_dates).resample(bins).sum()\n",
    "rightind_rt_bin = (rightind_retweets/rightind_dates).resample(bins).sum()\n",
    "leftind_rt_bin = (leftind_retweets/leftind_dates).resample(bins).sum()\n",
    "rightnews_rt_bin = (rightnews_retweets/rightnews_dates).resample(bins).sum()\n",
    "leftnews_rt_bin = (leftnews_retweets/leftnews_dates).resample(bins).sum()\n",
    "celeb_rt_bin = (celeb_retweets/celeb_dates).resample(bins).sum()\n",
    "real_rt_bin = (real_retweets/real_dates).resample(bins).sum()\n",
    "fake_rt_bin = (fake_retweets/fake_dates).resample(bins).sum()"
   ]
  },
  {
   "cell_type": "code",
   "execution_count": 53,
   "metadata": {},
   "outputs": [
    {
     "output_type": "stream",
     "name": "stdout",
     "text": [
      "2020-03-01      829.545106\n2020-03-04     1577.733766\n2020-03-07      451.854990\n2020-03-10     3721.292525\n2020-03-13     5797.090688\n2020-03-16    13634.099708\n2020-03-19    10042.712857\n2020-03-22     6958.251596\n2020-03-25     8428.469697\n2020-03-28     4985.293651\n2020-03-31    38495.744737\n2020-04-03     8870.533333\n2020-04-06     5709.833333\n2020-04-09     6298.833333\n2020-04-12     2322.166667\n2020-04-15     1837.300000\n2020-04-18     8316.392857\n2020-04-21     4055.286096\n2020-04-24     3678.196581\n2020-04-27     2995.075758\n2020-04-30    10075.403846\n2020-05-03     1261.766667\n2020-05-06    35541.277778\n2020-05-09      775.733333\n2020-05-12    51830.717949\n2020-05-15     3165.750000\n2020-05-18     1137.789286\n2020-05-21      224.689394\n2020-05-24      636.555172\nFreq: 3D, dtype: float64\n"
     ]
    }
   ],
   "source": [
    "# average likes bins\n",
    "\n",
    "health_like_bin = (health_likes/healthorg_dates).resample('3D').sum()\n",
    "rightind_like_bin = (rightind_likes/rightind_dates).resample('3D').sum()\n",
    "leftind_like_bin = (leftind_likes/leftind_dates).resample('3D').sum()\n",
    "rightnews_like_bin = (rightnews_likes/rightnews_dates).resample('3D').sum()\n",
    "leftnews_like_bin = (leftnews_likes/leftnews_dates).resample('3D').sum()\n",
    "celeb_like_bin = (celeb_likes/celeb_dates).resample('3D').sum()\n",
    "real_like_bin = (real_likes/real_dates).resample('3D').sum()\n",
    "fake_like_bin = (fake_likes/fake_dates).resample('3D').sum()"
   ]
  }
 ]
}